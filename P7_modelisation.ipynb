{
  "cells": [
    {
      "cell_type": "markdown",
      "metadata": {
        "id": "view-in-github",
        "colab_type": "text"
      },
      "source": [
        "<a href=\"https://colab.research.google.com/github/NatSy77/projet_7/blob/main/P7_modelisation.ipynb\" target=\"_parent\"><img src=\"https://colab.research.google.com/assets/colab-badge.svg\" alt=\"Open In Colab\"/></a>"
      ]
    },
    {
      "cell_type": "markdown",
      "metadata": {
        "id": "3Tsu3xtzByZZ"
      },
      "source": [
        "# Implémentez un modèle de scoring #modelisetion"
      ]
    },
    {
      "cell_type": "code",
      "execution_count": 1,
      "metadata": {
        "colab": {
          "base_uri": "https://localhost:8080/"
        },
        "id": "Xhu7bnlVaL4g",
        "outputId": "31aefd01-57b0-4d6a-b52a-05f09890afbc"
      },
      "outputs": [
        {
          "output_type": "stream",
          "name": "stdout",
          "text": [
            "Your runtime has 13.6 gigabytes of available RAM\n",
            "\n",
            "Not using a high-RAM runtime\n"
          ]
        }
      ],
      "source": [
        "from psutil import virtual_memory\n",
        "ram_gb = virtual_memory().total / 1e9\n",
        "print('Your runtime has {:.1f} gigabytes of available RAM\\n'.format(ram_gb))\n",
        "\n",
        "if ram_gb < 20:\n",
        "  print('Not using a high-RAM runtime')\n",
        "else:\n",
        "  print('You are using a high-RAM runtime!')"
      ]
    },
    {
      "cell_type": "markdown",
      "metadata": {
        "id": "L0XxoAOMB8wn"
      },
      "source": [
        "## Importation"
      ]
    },
    {
      "cell_type": "code",
      "execution_count": 2,
      "metadata": {
        "id": "ZKOedZjNBH3f"
      },
      "outputs": [],
      "source": [
        "# numpy and pandas for data manipulation\n",
        "import numpy as np\n",
        "import pandas as pd\n",
        "\n",
        "# sklearn preprocessing for dealing with categorical variables\n",
        "from sklearn.preprocessing import LabelEncoder\n",
        "\n",
        "# File system manangement\n",
        "import os\n",
        "\n",
        "# Suppress warnings\n",
        "import warnings\n",
        "warnings.filterwarnings('ignore')\n",
        "\n",
        "# matplotlib and seaborn for plotting\n",
        "import matplotlib.pyplot as plt\n",
        "import seaborn as sns"
      ]
    },
    {
      "cell_type": "code",
      "execution_count": 3,
      "metadata": {
        "colab": {
          "base_uri": "https://localhost:8080/"
        },
        "id": "cfYXcbKAo3OH",
        "outputId": "56b3294c-7b5d-4fe1-a362-0fead51b52b7"
      },
      "outputs": [
        {
          "output_type": "stream",
          "name": "stdout",
          "text": [
            "Requirement already satisfied: mlflow in /usr/local/lib/python3.11/dist-packages (2.20.0)\n",
            "Requirement already satisfied: mlflow-skinny==2.20.0 in /usr/local/lib/python3.11/dist-packages (from mlflow) (2.20.0)\n",
            "Requirement already satisfied: Flask<4 in /usr/local/lib/python3.11/dist-packages (from mlflow) (3.1.0)\n",
            "Requirement already satisfied: Jinja2<4,>=2.11 in /usr/local/lib/python3.11/dist-packages (from mlflow) (3.1.5)\n",
            "Requirement already satisfied: alembic!=1.10.0,<2 in /usr/local/lib/python3.11/dist-packages (from mlflow) (1.14.1)\n",
            "Requirement already satisfied: docker<8,>=4.0.0 in /usr/local/lib/python3.11/dist-packages (from mlflow) (7.1.0)\n",
            "Requirement already satisfied: graphene<4 in /usr/local/lib/python3.11/dist-packages (from mlflow) (3.4.3)\n",
            "Requirement already satisfied: gunicorn<24 in /usr/local/lib/python3.11/dist-packages (from mlflow) (23.0.0)\n",
            "Requirement already satisfied: markdown<4,>=3.3 in /usr/local/lib/python3.11/dist-packages (from mlflow) (3.7)\n",
            "Requirement already satisfied: matplotlib<4 in /usr/local/lib/python3.11/dist-packages (from mlflow) (3.10.0)\n",
            "Requirement already satisfied: numpy<3 in /usr/local/lib/python3.11/dist-packages (from mlflow) (1.26.4)\n",
            "Requirement already satisfied: pandas<3 in /usr/local/lib/python3.11/dist-packages (from mlflow) (2.2.2)\n",
            "Requirement already satisfied: pyarrow<19,>=4.0.0 in /usr/local/lib/python3.11/dist-packages (from mlflow) (17.0.0)\n",
            "Requirement already satisfied: scikit-learn<2 in /usr/local/lib/python3.11/dist-packages (from mlflow) (1.6.1)\n",
            "Requirement already satisfied: scipy<2 in /usr/local/lib/python3.11/dist-packages (from mlflow) (1.13.1)\n",
            "Requirement already satisfied: sqlalchemy<3,>=1.4.0 in /usr/local/lib/python3.11/dist-packages (from mlflow) (2.0.37)\n",
            "Requirement already satisfied: cachetools<6,>=5.0.0 in /usr/local/lib/python3.11/dist-packages (from mlflow-skinny==2.20.0->mlflow) (5.5.1)\n",
            "Requirement already satisfied: click<9,>=7.0 in /usr/local/lib/python3.11/dist-packages (from mlflow-skinny==2.20.0->mlflow) (8.1.8)\n",
            "Requirement already satisfied: cloudpickle<4 in /usr/local/lib/python3.11/dist-packages (from mlflow-skinny==2.20.0->mlflow) (3.1.1)\n",
            "Requirement already satisfied: databricks-sdk<1,>=0.20.0 in /usr/local/lib/python3.11/dist-packages (from mlflow-skinny==2.20.0->mlflow) (0.41.0)\n",
            "Requirement already satisfied: gitpython<4,>=3.1.9 in /usr/local/lib/python3.11/dist-packages (from mlflow-skinny==2.20.0->mlflow) (3.1.44)\n",
            "Requirement already satisfied: importlib_metadata!=4.7.0,<9,>=3.7.0 in /usr/local/lib/python3.11/dist-packages (from mlflow-skinny==2.20.0->mlflow) (8.6.1)\n",
            "Requirement already satisfied: opentelemetry-api<3,>=1.9.0 in /usr/local/lib/python3.11/dist-packages (from mlflow-skinny==2.20.0->mlflow) (1.16.0)\n",
            "Requirement already satisfied: opentelemetry-sdk<3,>=1.9.0 in /usr/local/lib/python3.11/dist-packages (from mlflow-skinny==2.20.0->mlflow) (1.16.0)\n",
            "Requirement already satisfied: packaging<25 in /usr/local/lib/python3.11/dist-packages (from mlflow-skinny==2.20.0->mlflow) (24.2)\n",
            "Requirement already satisfied: protobuf<6,>=3.12.0 in /usr/local/lib/python3.11/dist-packages (from mlflow-skinny==2.20.0->mlflow) (4.25.5)\n",
            "Requirement already satisfied: pydantic<3,>=1.0 in /usr/local/lib/python3.11/dist-packages (from mlflow-skinny==2.20.0->mlflow) (2.10.5)\n",
            "Requirement already satisfied: pyyaml<7,>=5.1 in /usr/local/lib/python3.11/dist-packages (from mlflow-skinny==2.20.0->mlflow) (6.0.2)\n",
            "Requirement already satisfied: requests<3,>=2.17.3 in /usr/local/lib/python3.11/dist-packages (from mlflow-skinny==2.20.0->mlflow) (2.32.3)\n",
            "Requirement already satisfied: sqlparse<1,>=0.4.0 in /usr/local/lib/python3.11/dist-packages (from mlflow-skinny==2.20.0->mlflow) (0.5.3)\n",
            "Requirement already satisfied: typing-extensions<5,>=4.0.0 in /usr/local/lib/python3.11/dist-packages (from mlflow-skinny==2.20.0->mlflow) (4.12.2)\n",
            "Requirement already satisfied: Mako in /usr/local/lib/python3.11/dist-packages (from alembic!=1.10.0,<2->mlflow) (1.3.8)\n",
            "Requirement already satisfied: urllib3>=1.26.0 in /usr/local/lib/python3.11/dist-packages (from docker<8,>=4.0.0->mlflow) (2.3.0)\n",
            "Requirement already satisfied: Werkzeug>=3.1 in /usr/local/lib/python3.11/dist-packages (from Flask<4->mlflow) (3.1.3)\n",
            "Requirement already satisfied: itsdangerous>=2.2 in /usr/local/lib/python3.11/dist-packages (from Flask<4->mlflow) (2.2.0)\n",
            "Requirement already satisfied: blinker>=1.9 in /usr/local/lib/python3.11/dist-packages (from Flask<4->mlflow) (1.9.0)\n",
            "Requirement already satisfied: graphql-core<3.3,>=3.1 in /usr/local/lib/python3.11/dist-packages (from graphene<4->mlflow) (3.2.5)\n",
            "Requirement already satisfied: graphql-relay<3.3,>=3.1 in /usr/local/lib/python3.11/dist-packages (from graphene<4->mlflow) (3.2.0)\n",
            "Requirement already satisfied: python-dateutil<3,>=2.7.0 in /usr/local/lib/python3.11/dist-packages (from graphene<4->mlflow) (2.8.2)\n",
            "Requirement already satisfied: MarkupSafe>=2.0 in /usr/local/lib/python3.11/dist-packages (from Jinja2<4,>=2.11->mlflow) (3.0.2)\n",
            "Requirement already satisfied: contourpy>=1.0.1 in /usr/local/lib/python3.11/dist-packages (from matplotlib<4->mlflow) (1.3.1)\n",
            "Requirement already satisfied: cycler>=0.10 in /usr/local/lib/python3.11/dist-packages (from matplotlib<4->mlflow) (0.12.1)\n",
            "Requirement already satisfied: fonttools>=4.22.0 in /usr/local/lib/python3.11/dist-packages (from matplotlib<4->mlflow) (4.55.4)\n",
            "Requirement already satisfied: kiwisolver>=1.3.1 in /usr/local/lib/python3.11/dist-packages (from matplotlib<4->mlflow) (1.4.8)\n",
            "Requirement already satisfied: pillow>=8 in /usr/local/lib/python3.11/dist-packages (from matplotlib<4->mlflow) (11.1.0)\n",
            "Requirement already satisfied: pyparsing>=2.3.1 in /usr/local/lib/python3.11/dist-packages (from matplotlib<4->mlflow) (3.2.1)\n",
            "Requirement already satisfied: pytz>=2020.1 in /usr/local/lib/python3.11/dist-packages (from pandas<3->mlflow) (2024.2)\n",
            "Requirement already satisfied: tzdata>=2022.7 in /usr/local/lib/python3.11/dist-packages (from pandas<3->mlflow) (2025.1)\n",
            "Requirement already satisfied: joblib>=1.2.0 in /usr/local/lib/python3.11/dist-packages (from scikit-learn<2->mlflow) (1.4.2)\n",
            "Requirement already satisfied: threadpoolctl>=3.1.0 in /usr/local/lib/python3.11/dist-packages (from scikit-learn<2->mlflow) (3.5.0)\n",
            "Requirement already satisfied: greenlet!=0.4.17 in /usr/local/lib/python3.11/dist-packages (from sqlalchemy<3,>=1.4.0->mlflow) (3.1.1)\n",
            "Requirement already satisfied: google-auth~=2.0 in /usr/local/lib/python3.11/dist-packages (from databricks-sdk<1,>=0.20.0->mlflow-skinny==2.20.0->mlflow) (2.27.0)\n",
            "Requirement already satisfied: gitdb<5,>=4.0.1 in /usr/local/lib/python3.11/dist-packages (from gitpython<4,>=3.1.9->mlflow-skinny==2.20.0->mlflow) (4.0.12)\n",
            "Requirement already satisfied: zipp>=3.20 in /usr/local/lib/python3.11/dist-packages (from importlib_metadata!=4.7.0,<9,>=3.7.0->mlflow-skinny==2.20.0->mlflow) (3.21.0)\n",
            "Requirement already satisfied: deprecated>=1.2.6 in /usr/local/lib/python3.11/dist-packages (from opentelemetry-api<3,>=1.9.0->mlflow-skinny==2.20.0->mlflow) (1.2.15)\n",
            "Requirement already satisfied: setuptools>=16.0 in /usr/local/lib/python3.11/dist-packages (from opentelemetry-api<3,>=1.9.0->mlflow-skinny==2.20.0->mlflow) (75.1.0)\n",
            "Requirement already satisfied: opentelemetry-semantic-conventions==0.37b0 in /usr/local/lib/python3.11/dist-packages (from opentelemetry-sdk<3,>=1.9.0->mlflow-skinny==2.20.0->mlflow) (0.37b0)\n",
            "Requirement already satisfied: annotated-types>=0.6.0 in /usr/local/lib/python3.11/dist-packages (from pydantic<3,>=1.0->mlflow-skinny==2.20.0->mlflow) (0.7.0)\n",
            "Requirement already satisfied: pydantic-core==2.27.2 in /usr/local/lib/python3.11/dist-packages (from pydantic<3,>=1.0->mlflow-skinny==2.20.0->mlflow) (2.27.2)\n",
            "Requirement already satisfied: six>=1.5 in /usr/local/lib/python3.11/dist-packages (from python-dateutil<3,>=2.7.0->graphene<4->mlflow) (1.17.0)\n",
            "Requirement already satisfied: charset-normalizer<4,>=2 in /usr/local/lib/python3.11/dist-packages (from requests<3,>=2.17.3->mlflow-skinny==2.20.0->mlflow) (3.4.1)\n",
            "Requirement already satisfied: idna<4,>=2.5 in /usr/local/lib/python3.11/dist-packages (from requests<3,>=2.17.3->mlflow-skinny==2.20.0->mlflow) (3.10)\n",
            "Requirement already satisfied: certifi>=2017.4.17 in /usr/local/lib/python3.11/dist-packages (from requests<3,>=2.17.3->mlflow-skinny==2.20.0->mlflow) (2024.12.14)\n",
            "Requirement already satisfied: wrapt<2,>=1.10 in /usr/local/lib/python3.11/dist-packages (from deprecated>=1.2.6->opentelemetry-api<3,>=1.9.0->mlflow-skinny==2.20.0->mlflow) (1.17.2)\n",
            "Requirement already satisfied: smmap<6,>=3.0.1 in /usr/local/lib/python3.11/dist-packages (from gitdb<5,>=4.0.1->gitpython<4,>=3.1.9->mlflow-skinny==2.20.0->mlflow) (5.0.2)\n",
            "Requirement already satisfied: pyasn1-modules>=0.2.1 in /usr/local/lib/python3.11/dist-packages (from google-auth~=2.0->databricks-sdk<1,>=0.20.0->mlflow-skinny==2.20.0->mlflow) (0.4.1)\n",
            "Requirement already satisfied: rsa<5,>=3.1.4 in /usr/local/lib/python3.11/dist-packages (from google-auth~=2.0->databricks-sdk<1,>=0.20.0->mlflow-skinny==2.20.0->mlflow) (4.9)\n",
            "Requirement already satisfied: pyasn1<0.7.0,>=0.4.6 in /usr/local/lib/python3.11/dist-packages (from pyasn1-modules>=0.2.1->google-auth~=2.0->databricks-sdk<1,>=0.20.0->mlflow-skinny==2.20.0->mlflow) (0.6.1)\n"
          ]
        }
      ],
      "source": [
        "!pip install mlflow"
      ]
    },
    {
      "cell_type": "code",
      "execution_count": 4,
      "metadata": {
        "colab": {
          "base_uri": "https://localhost:8080/"
        },
        "id": "L4zPOGMktzoV",
        "outputId": "91f65d45-330e-4cbc-ee7e-e6cb46a6b9ae"
      },
      "outputs": [
        {
          "output_type": "stream",
          "name": "stdout",
          "text": [
            "Requirement already satisfied: lightgbm in /usr/local/lib/python3.11/dist-packages (4.5.0)\n",
            "Requirement already satisfied: numpy>=1.17.0 in /usr/local/lib/python3.11/dist-packages (from lightgbm) (1.26.4)\n",
            "Requirement already satisfied: scipy in /usr/local/lib/python3.11/dist-packages (from lightgbm) (1.13.1)\n"
          ]
        }
      ],
      "source": [
        "!pip install lightgbm"
      ]
    },
    {
      "cell_type": "code",
      "execution_count": 5,
      "metadata": {
        "id": "JKQkAxPVl1xz"
      },
      "outputs": [],
      "source": [
        "#!pip install --upgrade threadpoolctl scikit-learn imbalanced-learn xgboost"
      ]
    },
    {
      "cell_type": "code",
      "execution_count": 6,
      "metadata": {
        "colab": {
          "base_uri": "https://localhost:8080/"
        },
        "id": "yioG8WxBDV9w",
        "outputId": "f0a399ad-1faf-4442-a804-45ddf64333ad"
      },
      "outputs": [
        {
          "output_type": "stream",
          "name": "stdout",
          "text": [
            "Drive already mounted at /content/drive; to attempt to forcibly remount, call drive.mount(\"/content/drive\", force_remount=True).\n"
          ]
        }
      ],
      "source": [
        "from google.colab import drive\n",
        "drive.mount('/content/drive')"
      ]
    },
    {
      "cell_type": "code",
      "execution_count": 7,
      "metadata": {
        "id": "TaLKWfIfP9ve",
        "colab": {
          "base_uri": "https://localhost:8080/"
        },
        "outputId": "002ed872-5b5e-401f-c878-7998bd456772"
      },
      "outputs": [
        {
          "output_type": "stream",
          "name": "stdout",
          "text": [
            "['app_train.csv', 'app_test.csv']\n"
          ]
        }
      ],
      "source": [
        "# List files available\n",
        "print(os.listdir(\"/content/drive/MyDrive/Colab Notebooks/DS_projet_7/data_modelisation/\"))"
      ]
    },
    {
      "cell_type": "code",
      "execution_count": 8,
      "metadata": {
        "id": "hr97EOBVFlFY",
        "colab": {
          "base_uri": "https://localhost:8080/",
          "height": 290
        },
        "outputId": "1f52c9fb-5778-4859-a711-ce21dfc0d51a"
      },
      "outputs": [
        {
          "output_type": "stream",
          "name": "stdout",
          "text": [
            "Training data shape:  (307511, 242)\n"
          ]
        },
        {
          "output_type": "execute_result",
          "data": {
            "text/plain": [
              "   Unnamed: 0  SK_ID_CURR  NAME_CONTRACT_TYPE  FLAG_OWN_CAR  FLAG_OWN_REALTY  \\\n",
              "0           0      100002                   0             0                1   \n",
              "1           1      100003                   0             0                0   \n",
              "2           2      100004                   1             1                1   \n",
              "3           3      100006                   0             0                1   \n",
              "4           4      100007                   0             0                1   \n",
              "\n",
              "   CNT_CHILDREN  AMT_INCOME_TOTAL  AMT_CREDIT  AMT_ANNUITY  AMT_GOODS_PRICE  \\\n",
              "0             0          202500.0    406597.5      24700.5         351000.0   \n",
              "1             0          270000.0   1293502.5      35698.5        1129500.0   \n",
              "2             0           67500.0    135000.0       6750.0         135000.0   \n",
              "3             0          135000.0    312682.5      29686.5         297000.0   \n",
              "4             0          121500.0    513000.0      21865.5         513000.0   \n",
              "\n",
              "   ...  WALLSMATERIAL_MODE_Mixed  WALLSMATERIAL_MODE_Monolithic  \\\n",
              "0  ...                     False                          False   \n",
              "1  ...                     False                          False   \n",
              "2  ...                     False                          False   \n",
              "3  ...                     False                          False   \n",
              "4  ...                     False                          False   \n",
              "\n",
              "   WALLSMATERIAL_MODE_Others  WALLSMATERIAL_MODE_Panel  \\\n",
              "0                      False                     False   \n",
              "1                      False                     False   \n",
              "2                      False                     False   \n",
              "3                      False                     False   \n",
              "4                      False                     False   \n",
              "\n",
              "   WALLSMATERIAL_MODE_Stone, brick  WALLSMATERIAL_MODE_Wooden  \\\n",
              "0                             True                      False   \n",
              "1                            False                      False   \n",
              "2                            False                      False   \n",
              "3                            False                      False   \n",
              "4                            False                      False   \n",
              "\n",
              "   EMERGENCYSTATE_MODE_No  EMERGENCYSTATE_MODE_Yes  TARGET  DAYS_EMPLOYED_ANOM  \n",
              "0                    True                    False       1               False  \n",
              "1                    True                    False       0               False  \n",
              "2                   False                    False       0               False  \n",
              "3                   False                    False       0               False  \n",
              "4                   False                    False       0               False  \n",
              "\n",
              "[5 rows x 242 columns]"
            ],
            "text/html": [
              "\n",
              "  <div id=\"df-ddbad0f8-3fda-4d5d-a8e7-d204f98aa0c7\" class=\"colab-df-container\">\n",
              "    <div>\n",
              "<style scoped>\n",
              "    .dataframe tbody tr th:only-of-type {\n",
              "        vertical-align: middle;\n",
              "    }\n",
              "\n",
              "    .dataframe tbody tr th {\n",
              "        vertical-align: top;\n",
              "    }\n",
              "\n",
              "    .dataframe thead th {\n",
              "        text-align: right;\n",
              "    }\n",
              "</style>\n",
              "<table border=\"1\" class=\"dataframe\">\n",
              "  <thead>\n",
              "    <tr style=\"text-align: right;\">\n",
              "      <th></th>\n",
              "      <th>Unnamed: 0</th>\n",
              "      <th>SK_ID_CURR</th>\n",
              "      <th>NAME_CONTRACT_TYPE</th>\n",
              "      <th>FLAG_OWN_CAR</th>\n",
              "      <th>FLAG_OWN_REALTY</th>\n",
              "      <th>CNT_CHILDREN</th>\n",
              "      <th>AMT_INCOME_TOTAL</th>\n",
              "      <th>AMT_CREDIT</th>\n",
              "      <th>AMT_ANNUITY</th>\n",
              "      <th>AMT_GOODS_PRICE</th>\n",
              "      <th>...</th>\n",
              "      <th>WALLSMATERIAL_MODE_Mixed</th>\n",
              "      <th>WALLSMATERIAL_MODE_Monolithic</th>\n",
              "      <th>WALLSMATERIAL_MODE_Others</th>\n",
              "      <th>WALLSMATERIAL_MODE_Panel</th>\n",
              "      <th>WALLSMATERIAL_MODE_Stone, brick</th>\n",
              "      <th>WALLSMATERIAL_MODE_Wooden</th>\n",
              "      <th>EMERGENCYSTATE_MODE_No</th>\n",
              "      <th>EMERGENCYSTATE_MODE_Yes</th>\n",
              "      <th>TARGET</th>\n",
              "      <th>DAYS_EMPLOYED_ANOM</th>\n",
              "    </tr>\n",
              "  </thead>\n",
              "  <tbody>\n",
              "    <tr>\n",
              "      <th>0</th>\n",
              "      <td>0</td>\n",
              "      <td>100002</td>\n",
              "      <td>0</td>\n",
              "      <td>0</td>\n",
              "      <td>1</td>\n",
              "      <td>0</td>\n",
              "      <td>202500.0</td>\n",
              "      <td>406597.5</td>\n",
              "      <td>24700.5</td>\n",
              "      <td>351000.0</td>\n",
              "      <td>...</td>\n",
              "      <td>False</td>\n",
              "      <td>False</td>\n",
              "      <td>False</td>\n",
              "      <td>False</td>\n",
              "      <td>True</td>\n",
              "      <td>False</td>\n",
              "      <td>True</td>\n",
              "      <td>False</td>\n",
              "      <td>1</td>\n",
              "      <td>False</td>\n",
              "    </tr>\n",
              "    <tr>\n",
              "      <th>1</th>\n",
              "      <td>1</td>\n",
              "      <td>100003</td>\n",
              "      <td>0</td>\n",
              "      <td>0</td>\n",
              "      <td>0</td>\n",
              "      <td>0</td>\n",
              "      <td>270000.0</td>\n",
              "      <td>1293502.5</td>\n",
              "      <td>35698.5</td>\n",
              "      <td>1129500.0</td>\n",
              "      <td>...</td>\n",
              "      <td>False</td>\n",
              "      <td>False</td>\n",
              "      <td>False</td>\n",
              "      <td>False</td>\n",
              "      <td>False</td>\n",
              "      <td>False</td>\n",
              "      <td>True</td>\n",
              "      <td>False</td>\n",
              "      <td>0</td>\n",
              "      <td>False</td>\n",
              "    </tr>\n",
              "    <tr>\n",
              "      <th>2</th>\n",
              "      <td>2</td>\n",
              "      <td>100004</td>\n",
              "      <td>1</td>\n",
              "      <td>1</td>\n",
              "      <td>1</td>\n",
              "      <td>0</td>\n",
              "      <td>67500.0</td>\n",
              "      <td>135000.0</td>\n",
              "      <td>6750.0</td>\n",
              "      <td>135000.0</td>\n",
              "      <td>...</td>\n",
              "      <td>False</td>\n",
              "      <td>False</td>\n",
              "      <td>False</td>\n",
              "      <td>False</td>\n",
              "      <td>False</td>\n",
              "      <td>False</td>\n",
              "      <td>False</td>\n",
              "      <td>False</td>\n",
              "      <td>0</td>\n",
              "      <td>False</td>\n",
              "    </tr>\n",
              "    <tr>\n",
              "      <th>3</th>\n",
              "      <td>3</td>\n",
              "      <td>100006</td>\n",
              "      <td>0</td>\n",
              "      <td>0</td>\n",
              "      <td>1</td>\n",
              "      <td>0</td>\n",
              "      <td>135000.0</td>\n",
              "      <td>312682.5</td>\n",
              "      <td>29686.5</td>\n",
              "      <td>297000.0</td>\n",
              "      <td>...</td>\n",
              "      <td>False</td>\n",
              "      <td>False</td>\n",
              "      <td>False</td>\n",
              "      <td>False</td>\n",
              "      <td>False</td>\n",
              "      <td>False</td>\n",
              "      <td>False</td>\n",
              "      <td>False</td>\n",
              "      <td>0</td>\n",
              "      <td>False</td>\n",
              "    </tr>\n",
              "    <tr>\n",
              "      <th>4</th>\n",
              "      <td>4</td>\n",
              "      <td>100007</td>\n",
              "      <td>0</td>\n",
              "      <td>0</td>\n",
              "      <td>1</td>\n",
              "      <td>0</td>\n",
              "      <td>121500.0</td>\n",
              "      <td>513000.0</td>\n",
              "      <td>21865.5</td>\n",
              "      <td>513000.0</td>\n",
              "      <td>...</td>\n",
              "      <td>False</td>\n",
              "      <td>False</td>\n",
              "      <td>False</td>\n",
              "      <td>False</td>\n",
              "      <td>False</td>\n",
              "      <td>False</td>\n",
              "      <td>False</td>\n",
              "      <td>False</td>\n",
              "      <td>0</td>\n",
              "      <td>False</td>\n",
              "    </tr>\n",
              "  </tbody>\n",
              "</table>\n",
              "<p>5 rows × 242 columns</p>\n",
              "</div>\n",
              "    <div class=\"colab-df-buttons\">\n",
              "\n",
              "  <div class=\"colab-df-container\">\n",
              "    <button class=\"colab-df-convert\" onclick=\"convertToInteractive('df-ddbad0f8-3fda-4d5d-a8e7-d204f98aa0c7')\"\n",
              "            title=\"Convert this dataframe to an interactive table.\"\n",
              "            style=\"display:none;\">\n",
              "\n",
              "  <svg xmlns=\"http://www.w3.org/2000/svg\" height=\"24px\" viewBox=\"0 -960 960 960\">\n",
              "    <path d=\"M120-120v-720h720v720H120Zm60-500h600v-160H180v160Zm220 220h160v-160H400v160Zm0 220h160v-160H400v160ZM180-400h160v-160H180v160Zm440 0h160v-160H620v160ZM180-180h160v-160H180v160Zm440 0h160v-160H620v160Z\"/>\n",
              "  </svg>\n",
              "    </button>\n",
              "\n",
              "  <style>\n",
              "    .colab-df-container {\n",
              "      display:flex;\n",
              "      gap: 12px;\n",
              "    }\n",
              "\n",
              "    .colab-df-convert {\n",
              "      background-color: #E8F0FE;\n",
              "      border: none;\n",
              "      border-radius: 50%;\n",
              "      cursor: pointer;\n",
              "      display: none;\n",
              "      fill: #1967D2;\n",
              "      height: 32px;\n",
              "      padding: 0 0 0 0;\n",
              "      width: 32px;\n",
              "    }\n",
              "\n",
              "    .colab-df-convert:hover {\n",
              "      background-color: #E2EBFA;\n",
              "      box-shadow: 0px 1px 2px rgba(60, 64, 67, 0.3), 0px 1px 3px 1px rgba(60, 64, 67, 0.15);\n",
              "      fill: #174EA6;\n",
              "    }\n",
              "\n",
              "    .colab-df-buttons div {\n",
              "      margin-bottom: 4px;\n",
              "    }\n",
              "\n",
              "    [theme=dark] .colab-df-convert {\n",
              "      background-color: #3B4455;\n",
              "      fill: #D2E3FC;\n",
              "    }\n",
              "\n",
              "    [theme=dark] .colab-df-convert:hover {\n",
              "      background-color: #434B5C;\n",
              "      box-shadow: 0px 1px 3px 1px rgba(0, 0, 0, 0.15);\n",
              "      filter: drop-shadow(0px 1px 2px rgba(0, 0, 0, 0.3));\n",
              "      fill: #FFFFFF;\n",
              "    }\n",
              "  </style>\n",
              "\n",
              "    <script>\n",
              "      const buttonEl =\n",
              "        document.querySelector('#df-ddbad0f8-3fda-4d5d-a8e7-d204f98aa0c7 button.colab-df-convert');\n",
              "      buttonEl.style.display =\n",
              "        google.colab.kernel.accessAllowed ? 'block' : 'none';\n",
              "\n",
              "      async function convertToInteractive(key) {\n",
              "        const element = document.querySelector('#df-ddbad0f8-3fda-4d5d-a8e7-d204f98aa0c7');\n",
              "        const dataTable =\n",
              "          await google.colab.kernel.invokeFunction('convertToInteractive',\n",
              "                                                    [key], {});\n",
              "        if (!dataTable) return;\n",
              "\n",
              "        const docLinkHtml = 'Like what you see? Visit the ' +\n",
              "          '<a target=\"_blank\" href=https://colab.research.google.com/notebooks/data_table.ipynb>data table notebook</a>'\n",
              "          + ' to learn more about interactive tables.';\n",
              "        element.innerHTML = '';\n",
              "        dataTable['output_type'] = 'display_data';\n",
              "        await google.colab.output.renderOutput(dataTable, element);\n",
              "        const docLink = document.createElement('div');\n",
              "        docLink.innerHTML = docLinkHtml;\n",
              "        element.appendChild(docLink);\n",
              "      }\n",
              "    </script>\n",
              "  </div>\n",
              "\n",
              "\n",
              "<div id=\"df-c75097f5-ae74-48d1-8992-ea447a8d72bb\">\n",
              "  <button class=\"colab-df-quickchart\" onclick=\"quickchart('df-c75097f5-ae74-48d1-8992-ea447a8d72bb')\"\n",
              "            title=\"Suggest charts\"\n",
              "            style=\"display:none;\">\n",
              "\n",
              "<svg xmlns=\"http://www.w3.org/2000/svg\" height=\"24px\"viewBox=\"0 0 24 24\"\n",
              "     width=\"24px\">\n",
              "    <g>\n",
              "        <path d=\"M19 3H5c-1.1 0-2 .9-2 2v14c0 1.1.9 2 2 2h14c1.1 0 2-.9 2-2V5c0-1.1-.9-2-2-2zM9 17H7v-7h2v7zm4 0h-2V7h2v10zm4 0h-2v-4h2v4z\"/>\n",
              "    </g>\n",
              "</svg>\n",
              "  </button>\n",
              "\n",
              "<style>\n",
              "  .colab-df-quickchart {\n",
              "      --bg-color: #E8F0FE;\n",
              "      --fill-color: #1967D2;\n",
              "      --hover-bg-color: #E2EBFA;\n",
              "      --hover-fill-color: #174EA6;\n",
              "      --disabled-fill-color: #AAA;\n",
              "      --disabled-bg-color: #DDD;\n",
              "  }\n",
              "\n",
              "  [theme=dark] .colab-df-quickchart {\n",
              "      --bg-color: #3B4455;\n",
              "      --fill-color: #D2E3FC;\n",
              "      --hover-bg-color: #434B5C;\n",
              "      --hover-fill-color: #FFFFFF;\n",
              "      --disabled-bg-color: #3B4455;\n",
              "      --disabled-fill-color: #666;\n",
              "  }\n",
              "\n",
              "  .colab-df-quickchart {\n",
              "    background-color: var(--bg-color);\n",
              "    border: none;\n",
              "    border-radius: 50%;\n",
              "    cursor: pointer;\n",
              "    display: none;\n",
              "    fill: var(--fill-color);\n",
              "    height: 32px;\n",
              "    padding: 0;\n",
              "    width: 32px;\n",
              "  }\n",
              "\n",
              "  .colab-df-quickchart:hover {\n",
              "    background-color: var(--hover-bg-color);\n",
              "    box-shadow: 0 1px 2px rgba(60, 64, 67, 0.3), 0 1px 3px 1px rgba(60, 64, 67, 0.15);\n",
              "    fill: var(--button-hover-fill-color);\n",
              "  }\n",
              "\n",
              "  .colab-df-quickchart-complete:disabled,\n",
              "  .colab-df-quickchart-complete:disabled:hover {\n",
              "    background-color: var(--disabled-bg-color);\n",
              "    fill: var(--disabled-fill-color);\n",
              "    box-shadow: none;\n",
              "  }\n",
              "\n",
              "  .colab-df-spinner {\n",
              "    border: 2px solid var(--fill-color);\n",
              "    border-color: transparent;\n",
              "    border-bottom-color: var(--fill-color);\n",
              "    animation:\n",
              "      spin 1s steps(1) infinite;\n",
              "  }\n",
              "\n",
              "  @keyframes spin {\n",
              "    0% {\n",
              "      border-color: transparent;\n",
              "      border-bottom-color: var(--fill-color);\n",
              "      border-left-color: var(--fill-color);\n",
              "    }\n",
              "    20% {\n",
              "      border-color: transparent;\n",
              "      border-left-color: var(--fill-color);\n",
              "      border-top-color: var(--fill-color);\n",
              "    }\n",
              "    30% {\n",
              "      border-color: transparent;\n",
              "      border-left-color: var(--fill-color);\n",
              "      border-top-color: var(--fill-color);\n",
              "      border-right-color: var(--fill-color);\n",
              "    }\n",
              "    40% {\n",
              "      border-color: transparent;\n",
              "      border-right-color: var(--fill-color);\n",
              "      border-top-color: var(--fill-color);\n",
              "    }\n",
              "    60% {\n",
              "      border-color: transparent;\n",
              "      border-right-color: var(--fill-color);\n",
              "    }\n",
              "    80% {\n",
              "      border-color: transparent;\n",
              "      border-right-color: var(--fill-color);\n",
              "      border-bottom-color: var(--fill-color);\n",
              "    }\n",
              "    90% {\n",
              "      border-color: transparent;\n",
              "      border-bottom-color: var(--fill-color);\n",
              "    }\n",
              "  }\n",
              "</style>\n",
              "\n",
              "  <script>\n",
              "    async function quickchart(key) {\n",
              "      const quickchartButtonEl =\n",
              "        document.querySelector('#' + key + ' button');\n",
              "      quickchartButtonEl.disabled = true;  // To prevent multiple clicks.\n",
              "      quickchartButtonEl.classList.add('colab-df-spinner');\n",
              "      try {\n",
              "        const charts = await google.colab.kernel.invokeFunction(\n",
              "            'suggestCharts', [key], {});\n",
              "      } catch (error) {\n",
              "        console.error('Error during call to suggestCharts:', error);\n",
              "      }\n",
              "      quickchartButtonEl.classList.remove('colab-df-spinner');\n",
              "      quickchartButtonEl.classList.add('colab-df-quickchart-complete');\n",
              "    }\n",
              "    (() => {\n",
              "      let quickchartButtonEl =\n",
              "        document.querySelector('#df-c75097f5-ae74-48d1-8992-ea447a8d72bb button');\n",
              "      quickchartButtonEl.style.display =\n",
              "        google.colab.kernel.accessAllowed ? 'block' : 'none';\n",
              "    })();\n",
              "  </script>\n",
              "</div>\n",
              "\n",
              "    </div>\n",
              "  </div>\n"
            ],
            "application/vnd.google.colaboratory.intrinsic+json": {
              "type": "dataframe",
              "variable_name": "app_train"
            }
          },
          "metadata": {},
          "execution_count": 8
        }
      ],
      "source": [
        "#importation fichier\n",
        "app_train = pd.read_csv('/content/drive/MyDrive/Colab Notebooks/DS_projet_7/data_modelisation/app_train.csv')\n",
        "print('Training data shape: ', app_train.shape)\n",
        "app_train.head()"
      ]
    },
    {
      "cell_type": "code",
      "execution_count": 9,
      "metadata": {
        "id": "hXzD-5RpN28s",
        "colab": {
          "base_uri": "https://localhost:8080/",
          "height": 290
        },
        "outputId": "471c79ab-108c-492c-c2da-ab02ee0dcad8"
      },
      "outputs": [
        {
          "output_type": "stream",
          "name": "stdout",
          "text": [
            "Testing data shape:  (307511, 242)\n"
          ]
        },
        {
          "output_type": "execute_result",
          "data": {
            "text/plain": [
              "   Unnamed: 0  SK_ID_CURR  NAME_CONTRACT_TYPE  FLAG_OWN_CAR  FLAG_OWN_REALTY  \\\n",
              "0           0      100002                   0             0                1   \n",
              "1           1      100003                   0             0                0   \n",
              "2           2      100004                   1             1                1   \n",
              "3           3      100006                   0             0                1   \n",
              "4           4      100007                   0             0                1   \n",
              "\n",
              "   CNT_CHILDREN  AMT_INCOME_TOTAL  AMT_CREDIT  AMT_ANNUITY  AMT_GOODS_PRICE  \\\n",
              "0             0          202500.0    406597.5      24700.5         351000.0   \n",
              "1             0          270000.0   1293502.5      35698.5        1129500.0   \n",
              "2             0           67500.0    135000.0       6750.0         135000.0   \n",
              "3             0          135000.0    312682.5      29686.5         297000.0   \n",
              "4             0          121500.0    513000.0      21865.5         513000.0   \n",
              "\n",
              "   ...  WALLSMATERIAL_MODE_Mixed  WALLSMATERIAL_MODE_Monolithic  \\\n",
              "0  ...                     False                          False   \n",
              "1  ...                     False                          False   \n",
              "2  ...                     False                          False   \n",
              "3  ...                     False                          False   \n",
              "4  ...                     False                          False   \n",
              "\n",
              "   WALLSMATERIAL_MODE_Others  WALLSMATERIAL_MODE_Panel  \\\n",
              "0                      False                     False   \n",
              "1                      False                     False   \n",
              "2                      False                     False   \n",
              "3                      False                     False   \n",
              "4                      False                     False   \n",
              "\n",
              "   WALLSMATERIAL_MODE_Stone, brick  WALLSMATERIAL_MODE_Wooden  \\\n",
              "0                             True                      False   \n",
              "1                            False                      False   \n",
              "2                            False                      False   \n",
              "3                            False                      False   \n",
              "4                            False                      False   \n",
              "\n",
              "   EMERGENCYSTATE_MODE_No  EMERGENCYSTATE_MODE_Yes  TARGET  DAYS_EMPLOYED_ANOM  \n",
              "0                    True                    False       1               False  \n",
              "1                    True                    False       0               False  \n",
              "2                   False                    False       0               False  \n",
              "3                   False                    False       0               False  \n",
              "4                   False                    False       0               False  \n",
              "\n",
              "[5 rows x 242 columns]"
            ],
            "text/html": [
              "\n",
              "  <div id=\"df-6a4607ce-acc7-43e6-8537-02adbbcbbc93\" class=\"colab-df-container\">\n",
              "    <div>\n",
              "<style scoped>\n",
              "    .dataframe tbody tr th:only-of-type {\n",
              "        vertical-align: middle;\n",
              "    }\n",
              "\n",
              "    .dataframe tbody tr th {\n",
              "        vertical-align: top;\n",
              "    }\n",
              "\n",
              "    .dataframe thead th {\n",
              "        text-align: right;\n",
              "    }\n",
              "</style>\n",
              "<table border=\"1\" class=\"dataframe\">\n",
              "  <thead>\n",
              "    <tr style=\"text-align: right;\">\n",
              "      <th></th>\n",
              "      <th>Unnamed: 0</th>\n",
              "      <th>SK_ID_CURR</th>\n",
              "      <th>NAME_CONTRACT_TYPE</th>\n",
              "      <th>FLAG_OWN_CAR</th>\n",
              "      <th>FLAG_OWN_REALTY</th>\n",
              "      <th>CNT_CHILDREN</th>\n",
              "      <th>AMT_INCOME_TOTAL</th>\n",
              "      <th>AMT_CREDIT</th>\n",
              "      <th>AMT_ANNUITY</th>\n",
              "      <th>AMT_GOODS_PRICE</th>\n",
              "      <th>...</th>\n",
              "      <th>WALLSMATERIAL_MODE_Mixed</th>\n",
              "      <th>WALLSMATERIAL_MODE_Monolithic</th>\n",
              "      <th>WALLSMATERIAL_MODE_Others</th>\n",
              "      <th>WALLSMATERIAL_MODE_Panel</th>\n",
              "      <th>WALLSMATERIAL_MODE_Stone, brick</th>\n",
              "      <th>WALLSMATERIAL_MODE_Wooden</th>\n",
              "      <th>EMERGENCYSTATE_MODE_No</th>\n",
              "      <th>EMERGENCYSTATE_MODE_Yes</th>\n",
              "      <th>TARGET</th>\n",
              "      <th>DAYS_EMPLOYED_ANOM</th>\n",
              "    </tr>\n",
              "  </thead>\n",
              "  <tbody>\n",
              "    <tr>\n",
              "      <th>0</th>\n",
              "      <td>0</td>\n",
              "      <td>100002</td>\n",
              "      <td>0</td>\n",
              "      <td>0</td>\n",
              "      <td>1</td>\n",
              "      <td>0</td>\n",
              "      <td>202500.0</td>\n",
              "      <td>406597.5</td>\n",
              "      <td>24700.5</td>\n",
              "      <td>351000.0</td>\n",
              "      <td>...</td>\n",
              "      <td>False</td>\n",
              "      <td>False</td>\n",
              "      <td>False</td>\n",
              "      <td>False</td>\n",
              "      <td>True</td>\n",
              "      <td>False</td>\n",
              "      <td>True</td>\n",
              "      <td>False</td>\n",
              "      <td>1</td>\n",
              "      <td>False</td>\n",
              "    </tr>\n",
              "    <tr>\n",
              "      <th>1</th>\n",
              "      <td>1</td>\n",
              "      <td>100003</td>\n",
              "      <td>0</td>\n",
              "      <td>0</td>\n",
              "      <td>0</td>\n",
              "      <td>0</td>\n",
              "      <td>270000.0</td>\n",
              "      <td>1293502.5</td>\n",
              "      <td>35698.5</td>\n",
              "      <td>1129500.0</td>\n",
              "      <td>...</td>\n",
              "      <td>False</td>\n",
              "      <td>False</td>\n",
              "      <td>False</td>\n",
              "      <td>False</td>\n",
              "      <td>False</td>\n",
              "      <td>False</td>\n",
              "      <td>True</td>\n",
              "      <td>False</td>\n",
              "      <td>0</td>\n",
              "      <td>False</td>\n",
              "    </tr>\n",
              "    <tr>\n",
              "      <th>2</th>\n",
              "      <td>2</td>\n",
              "      <td>100004</td>\n",
              "      <td>1</td>\n",
              "      <td>1</td>\n",
              "      <td>1</td>\n",
              "      <td>0</td>\n",
              "      <td>67500.0</td>\n",
              "      <td>135000.0</td>\n",
              "      <td>6750.0</td>\n",
              "      <td>135000.0</td>\n",
              "      <td>...</td>\n",
              "      <td>False</td>\n",
              "      <td>False</td>\n",
              "      <td>False</td>\n",
              "      <td>False</td>\n",
              "      <td>False</td>\n",
              "      <td>False</td>\n",
              "      <td>False</td>\n",
              "      <td>False</td>\n",
              "      <td>0</td>\n",
              "      <td>False</td>\n",
              "    </tr>\n",
              "    <tr>\n",
              "      <th>3</th>\n",
              "      <td>3</td>\n",
              "      <td>100006</td>\n",
              "      <td>0</td>\n",
              "      <td>0</td>\n",
              "      <td>1</td>\n",
              "      <td>0</td>\n",
              "      <td>135000.0</td>\n",
              "      <td>312682.5</td>\n",
              "      <td>29686.5</td>\n",
              "      <td>297000.0</td>\n",
              "      <td>...</td>\n",
              "      <td>False</td>\n",
              "      <td>False</td>\n",
              "      <td>False</td>\n",
              "      <td>False</td>\n",
              "      <td>False</td>\n",
              "      <td>False</td>\n",
              "      <td>False</td>\n",
              "      <td>False</td>\n",
              "      <td>0</td>\n",
              "      <td>False</td>\n",
              "    </tr>\n",
              "    <tr>\n",
              "      <th>4</th>\n",
              "      <td>4</td>\n",
              "      <td>100007</td>\n",
              "      <td>0</td>\n",
              "      <td>0</td>\n",
              "      <td>1</td>\n",
              "      <td>0</td>\n",
              "      <td>121500.0</td>\n",
              "      <td>513000.0</td>\n",
              "      <td>21865.5</td>\n",
              "      <td>513000.0</td>\n",
              "      <td>...</td>\n",
              "      <td>False</td>\n",
              "      <td>False</td>\n",
              "      <td>False</td>\n",
              "      <td>False</td>\n",
              "      <td>False</td>\n",
              "      <td>False</td>\n",
              "      <td>False</td>\n",
              "      <td>False</td>\n",
              "      <td>0</td>\n",
              "      <td>False</td>\n",
              "    </tr>\n",
              "  </tbody>\n",
              "</table>\n",
              "<p>5 rows × 242 columns</p>\n",
              "</div>\n",
              "    <div class=\"colab-df-buttons\">\n",
              "\n",
              "  <div class=\"colab-df-container\">\n",
              "    <button class=\"colab-df-convert\" onclick=\"convertToInteractive('df-6a4607ce-acc7-43e6-8537-02adbbcbbc93')\"\n",
              "            title=\"Convert this dataframe to an interactive table.\"\n",
              "            style=\"display:none;\">\n",
              "\n",
              "  <svg xmlns=\"http://www.w3.org/2000/svg\" height=\"24px\" viewBox=\"0 -960 960 960\">\n",
              "    <path d=\"M120-120v-720h720v720H120Zm60-500h600v-160H180v160Zm220 220h160v-160H400v160Zm0 220h160v-160H400v160ZM180-400h160v-160H180v160Zm440 0h160v-160H620v160ZM180-180h160v-160H180v160Zm440 0h160v-160H620v160Z\"/>\n",
              "  </svg>\n",
              "    </button>\n",
              "\n",
              "  <style>\n",
              "    .colab-df-container {\n",
              "      display:flex;\n",
              "      gap: 12px;\n",
              "    }\n",
              "\n",
              "    .colab-df-convert {\n",
              "      background-color: #E8F0FE;\n",
              "      border: none;\n",
              "      border-radius: 50%;\n",
              "      cursor: pointer;\n",
              "      display: none;\n",
              "      fill: #1967D2;\n",
              "      height: 32px;\n",
              "      padding: 0 0 0 0;\n",
              "      width: 32px;\n",
              "    }\n",
              "\n",
              "    .colab-df-convert:hover {\n",
              "      background-color: #E2EBFA;\n",
              "      box-shadow: 0px 1px 2px rgba(60, 64, 67, 0.3), 0px 1px 3px 1px rgba(60, 64, 67, 0.15);\n",
              "      fill: #174EA6;\n",
              "    }\n",
              "\n",
              "    .colab-df-buttons div {\n",
              "      margin-bottom: 4px;\n",
              "    }\n",
              "\n",
              "    [theme=dark] .colab-df-convert {\n",
              "      background-color: #3B4455;\n",
              "      fill: #D2E3FC;\n",
              "    }\n",
              "\n",
              "    [theme=dark] .colab-df-convert:hover {\n",
              "      background-color: #434B5C;\n",
              "      box-shadow: 0px 1px 3px 1px rgba(0, 0, 0, 0.15);\n",
              "      filter: drop-shadow(0px 1px 2px rgba(0, 0, 0, 0.3));\n",
              "      fill: #FFFFFF;\n",
              "    }\n",
              "  </style>\n",
              "\n",
              "    <script>\n",
              "      const buttonEl =\n",
              "        document.querySelector('#df-6a4607ce-acc7-43e6-8537-02adbbcbbc93 button.colab-df-convert');\n",
              "      buttonEl.style.display =\n",
              "        google.colab.kernel.accessAllowed ? 'block' : 'none';\n",
              "\n",
              "      async function convertToInteractive(key) {\n",
              "        const element = document.querySelector('#df-6a4607ce-acc7-43e6-8537-02adbbcbbc93');\n",
              "        const dataTable =\n",
              "          await google.colab.kernel.invokeFunction('convertToInteractive',\n",
              "                                                    [key], {});\n",
              "        if (!dataTable) return;\n",
              "\n",
              "        const docLinkHtml = 'Like what you see? Visit the ' +\n",
              "          '<a target=\"_blank\" href=https://colab.research.google.com/notebooks/data_table.ipynb>data table notebook</a>'\n",
              "          + ' to learn more about interactive tables.';\n",
              "        element.innerHTML = '';\n",
              "        dataTable['output_type'] = 'display_data';\n",
              "        await google.colab.output.renderOutput(dataTable, element);\n",
              "        const docLink = document.createElement('div');\n",
              "        docLink.innerHTML = docLinkHtml;\n",
              "        element.appendChild(docLink);\n",
              "      }\n",
              "    </script>\n",
              "  </div>\n",
              "\n",
              "\n",
              "<div id=\"df-b2444a27-6489-492a-be8f-044f49e4a0f9\">\n",
              "  <button class=\"colab-df-quickchart\" onclick=\"quickchart('df-b2444a27-6489-492a-be8f-044f49e4a0f9')\"\n",
              "            title=\"Suggest charts\"\n",
              "            style=\"display:none;\">\n",
              "\n",
              "<svg xmlns=\"http://www.w3.org/2000/svg\" height=\"24px\"viewBox=\"0 0 24 24\"\n",
              "     width=\"24px\">\n",
              "    <g>\n",
              "        <path d=\"M19 3H5c-1.1 0-2 .9-2 2v14c0 1.1.9 2 2 2h14c1.1 0 2-.9 2-2V5c0-1.1-.9-2-2-2zM9 17H7v-7h2v7zm4 0h-2V7h2v10zm4 0h-2v-4h2v4z\"/>\n",
              "    </g>\n",
              "</svg>\n",
              "  </button>\n",
              "\n",
              "<style>\n",
              "  .colab-df-quickchart {\n",
              "      --bg-color: #E8F0FE;\n",
              "      --fill-color: #1967D2;\n",
              "      --hover-bg-color: #E2EBFA;\n",
              "      --hover-fill-color: #174EA6;\n",
              "      --disabled-fill-color: #AAA;\n",
              "      --disabled-bg-color: #DDD;\n",
              "  }\n",
              "\n",
              "  [theme=dark] .colab-df-quickchart {\n",
              "      --bg-color: #3B4455;\n",
              "      --fill-color: #D2E3FC;\n",
              "      --hover-bg-color: #434B5C;\n",
              "      --hover-fill-color: #FFFFFF;\n",
              "      --disabled-bg-color: #3B4455;\n",
              "      --disabled-fill-color: #666;\n",
              "  }\n",
              "\n",
              "  .colab-df-quickchart {\n",
              "    background-color: var(--bg-color);\n",
              "    border: none;\n",
              "    border-radius: 50%;\n",
              "    cursor: pointer;\n",
              "    display: none;\n",
              "    fill: var(--fill-color);\n",
              "    height: 32px;\n",
              "    padding: 0;\n",
              "    width: 32px;\n",
              "  }\n",
              "\n",
              "  .colab-df-quickchart:hover {\n",
              "    background-color: var(--hover-bg-color);\n",
              "    box-shadow: 0 1px 2px rgba(60, 64, 67, 0.3), 0 1px 3px 1px rgba(60, 64, 67, 0.15);\n",
              "    fill: var(--button-hover-fill-color);\n",
              "  }\n",
              "\n",
              "  .colab-df-quickchart-complete:disabled,\n",
              "  .colab-df-quickchart-complete:disabled:hover {\n",
              "    background-color: var(--disabled-bg-color);\n",
              "    fill: var(--disabled-fill-color);\n",
              "    box-shadow: none;\n",
              "  }\n",
              "\n",
              "  .colab-df-spinner {\n",
              "    border: 2px solid var(--fill-color);\n",
              "    border-color: transparent;\n",
              "    border-bottom-color: var(--fill-color);\n",
              "    animation:\n",
              "      spin 1s steps(1) infinite;\n",
              "  }\n",
              "\n",
              "  @keyframes spin {\n",
              "    0% {\n",
              "      border-color: transparent;\n",
              "      border-bottom-color: var(--fill-color);\n",
              "      border-left-color: var(--fill-color);\n",
              "    }\n",
              "    20% {\n",
              "      border-color: transparent;\n",
              "      border-left-color: var(--fill-color);\n",
              "      border-top-color: var(--fill-color);\n",
              "    }\n",
              "    30% {\n",
              "      border-color: transparent;\n",
              "      border-left-color: var(--fill-color);\n",
              "      border-top-color: var(--fill-color);\n",
              "      border-right-color: var(--fill-color);\n",
              "    }\n",
              "    40% {\n",
              "      border-color: transparent;\n",
              "      border-right-color: var(--fill-color);\n",
              "      border-top-color: var(--fill-color);\n",
              "    }\n",
              "    60% {\n",
              "      border-color: transparent;\n",
              "      border-right-color: var(--fill-color);\n",
              "    }\n",
              "    80% {\n",
              "      border-color: transparent;\n",
              "      border-right-color: var(--fill-color);\n",
              "      border-bottom-color: var(--fill-color);\n",
              "    }\n",
              "    90% {\n",
              "      border-color: transparent;\n",
              "      border-bottom-color: var(--fill-color);\n",
              "    }\n",
              "  }\n",
              "</style>\n",
              "\n",
              "  <script>\n",
              "    async function quickchart(key) {\n",
              "      const quickchartButtonEl =\n",
              "        document.querySelector('#' + key + ' button');\n",
              "      quickchartButtonEl.disabled = true;  // To prevent multiple clicks.\n",
              "      quickchartButtonEl.classList.add('colab-df-spinner');\n",
              "      try {\n",
              "        const charts = await google.colab.kernel.invokeFunction(\n",
              "            'suggestCharts', [key], {});\n",
              "      } catch (error) {\n",
              "        console.error('Error during call to suggestCharts:', error);\n",
              "      }\n",
              "      quickchartButtonEl.classList.remove('colab-df-spinner');\n",
              "      quickchartButtonEl.classList.add('colab-df-quickchart-complete');\n",
              "    }\n",
              "    (() => {\n",
              "      let quickchartButtonEl =\n",
              "        document.querySelector('#df-b2444a27-6489-492a-be8f-044f49e4a0f9 button');\n",
              "      quickchartButtonEl.style.display =\n",
              "        google.colab.kernel.accessAllowed ? 'block' : 'none';\n",
              "    })();\n",
              "  </script>\n",
              "</div>\n",
              "\n",
              "    </div>\n",
              "  </div>\n"
            ],
            "application/vnd.google.colaboratory.intrinsic+json": {
              "type": "dataframe",
              "variable_name": "app_test"
            }
          },
          "metadata": {},
          "execution_count": 9
        }
      ],
      "source": [
        "# Testing data features\n",
        "app_test = pd.read_csv('/content/drive/MyDrive/Colab Notebooks/DS_projet_7/data_modelisation/app_test.csv')\n",
        "print('Testing data shape: ', app_test.shape)\n",
        "app_test.head()"
      ]
    },
    {
      "cell_type": "markdown",
      "metadata": {
        "id": "6k4c0yXmF6Ws"
      },
      "source": [
        "## Exploration"
      ]
    },
    {
      "cell_type": "code",
      "execution_count": 10,
      "metadata": {
        "id": "F7vsUIDtG4z9",
        "colab": {
          "base_uri": "https://localhost:8080/",
          "height": 178
        },
        "outputId": "6b0036f5-875f-4246-e535-7b2eb0f2bebd"
      },
      "outputs": [
        {
          "output_type": "execute_result",
          "data": {
            "text/plain": [
              "TARGET\n",
              "0    282686\n",
              "1     24825\n",
              "Name: count, dtype: int64"
            ],
            "text/html": [
              "<div>\n",
              "<style scoped>\n",
              "    .dataframe tbody tr th:only-of-type {\n",
              "        vertical-align: middle;\n",
              "    }\n",
              "\n",
              "    .dataframe tbody tr th {\n",
              "        vertical-align: top;\n",
              "    }\n",
              "\n",
              "    .dataframe thead th {\n",
              "        text-align: right;\n",
              "    }\n",
              "</style>\n",
              "<table border=\"1\" class=\"dataframe\">\n",
              "  <thead>\n",
              "    <tr style=\"text-align: right;\">\n",
              "      <th></th>\n",
              "      <th>count</th>\n",
              "    </tr>\n",
              "    <tr>\n",
              "      <th>TARGET</th>\n",
              "      <th></th>\n",
              "    </tr>\n",
              "  </thead>\n",
              "  <tbody>\n",
              "    <tr>\n",
              "      <th>0</th>\n",
              "      <td>282686</td>\n",
              "    </tr>\n",
              "    <tr>\n",
              "      <th>1</th>\n",
              "      <td>24825</td>\n",
              "    </tr>\n",
              "  </tbody>\n",
              "</table>\n",
              "</div><br><label><b>dtype:</b> int64</label>"
            ]
          },
          "metadata": {},
          "execution_count": 10
        }
      ],
      "source": [
        "app_train['TARGET'].value_counts()"
      ]
    },
    {
      "cell_type": "code",
      "execution_count": 11,
      "metadata": {
        "id": "5y_wxueoHJJA",
        "colab": {
          "base_uri": "https://localhost:8080/",
          "height": 430
        },
        "outputId": "0f86166a-982b-442a-effa-5018554b5456"
      },
      "outputs": [
        {
          "output_type": "display_data",
          "data": {
            "text/plain": [
              "<Figure size 640x480 with 1 Axes>"
            ],
            "image/png": "[encoded data removed]"
          },
          "metadata": {}
        }
      ],
      "source": [
        "app_train['TARGET'].astype(int).plot.hist();"
      ]
    },
    {
      "cell_type": "code",
      "execution_count": 12,
      "metadata": {
        "id": "xYuKhsF-Oygh",
        "colab": {
          "base_uri": "https://localhost:8080/",
          "height": 178
        },
        "outputId": "6a968ba7-e838-4710-e9e8-0f99ab36af25"
      },
      "outputs": [
        {
          "output_type": "execute_result",
          "data": {
            "text/plain": [
              "bool       132\n",
              "float64     66\n",
              "int64       44\n",
              "Name: count, dtype: int64"
            ],
            "text/html": [
              "<div>\n",
              "<style scoped>\n",
              "    .dataframe tbody tr th:only-of-type {\n",
              "        vertical-align: middle;\n",
              "    }\n",
              "\n",
              "    .dataframe tbody tr th {\n",
              "        vertical-align: top;\n",
              "    }\n",
              "\n",
              "    .dataframe thead th {\n",
              "        text-align: right;\n",
              "    }\n",
              "</style>\n",
              "<table border=\"1\" class=\"dataframe\">\n",
              "  <thead>\n",
              "    <tr style=\"text-align: right;\">\n",
              "      <th></th>\n",
              "      <th>count</th>\n",
              "    </tr>\n",
              "  </thead>\n",
              "  <tbody>\n",
              "    <tr>\n",
              "      <th>bool</th>\n",
              "      <td>132</td>\n",
              "    </tr>\n",
              "    <tr>\n",
              "      <th>float64</th>\n",
              "      <td>66</td>\n",
              "    </tr>\n",
              "    <tr>\n",
              "      <th>int64</th>\n",
              "      <td>44</td>\n",
              "    </tr>\n",
              "  </tbody>\n",
              "</table>\n",
              "</div><br><label><b>dtype:</b> int64</label>"
            ]
          },
          "metadata": {},
          "execution_count": 12
        }
      ],
      "source": [
        "# Number of each type of column\n",
        "app_train.dtypes.value_counts()"
      ]
    },
    {
      "cell_type": "code",
      "execution_count": 13,
      "metadata": {
        "id": "Ej8sdqUvQwkv",
        "colab": {
          "base_uri": "https://localhost:8080/"
        },
        "outputId": "023776f3-e023-45ab-d952-62d0f96d6572"
      },
      "outputs": [
        {
          "output_type": "stream",
          "name": "stdout",
          "text": [
            "Training Features shape:  (307511, 242)\n",
            "Testing Features shape:  (307511, 242)\n"
          ]
        }
      ],
      "source": [
        "train_labels = app_train['TARGET']\n",
        "\n",
        "# Align the training and testing data, keep only columns present in both dataframes\n",
        "app_train, app_test = app_train.align(app_test, join = 'inner', axis = 1)\n",
        "\n",
        "# Add the target back in\n",
        "app_train['TARGET'] = train_labels\n",
        "\n",
        "print('Training Features shape: ', app_train.shape)\n",
        "print('Testing Features shape: ', app_test.shape)"
      ]
    },
    {
      "cell_type": "markdown",
      "metadata": {
        "id": "VnjL4VrALVia"
      },
      "source": [
        "# Modélisation"
      ]
    },
    {
      "cell_type": "markdown",
      "metadata": {
        "id": "vxKdNeecw9nv"
      },
      "source": [
        "### Préparation de l'environement"
      ]
    },
    {
      "cell_type": "code",
      "execution_count": 14,
      "metadata": {
        "id": "swP4k3qFwfrg",
        "colab": {
          "base_uri": "https://localhost:8080/"
        },
        "outputId": "71bdbb20-c7aa-476c-bd70-7f7503e89bd0"
      },
      "outputs": [
        {
          "output_type": "stream",
          "name": "stdout",
          "text": [
            "Requirement already satisfied: mlflow in /usr/local/lib/python3.11/dist-packages (2.20.0)\n",
            "Requirement already satisfied: pyngrok in /usr/local/lib/python3.11/dist-packages (7.2.3)\n",
            "Requirement already satisfied: mlflow-skinny==2.20.0 in /usr/local/lib/python3.11/dist-packages (from mlflow) (2.20.0)\n",
            "Requirement already satisfied: Flask<4 in /usr/local/lib/python3.11/dist-packages (from mlflow) (3.1.0)\n",
            "Requirement already satisfied: Jinja2<4,>=2.11 in /usr/local/lib/python3.11/dist-packages (from mlflow) (3.1.5)\n",
            "Requirement already satisfied: alembic!=1.10.0,<2 in /usr/local/lib/python3.11/dist-packages (from mlflow) (1.14.1)\n",
            "Requirement already satisfied: docker<8,>=4.0.0 in /usr/local/lib/python3.11/dist-packages (from mlflow) (7.1.0)\n",
            "Requirement already satisfied: graphene<4 in /usr/local/lib/python3.11/dist-packages (from mlflow) (3.4.3)\n",
            "Requirement already satisfied: gunicorn<24 in /usr/local/lib/python3.11/dist-packages (from mlflow) (23.0.0)\n",
            "Requirement already satisfied: markdown<4,>=3.3 in /usr/local/lib/python3.11/dist-packages (from mlflow) (3.7)\n",
            "Requirement already satisfied: matplotlib<4 in /usr/local/lib/python3.11/dist-packages (from mlflow) (3.10.0)\n",
            "Requirement already satisfied: numpy<3 in /usr/local/lib/python3.11/dist-packages (from mlflow) (1.26.4)\n",
            "Requirement already satisfied: pandas<3 in /usr/local/lib/python3.11/dist-packages (from mlflow) (2.2.2)\n",
            "Requirement already satisfied: pyarrow<19,>=4.0.0 in /usr/local/lib/python3.11/dist-packages (from mlflow) (17.0.0)\n",
            "Requirement already satisfied: scikit-learn<2 in /usr/local/lib/python3.11/dist-packages (from mlflow) (1.6.1)\n",
            "Requirement already satisfied: scipy<2 in /usr/local/lib/python3.11/dist-packages (from mlflow) (1.13.1)\n",
            "Requirement already satisfied: sqlalchemy<3,>=1.4.0 in /usr/local/lib/python3.11/dist-packages (from mlflow) (2.0.37)\n",
            "Requirement already satisfied: cachetools<6,>=5.0.0 in /usr/local/lib/python3.11/dist-packages (from mlflow-skinny==2.20.0->mlflow) (5.5.1)\n",
            "Requirement already satisfied: click<9,>=7.0 in /usr/local/lib/python3.11/dist-packages (from mlflow-skinny==2.20.0->mlflow) (8.1.8)\n",
            "Requirement already satisfied: cloudpickle<4 in /usr/local/lib/python3.11/dist-packages (from mlflow-skinny==2.20.0->mlflow) (3.1.1)\n",
            "Requirement already satisfied: databricks-sdk<1,>=0.20.0 in /usr/local/lib/python3.11/dist-packages (from mlflow-skinny==2.20.0->mlflow) (0.41.0)\n",
            "Requirement already satisfied: gitpython<4,>=3.1.9 in /usr/local/lib/python3.11/dist-packages (from mlflow-skinny==2.20.0->mlflow) (3.1.44)\n",
            "Requirement already satisfied: importlib_metadata!=4.7.0,<9,>=3.7.0 in /usr/local/lib/python3.11/dist-packages (from mlflow-skinny==2.20.0->mlflow) (8.6.1)\n",
            "Requirement already satisfied: opentelemetry-api<3,>=1.9.0 in /usr/local/lib/python3.11/dist-packages (from mlflow-skinny==2.20.0->mlflow) (1.16.0)\n",
            "Requirement already satisfied: opentelemetry-sdk<3,>=1.9.0 in /usr/local/lib/python3.11/dist-packages (from mlflow-skinny==2.20.0->mlflow) (1.16.0)\n",
            "Requirement already satisfied: packaging<25 in /usr/local/lib/python3.11/dist-packages (from mlflow-skinny==2.20.0->mlflow) (24.2)\n",
            "Requirement already satisfied: protobuf<6,>=3.12.0 in /usr/local/lib/python3.11/dist-packages (from mlflow-skinny==2.20.0->mlflow) (4.25.5)\n",
            "Requirement already satisfied: pydantic<3,>=1.0 in /usr/local/lib/python3.11/dist-packages (from mlflow-skinny==2.20.0->mlflow) (2.10.5)\n",
            "Requirement already satisfied: pyyaml<7,>=5.1 in /usr/local/lib/python3.11/dist-packages (from mlflow-skinny==2.20.0->mlflow) (6.0.2)\n",
            "Requirement already satisfied: requests<3,>=2.17.3 in /usr/local/lib/python3.11/dist-packages (from mlflow-skinny==2.20.0->mlflow) (2.32.3)\n",
            "Requirement already satisfied: sqlparse<1,>=0.4.0 in /usr/local/lib/python3.11/dist-packages (from mlflow-skinny==2.20.0->mlflow) (0.5.3)\n",
            "Requirement already satisfied: typing-extensions<5,>=4.0.0 in /usr/local/lib/python3.11/dist-packages (from mlflow-skinny==2.20.0->mlflow) (4.12.2)\n",
            "Requirement already satisfied: Mako in /usr/local/lib/python3.11/dist-packages (from alembic!=1.10.0,<2->mlflow) (1.3.8)\n",
            "Requirement already satisfied: urllib3>=1.26.0 in /usr/local/lib/python3.11/dist-packages (from docker<8,>=4.0.0->mlflow) (2.3.0)\n",
            "Requirement already satisfied: Werkzeug>=3.1 in /usr/local/lib/python3.11/dist-packages (from Flask<4->mlflow) (3.1.3)\n",
            "Requirement already satisfied: itsdangerous>=2.2 in /usr/local/lib/python3.11/dist-packages (from Flask<4->mlflow) (2.2.0)\n",
            "Requirement already satisfied: blinker>=1.9 in /usr/local/lib/python3.11/dist-packages (from Flask<4->mlflow) (1.9.0)\n",
            "Requirement already satisfied: graphql-core<3.3,>=3.1 in /usr/local/lib/python3.11/dist-packages (from graphene<4->mlflow) (3.2.5)\n",
            "Requirement already satisfied: graphql-relay<3.3,>=3.1 in /usr/local/lib/python3.11/dist-packages (from graphene<4->mlflow) (3.2.0)\n",
            "Requirement already satisfied: python-dateutil<3,>=2.7.0 in /usr/local/lib/python3.11/dist-packages (from graphene<4->mlflow) (2.8.2)\n",
            "Requirement already satisfied: MarkupSafe>=2.0 in /usr/local/lib/python3.11/dist-packages (from Jinja2<4,>=2.11->mlflow) (3.0.2)\n",
            "Requirement already satisfied: contourpy>=1.0.1 in /usr/local/lib/python3.11/dist-packages (from matplotlib<4->mlflow) (1.3.1)\n",
            "Requirement already satisfied: cycler>=0.10 in /usr/local/lib/python3.11/dist-packages (from matplotlib<4->mlflow) (0.12.1)\n",
            "Requirement already satisfied: fonttools>=4.22.0 in /usr/local/lib/python3.11/dist-packages (from matplotlib<4->mlflow) (4.55.4)\n",
            "Requirement already satisfied: kiwisolver>=1.3.1 in /usr/local/lib/python3.11/dist-packages (from matplotlib<4->mlflow) (1.4.8)\n",
            "Requirement already satisfied: pillow>=8 in /usr/local/lib/python3.11/dist-packages (from matplotlib<4->mlflow) (11.1.0)\n",
            "Requirement already satisfied: pyparsing>=2.3.1 in /usr/local/lib/python3.11/dist-packages (from matplotlib<4->mlflow) (3.2.1)\n",
            "Requirement already satisfied: pytz>=2020.1 in /usr/local/lib/python3.11/dist-packages (from pandas<3->mlflow) (2024.2)\n",
            "Requirement already satisfied: tzdata>=2022.7 in /usr/local/lib/python3.11/dist-packages (from pandas<3->mlflow) (2025.1)\n",
            "Requirement already satisfied: joblib>=1.2.0 in /usr/local/lib/python3.11/dist-packages (from scikit-learn<2->mlflow) (1.4.2)\n",
            "Requirement already satisfied: threadpoolctl>=3.1.0 in /usr/local/lib/python3.11/dist-packages (from scikit-learn<2->mlflow) (3.5.0)\n",
            "Requirement already satisfied: greenlet!=0.4.17 in /usr/local/lib/python3.11/dist-packages (from sqlalchemy<3,>=1.4.0->mlflow) (3.1.1)\n",
            "Requirement already satisfied: google-auth~=2.0 in /usr/local/lib/python3.11/dist-packages (from databricks-sdk<1,>=0.20.0->mlflow-skinny==2.20.0->mlflow) (2.27.0)\n",
            "Requirement already satisfied: gitdb<5,>=4.0.1 in /usr/local/lib/python3.11/dist-packages (from gitpython<4,>=3.1.9->mlflow-skinny==2.20.0->mlflow) (4.0.12)\n",
            "Requirement already satisfied: zipp>=3.20 in /usr/local/lib/python3.11/dist-packages (from importlib_metadata!=4.7.0,<9,>=3.7.0->mlflow-skinny==2.20.0->mlflow) (3.21.0)\n",
            "Requirement already satisfied: deprecated>=1.2.6 in /usr/local/lib/python3.11/dist-packages (from opentelemetry-api<3,>=1.9.0->mlflow-skinny==2.20.0->mlflow) (1.2.15)\n",
            "Requirement already satisfied: setuptools>=16.0 in /usr/local/lib/python3.11/dist-packages (from opentelemetry-api<3,>=1.9.0->mlflow-skinny==2.20.0->mlflow) (75.1.0)\n",
            "Requirement already satisfied: opentelemetry-semantic-conventions==0.37b0 in /usr/local/lib/python3.11/dist-packages (from opentelemetry-sdk<3,>=1.9.0->mlflow-skinny==2.20.0->mlflow) (0.37b0)\n",
            "Requirement already satisfied: annotated-types>=0.6.0 in /usr/local/lib/python3.11/dist-packages (from pydantic<3,>=1.0->mlflow-skinny==2.20.0->mlflow) (0.7.0)\n",
            "Requirement already satisfied: pydantic-core==2.27.2 in /usr/local/lib/python3.11/dist-packages (from pydantic<3,>=1.0->mlflow-skinny==2.20.0->mlflow) (2.27.2)\n",
            "Requirement already satisfied: six>=1.5 in /usr/local/lib/python3.11/dist-packages (from python-dateutil<3,>=2.7.0->graphene<4->mlflow) (1.17.0)\n",
            "Requirement already satisfied: charset-normalizer<4,>=2 in /usr/local/lib/python3.11/dist-packages (from requests<3,>=2.17.3->mlflow-skinny==2.20.0->mlflow) (3.4.1)\n",
            "Requirement already satisfied: idna<4,>=2.5 in /usr/local/lib/python3.11/dist-packages (from requests<3,>=2.17.3->mlflow-skinny==2.20.0->mlflow) (3.10)\n",
            "Requirement already satisfied: certifi>=2017.4.17 in /usr/local/lib/python3.11/dist-packages (from requests<3,>=2.17.3->mlflow-skinny==2.20.0->mlflow) (2024.12.14)\n",
            "Requirement already satisfied: wrapt<2,>=1.10 in /usr/local/lib/python3.11/dist-packages (from deprecated>=1.2.6->opentelemetry-api<3,>=1.9.0->mlflow-skinny==2.20.0->mlflow) (1.17.2)\n",
            "Requirement already satisfied: smmap<6,>=3.0.1 in /usr/local/lib/python3.11/dist-packages (from gitdb<5,>=4.0.1->gitpython<4,>=3.1.9->mlflow-skinny==2.20.0->mlflow) (5.0.2)\n",
            "Requirement already satisfied: pyasn1-modules>=0.2.1 in /usr/local/lib/python3.11/dist-packages (from google-auth~=2.0->databricks-sdk<1,>=0.20.0->mlflow-skinny==2.20.0->mlflow) (0.4.1)\n",
            "Requirement already satisfied: rsa<5,>=3.1.4 in /usr/local/lib/python3.11/dist-packages (from google-auth~=2.0->databricks-sdk<1,>=0.20.0->mlflow-skinny==2.20.0->mlflow) (4.9)\n",
            "Requirement already satisfied: pyasn1<0.7.0,>=0.4.6 in /usr/local/lib/python3.11/dist-packages (from pyasn1-modules>=0.2.1->google-auth~=2.0->databricks-sdk<1,>=0.20.0->mlflow-skinny==2.20.0->mlflow) (0.6.1)\n"
          ]
        }
      ],
      "source": [
        "!pip install mlflow pyngrok"
      ]
    },
    {
      "cell_type": "code",
      "execution_count": 15,
      "metadata": {
        "id": "3qM0s29pwkjF"
      },
      "outputs": [],
      "source": [
        "import os\n",
        "from pyngrok import ngrok\n",
        "import mlflow\n",
        "import mlflow.sklearn  # Pour enregistrer les modèles scikit-learn"
      ]
    },
    {
      "cell_type": "code",
      "execution_count": 16,
      "metadata": {
        "id": "A5kq4OEAwv_Q"
      },
      "outputs": [],
      "source": [
        "mlflow_directory = \"/content/drive/MyDrive/Colab Notebooks/DS_projet_7/mlflow\"\n",
        "os.makedirs(mlflow_directory, exist_ok=True)\n",
        "mlflow.set_tracking_uri(f\"file://{mlflow_directory}\")"
      ]
    },
    {
      "cell_type": "markdown",
      "metadata": {
        "id": "xlWI17ACJIT9"
      },
      "source": [
        "### Chargement des données et préparation"
      ]
    },
    {
      "cell_type": "code",
      "execution_count": 18,
      "metadata": {
        "id": "I5oRNdPsRhMZ"
      },
      "outputs": [],
      "source": [
        "from sklearn.impute import SimpleImputer\n",
        "from sklearn.preprocessing import MinMaxScaler\n",
        "from sklearn.model_selection import train_test_split\n",
        "\n",
        "# Chargement des données\n",
        "if 'TARGET' in app_train.columns:\n",
        "    train = app_train.drop(columns=['TARGET'])\n",
        "    target = app_train['TARGET']\n",
        "else:\n",
        "    train = app_train.copy()\n",
        "    target = None\n",
        "\n",
        "# Vérification des valeurs manquantes\n",
        "if train.isnull().sum().sum() > 0:\n",
        "    imputer = SimpleImputer(strategy='median')\n",
        "    train = imputer.fit_transform(train)\n",
        "else:\n",
        "    train = train.values  # Conversion explicite si c'est un DataFrame\n",
        "\n",
        "# Mise à l'échelle des caractéristiques\n",
        "scaler = MinMaxScaler(feature_range=(0, 1))\n",
        "train = scaler.fit_transform(train)\n",
        "\n",
        "# Diviser les données en ensembles d'entraînement et de test (si `target` est défini)\n",
        "if target is not None:\n",
        "    X_train, X_test, y_train, y_test = train_test_split(\n",
        "        train, target, test_size=0.2, random_state=42\n",
        "    )\n",
        "else:\n",
        "    X_train, X_test, y_train, y_test = None, None, None, None\n",
        "    print(\"Attention : Aucune étiquette ('target') n'a été fournie.\")\n",
        "\n",
        "# Appliquer les mêmes transformations sur les données de test\n",
        "# (Utilisez les mêmes imputer et scaler, ajustés sur `train`)\n",
        "app_test = app_test.drop(columns=['TARGET'], errors='ignore')  # Enlever la colonne TARGET si elle existe\n",
        "app_test = imputer.transform(app_test)\n",
        "app_test = scaler.transform(app_test)"
      ]
    },
    {
      "cell_type": "markdown",
      "metadata": {
        "id": "oFEC8O_BJZev"
      },
      "source": [
        "### Initialisation de MLflow"
      ]
    },
    {
      "cell_type": "code",
      "execution_count": 19,
      "metadata": {
        "id": "pXO01oLpNTYl",
        "colab": {
          "base_uri": "https://localhost:8080/"
        },
        "outputId": "805900d5-c3a2-4731-9f36-96ba0efb7b65"
      },
      "outputs": [
        {
          "output_type": "execute_result",
          "data": {
            "text/plain": [
              "<Experiment: artifact_location=('file:///content/drive/MyDrive/Colab '\n",
              " 'Notebooks/DS_projet_7/mlflow/589125752895295283'), creation_time=1737731617758, experiment_id='589125752895295283', last_update_time=1737731617758, lifecycle_stage='active', name='Multi-Model Experiment 3', tags={}>"
            ]
          },
          "metadata": {},
          "execution_count": 19
        }
      ],
      "source": [
        "import mlflow\n",
        "import os\n",
        "\n",
        "# Créer le répertoire mlflow s'il n'existe pas\n",
        "mlflow_directory = \"/content/drive/MyDrive/Colab Notebooks/DS_projet_7/mlflow\"\n",
        "os.makedirs(mlflow_directory, exist_ok=True)\n",
        "\n",
        "# Définir l'URI de suivi MLflow\n",
        "mlflow.set_tracking_uri(f\"file://{mlflow_directory}\")\n",
        "\n",
        "# Définir l'expérience\n",
        "mlflow.set_experiment(\"Multi-Model Experiment 3\")\n",
        "\n",
        "#Model Experiment 3 LightGBM\n",
        "#Multi-Model Experiment 2 class_weight='balanced'\n",
        "#Multi-Model Experiment 1 SMOTE"
      ]
    },
    {
      "cell_type": "code",
      "execution_count": 20,
      "metadata": {
        "id": "W7GiQT02JsNd"
      },
      "outputs": [],
      "source": [
        "input_example = np.array([X_train[1]])  # Exemple basé sur une ligne des données d'entraînement"
      ]
    },
    {
      "cell_type": "markdown",
      "metadata": {
        "id": "jOOkMOR0vISE"
      },
      "source": [
        "### Préparation des outils et des données\n",
        "Cette première étape configure les outils nécessaires, notamment pour gérer les classes déséquilibrées avec SMOTE et pour normaliser les données."
      ]
    },
    {
      "cell_type": "code",
      "execution_count": 21,
      "metadata": {
        "id": "a8pdL9GOvXTo"
      },
      "outputs": [],
      "source": [
        "from sklearn.model_selection import train_test_split\n",
        "from sklearn.preprocessing import MinMaxScaler\n",
        "from imblearn.over_sampling import SMOTE\n",
        "from sklearn.pipeline import Pipeline\n",
        "from imblearn.pipeline import Pipeline as ImbPipeline\n",
        "from sklearn.impute import SimpleImputer\n",
        "\n",
        "# Gérer les classes déséquilibrées avec SMOTE\n",
        "#smote = SMOTE(random_state=42)\n",
        "#X_train_resampled, y_train_resampled = smote.fit_resample(X_train, y_train)\n",
        "\n",
        "# Normalisation des données\n",
        "scaler = MinMaxScaler()\n",
        "# Ajuster le scaler à vos données d'entraînement (X_train ou X_train_resampled si vous utilisez SMOTE)\n",
        "X_train = scaler.fit_transform(X_train) # ajustement du scaler aux données d'entraînement\n",
        "# X_train_resampled = scaler.fit_transform(X_train_resampled) # si vous utilisez SMOTE, ajustez aux données rééchantillonnées\n",
        "X_test = scaler.transform(X_test)"
      ]
    },
    {
      "cell_type": "markdown",
      "metadata": {
        "id": "j6ktmKnjvmwZ"
      },
      "source": [
        "### Ajout d’une pipeline et Optimisation des hyperparamètres\n",
        "Créer une pipeline pour standardiser le traitement, incluant SMOTE, la normalisation, et le modèle.\n",
        "\n",
        "Intégration de RandomizedSearchCV pour trouver les meilleurs hyperparamètres d’un modèle dans une pipeline."
      ]
    },
    {
      "cell_type": "code",
      "execution_count": 22,
      "metadata": {
        "id": "1rKwB1molO2v"
      },
      "outputs": [],
      "source": [
        "import time\n",
        "import joblib\n",
        "from sklearn.model_selection import RandomizedSearchCV, GridSearchCV\n",
        "from sklearn.dummy import DummyClassifier\n",
        "from sklearn.linear_model import LogisticRegression\n",
        "from sklearn.ensemble import RandomForestClassifier\n",
        "from xgboost import XGBClassifier\n",
        "from imblearn.pipeline import Pipeline as ImbPipeline\n",
        "from sklearn.metrics import roc_curve, auc, roc_auc_score, accuracy_score, f1_score, precision_score, recall_score\n",
        "from sklearn.impute import SimpleImputer\n",
        "from sklearn.preprocessing import MinMaxScaler\n",
        "from imblearn.over_sampling import SMOTE\n",
        "from imblearn.pipeline import Pipeline as ImbPipeline\n",
        "from mlflow.sklearn import load_model, log_model\n",
        "from joblib import Parallel, delayed\n",
        "from sklearn.experimental import enable_hist_gradient_boosting\n",
        "from sklearn.ensemble import HistGradientBoostingClassifier"
      ]
    },
    {
      "cell_type": "code",
      "execution_count": 23,
      "metadata": {
        "id": "Ml8fmQL0xjLf"
      },
      "outputs": [],
      "source": [
        "from sklearn.compose import ColumnTransformer\n",
        "from sklearn.preprocessing import StandardScaler\n",
        "from sklearn.model_selection import train_test_split, GridSearchCV\n",
        "from lightgbm import LGBMClassifier\n",
        "from sklearn.metrics import classification_report, confusion_matrix"
      ]
    },
    {
      "cell_type": "markdown",
      "metadata": {
        "id": "ASyyF5-2_8LV"
      },
      "source": [
        "#### hyperparamètres"
      ]
    },
    {
      "cell_type": "code",
      "source": [
        "# Calculer la proportion des classes\n",
        "from collections import Counter"
      ],
      "metadata": {
        "id": "utauDoqkg6D5"
      },
      "execution_count": 24,
      "outputs": []
    },
    {
      "cell_type": "code",
      "source": [
        "class_counts = Counter(y_train)  # Compte des classes\n",
        "y_train_negative = class_counts[0]  # Classe négative (étiquetée comme 0)\n",
        "y_train_positive = class_counts[1]  # Classe positive (étiquetée comme 1)"
      ],
      "metadata": {
        "id": "X4T12Rocg_gS"
      },
      "execution_count": 25,
      "outputs": []
    },
    {
      "cell_type": "code",
      "execution_count": 26,
      "metadata": {
        "id": "WApsdeXo8Szu"
      },
      "outputs": [],
      "source": [
        "# Dictionnaire des modèles avec leurs hyperparamètres\n",
        "models_with_params = {\n",
        "\n",
        "    # experimentation 3 param augmenté\n",
        "    \"LightGBM\": {\n",
        "        \"model\": LGBMClassifier(random_state=42, is_unbalance=True),\n",
        "        \"params\": {\n",
        "            'model__learning_rate': [0.01, 0.05, 0.1, 0.2],\n",
        "            'model__n_estimators': [50, 100, 200, 300],\n",
        "            'model__max_depth': [3, 5, 7, 10],\n",
        "            'model__num_leaves': [20, 31, 50, 70],\n",
        "            'model__min_child_samples': [10, 20, 50, 100],\n",
        "            'model__subsample': [0.6, 0.8, 1.0],\n",
        "            'model__colsample_bytree': [0.6, 0.8, 1.0],\n",
        "            'model__min_split_gain': [0.0, 0.1, 0.2],\n",
        "            'model__lambda_l1': [0.0, 0.1, 1.0],\n",
        "            'model__lambda_l2': [0.0, 0.1, 1.0],\n",
        "            'model__scale_pos_weight': [1, y_train_negative / y_train_positive] # Calcul du poids des classes\n",
        "        }\n",
        "    }\n",
        "}"
      ]
    },
    {
      "cell_type": "markdown",
      "metadata": {
        "id": "LX6ZE9lozlAY"
      },
      "source": [
        "Hyperparamètres sélectionnés :\n",
        "\n",
        "learning_rate: Contrôler la vitesse d'apprentissage.\n",
        "n_estimators: Nombre total d'arbres.\n",
        "max_depth: Limite la profondeur des arbres.\n",
        "num_leaves: Contrôle la complexité de chaque arbre.\n",
        "min_child_samples: Minimum d'exemples requis dans une feuille pour éviter le surapprentissage.\n",
        "Gestion du déséquilibre des classes :\n",
        "\n",
        "is_unbalance=True: Active une gestion automatique des classes déséquilibrées.\n",
        "Si besoin, vous pouvez utiliser scale_pos_weightcomme alternative pour ajuster le poids des classes."
      ]
    },
    {
      "cell_type": "markdown",
      "metadata": {
        "id": "2B7K1juU_zKB"
      },
      "source": [
        "#### score métier"
      ]
    },
    {
      "cell_type": "code",
      "execution_count": 27,
      "metadata": {
        "id": "ix-DPFjl_nFu"
      },
      "outputs": [],
      "source": [
        "def custom_cost_function(y_true, y_pred, cost_fn=10, cost_fp=1):\n",
        "    \"\"\"\n",
        "    Calcul d'un score métier basé sur le coût des erreurs.\n",
        "\n",
        "    Args:\n",
        "    y_true (array-like): Valeurs réelles.\n",
        "    y_pred (array-like): Prédictions du modèle.\n",
        "    cost_fn (int): Coût d'un faux négatif.\n",
        "    cost_fp (int): Coût d'un faux positif.\n",
        "\n",
        "    Returns:\n",
        "    float: Coût total des erreurs.\n",
        "    \"\"\"\n",
        "    # Matrice de confusion\n",
        "    tn, fp, fn, tp = confusion_matrix(y_true, y_pred).ravel()\n",
        "\n",
        "    # Calcul du coût total\n",
        "    total_cost = (cost_fp * fp) + (cost_fn * fn)\n",
        "    return total_cost"
      ]
    },
    {
      "cell_type": "markdown",
      "metadata": {
        "id": "yHXI7IVjAIwM"
      },
      "source": [
        "#### RandomizedSearchCV"
      ]
    },
    {
      "cell_type": "code",
      "execution_count": 28,
      "metadata": {
        "id": "MgJAdkw0_qmJ"
      },
      "outputs": [],
      "source": [
        "from sklearn.utils.class_weight import compute_sample_weight\n",
        "from imblearn.pipeline import Pipeline as ImbPipeline\n",
        "import joblib"
      ]
    },
    {
      "cell_type": "code",
      "source": [
        "# experimentation 3 param augmenté\n",
        "def train_pipeline(model_name, model, params, X_train, y_train):\n",
        "    print(f\"\\nEntraînement du pipeline pour {model_name}...\")\n",
        "\n",
        "    # Calculer les poids d'échantillons pour gérer le déséquilibre des classes\n",
        "    sample_weight = compute_sample_weight(class_weight='balanced', y=y_train)\n",
        "\n",
        "    # Création du pipeline\n",
        "    pipeline = ImbPipeline(steps=[\n",
        "        ('imputer', SimpleImputer(strategy='median')),\n",
        "        ('scaler', MinMaxScaler()),\n",
        "        ('model', model)\n",
        "    ])\n",
        "\n",
        "    # Initialisation de RandomizedSearchCV\n",
        "    random_search = RandomizedSearchCV(\n",
        "        estimator=pipeline,\n",
        "        param_distributions=params,\n",
        "        n_iter=20,\n",
        "        scoring='roc_auc',\n",
        "        cv=3,\n",
        "        n_jobs=-1,\n",
        "        random_state=42\n",
        "    )\n",
        "\n",
        "    try:\n",
        "        # Entraîner le modèle en passant les poids d'échantillons\n",
        "        random_search.fit(X_train, y_train, model__sample_weight=sample_weight)\n",
        "\n",
        "        # Sauvegarde du meilleur modèle\n",
        "        joblib.dump(random_search.best_estimator_, f'pipeline_{model_name}.pkl')\n",
        "        print(f\"Pipeline pour {model_name} sauvegardé sous le nom pipeline_{model_name}.pkl\")\n",
        "\n",
        "        # Sauvegarder les résultats de recherche\n",
        "        results_df = pd.DataFrame(random_search.cv_results_)\n",
        "        results_df.to_csv(f'results_{model_name}.csv', index=False)\n",
        "        print(f\"Résultats sauvegardés dans results_{model_name}.csv\")\n",
        "\n",
        "        return random_search.best_params_\n",
        "\n",
        "    except Exception as e:\n",
        "        print(f\"Erreur lors de l'entraînement du pipeline pour {model_name} : {e}\")\n",
        "        return None"
      ],
      "metadata": {
        "id": "GFtkgCUTdQUf"
      },
      "execution_count": 29,
      "outputs": []
    },
    {
      "cell_type": "markdown",
      "metadata": {
        "id": "kOANLI4fAQXh"
      },
      "source": [
        "#### training"
      ]
    },
    {
      "cell_type": "code",
      "execution_count": 30,
      "metadata": {
        "id": "uboGRFSEAZeJ",
        "colab": {
          "base_uri": "https://localhost:8080/"
        },
        "outputId": "e4a07e79-7427-4e6d-ae55-07941a6711ae"
      },
      "outputs": [
        {
          "output_type": "stream",
          "name": "stdout",
          "text": [
            "\n",
            "Entraînement du modèle : LightGBM\n",
            "\n",
            "Entraînement du pipeline pour LightGBM...\n",
            "[LightGBM] [Warning] lambda_l2 is set=0.0, reg_lambda=0.0 will be ignored. Current value: lambda_l2=0.0\n",
            "[LightGBM] [Warning] lambda_l1 is set=1.0, reg_alpha=0.0 will be ignored. Current value: lambda_l1=1.0\n",
            "[LightGBM] [Warning] lambda_l2 is set=0.0, reg_lambda=0.0 will be ignored. Current value: lambda_l2=0.0\n",
            "[LightGBM] [Warning] lambda_l1 is set=1.0, reg_alpha=0.0 will be ignored. Current value: lambda_l1=1.0\n",
            "[LightGBM] [Info] Number of positive: 19876, number of negative: 226132\n",
            "[LightGBM] [Info] Auto-choosing col-wise multi-threading, the overhead of testing was 0.513122 seconds.\n",
            "You can set `force_col_wise=true` to remove the overhead.\n",
            "[LightGBM] [Info] Total Bins 11943\n",
            "[LightGBM] [Info] Number of data points in the train set: 246008, number of used features: 223\n",
            "[LightGBM] [Info] [binary:BoostFromScore]: pavg=0.500000 -> initscore=0.000000\n",
            "[LightGBM] [Info] Start training from score 0.000000\n",
            "[LightGBM] [Warning] No further splits with positive gain, best gain: -inf\n",
            "[LightGBM] [Warning] No further splits with positive gain, best gain: -inf\n",
            "[LightGBM] [Warning] No further splits with positive gain, best gain: -inf\n",
            "[LightGBM] [Warning] No further splits with positive gain, best gain: -inf\n",
            "[LightGBM] [Warning] No further splits with positive gain, best gain: -inf\n",
            "[LightGBM] [Warning] No further splits with positive gain, best gain: -inf\n",
            "[LightGBM] [Warning] No further splits with positive gain, best gain: -inf\n",
            "[LightGBM] [Warning] No further splits with positive gain, best gain: -inf\n",
            "[LightGBM] [Warning] No further splits with positive gain, best gain: -inf\n",
            "[LightGBM] [Warning] No further splits with positive gain, best gain: -inf\n",
            "[LightGBM] [Warning] No further splits with positive gain, best gain: -inf\n",
            "[LightGBM] [Warning] No further splits with positive gain, best gain: -inf\n",
            "[LightGBM] [Warning] No further splits with positive gain, best gain: -inf\n",
            "[LightGBM] [Warning] No further splits with positive gain, best gain: -inf\n",
            "[LightGBM] [Warning] No further splits with positive gain, best gain: -inf\n",
            "[LightGBM] [Warning] No further splits with positive gain, best gain: -inf\n",
            "[LightGBM] [Warning] No further splits with positive gain, best gain: -inf\n",
            "[LightGBM] [Warning] No further splits with positive gain, best gain: -inf\n",
            "[LightGBM] [Warning] No further splits with positive gain, best gain: -inf\n",
            "[LightGBM] [Warning] No further splits with positive gain, best gain: -inf\n",
            "[LightGBM] [Warning] No further splits with positive gain, best gain: -inf\n",
            "[LightGBM] [Warning] No further splits with positive gain, best gain: -inf\n",
            "[LightGBM] [Warning] No further splits with positive gain, best gain: -inf\n",
            "[LightGBM] [Warning] No further splits with positive gain, best gain: -inf\n",
            "[LightGBM] [Warning] No further splits with positive gain, best gain: -inf\n",
            "[LightGBM] [Warning] No further splits with positive gain, best gain: -inf\n",
            "[LightGBM] [Warning] No further splits with positive gain, best gain: -inf\n",
            "[LightGBM] [Warning] No further splits with positive gain, best gain: -inf\n",
            "[LightGBM] [Warning] No further splits with positive gain, best gain: -inf\n",
            "[LightGBM] [Warning] No further splits with positive gain, best gain: -inf\n",
            "[LightGBM] [Warning] No further splits with positive gain, best gain: -inf\n",
            "[LightGBM] [Warning] No further splits with positive gain, best gain: -inf\n",
            "[LightGBM] [Warning] No further splits with positive gain, best gain: -inf\n",
            "[LightGBM] [Warning] No further splits with positive gain, best gain: -inf\n",
            "[LightGBM] [Warning] No further splits with positive gain, best gain: -inf\n",
            "[LightGBM] [Warning] No further splits with positive gain, best gain: -inf\n",
            "[LightGBM] [Warning] No further splits with positive gain, best gain: -inf\n",
            "[LightGBM] [Warning] No further splits with positive gain, best gain: -inf\n",
            "[LightGBM] [Warning] No further splits with positive gain, best gain: -inf\n",
            "[LightGBM] [Warning] No further splits with positive gain, best gain: -inf\n",
            "[LightGBM] [Warning] No further splits with positive gain, best gain: -inf\n",
            "[LightGBM] [Warning] No further splits with positive gain, best gain: -inf\n",
            "[LightGBM] [Warning] No further splits with positive gain, best gain: -inf\n",
            "[LightGBM] [Warning] No further splits with positive gain, best gain: -inf\n",
            "[LightGBM] [Warning] No further splits with positive gain, best gain: -inf\n",
            "[LightGBM] [Warning] No further splits with positive gain, best gain: -inf\n",
            "[LightGBM] [Warning] No further splits with positive gain, best gain: -inf\n",
            "[LightGBM] [Warning] No further splits with positive gain, best gain: -inf\n",
            "[LightGBM] [Warning] No further splits with positive gain, best gain: -inf\n",
            "[LightGBM] [Warning] No further splits with positive gain, best gain: -inf\n",
            "[LightGBM] [Warning] No further splits with positive gain, best gain: -inf\n",
            "[LightGBM] [Warning] No further splits with positive gain, best gain: -inf\n",
            "[LightGBM] [Warning] No further splits with positive gain, best gain: -inf\n",
            "[LightGBM] [Warning] No further splits with positive gain, best gain: -inf\n",
            "[LightGBM] [Warning] No further splits with positive gain, best gain: -inf\n",
            "[LightGBM] [Warning] No further splits with positive gain, best gain: -inf\n",
            "[LightGBM] [Warning] No further splits with positive gain, best gain: -inf\n",
            "[LightGBM] [Warning] No further splits with positive gain, best gain: -inf\n",
            "[LightGBM] [Warning] No further splits with positive gain, best gain: -inf\n",
            "[LightGBM] [Warning] No further splits with positive gain, best gain: -inf\n",
            "[LightGBM] [Warning] No further splits with positive gain, best gain: -inf\n",
            "[LightGBM] [Warning] No further splits with positive gain, best gain: -inf\n",
            "[LightGBM] [Warning] No further splits with positive gain, best gain: -inf\n",
            "[LightGBM] [Warning] No further splits with positive gain, best gain: -inf\n",
            "[LightGBM] [Warning] No further splits with positive gain, best gain: -inf\n",
            "[LightGBM] [Warning] No further splits with positive gain, best gain: -inf\n",
            "[LightGBM] [Warning] No further splits with positive gain, best gain: -inf\n",
            "[LightGBM] [Warning] No further splits with positive gain, best gain: -inf\n",
            "[LightGBM] [Warning] No further splits with positive gain, best gain: -inf\n",
            "[LightGBM] [Warning] No further splits with positive gain, best gain: -inf\n",
            "[LightGBM] [Warning] No further splits with positive gain, best gain: -inf\n",
            "[LightGBM] [Warning] No further splits with positive gain, best gain: -inf\n",
            "[LightGBM] [Warning] No further splits with positive gain, best gain: -inf\n",
            "[LightGBM] [Warning] No further splits with positive gain, best gain: -inf\n",
            "[LightGBM] [Warning] No further splits with positive gain, best gain: -inf\n",
            "[LightGBM] [Warning] No further splits with positive gain, best gain: -inf\n",
            "[LightGBM] [Warning] No further splits with positive gain, best gain: -inf\n",
            "[LightGBM] [Warning] No further splits with positive gain, best gain: -inf\n",
            "[LightGBM] [Warning] No further splits with positive gain, best gain: -inf\n",
            "[LightGBM] [Warning] No further splits with positive gain, best gain: -inf\n",
            "[LightGBM] [Warning] No further splits with positive gain, best gain: -inf\n",
            "[LightGBM] [Warning] No further splits with positive gain, best gain: -inf\n",
            "[LightGBM] [Warning] No further splits with positive gain, best gain: -inf\n",
            "[LightGBM] [Warning] No further splits with positive gain, best gain: -inf\n",
            "[LightGBM] [Warning] No further splits with positive gain, best gain: -inf\n",
            "[LightGBM] [Warning] No further splits with positive gain, best gain: -inf\n",
            "[LightGBM] [Warning] No further splits with positive gain, best gain: -inf\n",
            "[LightGBM] [Warning] No further splits with positive gain, best gain: -inf\n",
            "[LightGBM] [Warning] No further splits with positive gain, best gain: -inf\n",
            "[LightGBM] [Warning] No further splits with positive gain, best gain: -inf\n",
            "[LightGBM] [Warning] No further splits with positive gain, best gain: -inf\n",
            "[LightGBM] [Warning] No further splits with positive gain, best gain: -inf\n",
            "[LightGBM] [Warning] No further splits with positive gain, best gain: -inf\n",
            "[LightGBM] [Warning] No further splits with positive gain, best gain: -inf\n",
            "[LightGBM] [Warning] No further splits with positive gain, best gain: -inf\n",
            "[LightGBM] [Warning] No further splits with positive gain, best gain: -inf\n",
            "[LightGBM] [Warning] No further splits with positive gain, best gain: -inf\n",
            "[LightGBM] [Warning] No further splits with positive gain, best gain: -inf\n",
            "[LightGBM] [Warning] No further splits with positive gain, best gain: -inf\n",
            "[LightGBM] [Warning] No further splits with positive gain, best gain: -inf\n",
            "Pipeline pour LightGBM sauvegardé sous le nom pipeline_LightGBM.pkl\n",
            "Résultats sauvegardés dans results_LightGBM.csv\n",
            "Meilleurs paramètres pour LightGBM : {'model__subsample': 1.0, 'model__scale_pos_weight': 1, 'model__num_leaves': 50, 'model__n_estimators': 100, 'model__min_split_gain': 0.1, 'model__min_child_samples': 100, 'model__max_depth': 5, 'model__learning_rate': 0.1, 'model__lambda_l2': 0.0, 'model__lambda_l1': 1.0, 'model__colsample_bytree': 0.6}\n",
            "\n",
            "Résultats finaux :\n",
            "LightGBM: {'model__subsample': 1.0, 'model__scale_pos_weight': 1, 'model__num_leaves': 50, 'model__n_estimators': 100, 'model__min_split_gain': 0.1, 'model__min_child_samples': 100, 'model__max_depth': 5, 'model__learning_rate': 0.1, 'model__lambda_l2': 0.0, 'model__lambda_l1': 1.0, 'model__colsample_bytree': 0.6}\n"
          ]
        }
      ],
      "source": [
        "if __name__ == \"__main__\":\n",
        "    # Vérifier si les données sont disponibles et ont une forme correcte\n",
        "    if X_train is not None and y_train is not None:\n",
        "        if X_train.shape[0] != y_train.shape[0]:\n",
        "            print(\"Erreur : Le nombre d'exemples dans X_train et y_train ne correspond pas.\")\n",
        "        else:\n",
        "            results = {}\n",
        "\n",
        "            # Parcourir les modèles du dictionnaire et les entraîner un par un\n",
        "            for model_name, model_data in models_with_params.items():\n",
        "                print(f\"\\nEntraînement du modèle : {model_name}\")\n",
        "\n",
        "                try:\n",
        "                    # Entraîner le modèle et récupérer les meilleurs hyperparamètres\n",
        "                    best_params = train_pipeline(\n",
        "                        model_name=model_name,\n",
        "                        model=model_data[\"model\"],\n",
        "                        params=model_data[\"params\"],\n",
        "                        X_train=X_train,\n",
        "                        y_train=y_train\n",
        "                    )\n",
        "\n",
        "                    results[model_name] = best_params\n",
        "                    print(f\"Meilleurs paramètres pour {model_name} : {best_params}\")\n",
        "                except Exception as e:\n",
        "                    print(f\"Erreur lors de l'entraînement de {model_name} : {e}\")\n",
        "\n",
        "            # Afficher les résultats finaux\n",
        "            print(\"\\nRésultats finaux :\")\n",
        "            for model, params in results.items():\n",
        "                print(f\"{model}: {params}\")\n",
        "    else:\n",
        "        print(\"Erreur : Les données d'entraînement ne sont pas disponibles.\")"
      ]
    },
    {
      "cell_type": "markdown",
      "metadata": {
        "id": "iQfV2EmlxlMG"
      },
      "source": [
        "### Boucle sur plusieurs modèles avec journalisation MLflow\n",
        "Cette étape inclut les modèles supplémentaires et enregistre chaque expérimentation dans MLflow."
      ]
    },
    {
      "cell_type": "code",
      "execution_count": 31,
      "metadata": {
        "id": "VbJfbzv6E40s"
      },
      "outputs": [],
      "source": [
        "from sklearn.experimental import enable_hist_gradient_boosting\n",
        "from sklearn.ensemble import HistGradientBoostingClassifier\n",
        "import shap\n",
        "import gc"
      ]
    },
    {
      "cell_type": "code",
      "execution_count": 32,
      "metadata": {
        "id": "HNPsLEFctBiE"
      },
      "outputs": [],
      "source": [
        "from sklearn.metrics import confusion_matrix"
      ]
    },
    {
      "cell_type": "code",
      "execution_count": 33,
      "metadata": {
        "id": "90R060tbhCZ6",
        "colab": {
          "base_uri": "https://localhost:8080/"
        },
        "outputId": "6205eaee-e163-4232-a76c-93ab13b7c869"
      },
      "outputs": [
        {
          "output_type": "stream",
          "name": "stdout",
          "text": [
            "scikit-learn version: 1.6.1\n"
          ]
        }
      ],
      "source": [
        "import sklearn\n",
        "print(f\"scikit-learn version: {sklearn.__version__}\")"
      ]
    },
    {
      "cell_type": "code",
      "execution_count": 34,
      "metadata": {
        "id": "LzjfhtG_khtK"
      },
      "outputs": [],
      "source": [
        "# Liste des modèles\n",
        "models = {\n",
        "    \"LightGBM\": LGBMClassifier(random_state=42, is_unbalance=True)  # Paramètre pour gérer les classes déséquilibrées\n",
        "}"
      ]
    },
    {
      "cell_type": "code",
      "execution_count": 35,
      "metadata": {
        "id": "3hs9Vw9Hl28G"
      },
      "outputs": [],
      "source": [
        "# Liste pour stocker les courbes ROC\n",
        "roc_curves = []"
      ]
    },
    {
      "cell_type": "code",
      "execution_count": 36,
      "metadata": {
        "id": "kTfJHXeKQSQw"
      },
      "outputs": [],
      "source": [
        "# Répertoire pour les sorties\n",
        "output_dir = \"mlflow_outputs\"\n",
        "os.makedirs(output_dir, exist_ok=True)"
      ]
    },
    {
      "cell_type": "code",
      "execution_count": 37,
      "metadata": {
        "id": "t_0OE1eXQGfe",
        "colab": {
          "base_uri": "https://localhost:8080/"
        },
        "outputId": "6979ac09-e911-4681-b93e-939f147b6fdc"
      },
      "outputs": [
        {
          "output_type": "stream",
          "name": "stdout",
          "text": [
            "[LightGBM] [Info] Number of positive: 19876, number of negative: 226132\n",
            "[LightGBM] [Info] Auto-choosing row-wise multi-threading, the overhead of testing was 0.365814 seconds.\n",
            "You can set `force_row_wise=true` to remove the overhead.\n",
            "And if memory is not enough, you can set `force_col_wise=true`.\n",
            "[LightGBM] [Info] Total Bins 11963\n",
            "[LightGBM] [Info] Number of data points in the train set: 246008, number of used features: 233\n",
            "[LightGBM] [Info] [binary:BoostFromScore]: pavg=0.080794 -> initscore=-2.431606\n",
            "[LightGBM] [Info] Start training from score -2.431606\n",
            "Modèle LightGBM journalisé avec succès.\n"
          ]
        }
      ],
      "source": [
        "# Boucle sur chaque modèle\n",
        "for model_name, model in models.items():\n",
        "    start_time = time.time()\n",
        "\n",
        "    try:\n",
        "        # === Définir la pipeline ===\n",
        "        pipeline = ImbPipeline(steps=[\n",
        "            ('imputer', SimpleImputer(strategy='median')),\n",
        "            ('scaler', MinMaxScaler()),\n",
        "            ('model', model)\n",
        "        ])\n",
        "\n",
        "        # === Entraîner la pipeline ===\n",
        "        pipeline.fit(X_train, y_train)\n",
        "\n",
        "        # Sauvegarder la pipeline localement\n",
        "        pipeline_path = os.path.join(output_dir, f'pipeline_{model_name}.pkl')\n",
        "        joblib.dump(pipeline, pipeline_path)\n",
        "\n",
        "        # === Prédictions ===\n",
        "        y_pred = pipeline.predict(X_test)\n",
        "        y_prob = pipeline.predict_proba(X_test)[:, 1] if hasattr(pipeline, \"predict_proba\") else None\n",
        "\n",
        "        # === Calcul des métriques ===\n",
        "        total_cost = custom_cost_function(y_test, y_pred, cost_fn=10, cost_fp=1)\n",
        "        accuracy = accuracy_score(y_test, y_pred)\n",
        "        f1 = f1_score(y_test, y_pred)\n",
        "        precision = precision_score(y_test, y_pred)\n",
        "        recall = recall_score(y_test, y_pred)\n",
        "        auc_roc = roc_auc_score(y_test, y_prob) if y_prob is not None else None\n",
        "\n",
        "        # === MLflow : Enregistrement ===\n",
        "        with mlflow.start_run(run_name=model_name):\n",
        "            # Paramètres du modèle\n",
        "            mlflow.log_param(\"model_name\", model_name)\n",
        "\n",
        "            # Enregistrer les meilleurs hyperparamètres\n",
        "            if isinstance(model, RandomizedSearchCV):\n",
        "                best_params = model.best_params_\n",
        "                for param_name, param_value in best_params.items():\n",
        "                    mlflow.log_param(param_name, param_value)\n",
        "            else:\n",
        "                # En cas de modèle simple (sans recherche hyperparamétrique)\n",
        "                if hasattr(model, \"n_estimators\"):\n",
        "                    mlflow.log_param(\"n_estimators\", model.n_estimators)\n",
        "                if hasattr(model, \"max_depth\"):\n",
        "                    mlflow.log_param(\"max_depth\", model.max_depth)\n",
        "                if hasattr(model, \"learning_rate\"):\n",
        "                    mlflow.log_param(\"learning_rate\", model.learning_rate)\n",
        "\n",
        "            # Enregistrer les métriques\n",
        "            mlflow.log_metric(\"custom_cost\", total_cost)\n",
        "            mlflow.log_metric(\"accuracy\", accuracy)\n",
        "            mlflow.log_metric(\"f1_score\", f1)\n",
        "            mlflow.log_metric(\"precision\", precision)\n",
        "            mlflow.log_metric(\"recall\", recall)\n",
        "            if auc_roc is not None:\n",
        "                mlflow.log_metric(\"auc_roc\", auc_roc)\n",
        "\n",
        "            # Optionnel : Enregistrer le pipeline complet (si pertinent)\n",
        "            joblib.dump(model, f'{model_name}_pipeline.pkl')\n",
        "            mlflow.log_artifact(f'{model_name}_pipeline.pkl')\n",
        "\n",
        "            # Journaliser la pipeline dans MLflow\n",
        "            input_example = pd.DataFrame(X_train[:1])  # Exemple d'entrée pour le modèle\n",
        "            log_model(\n",
        "                sk_model=pipeline,\n",
        "                artifact_path=\"model_pipeline\",\n",
        "                input_example=input_example\n",
        "            )\n",
        "\n",
        "            # === Courbe ROC ===\n",
        "            if y_prob is not None:\n",
        "                plt.figure()\n",
        "                fpr, tpr, _ = roc_curve(y_test, y_prob)\n",
        "                roc_auc = auc(fpr, tpr)\n",
        "                plt.plot(fpr, tpr, label=f'ROC curve (AUC = {roc_auc:.2f})')\n",
        "                plt.plot([0, 1], [0, 1], 'k--')\n",
        "                plt.title(f'ROC Curve - {model_name}')\n",
        "                plt.xlabel('False Positive Rate')\n",
        "                plt.ylabel('True Positive Rate')\n",
        "                plt.legend(loc=\"lower right\")\n",
        "                roc_curve_path = os.path.join(output_dir, f\"roc_curve_{model_name}.png\")\n",
        "                plt.savefig(roc_curve_path)\n",
        "                plt.close()\n",
        "                mlflow.log_artifact(roc_curve_path)\n",
        "\n",
        "            # Enregistrer le temps d'exécution\n",
        "            elapsed_time = time.time() - start_time\n",
        "            mlflow.log_metric(\"training_time\", elapsed_time)\n",
        "\n",
        "        print(f\"Modèle {model_name} journalisé avec succès.\")\n",
        "    except Exception as e:\n",
        "        print(f\"Erreur lors de l'entraînement du modèle {model_name}: {e}\")"
      ]
    },
    {
      "cell_type": "markdown",
      "metadata": {
        "id": "LywVAlaUKEtd"
      },
      "source": [
        "### Lancer l'interface MLflow UI\n",
        "Utilisation d'une interface web distante via ngrok(exposée au public), créer un compte et récupérer le token"
      ]
    },
    {
      "cell_type": "code",
      "execution_count": 38,
      "metadata": {
        "id": "GfIrXKzgAi1J",
        "colab": {
          "base_uri": "https://localhost:8080/"
        },
        "outputId": "6b541343-c849-4ed1-e700-3de45a31c46c"
      },
      "outputs": [
        {
          "output_type": "stream",
          "name": "stdout",
          "text": [
            "Authtoken saved to configuration file: /root/.config/ngrok/ngrok.yml\n"
          ]
        }
      ],
      "source": [
        "!ngrok authtoken 2qlJq50YUC2X62MFA1q7qxbILkY_5Dx45MFSwjmUQLvcqSHBU"
      ]
    },
    {
      "cell_type": "code",
      "execution_count": 42,
      "metadata": {
        "id": "3FAVw2g7yNhK",
        "colab": {
          "base_uri": "https://localhost:8080/"
        },
        "outputId": "221a3b61-9fc7-420d-9d04-083fb2365bcc"
      },
      "outputs": [
        {
          "output_type": "stream",
          "name": "stdout",
          "text": [
            "[2025-01-26 15:45:10 +0000] [8150] [INFO] Starting gunicorn 23.0.0\n",
            "[2025-01-26 15:45:10 +0000] [8150] [INFO] Listening at: http://127.0.0.1:5000 (8150)\n",
            "[2025-01-26 15:45:10 +0000] [8150] [INFO] Using worker: sync\n",
            "[2025-01-26 15:45:10 +0000] [8151] [INFO] Booting worker with pid: 8151\n",
            "[2025-01-26 15:45:10 +0000] [8152] [INFO] Booting worker with pid: 8152\n",
            "[2025-01-26 15:45:10 +0000] [8153] [INFO] Booting worker with pid: 8153\n",
            "[2025-01-26 15:45:10 +0000] [8154] [INFO] Booting worker with pid: 8154\n",
            "[2025-01-26 15:45:57 +0000] [8150] [CRITICAL] WORKER TIMEOUT (pid:8153)\n",
            "[2025-01-26 15:45:57 +0000] [8153] [ERROR] Error handling request /ajax-api/2.0/mlflow/runs/search\n",
            "Traceback (most recent call last):\n",
            "  File \"/usr/local/lib/python3.11/dist-packages/gunicorn/workers/sync.py\", line 134, in handle\n",
            "    self.handle_request(listener, req, client, addr)\n",
            "  File \"/usr/local/lib/python3.11/dist-packages/gunicorn/workers/sync.py\", line 177, in handle_request\n",
            "    respiter = self.wsgi(environ, resp.start_response)\n",
            "               ^^^^^^^^^^^^^^^^^^^^^^^^^^^^^^^^^^^^^^^\n",
            "  File \"/usr/local/lib/python3.11/dist-packages/flask/app.py\", line 1536, in __call__\n",
            "    return self.wsgi_app(environ, start_response)\n",
            "           ^^^^^^^^^^^^^^^^^^^^^^^^^^^^^^^^^^^^^^\n",
            "  File \"/usr/local/lib/python3.11/dist-packages/flask/app.py\", line 1511, in wsgi_app\n",
            "    response = self.full_dispatch_request()\n",
            "               ^^^^^^^^^^^^^^^^^^^^^^^^^^^^\n",
            "  File \"/usr/local/lib/python3.11/dist-packages/flask/app.py\", line 917, in full_dispatch_request\n",
            "    rv = self.dispatch_request()\n",
            "         ^^^^^^^^^^^^^^^^^^^^^^^\n",
            "  File \"/usr/local/lib/python3.11/dist-packages/flask/app.py\", line 902, in dispatch_request\n",
            "    return self.ensure_sync(self.view_functions[rule.endpoint])(**view_args)  # type: ignore[no-any-return]\n",
            "           ^^^^^^^^^^^^^^^^^^^^^^^^^^^^^^^^^^^^^^^^^^^^^^^^^^^^^^^^^^^^^^^^^\n",
            "  File \"/usr/local/lib/python3.11/dist-packages/mlflow/server/handlers.py\", line 573, in wrapper\n",
            "    return func(*args, **kwargs)\n",
            "           ^^^^^^^^^^^^^^^^^^^^^\n",
            "  File \"/usr/local/lib/python3.11/dist-packages/mlflow/server/handlers.py\", line 614, in wrapper\n",
            "    return func(*args, **kwargs)\n",
            "           ^^^^^^^^^^^^^^^^^^^^^\n",
            "  File \"/usr/local/lib/python3.11/dist-packages/mlflow/server/handlers.py\", line 1004, in _search_runs\n",
            "    response_message = search_runs_impl(request_message)\n",
            "                       ^^^^^^^^^^^^^^^^^^^^^^^^^^^^^^^^^\n",
            "  File \"/usr/local/lib/python3.11/dist-packages/mlflow/server/handlers.py\", line 1020, in search_runs_impl\n",
            "    run_entities = _get_tracking_store().search_runs(\n",
            "                   ^^^^^^^^^^^^^^^^^^^^^^^^^^^^^^^^^^\n",
            "  File \"/usr/local/lib/python3.11/dist-packages/mlflow/store/tracking/abstract_store.py\", line 552, in search_runs\n",
            "    runs, token = self._search_runs(\n",
            "                  ^^^^^^^^^^^^^^^^^^\n",
            "  File \"/usr/local/lib/python3.11/dist-packages/mlflow/store/tracking/file_store.py\", line 969, in _search_runs\n",
            "    runs.extend(self._get_run_from_info(r) for r in run_infos)\n",
            "  File \"/usr/local/lib/python3.11/dist-packages/mlflow/store/tracking/file_store.py\", line 969, in <genexpr>\n",
            "    runs.extend(self._get_run_from_info(r) for r in run_infos)\n",
            "                ^^^^^^^^^^^^^^^^^^^^^^^^^^\n",
            "  File \"/usr/local/lib/python3.11/dist-packages/mlflow/store/tracking/file_store.py\", line 704, in _get_run_from_info\n",
            "    params = self._get_all_params(run_info)\n",
            "             ^^^^^^^^^^^^^^^^^^^^^^^^^^^^^^\n",
            "  File \"/usr/local/lib/python3.11/dist-packages/mlflow/store/tracking/file_store.py\", line 873, in _get_all_params\n",
            "    params.append(self._get_param_from_file(parent_path, param_file))\n",
            "                  ^^^^^^^^^^^^^^^^^^^^^^^^^^^^^^^^^^^^^^^^^^^^^^^^^^\n",
            "  File \"/usr/local/lib/python3.11/dist-packages/mlflow/store/tracking/file_store.py\", line 861, in _get_param_from_file\n",
            "    value = read_file(parent_path, param_name)\n",
            "            ^^^^^^^^^^^^^^^^^^^^^^^^^^^^^^^^^^\n",
            "  File \"/usr/local/lib/python3.11/dist-packages/mlflow/utils/file_utils.py\", line 460, in read_file\n",
            "    return f.read()\n",
            "           ^^^^^^^^\n",
            "  File \"<frozen codecs>\", line 707, in read\n",
            "  File \"<frozen codecs>\", line 499, in read\n",
            "  File \"/usr/local/lib/python3.11/dist-packages/gunicorn/workers/base.py\", line 204, in handle_abort\n",
            "    sys.exit(1)\n",
            "SystemExit: 1\n",
            "[2025-01-26 15:45:57 +0000] [8153] [INFO] Worker exiting (pid: 8153)\n",
            "[2025-01-26 15:45:58 +0000] [8372] [INFO] Booting worker with pid: 8372\n",
            "[2025-01-26 15:46:12 +0000] [8150] [CRITICAL] WORKER TIMEOUT (pid:8152)\n",
            "[2025-01-26 15:46:12 +0000] [8152] [ERROR] Error handling request /ajax-api/2.0/mlflow/runs/search\n",
            "Traceback (most recent call last):\n",
            "  File \"/usr/local/lib/python3.11/dist-packages/gunicorn/workers/sync.py\", line 134, in handle\n",
            "    self.handle_request(listener, req, client, addr)\n",
            "  File \"/usr/local/lib/python3.11/dist-packages/gunicorn/workers/sync.py\", line 177, in handle_request\n",
            "    respiter = self.wsgi(environ, resp.start_response)\n",
            "               ^^^^^^^^^^^^^^^^^^^^^^^^^^^^^^^^^^^^^^^\n",
            "  File \"/usr/local/lib/python3.11/dist-packages/flask/app.py\", line 1536, in __call__\n",
            "    return self.wsgi_app(environ, start_response)\n",
            "           ^^^^^^^^^^^^^^^^^^^^^^^^^^^^^^^^^^^^^^\n",
            "  File \"/usr/local/lib/python3.11/dist-packages/flask/app.py\", line 1511, in wsgi_app\n",
            "    response = self.full_dispatch_request()\n",
            "               ^^^^^^^^^^^^^^^^^^^^^^^^^^^^\n",
            "  File \"/usr/local/lib/python3.11/dist-packages/flask/app.py\", line 917, in full_dispatch_request\n",
            "    rv = self.dispatch_request()\n",
            "         ^^^^^^^^^^^^^^^^^^^^^^^\n",
            "  File \"/usr/local/lib/python3.11/dist-packages/flask/app.py\", line 902, in dispatch_request\n",
            "    return self.ensure_sync(self.view_functions[rule.endpoint])(**view_args)  # type: ignore[no-any-return]\n",
            "           ^^^^^^^^^^^^^^^^^^^^^^^^^^^^^^^^^^^^^^^^^^^^^^^^^^^^^^^^^^^^^^^^^\n",
            "  File \"/usr/local/lib/python3.11/dist-packages/mlflow/server/handlers.py\", line 573, in wrapper\n",
            "    return func(*args, **kwargs)\n",
            "           ^^^^^^^^^^^^^^^^^^^^^\n",
            "  File \"/usr/local/lib/python3.11/dist-packages/mlflow/server/handlers.py\", line 614, in wrapper\n",
            "    return func(*args, **kwargs)\n",
            "           ^^^^^^^^^^^^^^^^^^^^^\n",
            "  File \"/usr/local/lib/python3.11/dist-packages/mlflow/server/handlers.py\", line 1004, in _search_runs\n",
            "    response_message = search_runs_impl(request_message)\n",
            "                       ^^^^^^^^^^^^^^^^^^^^^^^^^^^^^^^^^\n",
            "  File \"/usr/local/lib/python3.11/dist-packages/mlflow/server/handlers.py\", line 1020, in search_runs_impl\n",
            "    run_entities = _get_tracking_store().search_runs(\n",
            "                   ^^^^^^^^^^^^^^^^^^^^^^^^^^^^^^^^^^\n",
            "  File \"/usr/local/lib/python3.11/dist-packages/mlflow/store/tracking/abstract_store.py\", line 552, in search_runs\n",
            "    runs, token = self._search_runs(\n",
            "                  ^^^^^^^^^^^^^^^^^^\n",
            "  File \"/usr/local/lib/python3.11/dist-packages/mlflow/store/tracking/file_store.py\", line 969, in _search_runs\n",
            "    runs.extend(self._get_run_from_info(r) for r in run_infos)\n",
            "  File \"/usr/local/lib/python3.11/dist-packages/mlflow/store/tracking/file_store.py\", line 969, in <genexpr>\n",
            "    runs.extend(self._get_run_from_info(r) for r in run_infos)\n",
            "                ^^^^^^^^^^^^^^^^^^^^^^^^^^\n",
            "  File \"/usr/local/lib/python3.11/dist-packages/mlflow/store/tracking/file_store.py\", line 704, in _get_run_from_info\n",
            "    params = self._get_all_params(run_info)\n",
            "             ^^^^^^^^^^^^^^^^^^^^^^^^^^^^^^\n",
            "  File \"/usr/local/lib/python3.11/dist-packages/mlflow/store/tracking/file_store.py\", line 873, in _get_all_params\n",
            "    params.append(self._get_param_from_file(parent_path, param_file))\n",
            "                  ^^^^^^^^^^^^^^^^^^^^^^^^^^^^^^^^^^^^^^^^^^^^^^^^^^\n",
            "  File \"/usr/local/lib/python3.11/dist-packages/mlflow/store/tracking/file_store.py\", line 861, in _get_param_from_file\n",
            "    value = read_file(parent_path, param_name)\n",
            "            ^^^^^^^^^^^^^^^^^^^^^^^^^^^^^^^^^^\n",
            "  File \"/usr/local/lib/python3.11/dist-packages/mlflow/utils/file_utils.py\", line 460, in read_file\n",
            "    return f.read()\n",
            "           ^^^^^^^^\n",
            "  File \"<frozen codecs>\", line 707, in read\n",
            "  File \"<frozen codecs>\", line 499, in read\n",
            "  File \"/usr/local/lib/python3.11/dist-packages/gunicorn/workers/base.py\", line 204, in handle_abort\n",
            "    sys.exit(1)\n",
            "SystemExit: 1\n",
            "[2025-01-26 15:46:12 +0000] [8152] [INFO] Worker exiting (pid: 8152)\n",
            "[2025-01-26 15:46:12 +0000] [8441] [INFO] Booting worker with pid: 8441\n",
            "[2025-01-26 15:46:14 +0000] [8150] [CRITICAL] WORKER TIMEOUT (pid:8151)\n",
            "[2025-01-26 15:46:14 +0000] [8151] [ERROR] Error handling request /ajax-api/2.0/mlflow/runs/search\n",
            "Traceback (most recent call last):\n",
            "  File \"/usr/local/lib/python3.11/dist-packages/gunicorn/workers/sync.py\", line 134, in handle\n",
            "    self.handle_request(listener, req, client, addr)\n",
            "  File \"/usr/local/lib/python3.11/dist-packages/gunicorn/workers/sync.py\", line 177, in handle_request\n",
            "    respiter = self.wsgi(environ, resp.start_response)\n",
            "               ^^^^^^^^^^^^^^^^^^^^^^^^^^^^^^^^^^^^^^^\n",
            "  File \"/usr/local/lib/python3.11/dist-packages/flask/app.py\", line 1536, in __call__\n",
            "    return self.wsgi_app(environ, start_response)\n",
            "           ^^^^^^^^^^^^^^^^^^^^^^^^^^^^^^^^^^^^^^\n",
            "  File \"/usr/local/lib/python3.11/dist-packages/flask/app.py\", line 1511, in wsgi_app\n",
            "    response = self.full_dispatch_request()\n",
            "               ^^^^^^^^^^^^^^^^^^^^^^^^^^^^\n",
            "  File \"/usr/local/lib/python3.11/dist-packages/flask/app.py\", line 917, in full_dispatch_request\n",
            "    rv = self.dispatch_request()\n",
            "         ^^^^^^^^^^^^^^^^^^^^^^^\n",
            "  File \"/usr/local/lib/python3.11/dist-packages/flask/app.py\", line 902, in dispatch_request\n",
            "    return self.ensure_sync(self.view_functions[rule.endpoint])(**view_args)  # type: ignore[no-any-return]\n",
            "           ^^^^^^^^^^^^^^^^^^^^^^^^^^^^^^^^^^^^^^^^^^^^^^^^^^^^^^^^^^^^^^^^^\n",
            "  File \"/usr/local/lib/python3.11/dist-packages/mlflow/server/handlers.py\", line 573, in wrapper\n",
            "    return func(*args, **kwargs)\n",
            "           ^^^^^^^^^^^^^^^^^^^^^\n",
            "  File \"/usr/local/lib/python3.11/dist-packages/mlflow/server/handlers.py\", line 614, in wrapper\n",
            "    return func(*args, **kwargs)\n",
            "           ^^^^^^^^^^^^^^^^^^^^^\n",
            "  File \"/usr/local/lib/python3.11/dist-packages/mlflow/server/handlers.py\", line 1004, in _search_runs\n",
            "    response_message = search_runs_impl(request_message)\n",
            "                       ^^^^^^^^^^^^^^^^^^^^^^^^^^^^^^^^^\n",
            "  File \"/usr/local/lib/python3.11/dist-packages/mlflow/server/handlers.py\", line 1020, in search_runs_impl\n",
            "    run_entities = _get_tracking_store().search_runs(\n",
            "                   ^^^^^^^^^^^^^^^^^^^^^^^^^^^^^^^^^^\n",
            "  File \"/usr/local/lib/python3.11/dist-packages/mlflow/store/tracking/abstract_store.py\", line 552, in search_runs\n",
            "    runs, token = self._search_runs(\n",
            "                  ^^^^^^^^^^^^^^^^^^\n",
            "  File \"/usr/local/lib/python3.11/dist-packages/mlflow/store/tracking/file_store.py\", line 969, in _search_runs\n",
            "    runs.extend(self._get_run_from_info(r) for r in run_infos)\n",
            "  File \"/usr/local/lib/python3.11/dist-packages/mlflow/store/tracking/file_store.py\", line 969, in <genexpr>\n",
            "    runs.extend(self._get_run_from_info(r) for r in run_infos)\n",
            "                ^^^^^^^^^^^^^^^^^^^^^^^^^^\n",
            "  File \"/usr/local/lib/python3.11/dist-packages/mlflow/store/tracking/file_store.py\", line 703, in _get_run_from_info\n",
            "    metrics = self._get_all_metrics(run_info)\n",
            "              ^^^^^^^^^^^^^^^^^^^^^^^^^^^^^^^\n",
            "  File \"/usr/local/lib/python3.11/dist-packages/mlflow/store/tracking/file_store.py\", line 796, in _get_all_metrics\n",
            "    self._get_metric_from_file(parent_path, metric_file, run_info.experiment_id)\n",
            "  File \"/usr/local/lib/python3.11/dist-packages/mlflow/store/tracking/file_store.py\", line 776, in _get_metric_from_file\n",
            "    for line in read_file_lines(parent_path, metric_name)\n",
            "                ^^^^^^^^^^^^^^^^^^^^^^^^^^^^^^^^^^^^^^^^^\n",
            "  File \"/usr/local/lib/python3.11/dist-packages/mlflow/utils/file_utils.py\", line 444, in read_file_lines\n",
            "    return f.readlines()\n",
            "           ^^^^^^^^^^^^^\n",
            "  File \"<frozen codecs>\", line 715, in readlines\n",
            "  File \"<frozen codecs>\", line 621, in readlines\n",
            "  File \"<frozen codecs>\", line 499, in read\n",
            "  File \"/usr/local/lib/python3.11/dist-packages/gunicorn/workers/base.py\", line 204, in handle_abort\n",
            "    sys.exit(1)\n",
            "SystemExit: 1\n",
            "[2025-01-26 15:46:14 +0000] [8151] [INFO] Worker exiting (pid: 8151)\n",
            "[2025-01-26 15:46:15 +0000] [8459] [INFO] Booting worker with pid: 8459\n"
          ]
        },
        {
          "output_type": "stream",
          "name": "stderr",
          "text": [
            "WARNING:pyngrok.process.ngrok:t=2025-01-26T16:02:02+0000 lvl=warn msg=\"Stopping forwarder\" name=http-5000-51e238b4-8204-428b-ab6a-5190253e222a acceptErr=\"failed to accept connection: Listener closed\"\n",
            "WARNING:pyngrok.process.ngrok:t=2025-01-26T16:02:02+0000 lvl=warn msg=\"Error restarting forwarder\" name=http-5000-51e238b4-8204-428b-ab6a-5190253e222a err=\"failed to start tunnel: session closed\"\n"
          ]
        },
        {
          "output_type": "stream",
          "name": "stdout",
          "text": [
            "[2025-01-26 16:02:02 +0000] [8150] [INFO] Handling signal: int\n",
            "[2025-01-26 16:02:02 +0000] [8154] [INFO] Worker exiting (pid: 8154)\n",
            "[2025-01-26 16:02:02 +0000] [8441] [INFO] Worker exiting (pid: 8441)\n",
            "[2025-01-26 16:02:02 +0000] [8459] [INFO] Worker exiting (pid: 8459)\n",
            "[2025-01-26 16:02:02 +0000] [8372] [INFO] Worker exiting (pid: 8372)\n",
            "[2025-01-26 16:02:04 +0000] [8150] [INFO] Shutting down: Master\n"
          ]
        }
      ],
      "source": [
        "!mlflow ui --backend-store-uri \"file:///content/drive/MyDrive/Colab Notebooks/DS_projet_7/mlflow\" --port 5000 &"
      ]
    },
    {
      "cell_type": "code",
      "execution_count": 40,
      "metadata": {
        "id": "390d231cBKcd",
        "colab": {
          "base_uri": "https://localhost:8080/"
        },
        "outputId": "bc4934c9-cd41-4675-e600-f1a03aaf105d"
      },
      "outputs": [
        {
          "output_type": "stream",
          "name": "stdout",
          "text": [
            "Interface MLflow accessible à : NgrokTunnel: \"https://7f3a-34-80-211-37.ngrok-free.app\" -> \"http://localhost:5000\"\n"
          ]
        }
      ],
      "source": [
        "from pyngrok import conf, ngrok\n",
        "\n",
        "# Définir le token dans la configuration\n",
        "conf.get_default().auth_token = \"2qlJq50YUC2X62MFA1q7qxbILkY_5Dx45MFSwjmUQLvcqSHBU\"\n",
        "\n",
        "# Démarrer le tunnel\n",
        "public_url = ngrok.connect(5000)\n",
        "print(f\"Interface MLflow accessible à : {public_url}\")"
      ]
    },
    {
      "cell_type": "code",
      "execution_count": 41,
      "metadata": {
        "id": "lMpOqiTOHt2c"
      },
      "outputs": [],
      "source": [
        "# arrêter le tunnel ngrok\n",
        "#ngrok.disconnect(public_url)"
      ]
    },
    {
      "cell_type": "code",
      "source": [
        "# URI du modèle\n",
        "model_uri = \"runs:/ade1fabf29c549f4b76aa509f4391391/model_pipeline\"\n",
        "\n",
        "# Charger le modèle\n",
        "pyfunc_model = mlflow.pyfunc.load_model(model_uri)"
      ],
      "metadata": {
        "id": "JN7ioURCV7S5"
      },
      "execution_count": 43,
      "outputs": []
    },
    {
      "cell_type": "code",
      "source": [
        "# adresss local du modele\n",
        "# file:///content/drive/MyDrive/Colab Notebooks/DS_projet_7/mlflow/589125752895295283/ade1fabf29c549f4b76aa509f4391391/artifacts/LightGBM_pipeline.pkl"
      ],
      "metadata": {
        "id": "FQakE7jhWJFK"
      },
      "execution_count": null,
      "outputs": []
    },
    {
      "cell_type": "markdown",
      "metadata": {
        "id": "PUcx13VSorj6"
      },
      "source": [
        "Metriques :\n",
        "- **F1-Score**\n",
        "Le F1-score est une métrique qui combine précision et rappel en un seul score harmonique. C'est utile lorsque vous avez un déséquilibre entre les classes, car il pénalise les modèles qui sacrifient l'une au profit de l'autre.\n",
        "\n",
        "Utilisé lorsque les faux positifs (FP) et faux négatifs (FN) sont également importants.\n",
        "\n",
        "- **AUC-ROC (Area Under the Curve - Receiver Operating Characteristic)**\n",
        "L'AUC-ROC mesure la capacité d'un modèle à discriminer entre les classes positives et négatives, en testant différents seuils de probabilité.\n",
        "Interprétation de l'AUC :\n",
        "AUC = 1 : Parfaite séparation des classes.\n",
        "AUC = 0.5 : Modèle aléatoire (aucune capacité de discrimination).\n",
        "AUC < 0.5 : Mauvais modèle (inversion des classes).\n",
        "\n",
        "Utile pour comparer des modèles indépendamment d'un seuil spécifique.\n",
        "\n",
        "- **Précision (Precision)**\n",
        "La précision mesure la proportion de vrais positifs parmi tous les échantillons prédits comme positifs.\n",
        "\n",
        "Utile lorsque les faux positifs sont coûteux.\n",
        "\n",
        "- **Rappel (Recall ou Sensibilité)**\n",
        "Le rappel mesure la proportion de vrais positifs parmi tous les échantillons qui sont effectivement positifs.\n",
        "\n",
        "- **Temps de calcul**\n",
        "mesurer le temps de calcul de chaque modèle\n",
        "\n",
        "Utile lorsque les faux négatifs sont coûteux.\n",
        "\n",
        "Précision vs Rappel : Il existe souvent un compromis entre précision et rappel. Une augmentation de l'un peut réduire l'autre.\n",
        "F1-Score : Trouve un équilibre entre précision et rappel.\n",
        "AUC-ROC : Évalue la performance globale sur tous les seuils.\n",
        "\n",
        "En utilisant ces prédictions :\n",
        "\n",
        "* Précision : Parmi les clients que le modèle dit éligibles, combien le sont vraiment ?\n",
        "* Rappel : Parmi les clients réellement éligibles, combien le modèle détecte-t-il ?\n",
        "* F1-Score : Moyenne harmonique de la précision et du rappel.\n",
        "* AUC-ROC : Mesure la capacité du modèle à distinguer entre les deux classes sur tous les seuils possibles.\n",
        "\n",
        "Ces métriques permettent de choisir le modèle qui répond le mieux à vos objectifs métier et aux coûts associés aux erreurs de classification."
      ]
    },
    {
      "cell_type": "markdown",
      "source": [
        "#### Analyse des résultats du modèle\n",
        "Coût personnalisé :\n",
        "\n",
        "Un coût de 32900 est relativement élevé, ce qui pourrait indiquer que des erreurs spécifiques (faux positifs ou faux négatifs) pèsent beaucoup dans votre fonction de coût.\n",
        "Précision (accuracy, 0.6989) :\n",
        "\n",
        "Une précision proche de 70 % est correcte mais peut être trompeuse si les classes sont déséquilibrées. Cela explique probablement pourquoi l'AUC ROC est plus significatif ici.\n",
        "F1-score (0.2657) :\n",
        "\n",
        "Un score F1 modéré, mais faible, indique que l'équilibre entre précision et rappel est difficile à atteindre. La faible précision (16,5 %) tire le score F1 vers le bas.\n",
        "Rappel (0.6771) :\n",
        "\n",
        "Un bon rappel (68 % environ) montre que le modèle identifie bien les cas positifs, mais il sacrifie de la précision pour y parvenir.\n",
        "AUC ROC (0.7583) :\n",
        "\n",
        "Un AUC supérieur à 0,75 est un bon signe que le modèle discrimine correctement entre les classes, malgré un déséquilibre."
      ],
      "metadata": {
        "id": "0RjAV5ndZwUh"
      }
    }
  ],
  "metadata": {
    "colab": {
      "gpuType": "T4",
      "provenance": [],
      "toc_visible": true,
      "authorship_tag": "ABX9TyOECGMDdsLpGrvm9tMvU0yz",
      "include_colab_link": true
    },
    "kernelspec": {
      "display_name": "Python 3",
      "name": "python3"
    },
    "language_info": {
      "name": "python"
    }
  },
  "nbformat": 4,
  "nbformat_minor": 0
}