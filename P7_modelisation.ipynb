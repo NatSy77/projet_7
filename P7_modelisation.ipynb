{
  "cells": [
    {
      "cell_type": "markdown",
      "metadata": {
        "id": "view-in-github",
        "colab_type": "text"
      },
      "source": [
        "<a href=\"https://colab.research.google.com/github/NatSy77/projet_7/blob/main/P7_modelisation.ipynb\" target=\"_parent\"><img src=\"https://colab.research.google.com/assets/colab-badge.svg\" alt=\"Open In Colab\"/></a>"
      ]
    },
    {
      "cell_type": "markdown",
      "metadata": {
        "id": "3Tsu3xtzByZZ"
      },
      "source": [
        "# Implémentez un modèle de scoring #modelisetion"
      ]
    },
    {
      "cell_type": "code",
      "execution_count": null,
      "metadata": {
        "colab": {
          "base_uri": "https://localhost:8080/"
        },
        "id": "Xhu7bnlVaL4g",
        "outputId": "99221f42-aec1-4522-9f1e-3689cd5030a6"
      },
      "outputs": [
        {
          "output_type": "execute_result",
          "data": {
            "text/plain": [
              "68"
            ]
          },
          "metadata": {},
          "execution_count": 1
        }
      ],
      "source": [
        "import gc\n",
        "gc.collect()  # Collecte la mémoire non utilisée"
      ]
    },
    {
      "cell_type": "markdown",
      "metadata": {
        "id": "L0XxoAOMB8wn"
      },
      "source": [
        "## Importation"
      ]
    },
    {
      "cell_type": "code",
      "execution_count": null,
      "metadata": {
        "id": "ZKOedZjNBH3f"
      },
      "outputs": [],
      "source": [
        "# numpy and pandas for data manipulation\n",
        "import numpy as np\n",
        "import pandas as pd\n",
        "\n",
        "# sklearn preprocessing for dealing with categorical variables\n",
        "from sklearn.preprocessing import LabelEncoder\n",
        "\n",
        "# File system manangement\n",
        "import os\n",
        "\n",
        "# Suppress warnings\n",
        "import warnings\n",
        "warnings.filterwarnings('ignore')\n",
        "\n",
        "# matplotlib and seaborn for plotting\n",
        "import matplotlib.pyplot as plt\n",
        "import seaborn as sns"
      ]
    },
    {
      "cell_type": "code",
      "execution_count": null,
      "metadata": {
        "colab": {
          "base_uri": "https://localhost:8080/"
        },
        "id": "cfYXcbKAo3OH",
        "outputId": "cb7838bd-4872-447f-d4cf-7ec951046903"
      },
      "outputs": [
        {
          "output_type": "stream",
          "name": "stdout",
          "text": [
            "Collecting mlflow\n",
            "  Downloading mlflow-2.20.1-py3-none-any.whl.metadata (30 kB)\n",
            "Collecting mlflow-skinny==2.20.1 (from mlflow)\n",
            "  Downloading mlflow_skinny-2.20.1-py3-none-any.whl.metadata (31 kB)\n",
            "Requirement already satisfied: Flask<4 in /usr/local/lib/python3.11/dist-packages (from mlflow) (3.1.0)\n",
            "Requirement already satisfied: Jinja2<4,>=2.11 in /usr/local/lib/python3.11/dist-packages (from mlflow) (3.1.5)\n",
            "Collecting alembic!=1.10.0,<2 (from mlflow)\n",
            "  Downloading alembic-1.14.1-py3-none-any.whl.metadata (7.4 kB)\n",
            "Collecting docker<8,>=4.0.0 (from mlflow)\n",
            "  Downloading docker-7.1.0-py3-none-any.whl.metadata (3.8 kB)\n",
            "Collecting graphene<4 (from mlflow)\n",
            "  Downloading graphene-3.4.3-py2.py3-none-any.whl.metadata (6.9 kB)\n",
            "Collecting gunicorn<24 (from mlflow)\n",
            "  Downloading gunicorn-23.0.0-py3-none-any.whl.metadata (4.4 kB)\n",
            "Requirement already satisfied: markdown<4,>=3.3 in /usr/local/lib/python3.11/dist-packages (from mlflow) (3.7)\n",
            "Requirement already satisfied: matplotlib<4 in /usr/local/lib/python3.11/dist-packages (from mlflow) (3.10.0)\n",
            "Requirement already satisfied: numpy<3 in /usr/local/lib/python3.11/dist-packages (from mlflow) (1.26.4)\n",
            "Requirement already satisfied: pandas<3 in /usr/local/lib/python3.11/dist-packages (from mlflow) (2.2.2)\n",
            "Requirement already satisfied: pyarrow<19,>=4.0.0 in /usr/local/lib/python3.11/dist-packages (from mlflow) (17.0.0)\n",
            "Requirement already satisfied: scikit-learn<2 in /usr/local/lib/python3.11/dist-packages (from mlflow) (1.6.1)\n",
            "Requirement already satisfied: scipy<2 in /usr/local/lib/python3.11/dist-packages (from mlflow) (1.13.1)\n",
            "Requirement already satisfied: sqlalchemy<3,>=1.4.0 in /usr/local/lib/python3.11/dist-packages (from mlflow) (2.0.37)\n",
            "Requirement already satisfied: cachetools<6,>=5.0.0 in /usr/local/lib/python3.11/dist-packages (from mlflow-skinny==2.20.1->mlflow) (5.5.1)\n",
            "Requirement already satisfied: click<9,>=7.0 in /usr/local/lib/python3.11/dist-packages (from mlflow-skinny==2.20.1->mlflow) (8.1.8)\n",
            "Requirement already satisfied: cloudpickle<4 in /usr/local/lib/python3.11/dist-packages (from mlflow-skinny==2.20.1->mlflow) (3.1.1)\n",
            "Collecting databricks-sdk<1,>=0.20.0 (from mlflow-skinny==2.20.1->mlflow)\n",
            "  Downloading databricks_sdk-0.43.0-py3-none-any.whl.metadata (38 kB)\n",
            "Requirement already satisfied: gitpython<4,>=3.1.9 in /usr/local/lib/python3.11/dist-packages (from mlflow-skinny==2.20.1->mlflow) (3.1.44)\n",
            "Requirement already satisfied: importlib_metadata!=4.7.0,<9,>=3.7.0 in /usr/local/lib/python3.11/dist-packages (from mlflow-skinny==2.20.1->mlflow) (8.6.1)\n",
            "Requirement already satisfied: opentelemetry-api<3,>=1.9.0 in /usr/local/lib/python3.11/dist-packages (from mlflow-skinny==2.20.1->mlflow) (1.16.0)\n",
            "Requirement already satisfied: opentelemetry-sdk<3,>=1.9.0 in /usr/local/lib/python3.11/dist-packages (from mlflow-skinny==2.20.1->mlflow) (1.16.0)\n",
            "Requirement already satisfied: packaging<25 in /usr/local/lib/python3.11/dist-packages (from mlflow-skinny==2.20.1->mlflow) (24.2)\n",
            "Requirement already satisfied: protobuf<6,>=3.12.0 in /usr/local/lib/python3.11/dist-packages (from mlflow-skinny==2.20.1->mlflow) (4.25.6)\n",
            "Requirement already satisfied: pydantic<3,>=1.0 in /usr/local/lib/python3.11/dist-packages (from mlflow-skinny==2.20.1->mlflow) (2.10.6)\n",
            "Requirement already satisfied: pyyaml<7,>=5.1 in /usr/local/lib/python3.11/dist-packages (from mlflow-skinny==2.20.1->mlflow) (6.0.2)\n",
            "Requirement already satisfied: requests<3,>=2.17.3 in /usr/local/lib/python3.11/dist-packages (from mlflow-skinny==2.20.1->mlflow) (2.32.3)\n",
            "Requirement already satisfied: sqlparse<1,>=0.4.0 in /usr/local/lib/python3.11/dist-packages (from mlflow-skinny==2.20.1->mlflow) (0.5.3)\n",
            "Requirement already satisfied: typing-extensions<5,>=4.0.0 in /usr/local/lib/python3.11/dist-packages (from mlflow-skinny==2.20.1->mlflow) (4.12.2)\n",
            "Collecting Mako (from alembic!=1.10.0,<2->mlflow)\n",
            "  Downloading Mako-1.3.9-py3-none-any.whl.metadata (2.9 kB)\n",
            "Requirement already satisfied: urllib3>=1.26.0 in /usr/local/lib/python3.11/dist-packages (from docker<8,>=4.0.0->mlflow) (2.3.0)\n",
            "Requirement already satisfied: Werkzeug>=3.1 in /usr/local/lib/python3.11/dist-packages (from Flask<4->mlflow) (3.1.3)\n",
            "Requirement already satisfied: itsdangerous>=2.2 in /usr/local/lib/python3.11/dist-packages (from Flask<4->mlflow) (2.2.0)\n",
            "Requirement already satisfied: blinker>=1.9 in /usr/local/lib/python3.11/dist-packages (from Flask<4->mlflow) (1.9.0)\n",
            "Collecting graphql-core<3.3,>=3.1 (from graphene<4->mlflow)\n",
            "  Downloading graphql_core-3.2.6-py3-none-any.whl.metadata (11 kB)\n",
            "Collecting graphql-relay<3.3,>=3.1 (from graphene<4->mlflow)\n",
            "  Downloading graphql_relay-3.2.0-py3-none-any.whl.metadata (12 kB)\n",
            "Requirement already satisfied: python-dateutil<3,>=2.7.0 in /usr/local/lib/python3.11/dist-packages (from graphene<4->mlflow) (2.8.2)\n",
            "Requirement already satisfied: MarkupSafe>=2.0 in /usr/local/lib/python3.11/dist-packages (from Jinja2<4,>=2.11->mlflow) (3.0.2)\n",
            "Requirement already satisfied: contourpy>=1.0.1 in /usr/local/lib/python3.11/dist-packages (from matplotlib<4->mlflow) (1.3.1)\n",
            "Requirement already satisfied: cycler>=0.10 in /usr/local/lib/python3.11/dist-packages (from matplotlib<4->mlflow) (0.12.1)\n",
            "Requirement already satisfied: fonttools>=4.22.0 in /usr/local/lib/python3.11/dist-packages (from matplotlib<4->mlflow) (4.55.7)\n",
            "Requirement already satisfied: kiwisolver>=1.3.1 in /usr/local/lib/python3.11/dist-packages (from matplotlib<4->mlflow) (1.4.8)\n",
            "Requirement already satisfied: pillow>=8 in /usr/local/lib/python3.11/dist-packages (from matplotlib<4->mlflow) (11.1.0)\n",
            "Requirement already satisfied: pyparsing>=2.3.1 in /usr/local/lib/python3.11/dist-packages (from matplotlib<4->mlflow) (3.2.1)\n",
            "Requirement already satisfied: pytz>=2020.1 in /usr/local/lib/python3.11/dist-packages (from pandas<3->mlflow) (2024.2)\n",
            "Requirement already satisfied: tzdata>=2022.7 in /usr/local/lib/python3.11/dist-packages (from pandas<3->mlflow) (2025.1)\n",
            "Requirement already satisfied: joblib>=1.2.0 in /usr/local/lib/python3.11/dist-packages (from scikit-learn<2->mlflow) (1.4.2)\n",
            "Requirement already satisfied: threadpoolctl>=3.1.0 in /usr/local/lib/python3.11/dist-packages (from scikit-learn<2->mlflow) (3.5.0)\n",
            "Requirement already satisfied: greenlet!=0.4.17 in /usr/local/lib/python3.11/dist-packages (from sqlalchemy<3,>=1.4.0->mlflow) (3.1.1)\n",
            "Requirement already satisfied: google-auth~=2.0 in /usr/local/lib/python3.11/dist-packages (from databricks-sdk<1,>=0.20.0->mlflow-skinny==2.20.1->mlflow) (2.27.0)\n",
            "Requirement already satisfied: gitdb<5,>=4.0.1 in /usr/local/lib/python3.11/dist-packages (from gitpython<4,>=3.1.9->mlflow-skinny==2.20.1->mlflow) (4.0.12)\n",
            "Requirement already satisfied: zipp>=3.20 in /usr/local/lib/python3.11/dist-packages (from importlib_metadata!=4.7.0,<9,>=3.7.0->mlflow-skinny==2.20.1->mlflow) (3.21.0)\n",
            "Requirement already satisfied: deprecated>=1.2.6 in /usr/local/lib/python3.11/dist-packages (from opentelemetry-api<3,>=1.9.0->mlflow-skinny==2.20.1->mlflow) (1.2.18)\n",
            "Requirement already satisfied: setuptools>=16.0 in /usr/local/lib/python3.11/dist-packages (from opentelemetry-api<3,>=1.9.0->mlflow-skinny==2.20.1->mlflow) (75.1.0)\n",
            "Requirement already satisfied: opentelemetry-semantic-conventions==0.37b0 in /usr/local/lib/python3.11/dist-packages (from opentelemetry-sdk<3,>=1.9.0->mlflow-skinny==2.20.1->mlflow) (0.37b0)\n",
            "Requirement already satisfied: annotated-types>=0.6.0 in /usr/local/lib/python3.11/dist-packages (from pydantic<3,>=1.0->mlflow-skinny==2.20.1->mlflow) (0.7.0)\n",
            "Requirement already satisfied: pydantic-core==2.27.2 in /usr/local/lib/python3.11/dist-packages (from pydantic<3,>=1.0->mlflow-skinny==2.20.1->mlflow) (2.27.2)\n",
            "Requirement already satisfied: six>=1.5 in /usr/local/lib/python3.11/dist-packages (from python-dateutil<3,>=2.7.0->graphene<4->mlflow) (1.17.0)\n",
            "Requirement already satisfied: charset-normalizer<4,>=2 in /usr/local/lib/python3.11/dist-packages (from requests<3,>=2.17.3->mlflow-skinny==2.20.1->mlflow) (3.4.1)\n",
            "Requirement already satisfied: idna<4,>=2.5 in /usr/local/lib/python3.11/dist-packages (from requests<3,>=2.17.3->mlflow-skinny==2.20.1->mlflow) (3.10)\n",
            "Requirement already satisfied: certifi>=2017.4.17 in /usr/local/lib/python3.11/dist-packages (from requests<3,>=2.17.3->mlflow-skinny==2.20.1->mlflow) (2024.12.14)\n",
            "Requirement already satisfied: wrapt<2,>=1.10 in /usr/local/lib/python3.11/dist-packages (from deprecated>=1.2.6->opentelemetry-api<3,>=1.9.0->mlflow-skinny==2.20.1->mlflow) (1.17.2)\n",
            "Requirement already satisfied: smmap<6,>=3.0.1 in /usr/local/lib/python3.11/dist-packages (from gitdb<5,>=4.0.1->gitpython<4,>=3.1.9->mlflow-skinny==2.20.1->mlflow) (5.0.2)\n",
            "Requirement already satisfied: pyasn1-modules>=0.2.1 in /usr/local/lib/python3.11/dist-packages (from google-auth~=2.0->databricks-sdk<1,>=0.20.0->mlflow-skinny==2.20.1->mlflow) (0.4.1)\n",
            "Requirement already satisfied: rsa<5,>=3.1.4 in /usr/local/lib/python3.11/dist-packages (from google-auth~=2.0->databricks-sdk<1,>=0.20.0->mlflow-skinny==2.20.1->mlflow) (4.9)\n",
            "Requirement already satisfied: pyasn1<0.7.0,>=0.4.6 in /usr/local/lib/python3.11/dist-packages (from pyasn1-modules>=0.2.1->google-auth~=2.0->databricks-sdk<1,>=0.20.0->mlflow-skinny==2.20.1->mlflow) (0.6.1)\n",
            "Downloading mlflow-2.20.1-py3-none-any.whl (28.3 MB)\n",
            "\u001b[2K   \u001b[90m━━━━━━━━━━━━━━━━━━━━━━━━━━━━━━━━━━━━━━━━\u001b[0m \u001b[32m28.3/28.3 MB\u001b[0m \u001b[31m45.1 MB/s\u001b[0m eta \u001b[36m0:00:00\u001b[0m\n",
            "\u001b[?25hDownloading mlflow_skinny-2.20.1-py3-none-any.whl (6.0 MB)\n",
            "\u001b[2K   \u001b[90m━━━━━━━━━━━━━━━━━━━━━━━━━━━━━━━━━━━━━━━━\u001b[0m \u001b[32m6.0/6.0 MB\u001b[0m \u001b[31m70.0 MB/s\u001b[0m eta \u001b[36m0:00:00\u001b[0m\n",
            "\u001b[?25hDownloading alembic-1.14.1-py3-none-any.whl (233 kB)\n",
            "\u001b[2K   \u001b[90m━━━━━━━━━━━━━━━━━━━━━━━━━━━━━━━━━━━━━━━━\u001b[0m \u001b[32m233.6/233.6 kB\u001b[0m \u001b[31m13.5 MB/s\u001b[0m eta \u001b[36m0:00:00\u001b[0m\n",
            "\u001b[?25hDownloading docker-7.1.0-py3-none-any.whl (147 kB)\n",
            "\u001b[2K   \u001b[90m━━━━━━━━━━━━━━━━━━━━━━━━━━━━━━━━━━━━━━━━\u001b[0m \u001b[32m147.8/147.8 kB\u001b[0m \u001b[31m9.3 MB/s\u001b[0m eta \u001b[36m0:00:00\u001b[0m\n",
            "\u001b[?25hDownloading graphene-3.4.3-py2.py3-none-any.whl (114 kB)\n",
            "\u001b[2K   \u001b[90m━━━━━━━━━━━━━━━━━━━━━━━━━━━━━━━━━━━━━━━━\u001b[0m \u001b[32m114.9/114.9 kB\u001b[0m \u001b[31m5.9 MB/s\u001b[0m eta \u001b[36m0:00:00\u001b[0m\n",
            "\u001b[?25hDownloading gunicorn-23.0.0-py3-none-any.whl (85 kB)\n",
            "\u001b[2K   \u001b[90m━━━━━━━━━━━━━━━━━━━━━━━━━━━━━━━━━━━━━━━━\u001b[0m \u001b[32m85.0/85.0 kB\u001b[0m \u001b[31m5.1 MB/s\u001b[0m eta \u001b[36m0:00:00\u001b[0m\n",
            "\u001b[?25hDownloading databricks_sdk-0.43.0-py3-none-any.whl (647 kB)\n",
            "\u001b[2K   \u001b[90m━━━━━━━━━━━━━━━━━━━━━━━━━━━━━━━━━━━━━━━━\u001b[0m \u001b[32m647.4/647.4 kB\u001b[0m \u001b[31m23.2 MB/s\u001b[0m eta \u001b[36m0:00:00\u001b[0m\n",
            "\u001b[?25hDownloading graphql_core-3.2.6-py3-none-any.whl (203 kB)\n",
            "\u001b[2K   \u001b[90m━━━━━━━━━━━━━━━━━━━━━━━━━━━━━━━━━━━━━━━━\u001b[0m \u001b[32m203.4/203.4 kB\u001b[0m \u001b[31m10.0 MB/s\u001b[0m eta \u001b[36m0:00:00\u001b[0m\n",
            "\u001b[?25hDownloading graphql_relay-3.2.0-py3-none-any.whl (16 kB)\n",
            "Downloading Mako-1.3.9-py3-none-any.whl (78 kB)\n",
            "\u001b[2K   \u001b[90m━━━━━━━━━━━━━━━━━━━━━━━━━━━━━━━━━━━━━━━━\u001b[0m \u001b[32m78.5/78.5 kB\u001b[0m \u001b[31m4.6 MB/s\u001b[0m eta \u001b[36m0:00:00\u001b[0m\n",
            "\u001b[?25hInstalling collected packages: Mako, gunicorn, graphql-core, graphql-relay, docker, alembic, graphene, databricks-sdk, mlflow-skinny, mlflow\n",
            "Successfully installed Mako-1.3.9 alembic-1.14.1 databricks-sdk-0.43.0 docker-7.1.0 graphene-3.4.3 graphql-core-3.2.6 graphql-relay-3.2.0 gunicorn-23.0.0 mlflow-2.20.1 mlflow-skinny-2.20.1\n"
          ]
        }
      ],
      "source": [
        "!pip install mlflow"
      ]
    },
    {
      "cell_type": "code",
      "execution_count": null,
      "metadata": {
        "colab": {
          "base_uri": "https://localhost:8080/"
        },
        "id": "L4zPOGMktzoV",
        "outputId": "0530d3c9-ad79-4b1c-9067-6f16d11a7129"
      },
      "outputs": [
        {
          "output_type": "stream",
          "name": "stdout",
          "text": [
            "Requirement already satisfied: lightgbm in /usr/local/lib/python3.11/dist-packages (4.5.0)\n",
            "Requirement already satisfied: numpy>=1.17.0 in /usr/local/lib/python3.11/dist-packages (from lightgbm) (1.26.4)\n",
            "Requirement already satisfied: scipy in /usr/local/lib/python3.11/dist-packages (from lightgbm) (1.13.1)\n"
          ]
        }
      ],
      "source": [
        "!pip install lightgbm"
      ]
    },
    {
      "cell_type": "code",
      "execution_count": null,
      "metadata": {
        "colab": {
          "base_uri": "https://localhost:8080/"
        },
        "id": "yioG8WxBDV9w",
        "outputId": "322d25ac-387d-4d2d-96b9-fee6123e2098"
      },
      "outputs": [
        {
          "output_type": "stream",
          "name": "stdout",
          "text": [
            "Mounted at /content/drive\n"
          ]
        }
      ],
      "source": [
        "from google.colab import drive\n",
        "drive.mount('/content/drive')"
      ]
    },
    {
      "cell_type": "code",
      "execution_count": null,
      "metadata": {
        "id": "TaLKWfIfP9ve",
        "colab": {
          "base_uri": "https://localhost:8080/"
        },
        "outputId": "3c474d38-deab-408d-bd58-6c03fe3b872c"
      },
      "outputs": [
        {
          "output_type": "stream",
          "name": "stdout",
          "text": [
            "['app_test.csv', 'app_train.csv']\n"
          ]
        }
      ],
      "source": [
        "# List files available\n",
        "print(os.listdir(\"/content/drive/MyDrive/Colab Notebooks/DS_projet_7/data_modelisation/\"))"
      ]
    },
    {
      "cell_type": "code",
      "execution_count": null,
      "metadata": {
        "id": "hr97EOBVFlFY",
        "colab": {
          "base_uri": "https://localhost:8080/",
          "height": 290
        },
        "outputId": "d88ec739-3c1d-4386-b311-98f1d376e069"
      },
      "outputs": [
        {
          "output_type": "stream",
          "name": "stdout",
          "text": [
            "Training data shape:  (307511, 242)\n"
          ]
        },
        {
          "output_type": "execute_result",
          "data": {
            "text/plain": [
              "   Unnamed: 0  SK_ID_CURR  NAME_CONTRACT_TYPE  FLAG_OWN_CAR  FLAG_OWN_REALTY  \\\n",
              "0           0      100002                   0             0                1   \n",
              "1           1      100003                   0             0                0   \n",
              "2           2      100004                   1             1                1   \n",
              "3           3      100006                   0             0                1   \n",
              "4           4      100007                   0             0                1   \n",
              "\n",
              "   CNT_CHILDREN  AMT_INCOME_TOTAL  AMT_CREDIT  AMT_ANNUITY  AMT_GOODS_PRICE  \\\n",
              "0             0          202500.0    406597.5      24700.5         351000.0   \n",
              "1             0          270000.0   1293502.5      35698.5        1129500.0   \n",
              "2             0           67500.0    135000.0       6750.0         135000.0   \n",
              "3             0          135000.0    312682.5      29686.5         297000.0   \n",
              "4             0          121500.0    513000.0      21865.5         513000.0   \n",
              "\n",
              "   ...  WALLSMATERIAL_MODE_Mixed  WALLSMATERIAL_MODE_Monolithic  \\\n",
              "0  ...                     False                          False   \n",
              "1  ...                     False                          False   \n",
              "2  ...                     False                          False   \n",
              "3  ...                     False                          False   \n",
              "4  ...                     False                          False   \n",
              "\n",
              "   WALLSMATERIAL_MODE_Others  WALLSMATERIAL_MODE_Panel  \\\n",
              "0                      False                     False   \n",
              "1                      False                     False   \n",
              "2                      False                     False   \n",
              "3                      False                     False   \n",
              "4                      False                     False   \n",
              "\n",
              "   WALLSMATERIAL_MODE_Stone, brick  WALLSMATERIAL_MODE_Wooden  \\\n",
              "0                             True                      False   \n",
              "1                            False                      False   \n",
              "2                            False                      False   \n",
              "3                            False                      False   \n",
              "4                            False                      False   \n",
              "\n",
              "   EMERGENCYSTATE_MODE_No  EMERGENCYSTATE_MODE_Yes  TARGET  DAYS_EMPLOYED_ANOM  \n",
              "0                    True                    False       1               False  \n",
              "1                    True                    False       0               False  \n",
              "2                   False                    False       0               False  \n",
              "3                   False                    False       0               False  \n",
              "4                   False                    False       0               False  \n",
              "\n",
              "[5 rows x 242 columns]"
            ],
            "text/html": [
              "\n",
              "  <div id=\"df-61380690-0dca-48e9-8e52-189e9ae9a6a2\" class=\"colab-df-container\">\n",
              "    <div>\n",
              "<style scoped>\n",
              "    .dataframe tbody tr th:only-of-type {\n",
              "        vertical-align: middle;\n",
              "    }\n",
              "\n",
              "    .dataframe tbody tr th {\n",
              "        vertical-align: top;\n",
              "    }\n",
              "\n",
              "    .dataframe thead th {\n",
              "        text-align: right;\n",
              "    }\n",
              "</style>\n",
              "<table border=\"1\" class=\"dataframe\">\n",
              "  <thead>\n",
              "    <tr style=\"text-align: right;\">\n",
              "      <th></th>\n",
              "      <th>Unnamed: 0</th>\n",
              "      <th>SK_ID_CURR</th>\n",
              "      <th>NAME_CONTRACT_TYPE</th>\n",
              "      <th>FLAG_OWN_CAR</th>\n",
              "      <th>FLAG_OWN_REALTY</th>\n",
              "      <th>CNT_CHILDREN</th>\n",
              "      <th>AMT_INCOME_TOTAL</th>\n",
              "      <th>AMT_CREDIT</th>\n",
              "      <th>AMT_ANNUITY</th>\n",
              "      <th>AMT_GOODS_PRICE</th>\n",
              "      <th>...</th>\n",
              "      <th>WALLSMATERIAL_MODE_Mixed</th>\n",
              "      <th>WALLSMATERIAL_MODE_Monolithic</th>\n",
              "      <th>WALLSMATERIAL_MODE_Others</th>\n",
              "      <th>WALLSMATERIAL_MODE_Panel</th>\n",
              "      <th>WALLSMATERIAL_MODE_Stone, brick</th>\n",
              "      <th>WALLSMATERIAL_MODE_Wooden</th>\n",
              "      <th>EMERGENCYSTATE_MODE_No</th>\n",
              "      <th>EMERGENCYSTATE_MODE_Yes</th>\n",
              "      <th>TARGET</th>\n",
              "      <th>DAYS_EMPLOYED_ANOM</th>\n",
              "    </tr>\n",
              "  </thead>\n",
              "  <tbody>\n",
              "    <tr>\n",
              "      <th>0</th>\n",
              "      <td>0</td>\n",
              "      <td>100002</td>\n",
              "      <td>0</td>\n",
              "      <td>0</td>\n",
              "      <td>1</td>\n",
              "      <td>0</td>\n",
              "      <td>202500.0</td>\n",
              "      <td>406597.5</td>\n",
              "      <td>24700.5</td>\n",
              "      <td>351000.0</td>\n",
              "      <td>...</td>\n",
              "      <td>False</td>\n",
              "      <td>False</td>\n",
              "      <td>False</td>\n",
              "      <td>False</td>\n",
              "      <td>True</td>\n",
              "      <td>False</td>\n",
              "      <td>True</td>\n",
              "      <td>False</td>\n",
              "      <td>1</td>\n",
              "      <td>False</td>\n",
              "    </tr>\n",
              "    <tr>\n",
              "      <th>1</th>\n",
              "      <td>1</td>\n",
              "      <td>100003</td>\n",
              "      <td>0</td>\n",
              "      <td>0</td>\n",
              "      <td>0</td>\n",
              "      <td>0</td>\n",
              "      <td>270000.0</td>\n",
              "      <td>1293502.5</td>\n",
              "      <td>35698.5</td>\n",
              "      <td>1129500.0</td>\n",
              "      <td>...</td>\n",
              "      <td>False</td>\n",
              "      <td>False</td>\n",
              "      <td>False</td>\n",
              "      <td>False</td>\n",
              "      <td>False</td>\n",
              "      <td>False</td>\n",
              "      <td>True</td>\n",
              "      <td>False</td>\n",
              "      <td>0</td>\n",
              "      <td>False</td>\n",
              "    </tr>\n",
              "    <tr>\n",
              "      <th>2</th>\n",
              "      <td>2</td>\n",
              "      <td>100004</td>\n",
              "      <td>1</td>\n",
              "      <td>1</td>\n",
              "      <td>1</td>\n",
              "      <td>0</td>\n",
              "      <td>67500.0</td>\n",
              "      <td>135000.0</td>\n",
              "      <td>6750.0</td>\n",
              "      <td>135000.0</td>\n",
              "      <td>...</td>\n",
              "      <td>False</td>\n",
              "      <td>False</td>\n",
              "      <td>False</td>\n",
              "      <td>False</td>\n",
              "      <td>False</td>\n",
              "      <td>False</td>\n",
              "      <td>False</td>\n",
              "      <td>False</td>\n",
              "      <td>0</td>\n",
              "      <td>False</td>\n",
              "    </tr>\n",
              "    <tr>\n",
              "      <th>3</th>\n",
              "      <td>3</td>\n",
              "      <td>100006</td>\n",
              "      <td>0</td>\n",
              "      <td>0</td>\n",
              "      <td>1</td>\n",
              "      <td>0</td>\n",
              "      <td>135000.0</td>\n",
              "      <td>312682.5</td>\n",
              "      <td>29686.5</td>\n",
              "      <td>297000.0</td>\n",
              "      <td>...</td>\n",
              "      <td>False</td>\n",
              "      <td>False</td>\n",
              "      <td>False</td>\n",
              "      <td>False</td>\n",
              "      <td>False</td>\n",
              "      <td>False</td>\n",
              "      <td>False</td>\n",
              "      <td>False</td>\n",
              "      <td>0</td>\n",
              "      <td>False</td>\n",
              "    </tr>\n",
              "    <tr>\n",
              "      <th>4</th>\n",
              "      <td>4</td>\n",
              "      <td>100007</td>\n",
              "      <td>0</td>\n",
              "      <td>0</td>\n",
              "      <td>1</td>\n",
              "      <td>0</td>\n",
              "      <td>121500.0</td>\n",
              "      <td>513000.0</td>\n",
              "      <td>21865.5</td>\n",
              "      <td>513000.0</td>\n",
              "      <td>...</td>\n",
              "      <td>False</td>\n",
              "      <td>False</td>\n",
              "      <td>False</td>\n",
              "      <td>False</td>\n",
              "      <td>False</td>\n",
              "      <td>False</td>\n",
              "      <td>False</td>\n",
              "      <td>False</td>\n",
              "      <td>0</td>\n",
              "      <td>False</td>\n",
              "    </tr>\n",
              "  </tbody>\n",
              "</table>\n",
              "<p>5 rows × 242 columns</p>\n",
              "</div>\n",
              "    <div class=\"colab-df-buttons\">\n",
              "\n",
              "  <div class=\"colab-df-container\">\n",
              "    <button class=\"colab-df-convert\" onclick=\"convertToInteractive('df-61380690-0dca-48e9-8e52-189e9ae9a6a2')\"\n",
              "            title=\"Convert this dataframe to an interactive table.\"\n",
              "            style=\"display:none;\">\n",
              "\n",
              "  <svg xmlns=\"http://www.w3.org/2000/svg\" height=\"24px\" viewBox=\"0 -960 960 960\">\n",
              "    <path d=\"M120-120v-720h720v720H120Zm60-500h600v-160H180v160Zm220 220h160v-160H400v160Zm0 220h160v-160H400v160ZM180-400h160v-160H180v160Zm440 0h160v-160H620v160ZM180-180h160v-160H180v160Zm440 0h160v-160H620v160Z\"/>\n",
              "  </svg>\n",
              "    </button>\n",
              "\n",
              "  <style>\n",
              "    .colab-df-container {\n",
              "      display:flex;\n",
              "      gap: 12px;\n",
              "    }\n",
              "\n",
              "    .colab-df-convert {\n",
              "      background-color: #E8F0FE;\n",
              "      border: none;\n",
              "      border-radius: 50%;\n",
              "      cursor: pointer;\n",
              "      display: none;\n",
              "      fill: #1967D2;\n",
              "      height: 32px;\n",
              "      padding: 0 0 0 0;\n",
              "      width: 32px;\n",
              "    }\n",
              "\n",
              "    .colab-df-convert:hover {\n",
              "      background-color: #E2EBFA;\n",
              "      box-shadow: 0px 1px 2px rgba(60, 64, 67, 0.3), 0px 1px 3px 1px rgba(60, 64, 67, 0.15);\n",
              "      fill: #174EA6;\n",
              "    }\n",
              "\n",
              "    .colab-df-buttons div {\n",
              "      margin-bottom: 4px;\n",
              "    }\n",
              "\n",
              "    [theme=dark] .colab-df-convert {\n",
              "      background-color: #3B4455;\n",
              "      fill: #D2E3FC;\n",
              "    }\n",
              "\n",
              "    [theme=dark] .colab-df-convert:hover {\n",
              "      background-color: #434B5C;\n",
              "      box-shadow: 0px 1px 3px 1px rgba(0, 0, 0, 0.15);\n",
              "      filter: drop-shadow(0px 1px 2px rgba(0, 0, 0, 0.3));\n",
              "      fill: #FFFFFF;\n",
              "    }\n",
              "  </style>\n",
              "\n",
              "    <script>\n",
              "      const buttonEl =\n",
              "        document.querySelector('#df-61380690-0dca-48e9-8e52-189e9ae9a6a2 button.colab-df-convert');\n",
              "      buttonEl.style.display =\n",
              "        google.colab.kernel.accessAllowed ? 'block' : 'none';\n",
              "\n",
              "      async function convertToInteractive(key) {\n",
              "        const element = document.querySelector('#df-61380690-0dca-48e9-8e52-189e9ae9a6a2');\n",
              "        const dataTable =\n",
              "          await google.colab.kernel.invokeFunction('convertToInteractive',\n",
              "                                                    [key], {});\n",
              "        if (!dataTable) return;\n",
              "\n",
              "        const docLinkHtml = 'Like what you see? Visit the ' +\n",
              "          '<a target=\"_blank\" href=https://colab.research.google.com/notebooks/data_table.ipynb>data table notebook</a>'\n",
              "          + ' to learn more about interactive tables.';\n",
              "        element.innerHTML = '';\n",
              "        dataTable['output_type'] = 'display_data';\n",
              "        await google.colab.output.renderOutput(dataTable, element);\n",
              "        const docLink = document.createElement('div');\n",
              "        docLink.innerHTML = docLinkHtml;\n",
              "        element.appendChild(docLink);\n",
              "      }\n",
              "    </script>\n",
              "  </div>\n",
              "\n",
              "\n",
              "<div id=\"df-9c492155-2873-4399-a6b8-3c95d453e9e0\">\n",
              "  <button class=\"colab-df-quickchart\" onclick=\"quickchart('df-9c492155-2873-4399-a6b8-3c95d453e9e0')\"\n",
              "            title=\"Suggest charts\"\n",
              "            style=\"display:none;\">\n",
              "\n",
              "<svg xmlns=\"http://www.w3.org/2000/svg\" height=\"24px\"viewBox=\"0 0 24 24\"\n",
              "     width=\"24px\">\n",
              "    <g>\n",
              "        <path d=\"M19 3H5c-1.1 0-2 .9-2 2v14c0 1.1.9 2 2 2h14c1.1 0 2-.9 2-2V5c0-1.1-.9-2-2-2zM9 17H7v-7h2v7zm4 0h-2V7h2v10zm4 0h-2v-4h2v4z\"/>\n",
              "    </g>\n",
              "</svg>\n",
              "  </button>\n",
              "\n",
              "<style>\n",
              "  .colab-df-quickchart {\n",
              "      --bg-color: #E8F0FE;\n",
              "      --fill-color: #1967D2;\n",
              "      --hover-bg-color: #E2EBFA;\n",
              "      --hover-fill-color: #174EA6;\n",
              "      --disabled-fill-color: #AAA;\n",
              "      --disabled-bg-color: #DDD;\n",
              "  }\n",
              "\n",
              "  [theme=dark] .colab-df-quickchart {\n",
              "      --bg-color: #3B4455;\n",
              "      --fill-color: #D2E3FC;\n",
              "      --hover-bg-color: #434B5C;\n",
              "      --hover-fill-color: #FFFFFF;\n",
              "      --disabled-bg-color: #3B4455;\n",
              "      --disabled-fill-color: #666;\n",
              "  }\n",
              "\n",
              "  .colab-df-quickchart {\n",
              "    background-color: var(--bg-color);\n",
              "    border: none;\n",
              "    border-radius: 50%;\n",
              "    cursor: pointer;\n",
              "    display: none;\n",
              "    fill: var(--fill-color);\n",
              "    height: 32px;\n",
              "    padding: 0;\n",
              "    width: 32px;\n",
              "  }\n",
              "\n",
              "  .colab-df-quickchart:hover {\n",
              "    background-color: var(--hover-bg-color);\n",
              "    box-shadow: 0 1px 2px rgba(60, 64, 67, 0.3), 0 1px 3px 1px rgba(60, 64, 67, 0.15);\n",
              "    fill: var(--button-hover-fill-color);\n",
              "  }\n",
              "\n",
              "  .colab-df-quickchart-complete:disabled,\n",
              "  .colab-df-quickchart-complete:disabled:hover {\n",
              "    background-color: var(--disabled-bg-color);\n",
              "    fill: var(--disabled-fill-color);\n",
              "    box-shadow: none;\n",
              "  }\n",
              "\n",
              "  .colab-df-spinner {\n",
              "    border: 2px solid var(--fill-color);\n",
              "    border-color: transparent;\n",
              "    border-bottom-color: var(--fill-color);\n",
              "    animation:\n",
              "      spin 1s steps(1) infinite;\n",
              "  }\n",
              "\n",
              "  @keyframes spin {\n",
              "    0% {\n",
              "      border-color: transparent;\n",
              "      border-bottom-color: var(--fill-color);\n",
              "      border-left-color: var(--fill-color);\n",
              "    }\n",
              "    20% {\n",
              "      border-color: transparent;\n",
              "      border-left-color: var(--fill-color);\n",
              "      border-top-color: var(--fill-color);\n",
              "    }\n",
              "    30% {\n",
              "      border-color: transparent;\n",
              "      border-left-color: var(--fill-color);\n",
              "      border-top-color: var(--fill-color);\n",
              "      border-right-color: var(--fill-color);\n",
              "    }\n",
              "    40% {\n",
              "      border-color: transparent;\n",
              "      border-right-color: var(--fill-color);\n",
              "      border-top-color: var(--fill-color);\n",
              "    }\n",
              "    60% {\n",
              "      border-color: transparent;\n",
              "      border-right-color: var(--fill-color);\n",
              "    }\n",
              "    80% {\n",
              "      border-color: transparent;\n",
              "      border-right-color: var(--fill-color);\n",
              "      border-bottom-color: var(--fill-color);\n",
              "    }\n",
              "    90% {\n",
              "      border-color: transparent;\n",
              "      border-bottom-color: var(--fill-color);\n",
              "    }\n",
              "  }\n",
              "</style>\n",
              "\n",
              "  <script>\n",
              "    async function quickchart(key) {\n",
              "      const quickchartButtonEl =\n",
              "        document.querySelector('#' + key + ' button');\n",
              "      quickchartButtonEl.disabled = true;  // To prevent multiple clicks.\n",
              "      quickchartButtonEl.classList.add('colab-df-spinner');\n",
              "      try {\n",
              "        const charts = await google.colab.kernel.invokeFunction(\n",
              "            'suggestCharts', [key], {});\n",
              "      } catch (error) {\n",
              "        console.error('Error during call to suggestCharts:', error);\n",
              "      }\n",
              "      quickchartButtonEl.classList.remove('colab-df-spinner');\n",
              "      quickchartButtonEl.classList.add('colab-df-quickchart-complete');\n",
              "    }\n",
              "    (() => {\n",
              "      let quickchartButtonEl =\n",
              "        document.querySelector('#df-9c492155-2873-4399-a6b8-3c95d453e9e0 button');\n",
              "      quickchartButtonEl.style.display =\n",
              "        google.colab.kernel.accessAllowed ? 'block' : 'none';\n",
              "    })();\n",
              "  </script>\n",
              "</div>\n",
              "\n",
              "    </div>\n",
              "  </div>\n"
            ],
            "application/vnd.google.colaboratory.intrinsic+json": {
              "type": "dataframe",
              "variable_name": "app_train"
            }
          },
          "metadata": {},
          "execution_count": 7
        }
      ],
      "source": [
        "#importation fichier\n",
        "app_train = pd.read_csv('/content/drive/MyDrive/Colab Notebooks/DS_projet_7/data_modelisation/app_train.csv')\n",
        "print('Training data shape: ', app_train.shape)\n",
        "app_train.head()"
      ]
    },
    {
      "cell_type": "code",
      "execution_count": null,
      "metadata": {
        "id": "hXzD-5RpN28s",
        "colab": {
          "base_uri": "https://localhost:8080/",
          "height": 290
        },
        "outputId": "d743aa9c-a382-42fc-9117-db4bf8346187"
      },
      "outputs": [
        {
          "output_type": "stream",
          "name": "stdout",
          "text": [
            "Testing data shape:  (48744, 241)\n"
          ]
        },
        {
          "output_type": "execute_result",
          "data": {
            "text/plain": [
              "   Unnamed: 0  SK_ID_CURR  NAME_CONTRACT_TYPE  FLAG_OWN_CAR  FLAG_OWN_REALTY  \\\n",
              "0           0      100001                   0             0                1   \n",
              "1           1      100005                   0             0                1   \n",
              "2           2      100013                   0             1                1   \n",
              "3           3      100028                   0             0                1   \n",
              "4           4      100038                   0             1                0   \n",
              "\n",
              "   CNT_CHILDREN  AMT_INCOME_TOTAL  AMT_CREDIT  AMT_ANNUITY  AMT_GOODS_PRICE  \\\n",
              "0             0          135000.0    568800.0      20560.5         450000.0   \n",
              "1             0           99000.0    222768.0      17370.0         180000.0   \n",
              "2             0          202500.0    663264.0      69777.0         630000.0   \n",
              "3             2          315000.0   1575000.0      49018.5        1575000.0   \n",
              "4             1          180000.0    625500.0      32067.0         625500.0   \n",
              "\n",
              "   ...  WALLSMATERIAL_MODE_Block  WALLSMATERIAL_MODE_Mixed  \\\n",
              "0  ...                     False                     False   \n",
              "1  ...                     False                     False   \n",
              "2  ...                     False                     False   \n",
              "3  ...                     False                     False   \n",
              "4  ...                     False                     False   \n",
              "\n",
              "   WALLSMATERIAL_MODE_Monolithic  WALLSMATERIAL_MODE_Others  \\\n",
              "0                          False                      False   \n",
              "1                          False                      False   \n",
              "2                          False                      False   \n",
              "3                          False                      False   \n",
              "4                          False                      False   \n",
              "\n",
              "   WALLSMATERIAL_MODE_Panel  WALLSMATERIAL_MODE_Stone, brick  \\\n",
              "0                     False                             True   \n",
              "1                     False                            False   \n",
              "2                     False                            False   \n",
              "3                      True                            False   \n",
              "4                     False                            False   \n",
              "\n",
              "   WALLSMATERIAL_MODE_Wooden  EMERGENCYSTATE_MODE_No  EMERGENCYSTATE_MODE_Yes  \\\n",
              "0                      False                    True                    False   \n",
              "1                      False                   False                    False   \n",
              "2                      False                   False                    False   \n",
              "3                      False                    True                    False   \n",
              "4                      False                   False                    False   \n",
              "\n",
              "   DAYS_EMPLOYED_ANOM  \n",
              "0               False  \n",
              "1               False  \n",
              "2               False  \n",
              "3               False  \n",
              "4               False  \n",
              "\n",
              "[5 rows x 241 columns]"
            ],
            "text/html": [
              "\n",
              "  <div id=\"df-f9ee0baf-46c9-42a2-b39b-22417ac5a4e9\" class=\"colab-df-container\">\n",
              "    <div>\n",
              "<style scoped>\n",
              "    .dataframe tbody tr th:only-of-type {\n",
              "        vertical-align: middle;\n",
              "    }\n",
              "\n",
              "    .dataframe tbody tr th {\n",
              "        vertical-align: top;\n",
              "    }\n",
              "\n",
              "    .dataframe thead th {\n",
              "        text-align: right;\n",
              "    }\n",
              "</style>\n",
              "<table border=\"1\" class=\"dataframe\">\n",
              "  <thead>\n",
              "    <tr style=\"text-align: right;\">\n",
              "      <th></th>\n",
              "      <th>Unnamed: 0</th>\n",
              "      <th>SK_ID_CURR</th>\n",
              "      <th>NAME_CONTRACT_TYPE</th>\n",
              "      <th>FLAG_OWN_CAR</th>\n",
              "      <th>FLAG_OWN_REALTY</th>\n",
              "      <th>CNT_CHILDREN</th>\n",
              "      <th>AMT_INCOME_TOTAL</th>\n",
              "      <th>AMT_CREDIT</th>\n",
              "      <th>AMT_ANNUITY</th>\n",
              "      <th>AMT_GOODS_PRICE</th>\n",
              "      <th>...</th>\n",
              "      <th>WALLSMATERIAL_MODE_Block</th>\n",
              "      <th>WALLSMATERIAL_MODE_Mixed</th>\n",
              "      <th>WALLSMATERIAL_MODE_Monolithic</th>\n",
              "      <th>WALLSMATERIAL_MODE_Others</th>\n",
              "      <th>WALLSMATERIAL_MODE_Panel</th>\n",
              "      <th>WALLSMATERIAL_MODE_Stone, brick</th>\n",
              "      <th>WALLSMATERIAL_MODE_Wooden</th>\n",
              "      <th>EMERGENCYSTATE_MODE_No</th>\n",
              "      <th>EMERGENCYSTATE_MODE_Yes</th>\n",
              "      <th>DAYS_EMPLOYED_ANOM</th>\n",
              "    </tr>\n",
              "  </thead>\n",
              "  <tbody>\n",
              "    <tr>\n",
              "      <th>0</th>\n",
              "      <td>0</td>\n",
              "      <td>100001</td>\n",
              "      <td>0</td>\n",
              "      <td>0</td>\n",
              "      <td>1</td>\n",
              "      <td>0</td>\n",
              "      <td>135000.0</td>\n",
              "      <td>568800.0</td>\n",
              "      <td>20560.5</td>\n",
              "      <td>450000.0</td>\n",
              "      <td>...</td>\n",
              "      <td>False</td>\n",
              "      <td>False</td>\n",
              "      <td>False</td>\n",
              "      <td>False</td>\n",
              "      <td>False</td>\n",
              "      <td>True</td>\n",
              "      <td>False</td>\n",
              "      <td>True</td>\n",
              "      <td>False</td>\n",
              "      <td>False</td>\n",
              "    </tr>\n",
              "    <tr>\n",
              "      <th>1</th>\n",
              "      <td>1</td>\n",
              "      <td>100005</td>\n",
              "      <td>0</td>\n",
              "      <td>0</td>\n",
              "      <td>1</td>\n",
              "      <td>0</td>\n",
              "      <td>99000.0</td>\n",
              "      <td>222768.0</td>\n",
              "      <td>17370.0</td>\n",
              "      <td>180000.0</td>\n",
              "      <td>...</td>\n",
              "      <td>False</td>\n",
              "      <td>False</td>\n",
              "      <td>False</td>\n",
              "      <td>False</td>\n",
              "      <td>False</td>\n",
              "      <td>False</td>\n",
              "      <td>False</td>\n",
              "      <td>False</td>\n",
              "      <td>False</td>\n",
              "      <td>False</td>\n",
              "    </tr>\n",
              "    <tr>\n",
              "      <th>2</th>\n",
              "      <td>2</td>\n",
              "      <td>100013</td>\n",
              "      <td>0</td>\n",
              "      <td>1</td>\n",
              "      <td>1</td>\n",
              "      <td>0</td>\n",
              "      <td>202500.0</td>\n",
              "      <td>663264.0</td>\n",
              "      <td>69777.0</td>\n",
              "      <td>630000.0</td>\n",
              "      <td>...</td>\n",
              "      <td>False</td>\n",
              "      <td>False</td>\n",
              "      <td>False</td>\n",
              "      <td>False</td>\n",
              "      <td>False</td>\n",
              "      <td>False</td>\n",
              "      <td>False</td>\n",
              "      <td>False</td>\n",
              "      <td>False</td>\n",
              "      <td>False</td>\n",
              "    </tr>\n",
              "    <tr>\n",
              "      <th>3</th>\n",
              "      <td>3</td>\n",
              "      <td>100028</td>\n",
              "      <td>0</td>\n",
              "      <td>0</td>\n",
              "      <td>1</td>\n",
              "      <td>2</td>\n",
              "      <td>315000.0</td>\n",
              "      <td>1575000.0</td>\n",
              "      <td>49018.5</td>\n",
              "      <td>1575000.0</td>\n",
              "      <td>...</td>\n",
              "      <td>False</td>\n",
              "      <td>False</td>\n",
              "      <td>False</td>\n",
              "      <td>False</td>\n",
              "      <td>True</td>\n",
              "      <td>False</td>\n",
              "      <td>False</td>\n",
              "      <td>True</td>\n",
              "      <td>False</td>\n",
              "      <td>False</td>\n",
              "    </tr>\n",
              "    <tr>\n",
              "      <th>4</th>\n",
              "      <td>4</td>\n",
              "      <td>100038</td>\n",
              "      <td>0</td>\n",
              "      <td>1</td>\n",
              "      <td>0</td>\n",
              "      <td>1</td>\n",
              "      <td>180000.0</td>\n",
              "      <td>625500.0</td>\n",
              "      <td>32067.0</td>\n",
              "      <td>625500.0</td>\n",
              "      <td>...</td>\n",
              "      <td>False</td>\n",
              "      <td>False</td>\n",
              "      <td>False</td>\n",
              "      <td>False</td>\n",
              "      <td>False</td>\n",
              "      <td>False</td>\n",
              "      <td>False</td>\n",
              "      <td>False</td>\n",
              "      <td>False</td>\n",
              "      <td>False</td>\n",
              "    </tr>\n",
              "  </tbody>\n",
              "</table>\n",
              "<p>5 rows × 241 columns</p>\n",
              "</div>\n",
              "    <div class=\"colab-df-buttons\">\n",
              "\n",
              "  <div class=\"colab-df-container\">\n",
              "    <button class=\"colab-df-convert\" onclick=\"convertToInteractive('df-f9ee0baf-46c9-42a2-b39b-22417ac5a4e9')\"\n",
              "            title=\"Convert this dataframe to an interactive table.\"\n",
              "            style=\"display:none;\">\n",
              "\n",
              "  <svg xmlns=\"http://www.w3.org/2000/svg\" height=\"24px\" viewBox=\"0 -960 960 960\">\n",
              "    <path d=\"M120-120v-720h720v720H120Zm60-500h600v-160H180v160Zm220 220h160v-160H400v160Zm0 220h160v-160H400v160ZM180-400h160v-160H180v160Zm440 0h160v-160H620v160ZM180-180h160v-160H180v160Zm440 0h160v-160H620v160Z\"/>\n",
              "  </svg>\n",
              "    </button>\n",
              "\n",
              "  <style>\n",
              "    .colab-df-container {\n",
              "      display:flex;\n",
              "      gap: 12px;\n",
              "    }\n",
              "\n",
              "    .colab-df-convert {\n",
              "      background-color: #E8F0FE;\n",
              "      border: none;\n",
              "      border-radius: 50%;\n",
              "      cursor: pointer;\n",
              "      display: none;\n",
              "      fill: #1967D2;\n",
              "      height: 32px;\n",
              "      padding: 0 0 0 0;\n",
              "      width: 32px;\n",
              "    }\n",
              "\n",
              "    .colab-df-convert:hover {\n",
              "      background-color: #E2EBFA;\n",
              "      box-shadow: 0px 1px 2px rgba(60, 64, 67, 0.3), 0px 1px 3px 1px rgba(60, 64, 67, 0.15);\n",
              "      fill: #174EA6;\n",
              "    }\n",
              "\n",
              "    .colab-df-buttons div {\n",
              "      margin-bottom: 4px;\n",
              "    }\n",
              "\n",
              "    [theme=dark] .colab-df-convert {\n",
              "      background-color: #3B4455;\n",
              "      fill: #D2E3FC;\n",
              "    }\n",
              "\n",
              "    [theme=dark] .colab-df-convert:hover {\n",
              "      background-color: #434B5C;\n",
              "      box-shadow: 0px 1px 3px 1px rgba(0, 0, 0, 0.15);\n",
              "      filter: drop-shadow(0px 1px 2px rgba(0, 0, 0, 0.3));\n",
              "      fill: #FFFFFF;\n",
              "    }\n",
              "  </style>\n",
              "\n",
              "    <script>\n",
              "      const buttonEl =\n",
              "        document.querySelector('#df-f9ee0baf-46c9-42a2-b39b-22417ac5a4e9 button.colab-df-convert');\n",
              "      buttonEl.style.display =\n",
              "        google.colab.kernel.accessAllowed ? 'block' : 'none';\n",
              "\n",
              "      async function convertToInteractive(key) {\n",
              "        const element = document.querySelector('#df-f9ee0baf-46c9-42a2-b39b-22417ac5a4e9');\n",
              "        const dataTable =\n",
              "          await google.colab.kernel.invokeFunction('convertToInteractive',\n",
              "                                                    [key], {});\n",
              "        if (!dataTable) return;\n",
              "\n",
              "        const docLinkHtml = 'Like what you see? Visit the ' +\n",
              "          '<a target=\"_blank\" href=https://colab.research.google.com/notebooks/data_table.ipynb>data table notebook</a>'\n",
              "          + ' to learn more about interactive tables.';\n",
              "        element.innerHTML = '';\n",
              "        dataTable['output_type'] = 'display_data';\n",
              "        await google.colab.output.renderOutput(dataTable, element);\n",
              "        const docLink = document.createElement('div');\n",
              "        docLink.innerHTML = docLinkHtml;\n",
              "        element.appendChild(docLink);\n",
              "      }\n",
              "    </script>\n",
              "  </div>\n",
              "\n",
              "\n",
              "<div id=\"df-67def3f9-6385-46e4-8cdc-44b5bd25cdf0\">\n",
              "  <button class=\"colab-df-quickchart\" onclick=\"quickchart('df-67def3f9-6385-46e4-8cdc-44b5bd25cdf0')\"\n",
              "            title=\"Suggest charts\"\n",
              "            style=\"display:none;\">\n",
              "\n",
              "<svg xmlns=\"http://www.w3.org/2000/svg\" height=\"24px\"viewBox=\"0 0 24 24\"\n",
              "     width=\"24px\">\n",
              "    <g>\n",
              "        <path d=\"M19 3H5c-1.1 0-2 .9-2 2v14c0 1.1.9 2 2 2h14c1.1 0 2-.9 2-2V5c0-1.1-.9-2-2-2zM9 17H7v-7h2v7zm4 0h-2V7h2v10zm4 0h-2v-4h2v4z\"/>\n",
              "    </g>\n",
              "</svg>\n",
              "  </button>\n",
              "\n",
              "<style>\n",
              "  .colab-df-quickchart {\n",
              "      --bg-color: #E8F0FE;\n",
              "      --fill-color: #1967D2;\n",
              "      --hover-bg-color: #E2EBFA;\n",
              "      --hover-fill-color: #174EA6;\n",
              "      --disabled-fill-color: #AAA;\n",
              "      --disabled-bg-color: #DDD;\n",
              "  }\n",
              "\n",
              "  [theme=dark] .colab-df-quickchart {\n",
              "      --bg-color: #3B4455;\n",
              "      --fill-color: #D2E3FC;\n",
              "      --hover-bg-color: #434B5C;\n",
              "      --hover-fill-color: #FFFFFF;\n",
              "      --disabled-bg-color: #3B4455;\n",
              "      --disabled-fill-color: #666;\n",
              "  }\n",
              "\n",
              "  .colab-df-quickchart {\n",
              "    background-color: var(--bg-color);\n",
              "    border: none;\n",
              "    border-radius: 50%;\n",
              "    cursor: pointer;\n",
              "    display: none;\n",
              "    fill: var(--fill-color);\n",
              "    height: 32px;\n",
              "    padding: 0;\n",
              "    width: 32px;\n",
              "  }\n",
              "\n",
              "  .colab-df-quickchart:hover {\n",
              "    background-color: var(--hover-bg-color);\n",
              "    box-shadow: 0 1px 2px rgba(60, 64, 67, 0.3), 0 1px 3px 1px rgba(60, 64, 67, 0.15);\n",
              "    fill: var(--button-hover-fill-color);\n",
              "  }\n",
              "\n",
              "  .colab-df-quickchart-complete:disabled,\n",
              "  .colab-df-quickchart-complete:disabled:hover {\n",
              "    background-color: var(--disabled-bg-color);\n",
              "    fill: var(--disabled-fill-color);\n",
              "    box-shadow: none;\n",
              "  }\n",
              "\n",
              "  .colab-df-spinner {\n",
              "    border: 2px solid var(--fill-color);\n",
              "    border-color: transparent;\n",
              "    border-bottom-color: var(--fill-color);\n",
              "    animation:\n",
              "      spin 1s steps(1) infinite;\n",
              "  }\n",
              "\n",
              "  @keyframes spin {\n",
              "    0% {\n",
              "      border-color: transparent;\n",
              "      border-bottom-color: var(--fill-color);\n",
              "      border-left-color: var(--fill-color);\n",
              "    }\n",
              "    20% {\n",
              "      border-color: transparent;\n",
              "      border-left-color: var(--fill-color);\n",
              "      border-top-color: var(--fill-color);\n",
              "    }\n",
              "    30% {\n",
              "      border-color: transparent;\n",
              "      border-left-color: var(--fill-color);\n",
              "      border-top-color: var(--fill-color);\n",
              "      border-right-color: var(--fill-color);\n",
              "    }\n",
              "    40% {\n",
              "      border-color: transparent;\n",
              "      border-right-color: var(--fill-color);\n",
              "      border-top-color: var(--fill-color);\n",
              "    }\n",
              "    60% {\n",
              "      border-color: transparent;\n",
              "      border-right-color: var(--fill-color);\n",
              "    }\n",
              "    80% {\n",
              "      border-color: transparent;\n",
              "      border-right-color: var(--fill-color);\n",
              "      border-bottom-color: var(--fill-color);\n",
              "    }\n",
              "    90% {\n",
              "      border-color: transparent;\n",
              "      border-bottom-color: var(--fill-color);\n",
              "    }\n",
              "  }\n",
              "</style>\n",
              "\n",
              "  <script>\n",
              "    async function quickchart(key) {\n",
              "      const quickchartButtonEl =\n",
              "        document.querySelector('#' + key + ' button');\n",
              "      quickchartButtonEl.disabled = true;  // To prevent multiple clicks.\n",
              "      quickchartButtonEl.classList.add('colab-df-spinner');\n",
              "      try {\n",
              "        const charts = await google.colab.kernel.invokeFunction(\n",
              "            'suggestCharts', [key], {});\n",
              "      } catch (error) {\n",
              "        console.error('Error during call to suggestCharts:', error);\n",
              "      }\n",
              "      quickchartButtonEl.classList.remove('colab-df-spinner');\n",
              "      quickchartButtonEl.classList.add('colab-df-quickchart-complete');\n",
              "    }\n",
              "    (() => {\n",
              "      let quickchartButtonEl =\n",
              "        document.querySelector('#df-67def3f9-6385-46e4-8cdc-44b5bd25cdf0 button');\n",
              "      quickchartButtonEl.style.display =\n",
              "        google.colab.kernel.accessAllowed ? 'block' : 'none';\n",
              "    })();\n",
              "  </script>\n",
              "</div>\n",
              "\n",
              "    </div>\n",
              "  </div>\n"
            ],
            "application/vnd.google.colaboratory.intrinsic+json": {
              "type": "dataframe",
              "variable_name": "app_test"
            }
          },
          "metadata": {},
          "execution_count": 8
        }
      ],
      "source": [
        "# Testing data features\n",
        "app_test = pd.read_csv('/content/drive/MyDrive/Colab Notebooks/DS_projet_7/data_modelisation/app_test.csv')\n",
        "print('Testing data shape: ', app_test.shape)\n",
        "app_test.head()"
      ]
    },
    {
      "cell_type": "markdown",
      "metadata": {
        "id": "6k4c0yXmF6Ws"
      },
      "source": [
        "## Exploration"
      ]
    },
    {
      "cell_type": "code",
      "execution_count": null,
      "metadata": {
        "id": "F7vsUIDtG4z9",
        "colab": {
          "base_uri": "https://localhost:8080/",
          "height": 178
        },
        "outputId": "f18c00e1-4ca0-4029-fba6-87ee7fb815c2"
      },
      "outputs": [
        {
          "output_type": "execute_result",
          "data": {
            "text/plain": [
              "TARGET\n",
              "0    282686\n",
              "1     24825\n",
              "Name: count, dtype: int64"
            ],
            "text/html": [
              "<div>\n",
              "<style scoped>\n",
              "    .dataframe tbody tr th:only-of-type {\n",
              "        vertical-align: middle;\n",
              "    }\n",
              "\n",
              "    .dataframe tbody tr th {\n",
              "        vertical-align: top;\n",
              "    }\n",
              "\n",
              "    .dataframe thead th {\n",
              "        text-align: right;\n",
              "    }\n",
              "</style>\n",
              "<table border=\"1\" class=\"dataframe\">\n",
              "  <thead>\n",
              "    <tr style=\"text-align: right;\">\n",
              "      <th></th>\n",
              "      <th>count</th>\n",
              "    </tr>\n",
              "    <tr>\n",
              "      <th>TARGET</th>\n",
              "      <th></th>\n",
              "    </tr>\n",
              "  </thead>\n",
              "  <tbody>\n",
              "    <tr>\n",
              "      <th>0</th>\n",
              "      <td>282686</td>\n",
              "    </tr>\n",
              "    <tr>\n",
              "      <th>1</th>\n",
              "      <td>24825</td>\n",
              "    </tr>\n",
              "  </tbody>\n",
              "</table>\n",
              "</div><br><label><b>dtype:</b> int64</label>"
            ]
          },
          "metadata": {},
          "execution_count": 9
        }
      ],
      "source": [
        "app_train['TARGET'].value_counts()"
      ]
    },
    {
      "cell_type": "code",
      "execution_count": null,
      "metadata": {
        "id": "5y_wxueoHJJA",
        "colab": {
          "base_uri": "https://localhost:8080/",
          "height": 430
        },
        "outputId": "b7cf6d06-91db-4bfc-9149-f37b6bd207b1"
      },
      "outputs": [
        {
          "output_type": "display_data",
          "data": {
            "text/plain": [
              "<Figure size 640x480 with 1 Axes>"
            ],
            "image/png": "[encoded data removed]"
          },
          "metadata": {}
        }
      ],
      "source": [
        "app_train['TARGET'].astype(int).plot.hist();"
      ]
    },
    {
      "cell_type": "code",
      "execution_count": null,
      "metadata": {
        "id": "xYuKhsF-Oygh",
        "colab": {
          "base_uri": "https://localhost:8080/",
          "height": 178
        },
        "outputId": "c77424cb-bcc9-4e6d-fb92-1081433bcce2"
      },
      "outputs": [
        {
          "output_type": "execute_result",
          "data": {
            "text/plain": [
              "bool       132\n",
              "float64     66\n",
              "int64       44\n",
              "Name: count, dtype: int64"
            ],
            "text/html": [
              "<div>\n",
              "<style scoped>\n",
              "    .dataframe tbody tr th:only-of-type {\n",
              "        vertical-align: middle;\n",
              "    }\n",
              "\n",
              "    .dataframe tbody tr th {\n",
              "        vertical-align: top;\n",
              "    }\n",
              "\n",
              "    .dataframe thead th {\n",
              "        text-align: right;\n",
              "    }\n",
              "</style>\n",
              "<table border=\"1\" class=\"dataframe\">\n",
              "  <thead>\n",
              "    <tr style=\"text-align: right;\">\n",
              "      <th></th>\n",
              "      <th>count</th>\n",
              "    </tr>\n",
              "  </thead>\n",
              "  <tbody>\n",
              "    <tr>\n",
              "      <th>bool</th>\n",
              "      <td>132</td>\n",
              "    </tr>\n",
              "    <tr>\n",
              "      <th>float64</th>\n",
              "      <td>66</td>\n",
              "    </tr>\n",
              "    <tr>\n",
              "      <th>int64</th>\n",
              "      <td>44</td>\n",
              "    </tr>\n",
              "  </tbody>\n",
              "</table>\n",
              "</div><br><label><b>dtype:</b> int64</label>"
            ]
          },
          "metadata": {},
          "execution_count": 11
        }
      ],
      "source": [
        "# Number of each type of column\n",
        "app_train.dtypes.value_counts()"
      ]
    },
    {
      "cell_type": "code",
      "execution_count": null,
      "metadata": {
        "id": "Ej8sdqUvQwkv",
        "colab": {
          "base_uri": "https://localhost:8080/"
        },
        "outputId": "53e729ab-d790-4d16-dd9a-c6390a348862"
      },
      "outputs": [
        {
          "output_type": "stream",
          "name": "stdout",
          "text": [
            "Training Features shape:  (307511, 242)\n",
            "Testing Features shape:  (48744, 241)\n"
          ]
        }
      ],
      "source": [
        "train_labels = app_train['TARGET']\n",
        "\n",
        "# Align the training and testing data, keep only columns present in both dataframes\n",
        "app_train, app_test = app_train.align(app_test, join = 'inner', axis = 1)\n",
        "\n",
        "# Add the target back in\n",
        "app_train['TARGET'] = train_labels\n",
        "\n",
        "print('Training Features shape: ', app_train.shape)\n",
        "print('Testing Features shape: ', app_test.shape)"
      ]
    },
    {
      "cell_type": "code",
      "source": [
        "import re\n",
        "\n",
        "# Supprimer la colonne 'Unnamed: 0' si elle existe\n",
        "app_train = app_train.drop(columns=['Unnamed: 0'], errors='ignore')\n",
        "app_test = app_test.drop(columns=['Unnamed: 0'], errors='ignore')\n",
        "\n",
        "# Nettoyer les noms de colonnes\n",
        "def clean_column_names(df):\n",
        "    df.columns = (\n",
        "        df.columns\n",
        "        .str.strip()  # Supprime les espaces en début et fin\n",
        "        .str.replace(r\"[^\\w]\", \"_\", regex=True)  # Remplace tous les caractères non-alphanumériques par \"_\"\n",
        "    )\n",
        "    return df\n",
        "\n",
        "app_train = clean_column_names(app_train)\n",
        "app_test = clean_column_names(app_test)"
      ],
      "metadata": {
        "id": "116r7eBer31y"
      },
      "execution_count": null,
      "outputs": []
    },
    {
      "cell_type": "markdown",
      "metadata": {
        "id": "VnjL4VrALVia"
      },
      "source": [
        "# Modélisation"
      ]
    },
    {
      "cell_type": "markdown",
      "metadata": {
        "id": "vxKdNeecw9nv"
      },
      "source": [
        "### Préparation de l'environement"
      ]
    },
    {
      "cell_type": "code",
      "execution_count": null,
      "metadata": {
        "id": "swP4k3qFwfrg",
        "colab": {
          "base_uri": "https://localhost:8080/"
        },
        "outputId": "66d515f7-733e-4867-a695-0d520833503c"
      },
      "outputs": [
        {
          "output_type": "stream",
          "name": "stdout",
          "text": [
            "Requirement already satisfied: mlflow in /usr/local/lib/python3.11/dist-packages (2.20.1)\n",
            "Collecting pyngrok\n",
            "  Downloading pyngrok-7.2.3-py3-none-any.whl.metadata (8.7 kB)\n",
            "Requirement already satisfied: mlflow-skinny==2.20.1 in /usr/local/lib/python3.11/dist-packages (from mlflow) (2.20.1)\n",
            "Requirement already satisfied: Flask<4 in /usr/local/lib/python3.11/dist-packages (from mlflow) (3.1.0)\n",
            "Requirement already satisfied: Jinja2<4,>=2.11 in /usr/local/lib/python3.11/dist-packages (from mlflow) (3.1.5)\n",
            "Requirement already satisfied: alembic!=1.10.0,<2 in /usr/local/lib/python3.11/dist-packages (from mlflow) (1.14.1)\n",
            "Requirement already satisfied: docker<8,>=4.0.0 in /usr/local/lib/python3.11/dist-packages (from mlflow) (7.1.0)\n",
            "Requirement already satisfied: graphene<4 in /usr/local/lib/python3.11/dist-packages (from mlflow) (3.4.3)\n",
            "Requirement already satisfied: gunicorn<24 in /usr/local/lib/python3.11/dist-packages (from mlflow) (23.0.0)\n",
            "Requirement already satisfied: markdown<4,>=3.3 in /usr/local/lib/python3.11/dist-packages (from mlflow) (3.7)\n",
            "Requirement already satisfied: matplotlib<4 in /usr/local/lib/python3.11/dist-packages (from mlflow) (3.10.0)\n",
            "Requirement already satisfied: numpy<3 in /usr/local/lib/python3.11/dist-packages (from mlflow) (1.26.4)\n",
            "Requirement already satisfied: pandas<3 in /usr/local/lib/python3.11/dist-packages (from mlflow) (2.2.2)\n",
            "Requirement already satisfied: pyarrow<19,>=4.0.0 in /usr/local/lib/python3.11/dist-packages (from mlflow) (17.0.0)\n",
            "Requirement already satisfied: scikit-learn<2 in /usr/local/lib/python3.11/dist-packages (from mlflow) (1.6.1)\n",
            "Requirement already satisfied: scipy<2 in /usr/local/lib/python3.11/dist-packages (from mlflow) (1.13.1)\n",
            "Requirement already satisfied: sqlalchemy<3,>=1.4.0 in /usr/local/lib/python3.11/dist-packages (from mlflow) (2.0.37)\n",
            "Requirement already satisfied: cachetools<6,>=5.0.0 in /usr/local/lib/python3.11/dist-packages (from mlflow-skinny==2.20.1->mlflow) (5.5.1)\n",
            "Requirement already satisfied: click<9,>=7.0 in /usr/local/lib/python3.11/dist-packages (from mlflow-skinny==2.20.1->mlflow) (8.1.8)\n",
            "Requirement already satisfied: cloudpickle<4 in /usr/local/lib/python3.11/dist-packages (from mlflow-skinny==2.20.1->mlflow) (3.1.1)\n",
            "Requirement already satisfied: databricks-sdk<1,>=0.20.0 in /usr/local/lib/python3.11/dist-packages (from mlflow-skinny==2.20.1->mlflow) (0.43.0)\n",
            "Requirement already satisfied: gitpython<4,>=3.1.9 in /usr/local/lib/python3.11/dist-packages (from mlflow-skinny==2.20.1->mlflow) (3.1.44)\n",
            "Requirement already satisfied: importlib_metadata!=4.7.0,<9,>=3.7.0 in /usr/local/lib/python3.11/dist-packages (from mlflow-skinny==2.20.1->mlflow) (8.6.1)\n",
            "Requirement already satisfied: opentelemetry-api<3,>=1.9.0 in /usr/local/lib/python3.11/dist-packages (from mlflow-skinny==2.20.1->mlflow) (1.16.0)\n",
            "Requirement already satisfied: opentelemetry-sdk<3,>=1.9.0 in /usr/local/lib/python3.11/dist-packages (from mlflow-skinny==2.20.1->mlflow) (1.16.0)\n",
            "Requirement already satisfied: packaging<25 in /usr/local/lib/python3.11/dist-packages (from mlflow-skinny==2.20.1->mlflow) (24.2)\n",
            "Requirement already satisfied: protobuf<6,>=3.12.0 in /usr/local/lib/python3.11/dist-packages (from mlflow-skinny==2.20.1->mlflow) (4.25.6)\n",
            "Requirement already satisfied: pydantic<3,>=1.0 in /usr/local/lib/python3.11/dist-packages (from mlflow-skinny==2.20.1->mlflow) (2.10.6)\n",
            "Requirement already satisfied: pyyaml<7,>=5.1 in /usr/local/lib/python3.11/dist-packages (from mlflow-skinny==2.20.1->mlflow) (6.0.2)\n",
            "Requirement already satisfied: requests<3,>=2.17.3 in /usr/local/lib/python3.11/dist-packages (from mlflow-skinny==2.20.1->mlflow) (2.32.3)\n",
            "Requirement already satisfied: sqlparse<1,>=0.4.0 in /usr/local/lib/python3.11/dist-packages (from mlflow-skinny==2.20.1->mlflow) (0.5.3)\n",
            "Requirement already satisfied: typing-extensions<5,>=4.0.0 in /usr/local/lib/python3.11/dist-packages (from mlflow-skinny==2.20.1->mlflow) (4.12.2)\n",
            "Requirement already satisfied: Mako in /usr/local/lib/python3.11/dist-packages (from alembic!=1.10.0,<2->mlflow) (1.3.9)\n",
            "Requirement already satisfied: urllib3>=1.26.0 in /usr/local/lib/python3.11/dist-packages (from docker<8,>=4.0.0->mlflow) (2.3.0)\n",
            "Requirement already satisfied: Werkzeug>=3.1 in /usr/local/lib/python3.11/dist-packages (from Flask<4->mlflow) (3.1.3)\n",
            "Requirement already satisfied: itsdangerous>=2.2 in /usr/local/lib/python3.11/dist-packages (from Flask<4->mlflow) (2.2.0)\n",
            "Requirement already satisfied: blinker>=1.9 in /usr/local/lib/python3.11/dist-packages (from Flask<4->mlflow) (1.9.0)\n",
            "Requirement already satisfied: graphql-core<3.3,>=3.1 in /usr/local/lib/python3.11/dist-packages (from graphene<4->mlflow) (3.2.6)\n",
            "Requirement already satisfied: graphql-relay<3.3,>=3.1 in /usr/local/lib/python3.11/dist-packages (from graphene<4->mlflow) (3.2.0)\n",
            "Requirement already satisfied: python-dateutil<3,>=2.7.0 in /usr/local/lib/python3.11/dist-packages (from graphene<4->mlflow) (2.8.2)\n",
            "Requirement already satisfied: MarkupSafe>=2.0 in /usr/local/lib/python3.11/dist-packages (from Jinja2<4,>=2.11->mlflow) (3.0.2)\n",
            "Requirement already satisfied: contourpy>=1.0.1 in /usr/local/lib/python3.11/dist-packages (from matplotlib<4->mlflow) (1.3.1)\n",
            "Requirement already satisfied: cycler>=0.10 in /usr/local/lib/python3.11/dist-packages (from matplotlib<4->mlflow) (0.12.1)\n",
            "Requirement already satisfied: fonttools>=4.22.0 in /usr/local/lib/python3.11/dist-packages (from matplotlib<4->mlflow) (4.55.7)\n",
            "Requirement already satisfied: kiwisolver>=1.3.1 in /usr/local/lib/python3.11/dist-packages (from matplotlib<4->mlflow) (1.4.8)\n",
            "Requirement already satisfied: pillow>=8 in /usr/local/lib/python3.11/dist-packages (from matplotlib<4->mlflow) (11.1.0)\n",
            "Requirement already satisfied: pyparsing>=2.3.1 in /usr/local/lib/python3.11/dist-packages (from matplotlib<4->mlflow) (3.2.1)\n",
            "Requirement already satisfied: pytz>=2020.1 in /usr/local/lib/python3.11/dist-packages (from pandas<3->mlflow) (2024.2)\n",
            "Requirement already satisfied: tzdata>=2022.7 in /usr/local/lib/python3.11/dist-packages (from pandas<3->mlflow) (2025.1)\n",
            "Requirement already satisfied: joblib>=1.2.0 in /usr/local/lib/python3.11/dist-packages (from scikit-learn<2->mlflow) (1.4.2)\n",
            "Requirement already satisfied: threadpoolctl>=3.1.0 in /usr/local/lib/python3.11/dist-packages (from scikit-learn<2->mlflow) (3.5.0)\n",
            "Requirement already satisfied: greenlet!=0.4.17 in /usr/local/lib/python3.11/dist-packages (from sqlalchemy<3,>=1.4.0->mlflow) (3.1.1)\n",
            "Requirement already satisfied: google-auth~=2.0 in /usr/local/lib/python3.11/dist-packages (from databricks-sdk<1,>=0.20.0->mlflow-skinny==2.20.1->mlflow) (2.27.0)\n",
            "Requirement already satisfied: gitdb<5,>=4.0.1 in /usr/local/lib/python3.11/dist-packages (from gitpython<4,>=3.1.9->mlflow-skinny==2.20.1->mlflow) (4.0.12)\n",
            "Requirement already satisfied: zipp>=3.20 in /usr/local/lib/python3.11/dist-packages (from importlib_metadata!=4.7.0,<9,>=3.7.0->mlflow-skinny==2.20.1->mlflow) (3.21.0)\n",
            "Requirement already satisfied: deprecated>=1.2.6 in /usr/local/lib/python3.11/dist-packages (from opentelemetry-api<3,>=1.9.0->mlflow-skinny==2.20.1->mlflow) (1.2.18)\n",
            "Requirement already satisfied: setuptools>=16.0 in /usr/local/lib/python3.11/dist-packages (from opentelemetry-api<3,>=1.9.0->mlflow-skinny==2.20.1->mlflow) (75.1.0)\n",
            "Requirement already satisfied: opentelemetry-semantic-conventions==0.37b0 in /usr/local/lib/python3.11/dist-packages (from opentelemetry-sdk<3,>=1.9.0->mlflow-skinny==2.20.1->mlflow) (0.37b0)\n",
            "Requirement already satisfied: annotated-types>=0.6.0 in /usr/local/lib/python3.11/dist-packages (from pydantic<3,>=1.0->mlflow-skinny==2.20.1->mlflow) (0.7.0)\n",
            "Requirement already satisfied: pydantic-core==2.27.2 in /usr/local/lib/python3.11/dist-packages (from pydantic<3,>=1.0->mlflow-skinny==2.20.1->mlflow) (2.27.2)\n",
            "Requirement already satisfied: six>=1.5 in /usr/local/lib/python3.11/dist-packages (from python-dateutil<3,>=2.7.0->graphene<4->mlflow) (1.17.0)\n",
            "Requirement already satisfied: charset-normalizer<4,>=2 in /usr/local/lib/python3.11/dist-packages (from requests<3,>=2.17.3->mlflow-skinny==2.20.1->mlflow) (3.4.1)\n",
            "Requirement already satisfied: idna<4,>=2.5 in /usr/local/lib/python3.11/dist-packages (from requests<3,>=2.17.3->mlflow-skinny==2.20.1->mlflow) (3.10)\n",
            "Requirement already satisfied: certifi>=2017.4.17 in /usr/local/lib/python3.11/dist-packages (from requests<3,>=2.17.3->mlflow-skinny==2.20.1->mlflow) (2024.12.14)\n",
            "Requirement already satisfied: wrapt<2,>=1.10 in /usr/local/lib/python3.11/dist-packages (from deprecated>=1.2.6->opentelemetry-api<3,>=1.9.0->mlflow-skinny==2.20.1->mlflow) (1.17.2)\n",
            "Requirement already satisfied: smmap<6,>=3.0.1 in /usr/local/lib/python3.11/dist-packages (from gitdb<5,>=4.0.1->gitpython<4,>=3.1.9->mlflow-skinny==2.20.1->mlflow) (5.0.2)\n",
            "Requirement already satisfied: pyasn1-modules>=0.2.1 in /usr/local/lib/python3.11/dist-packages (from google-auth~=2.0->databricks-sdk<1,>=0.20.0->mlflow-skinny==2.20.1->mlflow) (0.4.1)\n",
            "Requirement already satisfied: rsa<5,>=3.1.4 in /usr/local/lib/python3.11/dist-packages (from google-auth~=2.0->databricks-sdk<1,>=0.20.0->mlflow-skinny==2.20.1->mlflow) (4.9)\n",
            "Requirement already satisfied: pyasn1<0.7.0,>=0.4.6 in /usr/local/lib/python3.11/dist-packages (from pyasn1-modules>=0.2.1->google-auth~=2.0->databricks-sdk<1,>=0.20.0->mlflow-skinny==2.20.1->mlflow) (0.6.1)\n",
            "Downloading pyngrok-7.2.3-py3-none-any.whl (23 kB)\n",
            "Installing collected packages: pyngrok\n",
            "Successfully installed pyngrok-7.2.3\n"
          ]
        }
      ],
      "source": [
        "!pip install mlflow pyngrok"
      ]
    },
    {
      "cell_type": "code",
      "execution_count": null,
      "metadata": {
        "id": "3qM0s29pwkjF"
      },
      "outputs": [],
      "source": [
        "import os\n",
        "from pyngrok import ngrok\n",
        "import mlflow\n",
        "import mlflow.sklearn  # Pour enregistrer les modèles scikit-learn"
      ]
    },
    {
      "cell_type": "code",
      "execution_count": null,
      "metadata": {
        "id": "A5kq4OEAwv_Q"
      },
      "outputs": [],
      "source": [
        "mlflow_directory = \"/content/drive/MyDrive/Colab Notebooks/DS_projet_7/mlflow\"\n",
        "os.makedirs(mlflow_directory, exist_ok=True)\n",
        "mlflow.set_tracking_uri(f\"file://{mlflow_directory}\")"
      ]
    },
    {
      "cell_type": "markdown",
      "metadata": {
        "id": "xlWI17ACJIT9"
      },
      "source": [
        "### Chargement des données et préparation"
      ]
    },
    {
      "cell_type": "code",
      "execution_count": null,
      "metadata": {
        "id": "I5oRNdPsRhMZ"
      },
      "outputs": [],
      "source": [
        "from sklearn.impute import SimpleImputer\n",
        "from sklearn.model_selection import train_test_split\n",
        "import pandas as pd\n",
        "\n",
        "# Chargement des données\n",
        "if 'TARGET' in app_train.columns:\n",
        "    train = app_train.drop(columns=['TARGET'])\n",
        "    target = app_train['TARGET']\n",
        "else:\n",
        "    train = app_train.copy()\n",
        "    target = None\n",
        "\n",
        "# Vérification des valeurs manquantes avec SimpleImputer\n",
        "if train.isnull().sum().sum() > 0:\n",
        "    imputer = SimpleImputer(strategy='median')\n",
        "    train = pd.DataFrame(imputer.fit_transform(train), columns=train.columns)  # Conserver les noms des colonnes\n",
        "else:\n",
        "    train = train.copy()  # Conversion explicite si déjà propre\n",
        "\n",
        "# Diviser les données en ensembles d'entraînement et de test (si `target` est défini)\n",
        "if target is not None:\n",
        "    X_train, X_test, y_train, y_test = train_test_split(\n",
        "        train, target, test_size=0.2, random_state=42\n",
        "    )\n",
        "else:\n",
        "    X_train, X_test, y_train, y_test = None, None, None, None\n",
        "    print(\"Attention : Aucune étiquette ('target') n'a été fournie.\")\n",
        "\n",
        "# Appliquer la même transformation sur les données de test\n",
        "app_test = app_test.drop(columns=['TARGET'], errors='ignore')  # Enlever la colonne TARGET si elle existe\n",
        "app_test = pd.DataFrame(imputer.transform(app_test), columns=app_test.columns)  # Conserver les noms des colonnes"
      ]
    },
    {
      "cell_type": "code",
      "source": [
        "print(\"Colonnes de train :\", train.columns.tolist())"
      ],
      "metadata": {
        "colab": {
          "base_uri": "https://localhost:8080/"
        },
        "id": "3Ndc6RZeqnoi",
        "outputId": "cedffbd9-8818-47b2-d3f8-6554d04ee03f"
      },
      "execution_count": null,
      "outputs": [
        {
          "output_type": "stream",
          "name": "stdout",
          "text": [
            "Colonnes de train : ['SK_ID_CURR', 'NAME_CONTRACT_TYPE', 'FLAG_OWN_CAR', 'FLAG_OWN_REALTY', 'CNT_CHILDREN', 'AMT_INCOME_TOTAL', 'AMT_CREDIT', 'AMT_ANNUITY', 'AMT_GOODS_PRICE', 'REGION_POPULATION_RELATIVE', 'DAYS_BIRTH', 'DAYS_EMPLOYED', 'DAYS_REGISTRATION', 'DAYS_ID_PUBLISH', 'OWN_CAR_AGE', 'FLAG_MOBIL', 'FLAG_EMP_PHONE', 'FLAG_WORK_PHONE', 'FLAG_CONT_MOBILE', 'FLAG_PHONE', 'FLAG_EMAIL', 'CNT_FAM_MEMBERS', 'REGION_RATING_CLIENT', 'REGION_RATING_CLIENT_W_CITY', 'HOUR_APPR_PROCESS_START', 'REG_REGION_NOT_LIVE_REGION', 'REG_REGION_NOT_WORK_REGION', 'LIVE_REGION_NOT_WORK_REGION', 'REG_CITY_NOT_LIVE_CITY', 'REG_CITY_NOT_WORK_CITY', 'LIVE_CITY_NOT_WORK_CITY', 'EXT_SOURCE_1', 'EXT_SOURCE_2', 'EXT_SOURCE_3', 'APARTMENTS_AVG', 'BASEMENTAREA_AVG', 'YEARS_BEGINEXPLUATATION_AVG', 'YEARS_BUILD_AVG', 'COMMONAREA_AVG', 'ELEVATORS_AVG', 'ENTRANCES_AVG', 'FLOORSMAX_AVG', 'FLOORSMIN_AVG', 'LANDAREA_AVG', 'LIVINGAPARTMENTS_AVG', 'LIVINGAREA_AVG', 'NONLIVINGAPARTMENTS_AVG', 'NONLIVINGAREA_AVG', 'APARTMENTS_MODE', 'BASEMENTAREA_MODE', 'YEARS_BEGINEXPLUATATION_MODE', 'YEARS_BUILD_MODE', 'COMMONAREA_MODE', 'ELEVATORS_MODE', 'ENTRANCES_MODE', 'FLOORSMAX_MODE', 'FLOORSMIN_MODE', 'LANDAREA_MODE', 'LIVINGAPARTMENTS_MODE', 'LIVINGAREA_MODE', 'NONLIVINGAPARTMENTS_MODE', 'NONLIVINGAREA_MODE', 'APARTMENTS_MEDI', 'BASEMENTAREA_MEDI', 'YEARS_BEGINEXPLUATATION_MEDI', 'YEARS_BUILD_MEDI', 'COMMONAREA_MEDI', 'ELEVATORS_MEDI', 'ENTRANCES_MEDI', 'FLOORSMAX_MEDI', 'FLOORSMIN_MEDI', 'LANDAREA_MEDI', 'LIVINGAPARTMENTS_MEDI', 'LIVINGAREA_MEDI', 'NONLIVINGAPARTMENTS_MEDI', 'NONLIVINGAREA_MEDI', 'TOTALAREA_MODE', 'OBS_30_CNT_SOCIAL_CIRCLE', 'DEF_30_CNT_SOCIAL_CIRCLE', 'OBS_60_CNT_SOCIAL_CIRCLE', 'DEF_60_CNT_SOCIAL_CIRCLE', 'DAYS_LAST_PHONE_CHANGE', 'FLAG_DOCUMENT_2', 'FLAG_DOCUMENT_3', 'FLAG_DOCUMENT_4', 'FLAG_DOCUMENT_5', 'FLAG_DOCUMENT_6', 'FLAG_DOCUMENT_7', 'FLAG_DOCUMENT_8', 'FLAG_DOCUMENT_9', 'FLAG_DOCUMENT_10', 'FLAG_DOCUMENT_11', 'FLAG_DOCUMENT_12', 'FLAG_DOCUMENT_13', 'FLAG_DOCUMENT_14', 'FLAG_DOCUMENT_15', 'FLAG_DOCUMENT_16', 'FLAG_DOCUMENT_17', 'FLAG_DOCUMENT_18', 'FLAG_DOCUMENT_19', 'FLAG_DOCUMENT_20', 'FLAG_DOCUMENT_21', 'AMT_REQ_CREDIT_BUREAU_HOUR', 'AMT_REQ_CREDIT_BUREAU_DAY', 'AMT_REQ_CREDIT_BUREAU_WEEK', 'AMT_REQ_CREDIT_BUREAU_MON', 'AMT_REQ_CREDIT_BUREAU_QRT', 'AMT_REQ_CREDIT_BUREAU_YEAR', 'CODE_GENDER_F', 'CODE_GENDER_M', 'NAME_TYPE_SUITE_Children', 'NAME_TYPE_SUITE_Family', 'NAME_TYPE_SUITE_Group_of_people', 'NAME_TYPE_SUITE_Other_A', 'NAME_TYPE_SUITE_Other_B', 'NAME_TYPE_SUITE_Spouse__partner', 'NAME_TYPE_SUITE_Unaccompanied', 'NAME_INCOME_TYPE_Businessman', 'NAME_INCOME_TYPE_Commercial_associate', 'NAME_INCOME_TYPE_Pensioner', 'NAME_INCOME_TYPE_State_servant', 'NAME_INCOME_TYPE_Student', 'NAME_INCOME_TYPE_Unemployed', 'NAME_INCOME_TYPE_Working', 'NAME_EDUCATION_TYPE_Academic_degree', 'NAME_EDUCATION_TYPE_Higher_education', 'NAME_EDUCATION_TYPE_Incomplete_higher', 'NAME_EDUCATION_TYPE_Lower_secondary', 'NAME_EDUCATION_TYPE_Secondary___secondary_special', 'NAME_FAMILY_STATUS_Civil_marriage', 'NAME_FAMILY_STATUS_Married', 'NAME_FAMILY_STATUS_Separated', 'NAME_FAMILY_STATUS_Single___not_married', 'NAME_FAMILY_STATUS_Widow', 'NAME_HOUSING_TYPE_Co_op_apartment', 'NAME_HOUSING_TYPE_House___apartment', 'NAME_HOUSING_TYPE_Municipal_apartment', 'NAME_HOUSING_TYPE_Office_apartment', 'NAME_HOUSING_TYPE_Rented_apartment', 'NAME_HOUSING_TYPE_With_parents', 'OCCUPATION_TYPE_Accountants', 'OCCUPATION_TYPE_Cleaning_staff', 'OCCUPATION_TYPE_Cooking_staff', 'OCCUPATION_TYPE_Core_staff', 'OCCUPATION_TYPE_Drivers', 'OCCUPATION_TYPE_HR_staff', 'OCCUPATION_TYPE_High_skill_tech_staff', 'OCCUPATION_TYPE_IT_staff', 'OCCUPATION_TYPE_Laborers', 'OCCUPATION_TYPE_Low_skill_Laborers', 'OCCUPATION_TYPE_Managers', 'OCCUPATION_TYPE_Medicine_staff', 'OCCUPATION_TYPE_Private_service_staff', 'OCCUPATION_TYPE_Realty_agents', 'OCCUPATION_TYPE_Sales_staff', 'OCCUPATION_TYPE_Secretaries', 'OCCUPATION_TYPE_Security_staff', 'OCCUPATION_TYPE_Waiters_barmen_staff', 'WEEKDAY_APPR_PROCESS_START_FRIDAY', 'WEEKDAY_APPR_PROCESS_START_MONDAY', 'WEEKDAY_APPR_PROCESS_START_SATURDAY', 'WEEKDAY_APPR_PROCESS_START_SUNDAY', 'WEEKDAY_APPR_PROCESS_START_THURSDAY', 'WEEKDAY_APPR_PROCESS_START_TUESDAY', 'WEEKDAY_APPR_PROCESS_START_WEDNESDAY', 'ORGANIZATION_TYPE_Advertising', 'ORGANIZATION_TYPE_Agriculture', 'ORGANIZATION_TYPE_Bank', 'ORGANIZATION_TYPE_Business_Entity_Type_1', 'ORGANIZATION_TYPE_Business_Entity_Type_2', 'ORGANIZATION_TYPE_Business_Entity_Type_3', 'ORGANIZATION_TYPE_Cleaning', 'ORGANIZATION_TYPE_Construction', 'ORGANIZATION_TYPE_Culture', 'ORGANIZATION_TYPE_Electricity', 'ORGANIZATION_TYPE_Emergency', 'ORGANIZATION_TYPE_Government', 'ORGANIZATION_TYPE_Hotel', 'ORGANIZATION_TYPE_Housing', 'ORGANIZATION_TYPE_Industry__type_1', 'ORGANIZATION_TYPE_Industry__type_10', 'ORGANIZATION_TYPE_Industry__type_11', 'ORGANIZATION_TYPE_Industry__type_12', 'ORGANIZATION_TYPE_Industry__type_13', 'ORGANIZATION_TYPE_Industry__type_2', 'ORGANIZATION_TYPE_Industry__type_3', 'ORGANIZATION_TYPE_Industry__type_4', 'ORGANIZATION_TYPE_Industry__type_5', 'ORGANIZATION_TYPE_Industry__type_6', 'ORGANIZATION_TYPE_Industry__type_7', 'ORGANIZATION_TYPE_Industry__type_8', 'ORGANIZATION_TYPE_Industry__type_9', 'ORGANIZATION_TYPE_Insurance', 'ORGANIZATION_TYPE_Kindergarten', 'ORGANIZATION_TYPE_Legal_Services', 'ORGANIZATION_TYPE_Medicine', 'ORGANIZATION_TYPE_Military', 'ORGANIZATION_TYPE_Mobile', 'ORGANIZATION_TYPE_Other', 'ORGANIZATION_TYPE_Police', 'ORGANIZATION_TYPE_Postal', 'ORGANIZATION_TYPE_Realtor', 'ORGANIZATION_TYPE_Religion', 'ORGANIZATION_TYPE_Restaurant', 'ORGANIZATION_TYPE_School', 'ORGANIZATION_TYPE_Security', 'ORGANIZATION_TYPE_Security_Ministries', 'ORGANIZATION_TYPE_Self_employed', 'ORGANIZATION_TYPE_Services', 'ORGANIZATION_TYPE_Telecom', 'ORGANIZATION_TYPE_Trade__type_1', 'ORGANIZATION_TYPE_Trade__type_2', 'ORGANIZATION_TYPE_Trade__type_3', 'ORGANIZATION_TYPE_Trade__type_4', 'ORGANIZATION_TYPE_Trade__type_5', 'ORGANIZATION_TYPE_Trade__type_6', 'ORGANIZATION_TYPE_Trade__type_7', 'ORGANIZATION_TYPE_Transport__type_1', 'ORGANIZATION_TYPE_Transport__type_2', 'ORGANIZATION_TYPE_Transport__type_3', 'ORGANIZATION_TYPE_Transport__type_4', 'ORGANIZATION_TYPE_University', 'ORGANIZATION_TYPE_XNA', 'FONDKAPREMONT_MODE_not_specified', 'FONDKAPREMONT_MODE_org_spec_account', 'FONDKAPREMONT_MODE_reg_oper_account', 'FONDKAPREMONT_MODE_reg_oper_spec_account', 'HOUSETYPE_MODE_block_of_flats', 'HOUSETYPE_MODE_specific_housing', 'HOUSETYPE_MODE_terraced_house', 'WALLSMATERIAL_MODE_Block', 'WALLSMATERIAL_MODE_Mixed', 'WALLSMATERIAL_MODE_Monolithic', 'WALLSMATERIAL_MODE_Others', 'WALLSMATERIAL_MODE_Panel', 'WALLSMATERIAL_MODE_Stone__brick', 'WALLSMATERIAL_MODE_Wooden', 'EMERGENCYSTATE_MODE_No', 'EMERGENCYSTATE_MODE_Yes', 'DAYS_EMPLOYED_ANOM']\n"
          ]
        }
      ]
    },
    {
      "cell_type": "markdown",
      "metadata": {
        "id": "oFEC8O_BJZev"
      },
      "source": [
        "### Initialisation de MLflow"
      ]
    },
    {
      "cell_type": "code",
      "execution_count": null,
      "metadata": {
        "id": "pXO01oLpNTYl",
        "colab": {
          "base_uri": "https://localhost:8080/"
        },
        "outputId": "93f9a40e-994d-440d-ee6b-8ff0baf2b138"
      },
      "outputs": [
        {
          "output_type": "execute_result",
          "data": {
            "text/plain": [
              "<Experiment: artifact_location=('file:///content/drive/MyDrive/Colab '\n",
              " 'Notebooks/DS_projet_7/mlflow/706359919036996243'), creation_time=1737912440232, experiment_id='706359919036996243', last_update_time=1737912440232, lifecycle_stage='active', name='Multi-Model Experiment lightgbm score metier', tags={}>"
            ]
          },
          "metadata": {},
          "execution_count": 19
        }
      ],
      "source": [
        "import mlflow\n",
        "import os\n",
        "\n",
        "# Créer le répertoire mlflow s'il n'existe pas\n",
        "mlflow_directory = \"/content/drive/MyDrive/Colab Notebooks/DS_projet_7/mlflow\"\n",
        "os.makedirs(mlflow_directory, exist_ok=True)\n",
        "\n",
        "# Définir l'URI de suivi MLflow\n",
        "mlflow.set_tracking_uri(f\"file://{mlflow_directory}\")\n",
        "\n",
        "# Définir l'expérience\n",
        "mlflow.set_experiment(\"Multi-Model Experiment lightgbm score metier\")\n",
        "\n",
        "#Model Experiment 3 LightGBM : scale_pos_weight + bagging_fraction & pos_bagging_fraction\n",
        "#Model Experiment 3 LightGBM 06c338951b22474bae75bcaf73dfd006 : scale_pos_weight (seuil optimal : 0,1)\n",
        "#Model Experiment 3 LightGBM 6384c7a1e96c4d7088902ac022cd934c : (erreur scaler is_unbalance=True) scale_pos_weight (seuil optimal : 0,55)\n",
        "#Model Experiment 3 LightGBM SMOTE b0270a2828ce47cb80fea07e96fbecd4 : changement du calcul score metier"
      ]
    },
    {
      "cell_type": "code",
      "execution_count": null,
      "metadata": {
        "id": "W7GiQT02JsNd"
      },
      "outputs": [],
      "source": [
        "input_example = X_train.iloc[[1]].values  # Obtenir les valeurs de la deuxième ligne (index 1)"
      ]
    },
    {
      "cell_type": "markdown",
      "metadata": {
        "id": "jOOkMOR0vISE"
      },
      "source": [
        "### Préparation des outils et des données"
      ]
    },
    {
      "cell_type": "code",
      "execution_count": null,
      "metadata": {
        "id": "a8pdL9GOvXTo",
        "colab": {
          "base_uri": "https://localhost:8080/",
          "height": 178
        },
        "outputId": "69203c3f-d61e-49a5-feec-43623f7b14b2"
      },
      "outputs": [
        {
          "output_type": "execute_result",
          "data": {
            "text/plain": [
              "TARGET\n",
              "0    0.919271\n",
              "1    0.080729\n",
              "Name: proportion, dtype: float64"
            ],
            "text/html": [
              "<div>\n",
              "<style scoped>\n",
              "    .dataframe tbody tr th:only-of-type {\n",
              "        vertical-align: middle;\n",
              "    }\n",
              "\n",
              "    .dataframe tbody tr th {\n",
              "        vertical-align: top;\n",
              "    }\n",
              "\n",
              "    .dataframe thead th {\n",
              "        text-align: right;\n",
              "    }\n",
              "</style>\n",
              "<table border=\"1\" class=\"dataframe\">\n",
              "  <thead>\n",
              "    <tr style=\"text-align: right;\">\n",
              "      <th></th>\n",
              "      <th>proportion</th>\n",
              "    </tr>\n",
              "    <tr>\n",
              "      <th>TARGET</th>\n",
              "      <th></th>\n",
              "    </tr>\n",
              "  </thead>\n",
              "  <tbody>\n",
              "    <tr>\n",
              "      <th>0</th>\n",
              "      <td>0.919271</td>\n",
              "    </tr>\n",
              "    <tr>\n",
              "      <th>1</th>\n",
              "      <td>0.080729</td>\n",
              "    </tr>\n",
              "  </tbody>\n",
              "</table>\n",
              "</div><br><label><b>dtype:</b> float64</label>"
            ]
          },
          "metadata": {},
          "execution_count": 21
        }
      ],
      "source": [
        "target.value_counts(normalize=True)  # Vérifie la proportion de chaque classe"
      ]
    },
    {
      "cell_type": "markdown",
      "metadata": {
        "id": "j6ktmKnjvmwZ"
      },
      "source": [
        "### Ajout d’une pipeline et Optimisation des hyperparamètres\n",
        "Créer une pipeline pour standardiser le traitement, incluant SMOTE, la normalisation, et le modèle.\n",
        "\n",
        "Intégration de RandomizedSearchCV pour trouver les meilleurs hyperparamètres d’un modèle dans une pipeline."
      ]
    },
    {
      "cell_type": "code",
      "execution_count": null,
      "metadata": {
        "id": "1rKwB1molO2v"
      },
      "outputs": [],
      "source": [
        "import time\n",
        "import joblib\n",
        "from sklearn.model_selection import RandomizedSearchCV, GridSearchCV\n",
        "from imblearn.pipeline import Pipeline as ImbPipeline\n",
        "from sklearn.metrics import roc_curve, auc, roc_auc_score, accuracy_score, f1_score, precision_score, recall_score\n",
        "from sklearn.impute import SimpleImputer\n",
        "from sklearn.preprocessing import MinMaxScaler\n",
        "from imblearn.over_sampling import SMOTE\n",
        "from imblearn.pipeline import Pipeline as ImbPipeline\n",
        "from mlflow.sklearn import load_model, log_model\n",
        "from joblib import Parallel, delayed\n",
        "from sklearn.experimental import enable_hist_gradient_boosting\n",
        "from sklearn.ensemble import HistGradientBoostingClassifier\n",
        "# Calculer la proportion des classes\n",
        "from collections import Counter\n",
        "# Import the necessary class\n",
        "from lightgbm import LGBMClassifier"
      ]
    },
    {
      "cell_type": "markdown",
      "metadata": {
        "id": "ASyyF5-2_8LV"
      },
      "source": [
        "#### hyperparamètres\n",
        "- **learning_rate**\tContrôle la vitesse d'apprentissage du modèle (petite valeur = apprentissage lent mais stable, grande valeur = apprentissage rapide mais risque d'overfitting).\n",
        "- **n_estimators**\tNombre total d'arbres dans le modèle (plus d'arbres = meilleure généralisation, mais plus de temps de calcul).\n",
        "- **max_depth**\tProfondeur maximale des arbres (évite l'overfitting, mais limite la capacité d'apprentissage). None pour laisser l'algorithme décider.\n",
        "- **num_leaves**\tNombre maximal de feuilles par arbre (plus de feuilles = plus de complexité). Par défaut, 31 est souvent un bon compromis.\n",
        "- **min_child_samples**\tNombre minimal d'échantillons requis dans un nœud pour qu'il soit divisé (évite le sur-ajustement).\n",
        "- **subsample**\tFraction des données utilisées pour chaque arbre (empêche l'overfitting, aide la généralisation).\n",
        "- **colsample_bytree**\tFraction des features utilisées pour chaque arbre (évite l'overfitting et accélère l'entraînement).\n",
        "- **min_split_gain**\tGain minimum requis pour diviser un nœud (évite les splits inutiles).\n",
        "- **lambda_l1**\tRégularisation L1 (encourage la sparsité des poids pour éviter l'overfitting).\n",
        "- **lambda_l2**\tRégularisation L2 (évite les poids trop élevés pour stabiliser l'apprentissage).\n",
        "- **scale_pos_weight**\tPoids des classes pour gérer le déséquilibre (ex: si classe 1 est 10x plus rare, mettre 10).\n",
        "\n",
        "**Je couvre les principaux paramètres qui influencent l'overfitting, la vitesse d’apprentissage, et l'équilibre des classes**"
      ]
    },
    {
      "cell_type": "code",
      "source": [
        "class_counts = Counter(y_train)  # Compte des classes\n",
        "y_train_negative = class_counts[0]  # Classe négative (étiquetée comme 0)\n",
        "y_train_positive = class_counts[1]  # Classe positive (étiquetée comme 1)"
      ],
      "metadata": {
        "id": "X4T12Rocg_gS"
      },
      "execution_count": null,
      "outputs": []
    },
    {
      "cell_type": "code",
      "source": [
        "models_with_params = {\n",
        "    \"LightGBM\": {\n",
        "        \"model\": LGBMClassifier(is_unbalance=True, random_state=42),\n",
        "        \"params\": {\n",
        "            'model__learning_rate': [0.03, 0.05],  # Plus lent mais plus stable\n",
        "            'model__n_estimators': [200, 300, 400],  # Plus d’arbres pour plus de robustesse\n",
        "            'model__max_depth': [10, 15],  # Permet de capturer plus d’interactions sans sur-apprentissage\n",
        "            'model__num_leaves': [31, 50, 70],  # Teste plus de feuilles pour voir plus de structures\n",
        "            'model__min_child_samples': [5, 10, 20],  # Ajuste la granularité des sous-groupes\n",
        "            'model__bagging_fraction': [0.7, 0.8],  # Ajustement fin du sous-échantillonnage\n",
        "            'model__colsample_bytree': [0.6, 0.8, 1.0],  # Utilisation de plus de features par arbre\n",
        "            #'model__scale_pos_weight': [6, 7, 8, 9],  # Meilleur équilibre entre FP et FN\n",
        "            'model__pos_bagging_fraction': [0.6, 0.7]  # Ajustement du rééquilibrage dans les mini-batches\n",
        "        }\n",
        "    }\n",
        "}"
      ],
      "metadata": {
        "id": "HN9U-Kq3udS5"
      },
      "execution_count": null,
      "outputs": []
    },
    {
      "cell_type": "code",
      "execution_count": null,
      "metadata": {
        "id": "WApsdeXo8Szu",
        "colab": {
          "base_uri": "https://localhost:8080/",
          "height": 139
        },
        "outputId": "5387e8fb-41b7-4cd2-dfcc-401b61440971"
      },
      "outputs": [
        {
          "output_type": "execute_result",
          "data": {
            "text/plain": [
              "'# Dictionnaire des modèles avec leurs hyperparamètres\\n\\nmodels_with_params = {\\n    \"LightGBM\": {\\n        \"model\": LGBMClassifier(random_state=42),\\n        \"params\": {\\n            \\'model__learning_rate\\': [0.01, 0.05, 0.1, 0.2],\\n            \\'model__n_estimators\\': [50, 100, 200, 300],\\n            \\'model__max_depth\\': [10, 15, 20],  # Teste des profondeurs plus élevées\\n            \\'model__num_leaves\\': [31, 50, 70],  # Teste plus de feuilles\\n            \\'model__min_child_samples\\': [10, 50, 100],\\n            \\'model__bagging_fraction\\': [0.6, 0.8],  # Teste 60% et 80% de données par itération\\n            \\'model__colsample_bytree\\': [0.6, 0.8, 1.0],\\n            \\'model__min_split_gain\\': [0.0, 0.1, 0.2],\\n            \\'model__lambda_l1\\': [0.0, 0.1, 0.5],  # Diminue la régularisation L1\\n            \\'model__lambda_l2\\': [0.0, 0.1, 0.5],  # Diminue la régularisation L2\\n            \\'model__scale_pos_weight\\': [5, 7, 9],  # Équilibre mieux `TARGET=1`\\n            \\'model__pos_bagging_fraction\\': [0.6, 0.7],  # Augmente encore la part de `TARGET=1`\\n        }\\n    }\\n}'"
            ],
            "application/vnd.google.colaboratory.intrinsic+json": {
              "type": "string"
            }
          },
          "metadata": {},
          "execution_count": 25
        }
      ],
      "source": [
        "\"\"\"# Dictionnaire des modèles avec leurs hyperparamètres\n",
        "\n",
        "models_with_params = {\n",
        "    \"LightGBM\": {\n",
        "        \"model\": LGBMClassifier(random_state=42),\n",
        "        \"params\": {\n",
        "            'model__learning_rate': [0.01, 0.05, 0.1, 0.2],\n",
        "            'model__n_estimators': [50, 100, 200, 300],\n",
        "            'model__max_depth': [10, 15, 20],  # Teste des profondeurs plus élevées\n",
        "            'model__num_leaves': [31, 50, 70],  # Teste plus de feuilles\n",
        "            'model__min_child_samples': [10, 50, 100],\n",
        "            'model__bagging_fraction': [0.6, 0.8],  # Teste 60% et 80% de données par itération\n",
        "            'model__colsample_bytree': [0.6, 0.8, 1.0],\n",
        "            'model__min_split_gain': [0.0, 0.1, 0.2],\n",
        "            'model__lambda_l1': [0.0, 0.1, 0.5],  # Diminue la régularisation L1\n",
        "            'model__lambda_l2': [0.0, 0.1, 0.5],  # Diminue la régularisation L2\n",
        "            'model__scale_pos_weight': [5, 7, 9],  # Équilibre mieux `TARGET=1`\n",
        "            'model__pos_bagging_fraction': [0.6, 0.7],  # Augmente encore la part de `TARGET=1`\n",
        "        }\n",
        "    }\n",
        "}\"\"\""
      ]
    },
    {
      "cell_type": "markdown",
      "metadata": {
        "id": "2B7K1juU_zKB"
      },
      "source": [
        "#### score métier\n",
        "Coûts différenciés\n",
        "\n",
        "La fonction utilise deux paramètres, cost_fnet cost_fp, avec par défaut cost_fn=10et cost_fp=1 : le coût d'un faux négatif doit être dix fois supérieur à celui d'un faux positif.\n",
        "\n",
        "Calcul du coût total\n",
        "\n",
        "La méthode calcule le coût total en multipliant le nombre de faux négatifs par cost_fnet le nombre de faux positifs par cost_fppuis en faisant la somme.\n",
        "Ce calcul permet d'obtenir une mesure globale de l'impact financier sur l'ensemble du jeu de données , ce qui est pertinent dans le contexte métier.\n",
        "\n",
        "L'optimisation du seuil est dans la boucle"
      ]
    },
    {
      "cell_type": "code",
      "execution_count": null,
      "metadata": {
        "id": "ix-DPFjl_nFu"
      },
      "outputs": [],
      "source": [
        "def custom_cost_function(y_true, y_pred, cost_fn=10, cost_fp=1):\n",
        "    \"\"\"\n",
        "    Calcul d'un score métier basé sur le coût des erreurs.\n",
        "\n",
        "    Args:\n",
        "    y_true (array-like): Valeurs réelles.\n",
        "    y_pred (array-like): Prédictions du modèle.\n",
        "    cost_fn (int): Coût d'un faux négatif.\n",
        "    cost_fp (int): Coût d'un faux positif.\n",
        "\n",
        "    Returns:\n",
        "    float: Coût total des erreurs.\n",
        "    \"\"\"\n",
        "    # Matrice de confusion\n",
        "    tn, fp, fn, tp = confusion_matrix(y_true, y_pred).ravel()\n",
        "\n",
        "    # Calcul du coût total\n",
        "    total_cost = (cost_fp * fp) + (cost_fn * fn)\n",
        "    return total_cost"
      ]
    },
    {
      "cell_type": "markdown",
      "metadata": {
        "id": "yHXI7IVjAIwM"
      },
      "source": [
        "#### RandomizedSearchCV\n",
        "RandomizedSearchCV est souvent plus efficace que GridSearchCV, car il permet d’explorer un large espace d’hyperparamètres avec moins de calculs.\n",
        "\n",
        "- Avantages de RandomizedSearchCV :\n",
        "\n",
        "Il teste un sous-ensemble aléatoire des combinaisons possibles, ce qui est beaucoup plus rapide que de tester toutes les combinaisons (GridSearchCV).\n",
        "Il est idéal pour des modèles avec beaucoup d’hyperparamètres, comme LightGBM."
      ]
    },
    {
      "cell_type": "code",
      "execution_count": null,
      "metadata": {
        "id": "MgJAdkw0_qmJ"
      },
      "outputs": [],
      "source": [
        "from sklearn.utils.class_weight import compute_sample_weight\n",
        "from imblearn.pipeline import Pipeline as ImbPipeline\n",
        "import joblib"
      ]
    },
    {
      "cell_type": "code",
      "source": [
        "# experimentation 3 param augmenté\n",
        "def train_pipeline(model_name, model, params, X_train, y_train):\n",
        "    print(f\"\\nEntraînement du pipeline pour {model_name}...\")\n",
        "\n",
        "    # Création du pipeline\n",
        "    pipeline = ImbPipeline(steps=[\n",
        "        ('imputer', SimpleImputer(strategy='median')),\n",
        "        ('model', model)\n",
        "    ])\n",
        "\n",
        "    # Initialisation de RandomizedSearchCV\n",
        "    random_search = RandomizedSearchCV(\n",
        "        estimator=pipeline,\n",
        "        param_distributions=params,\n",
        "        n_iter=20,\n",
        "        scoring='roc_auc',\n",
        "        cv=3,\n",
        "        n_jobs=-1,\n",
        "        random_state=42\n",
        "    )\n",
        "\n",
        "    try:\n",
        "        # Entraîner le modèle\n",
        "        random_search.fit(X_train, y_train)\n",
        "\n",
        "        # Sauvegarde du meilleur modèle\n",
        "        joblib.dump(random_search.best_estimator_, f'pipeline_{model_name}.pkl')\n",
        "        print(f\"Pipeline pour {model_name} sauvegardé sous le nom pipeline_{model_name}.pkl\")\n",
        "\n",
        "        # Sauvegarder les résultats de recherche\n",
        "        results_df = pd.DataFrame(random_search.cv_results_)\n",
        "        results_df.to_csv(f'results_{model_name}.csv', index=False)\n",
        "        print(f\"Résultats sauvegardés dans results_{model_name}.csv\")\n",
        "\n",
        "        return random_search.best_params_\n",
        "\n",
        "    except Exception as e:\n",
        "        print(f\"Erreur lors de l'entraînement du pipeline pour {model_name} : {e}\")\n",
        "        return None"
      ],
      "metadata": {
        "id": "GFtkgCUTdQUf"
      },
      "execution_count": null,
      "outputs": []
    },
    {
      "cell_type": "markdown",
      "metadata": {
        "id": "kOANLI4fAQXh"
      },
      "source": [
        "#### training"
      ]
    },
    {
      "cell_type": "code",
      "execution_count": null,
      "metadata": {
        "id": "uboGRFSEAZeJ",
        "colab": {
          "base_uri": "https://localhost:8080/"
        },
        "outputId": "07ac6a72-1f45-4620-9e8f-48816918b439"
      },
      "outputs": [
        {
          "output_type": "stream",
          "name": "stdout",
          "text": [
            "\n",
            "Entraînement du modèle : LightGBM\n",
            "\n",
            "Entraînement du pipeline pour LightGBM...\n",
            "[LightGBM] [Warning] bagging_fraction is set=0.8, subsample=1.0 will be ignored. Current value: bagging_fraction=0.8\n",
            "[LightGBM] [Warning] bagging_fraction is set=0.8, subsample=1.0 will be ignored. Current value: bagging_fraction=0.8\n",
            "[LightGBM] [Info] Number of positive: 19876, number of negative: 226132\n",
            "[LightGBM] [Info] Auto-choosing col-wise multi-threading, the overhead of testing was 0.468108 seconds.\n",
            "You can set `force_col_wise=true` to remove the overhead.\n",
            "[LightGBM] [Info] Total Bins 11717\n",
            "[LightGBM] [Info] Number of data points in the train set: 246008, number of used features: 235\n",
            "[LightGBM] [Info] [binary:BoostFromScore]: pavg=0.080794 -> initscore=-2.431606\n",
            "[LightGBM] [Info] Start training from score -2.431606\n",
            "Pipeline pour LightGBM sauvegardé sous le nom pipeline_LightGBM.pkl\n",
            "Résultats sauvegardés dans results_LightGBM.csv\n",
            "Meilleurs paramètres pour LightGBM : {'model__pos_bagging_fraction': 0.7, 'model__num_leaves': 31, 'model__n_estimators': 300, 'model__min_child_samples': 10, 'model__max_depth': 10, 'model__learning_rate': 0.03, 'model__colsample_bytree': 0.6, 'model__bagging_fraction': 0.8}\n",
            "\n",
            "Résultats finaux :\n",
            "LightGBM: {'model__pos_bagging_fraction': 0.7, 'model__num_leaves': 31, 'model__n_estimators': 300, 'model__min_child_samples': 10, 'model__max_depth': 10, 'model__learning_rate': 0.03, 'model__colsample_bytree': 0.6, 'model__bagging_fraction': 0.8}\n"
          ]
        }
      ],
      "source": [
        "if __name__ == \"__main__\":\n",
        "    # Vérifier si les données sont disponibles et ont une forme correcte\n",
        "    if X_train is not None and y_train is not None:\n",
        "        if X_train.shape[0] != y_train.shape[0]:\n",
        "            print(\"Erreur : Le nombre d'exemples dans X_train et y_train ne correspond pas.\")\n",
        "        else:\n",
        "            results = {}\n",
        "\n",
        "            # Parcourir les modèles du dictionnaire et les entraîner un par un\n",
        "            for model_name, model_data in models_with_params.items():\n",
        "                print(f\"\\nEntraînement du modèle : {model_name}\")\n",
        "\n",
        "                try:\n",
        "                    # Entraîner le modèle et récupérer les meilleurs hyperparamètres\n",
        "                    best_params = train_pipeline(\n",
        "                        model_name=model_name,\n",
        "                        model=model_data[\"model\"],\n",
        "                        params=model_data[\"params\"],\n",
        "                        X_train=X_train,\n",
        "                        y_train=y_train\n",
        "                    )\n",
        "\n",
        "                    results[model_name] = best_params\n",
        "                    print(f\"Meilleurs paramètres pour {model_name} : {best_params}\")\n",
        "                except Exception as e:\n",
        "                    print(f\"Erreur lors de l'entraînement de {model_name} : {e}\")\n",
        "\n",
        "            # Afficher les résultats finaux\n",
        "            print(\"\\nRésultats finaux :\")\n",
        "            for model, params in results.items():\n",
        "                print(f\"{model}: {params}\")\n",
        "    else:\n",
        "        print(\"Erreur : Les données d'entraînement ne sont pas disponibles.\")"
      ]
    },
    {
      "cell_type": "markdown",
      "metadata": {
        "id": "iQfV2EmlxlMG"
      },
      "source": [
        "### Boucle sur plusieurs modèles avec journalisation MLflow"
      ]
    },
    {
      "cell_type": "code",
      "execution_count": null,
      "metadata": {
        "id": "90R060tbhCZ6",
        "colab": {
          "base_uri": "https://localhost:8080/"
        },
        "outputId": "7fc50ae8-da75-4f1b-fd49-9dc4ec06d519"
      },
      "outputs": [
        {
          "output_type": "stream",
          "name": "stdout",
          "text": [
            "scikit-learn version: 1.6.1\n"
          ]
        }
      ],
      "source": [
        "import sklearn\n",
        "from sklearn.metrics import confusion_matrix\n",
        "print(f\"scikit-learn version: {sklearn.__version__}\")"
      ]
    },
    {
      "cell_type": "code",
      "execution_count": null,
      "metadata": {
        "id": "LzjfhtG_khtK"
      },
      "outputs": [],
      "source": [
        "# Liste des modèles\n",
        "models = {\n",
        "    \"LightGBM\": LGBMClassifier(is_unbalance=True, random_state=42)  # Paramètre pour gérer les classes déséquilibrées\n",
        "}"
      ]
    },
    {
      "cell_type": "code",
      "execution_count": null,
      "metadata": {
        "id": "3hs9Vw9Hl28G"
      },
      "outputs": [],
      "source": [
        "# Liste pour stocker les courbes ROC\n",
        "roc_curves = []"
      ]
    },
    {
      "cell_type": "code",
      "execution_count": null,
      "metadata": {
        "id": "kTfJHXeKQSQw"
      },
      "outputs": [],
      "source": [
        "# Répertoire pour les sorties\n",
        "output_dir = \"mlflow_outputs\"\n",
        "os.makedirs(output_dir, exist_ok=True)"
      ]
    },
    {
      "cell_type": "code",
      "execution_count": null,
      "metadata": {
        "id": "t_0OE1eXQGfe",
        "colab": {
          "base_uri": "https://localhost:8080/"
        },
        "outputId": "d7cebdd8-c468-4b9a-e5e6-5df44b650b80"
      },
      "outputs": [
        {
          "output_type": "stream",
          "name": "stdout",
          "text": [
            "[LightGBM] [Info] Number of positive: 19876, number of negative: 226132\n",
            "[LightGBM] [Info] Auto-choosing row-wise multi-threading, the overhead of testing was 0.244496 seconds.\n",
            "You can set `force_row_wise=true` to remove the overhead.\n",
            "And if memory is not enough, you can set `force_col_wise=true`.\n",
            "[LightGBM] [Info] Total Bins 11711\n",
            "[LightGBM] [Info] Number of data points in the train set: 246008, number of used features: 232\n",
            "[LightGBM] [Info] [binary:BoostFromScore]: pavg=0.080794 -> initscore=-2.431606\n",
            "[LightGBM] [Info] Start training from score -2.431606\n",
            "Optimal Threshold: 0.5500000000000002\n",
            "Modèle LightGBM journalisé avec succès.\n"
          ]
        }
      ],
      "source": [
        "# Boucle sur chaque modèle\n",
        "for model_name, model in models.items():\n",
        "    start_time = time.time()\n",
        "\n",
        "    try:\n",
        "        # === Définir la pipeline ===\n",
        "        pipeline = ImbPipeline(steps=[\n",
        "            ('imputer', SimpleImputer(strategy='median')),\n",
        "            ('model', model)\n",
        "        ])\n",
        "\n",
        "        # === Entraîner la pipeline ===\n",
        "        pipeline.fit(X_train, y_train)\n",
        "\n",
        "        # Sauvegarder la pipeline localement\n",
        "        pipeline_path = os.path.join(output_dir, f'pipeline_{model_name}.pkl')\n",
        "        joblib.dump(pipeline, pipeline_path)\n",
        "\n",
        "        # === Prédictions ===\n",
        "        y_pred = pipeline.predict(X_test)\n",
        "        y_prob = pipeline.predict_proba(X_test)[:, 1] if hasattr(pipeline, \"predict_proba\") else None\n",
        "\n",
        "        # === Calcul des métriques ===\n",
        "        total_cost = custom_cost_function(y_test, y_pred, cost_fn=10, cost_fp=1)\n",
        "        accuracy = accuracy_score(y_test, y_pred)\n",
        "        f1 = f1_score(y_test, y_pred)\n",
        "        precision = precision_score(y_test, y_pred)\n",
        "        recall = recall_score(y_test, y_pred)\n",
        "        auc_roc = roc_auc_score(y_test, y_prob) if y_prob is not None else None\n",
        "\n",
        "        # === Ajustement du seuil pour minimiser le coût personnalisé ===\n",
        "        optimal_threshold = None\n",
        "        if y_prob is not None:\n",
        "            thresholds = np.arange(0.1, 1.0, 0.05)\n",
        "            costs = []\n",
        "\n",
        "            for threshold in thresholds:\n",
        "                y_pred_class = (y_prob >= threshold).astype(int)\n",
        "                cost = custom_cost_function(y_test, y_pred_class, cost_fn=10, cost_fp=1)\n",
        "                costs.append(cost)\n",
        "\n",
        "            optimal_threshold = thresholds[np.argmin(costs)]\n",
        "            print(f\"Optimal Threshold: {optimal_threshold}\")\n",
        "\n",
        "        # === MLflow : Enregistrement ===\n",
        "        with mlflow.start_run(run_name=model_name):\n",
        "            # Paramètres du modèle\n",
        "            mlflow.log_param(\"model_name\", model_name)\n",
        "\n",
        "            # Enregistrer les meilleurs hyperparamètres\n",
        "            if isinstance(model, RandomizedSearchCV):\n",
        "                best_params = model.best_params_\n",
        "                for param_name, param_value in best_params.items():\n",
        "                    mlflow.log_param(param_name, param_value)\n",
        "            else:\n",
        "                # En cas de modèle simple (sans recherche hyperparamétrique)\n",
        "                if hasattr(model, \"n_estimators\"):\n",
        "                    mlflow.log_param(\"n_estimators\", model.n_estimators)\n",
        "                if hasattr(model, \"max_depth\"):\n",
        "                    mlflow.log_param(\"max_depth\", model.max_depth)\n",
        "                if hasattr(model, \"learning_rate\"):\n",
        "                    mlflow.log_param(\"learning_rate\", model.learning_rate)\n",
        "\n",
        "            # Enregistrer les métriques\n",
        "            mlflow.log_metric(\"custom_cost\", total_cost)\n",
        "            mlflow.log_metric(\"accuracy\", accuracy)\n",
        "            mlflow.log_metric(\"f1_score\", f1)\n",
        "            mlflow.log_metric(\"precision\", precision)\n",
        "            mlflow.log_metric(\"recall\", recall)\n",
        "            if auc_roc is not None:\n",
        "                mlflow.log_metric(\"auc_roc\", auc_roc)\n",
        "\n",
        "            # Enregistrer le seuil optimal\n",
        "            if optimal_threshold is not None:\n",
        "                mlflow.log_param(\"optimal_threshold\", optimal_threshold)\n",
        "\n",
        "            # Enregistrer le pipeline complet\n",
        "            joblib.dump(model, f'{model_name}_pipeline.pkl')\n",
        "            mlflow.log_artifact(f'{model_name}_pipeline.pkl')\n",
        "\n",
        "            # Journaliser la pipeline dans MLflow\n",
        "            input_example = pd.DataFrame(X_train[:1])  # Exemple d'entrée pour le modèle\n",
        "            log_model(\n",
        "                sk_model=pipeline,\n",
        "                artifact_path=\"model_pipeline\",\n",
        "                input_example=input_example\n",
        "            )\n",
        "\n",
        "            # === Courbe ROC ===\n",
        "            if y_prob is not None:\n",
        "                plt.figure()\n",
        "                fpr, tpr, _ = roc_curve(y_test, y_prob)\n",
        "                roc_auc = auc(fpr, tpr)\n",
        "                plt.plot(fpr, tpr, label=f'ROC curve (AUC = {roc_auc:.2f})')\n",
        "                plt.plot([0, 1], [0, 1], 'k--')\n",
        "                plt.title(f'ROC Curve - {model_name}')\n",
        "                plt.xlabel('False Positive Rate')\n",
        "                plt.ylabel('True Positive Rate')\n",
        "                plt.legend(loc=\"lower right\")\n",
        "                roc_curve_path = os.path.join(output_dir, f\"roc_curve_{model_name}.png\")\n",
        "                plt.savefig(roc_curve_path)\n",
        "                plt.close()\n",
        "                mlflow.log_artifact(roc_curve_path)\n",
        "\n",
        "            # Enregistrer le temps d'exécution\n",
        "            elapsed_time = time.time() - start_time\n",
        "            mlflow.log_metric(\"training_time\", elapsed_time)\n",
        "\n",
        "        print(f\"Modèle {model_name} journalisé avec succès.\")\n",
        "    except Exception as e:\n",
        "        print(f\"Erreur lors de l'entraînement du modèle {model_name}: {e}\")"
      ]
    },
    {
      "cell_type": "markdown",
      "metadata": {
        "id": "PUcx13VSorj6"
      },
      "source": [
        "Metriques :\n",
        "- **F1-Score**\n",
        "Le F1-score est une métrique qui combine précision et rappel en un seul score harmonique. C'est utile lorsque vous avez un déséquilibre entre les classes, car il pénalise les modèles qui sacrifient l'une au profit de l'autre.\n",
        "\n",
        "Utilisé lorsque les faux positifs (FP) et faux négatifs (FN) sont également importants.\n",
        "\n",
        "- **AUC-ROC (Area Under the Curve - Receiver Operating Characteristic)**\n",
        "L'AUC-ROC mesure la capacité d'un modèle à discriminer entre les classes positives et négatives, en testant différents seuils de probabilité.\n",
        "Interprétation de l'AUC :\n",
        "AUC = 1 : Parfaite séparation des classes.\n",
        "AUC = 0.5 : Modèle aléatoire (aucune capacité de discrimination).\n",
        "AUC < 0.5 : Mauvais modèle (inversion des classes).\n",
        "\n",
        "Utile pour comparer des modèles indépendamment d'un seuil spécifique.\n",
        "\n",
        "- **Précision (Precision)**\n",
        "La précision mesure la proportion de vrais positifs parmi tous les échantillons prédits comme positifs.\n",
        "\n",
        "Utile lorsque les faux positifs sont coûteux.\n",
        "\n",
        "- **Rappel (Recall ou Sensibilité)**\n",
        "Le rappel mesure la proportion de vrais positifs parmi tous les échantillons qui sont effectivement positifs.\n",
        "\n",
        "- **Temps de calcul**\n",
        "mesurer le temps de calcul de chaque modèle\n",
        "\n",
        "Utile lorsque les faux négatifs sont coûteux.\n",
        "\n",
        "Précision vs Rappel : Il existe souvent un compromis entre précision et rappel. Une augmentation de l'un peut réduire l'autre.\n",
        "F1-Score : Trouve un équilibre entre précision et rappel.\n",
        "AUC-ROC : Évalue la performance globale sur tous les seuils.\n",
        "\n",
        "En utilisant ces prédictions :\n",
        "\n",
        "* Précision : Parmi les clients que le modèle dit éligibles, combien le sont vraiment ?\n",
        "* Rappel : Parmi les clients réellement éligibles, combien le modèle détecte-t-il ?\n",
        "* F1-Score : Moyenne harmonique de la précision et du rappel.\n",
        "* AUC-ROC : Mesure la capacité du modèle à distinguer entre les deux classes sur tous les seuils possibles.\n",
        "\n",
        "Ces métriques permettent de choisir le modèle qui répond le mieux à vos objectifs métier et aux coûts associés aux erreurs de classification."
      ]
    },
    {
      "cell_type": "code",
      "source": [
        "import matplotlib.pyplot as plt\n",
        "import numpy as np\n",
        "\n",
        "# Recalculer les coûts pour chaque seuil\n",
        "thresholds = np.arange(0.1, 1.0, 0.05)\n",
        "costs = []\n",
        "\n",
        "for threshold in thresholds:\n",
        "    y_pred_class = (y_prob >= threshold).astype(int)\n",
        "    cost = custom_cost_function(y_test, y_pred_class, cost_fn=10, cost_fp=1)\n",
        "    costs.append(cost)\n",
        "\n",
        "# Tracer le graphique du coût en fonction du seuil\n",
        "plt.figure(figsize=(8, 5))\n",
        "plt.plot(thresholds, costs, marker='o', linestyle='-')\n",
        "plt.xlabel(\"Seuil\")\n",
        "plt.ylabel(\"Coût\")\n",
        "plt.title(\"Évolution du coût en fonction du seuil de décision\")\n",
        "plt.axvline(optimal_threshold, color='r', linestyle='--', label=f\"Seuil optimal: {optimal_threshold:.2f}\")\n",
        "plt.legend()\n",
        "plt.show()\n"
      ],
      "metadata": {
        "id": "O-SuZ2Su23Pz",
        "colab": {
          "base_uri": "https://localhost:8080/",
          "height": 487
        },
        "outputId": "51565d30-bc2d-49e2-8e35-6ebbee91da68"
      },
      "execution_count": null,
      "outputs": [
        {
          "output_type": "display_data",
          "data": {
            "text/plain": [
              "<Figure size 800x500 with 1 Axes>"
            ],
            "image/png": "[encoded data removed]"
          },
          "metadata": {}
        }
      ]
    },
    {
      "cell_type": "code",
      "source": [
        "thresholds = np.arange(0.1, 1.0, 0.05)\n",
        "costs = []\n",
        "\n",
        "for threshold in thresholds:\n",
        "    y_pred_class = (y_prob >= threshold).astype(int)\n",
        "    cost = custom_cost_function(y_test, y_pred_class, cost_fn=10, cost_fp=1)\n",
        "    costs.append(cost)\n",
        "\n",
        "optimal_threshold = thresholds[np.argmin(costs)]\n",
        "print(f\"Nouveau seuil optimal après ajustement des classes: {optimal_threshold}\")"
      ],
      "metadata": {
        "colab": {
          "base_uri": "https://localhost:8080/"
        },
        "id": "rFuWY1Mi9k_O",
        "outputId": "14e4163b-258f-4ef7-deb6-5ad7a169aeb1"
      },
      "execution_count": null,
      "outputs": [
        {
          "output_type": "stream",
          "name": "stdout",
          "text": [
            "Nouveau seuil optimal après ajustement des classes: 0.5500000000000002\n"
          ]
        }
      ]
    },
    {
      "cell_type": "markdown",
      "metadata": {
        "id": "LywVAlaUKEtd"
      },
      "source": [
        "### Lancer l'interface MLflow UI\n",
        "Utilisation d'une interface web distante via ngrok(exposée au public), créer un compte et récupérer le token"
      ]
    },
    {
      "cell_type": "code",
      "execution_count": null,
      "metadata": {
        "id": "GfIrXKzgAi1J",
        "colab": {
          "base_uri": "https://localhost:8080/"
        },
        "outputId": "a2d78b85-8f8a-4b71-a5ab-d2b596946993"
      },
      "outputs": [
        {
          "output_type": "stream",
          "name": "stdout",
          "text": [
            "Authtoken saved to configuration file: /root/.config/ngrok/ngrok.yml\n"
          ]
        }
      ],
      "source": [
        "!ngrok authtoken 2qlJq50YUC2X62MFA1q7qxbILkY_5Dx45MFSwjmUQLvcqSHBU"
      ]
    },
    {
      "cell_type": "code",
      "execution_count": null,
      "metadata": {
        "id": "3FAVw2g7yNhK",
        "colab": {
          "base_uri": "https://localhost:8080/"
        },
        "outputId": "65c680f0-18a9-412a-9e2a-7dce7fb16a49"
      },
      "outputs": [
        {
          "output_type": "stream",
          "name": "stdout",
          "text": [
            "[2025-02-05 08:54:25 +0000] [10035] [INFO] Starting gunicorn 23.0.0\n",
            "[2025-02-05 08:54:25 +0000] [10035] [INFO] Listening at: http://127.0.0.1:5000 (10035)\n",
            "[2025-02-05 08:54:25 +0000] [10035] [INFO] Using worker: sync\n",
            "[2025-02-05 08:54:25 +0000] [10036] [INFO] Booting worker with pid: 10036\n",
            "[2025-02-05 08:54:25 +0000] [10037] [INFO] Booting worker with pid: 10037\n",
            "[2025-02-05 08:54:25 +0000] [10038] [INFO] Booting worker with pid: 10038\n",
            "[2025-02-05 08:54:25 +0000] [10043] [INFO] Booting worker with pid: 10043\n",
            "[2025-02-05 08:55:14 +0000] [10035] [CRITICAL] WORKER TIMEOUT (pid:10038)\n",
            "[2025-02-05 08:55:15 +0000] [10038] [ERROR] Error handling request /ajax-api/2.0/mlflow/runs/search\n",
            "Traceback (most recent call last):\n",
            "  File \"/usr/local/lib/python3.11/dist-packages/gunicorn/workers/sync.py\", line 134, in handle\n",
            "    self.handle_request(listener, req, client, addr)\n",
            "  File \"/usr/local/lib/python3.11/dist-packages/gunicorn/workers/sync.py\", line 177, in handle_request\n",
            "    respiter = self.wsgi(environ, resp.start_response)\n",
            "               ^^^^^^^^^^^^^^^^^^^^^^^^^^^^^^^^^^^^^^^\n",
            "  File \"/usr/local/lib/python3.11/dist-packages/flask/app.py\", line 1536, in __call__\n",
            "    return self.wsgi_app(environ, start_response)\n",
            "           ^^^^^^^^^^^^^^^^^^^^^^^^^^^^^^^^^^^^^^\n",
            "  File \"/usr/local/lib/python3.11/dist-packages/flask/app.py\", line 1511, in wsgi_app\n",
            "    response = self.full_dispatch_request()\n",
            "               ^^^^^^^^^^^^^^^^^^^^^^^^^^^^\n",
            "  File \"/usr/local/lib/python3.11/dist-packages/flask/app.py\", line 917, in full_dispatch_request\n",
            "    rv = self.dispatch_request()\n",
            "         ^^^^^^^^^^^^^^^^^^^^^^^\n",
            "  File \"/usr/local/lib/python3.11/dist-packages/flask/app.py\", line 902, in dispatch_request\n",
            "    return self.ensure_sync(self.view_functions[rule.endpoint])(**view_args)  # type: ignore[no-any-return]\n",
            "           ^^^^^^^^^^^^^^^^^^^^^^^^^^^^^^^^^^^^^^^^^^^^^^^^^^^^^^^^^^^^^^^^^\n",
            "  File \"/usr/local/lib/python3.11/dist-packages/mlflow/server/handlers.py\", line 573, in wrapper\n",
            "    return func(*args, **kwargs)\n",
            "           ^^^^^^^^^^^^^^^^^^^^^\n",
            "  File \"/usr/local/lib/python3.11/dist-packages/mlflow/server/handlers.py\", line 614, in wrapper\n",
            "    return func(*args, **kwargs)\n",
            "           ^^^^^^^^^^^^^^^^^^^^^\n",
            "  File \"/usr/local/lib/python3.11/dist-packages/mlflow/server/handlers.py\", line 1004, in _search_runs\n",
            "    response_message = search_runs_impl(request_message)\n",
            "                       ^^^^^^^^^^^^^^^^^^^^^^^^^^^^^^^^^\n",
            "  File \"/usr/local/lib/python3.11/dist-packages/mlflow/server/handlers.py\", line 1020, in search_runs_impl\n",
            "    run_entities = _get_tracking_store().search_runs(\n",
            "                   ^^^^^^^^^^^^^^^^^^^^^^^^^^^^^^^^^^\n",
            "  File \"/usr/local/lib/python3.11/dist-packages/mlflow/store/tracking/abstract_store.py\", line 552, in search_runs\n",
            "    runs, token = self._search_runs(\n",
            "                  ^^^^^^^^^^^^^^^^^^\n",
            "  File \"/usr/local/lib/python3.11/dist-packages/mlflow/store/tracking/file_store.py\", line 969, in _search_runs\n",
            "    runs.extend(self._get_run_from_info(r) for r in run_infos)\n",
            "  File \"/usr/local/lib/python3.11/dist-packages/mlflow/store/tracking/file_store.py\", line 969, in <genexpr>\n",
            "    runs.extend(self._get_run_from_info(r) for r in run_infos)\n",
            "                ^^^^^^^^^^^^^^^^^^^^^^^^^^\n",
            "  File \"/usr/local/lib/python3.11/dist-packages/mlflow/store/tracking/file_store.py\", line 703, in _get_run_from_info\n",
            "    metrics = self._get_all_metrics(run_info)\n",
            "              ^^^^^^^^^^^^^^^^^^^^^^^^^^^^^^^\n",
            "  File \"/usr/local/lib/python3.11/dist-packages/mlflow/store/tracking/file_store.py\", line 796, in _get_all_metrics\n",
            "    self._get_metric_from_file(parent_path, metric_file, run_info.experiment_id)\n",
            "  File \"/usr/local/lib/python3.11/dist-packages/mlflow/store/tracking/file_store.py\", line 776, in _get_metric_from_file\n",
            "    for line in read_file_lines(parent_path, metric_name)\n",
            "                ^^^^^^^^^^^^^^^^^^^^^^^^^^^^^^^^^^^^^^^^^\n",
            "  File \"/usr/local/lib/python3.11/dist-packages/mlflow/utils/file_utils.py\", line 444, in read_file_lines\n",
            "    return f.readlines()\n",
            "           ^^^^^^^^^^^^^\n",
            "  File \"<frozen codecs>\", line 715, in readlines\n",
            "  File \"<frozen codecs>\", line 621, in readlines\n",
            "  File \"<frozen codecs>\", line 499, in read\n",
            "  File \"/usr/local/lib/python3.11/dist-packages/gunicorn/workers/base.py\", line 204, in handle_abort\n",
            "    sys.exit(1)\n",
            "SystemExit: 1\n",
            "[2025-02-05 08:55:15 +0000] [10038] [INFO] Worker exiting (pid: 10038)\n",
            "[2025-02-05 08:55:15 +0000] [10268] [INFO] Booting worker with pid: 10268\n",
            "[2025-02-05 08:55:23 +0000] [10035] [CRITICAL] WORKER TIMEOUT (pid:10037)\n",
            "[2025-02-05 08:55:23 +0000] [10037] [ERROR] Error handling request /ajax-api/2.0/mlflow/runs/search\n",
            "Traceback (most recent call last):\n",
            "  File \"/usr/local/lib/python3.11/dist-packages/gunicorn/workers/sync.py\", line 134, in handle\n",
            "    self.handle_request(listener, req, client, addr)\n",
            "  File \"/usr/local/lib/python3.11/dist-packages/gunicorn/workers/sync.py\", line 177, in handle_request\n",
            "    respiter = self.wsgi(environ, resp.start_response)\n",
            "               ^^^^^^^^^^^^^^^^^^^^^^^^^^^^^^^^^^^^^^^\n",
            "  File \"/usr/local/lib/python3.11/dist-packages/flask/app.py\", line 1536, in __call__\n",
            "    return self.wsgi_app(environ, start_response)\n",
            "           ^^^^^^^^^^^^^^^^^^^^^^^^^^^^^^^^^^^^^^\n",
            "  File \"/usr/local/lib/python3.11/dist-packages/flask/app.py\", line 1511, in wsgi_app\n",
            "    response = self.full_dispatch_request()\n",
            "               ^^^^^^^^^^^^^^^^^^^^^^^^^^^^\n",
            "  File \"/usr/local/lib/python3.11/dist-packages/flask/app.py\", line 917, in full_dispatch_request\n",
            "    rv = self.dispatch_request()\n",
            "         ^^^^^^^^^^^^^^^^^^^^^^^\n",
            "  File \"/usr/local/lib/python3.11/dist-packages/flask/app.py\", line 902, in dispatch_request\n",
            "    return self.ensure_sync(self.view_functions[rule.endpoint])(**view_args)  # type: ignore[no-any-return]\n",
            "           ^^^^^^^^^^^^^^^^^^^^^^^^^^^^^^^^^^^^^^^^^^^^^^^^^^^^^^^^^^^^^^^^^\n",
            "  File \"/usr/local/lib/python3.11/dist-packages/mlflow/server/handlers.py\", line 573, in wrapper\n",
            "    return func(*args, **kwargs)\n",
            "           ^^^^^^^^^^^^^^^^^^^^^\n",
            "  File \"/usr/local/lib/python3.11/dist-packages/mlflow/server/handlers.py\", line 614, in wrapper\n",
            "    return func(*args, **kwargs)\n",
            "           ^^^^^^^^^^^^^^^^^^^^^\n",
            "  File \"/usr/local/lib/python3.11/dist-packages/mlflow/server/handlers.py\", line 1004, in _search_runs\n",
            "    response_message = search_runs_impl(request_message)\n",
            "                       ^^^^^^^^^^^^^^^^^^^^^^^^^^^^^^^^^\n",
            "  File \"/usr/local/lib/python3.11/dist-packages/mlflow/server/handlers.py\", line 1020, in search_runs_impl\n",
            "    run_entities = _get_tracking_store().search_runs(\n",
            "                   ^^^^^^^^^^^^^^^^^^^^^^^^^^^^^^^^^^\n",
            "  File \"/usr/local/lib/python3.11/dist-packages/mlflow/store/tracking/abstract_store.py\", line 552, in search_runs\n",
            "    runs, token = self._search_runs(\n",
            "                  ^^^^^^^^^^^^^^^^^^\n",
            "  File \"/usr/local/lib/python3.11/dist-packages/mlflow/store/tracking/file_store.py\", line 969, in _search_runs\n",
            "    runs.extend(self._get_run_from_info(r) for r in run_infos)\n",
            "  File \"/usr/local/lib/python3.11/dist-packages/mlflow/store/tracking/file_store.py\", line 969, in <genexpr>\n",
            "    runs.extend(self._get_run_from_info(r) for r in run_infos)\n",
            "                ^^^^^^^^^^^^^^^^^^^^^^^^^^\n",
            "  File \"/usr/local/lib/python3.11/dist-packages/mlflow/store/tracking/file_store.py\", line 703, in _get_run_from_info\n",
            "    metrics = self._get_all_metrics(run_info)\n",
            "              ^^^^^^^^^^^^^^^^^^^^^^^^^^^^^^^\n",
            "  File \"/usr/local/lib/python3.11/dist-packages/mlflow/store/tracking/file_store.py\", line 796, in _get_all_metrics\n",
            "    self._get_metric_from_file(parent_path, metric_file, run_info.experiment_id)\n",
            "  File \"/usr/local/lib/python3.11/dist-packages/mlflow/store/tracking/file_store.py\", line 776, in _get_metric_from_file\n",
            "    for line in read_file_lines(parent_path, metric_name)\n",
            "                ^^^^^^^^^^^^^^^^^^^^^^^^^^^^^^^^^^^^^^^^^\n",
            "  File \"/usr/local/lib/python3.11/dist-packages/mlflow/utils/file_utils.py\", line 444, in read_file_lines\n",
            "    return f.readlines()\n",
            "           ^^^^^^^^^^^^^\n",
            "  File \"<frozen codecs>\", line 715, in readlines\n",
            "  File \"<frozen codecs>\", line 621, in readlines\n",
            "  File \"<frozen codecs>\", line 499, in read\n",
            "  File \"/usr/local/lib/python3.11/dist-packages/gunicorn/workers/base.py\", line 204, in handle_abort\n",
            "    sys.exit(1)\n",
            "SystemExit: 1\n",
            "[2025-02-05 08:55:23 +0000] [10037] [INFO] Worker exiting (pid: 10037)\n",
            "[2025-02-05 08:55:24 +0000] [10310] [INFO] Booting worker with pid: 10310\n",
            "[2025-02-05 08:55:38 +0000] [10035] [CRITICAL] WORKER TIMEOUT (pid:10036)\n",
            "[2025-02-05 08:55:38 +0000] [10036] [ERROR] Error handling request /ajax-api/2.0/mlflow/runs/search\n",
            "Traceback (most recent call last):\n",
            "  File \"/usr/local/lib/python3.11/dist-packages/gunicorn/workers/sync.py\", line 134, in handle\n",
            "    self.handle_request(listener, req, client, addr)\n",
            "  File \"/usr/local/lib/python3.11/dist-packages/gunicorn/workers/sync.py\", line 177, in handle_request\n",
            "    respiter = self.wsgi(environ, resp.start_response)\n",
            "               ^^^^^^^^^^^^^^^^^^^^^^^^^^^^^^^^^^^^^^^\n",
            "  File \"/usr/local/lib/python3.11/dist-packages/flask/app.py\", line 1536, in __call__\n",
            "    return self.wsgi_app(environ, start_response)\n",
            "           ^^^^^^^^^^^^^^^^^^^^^^^^^^^^^^^^^^^^^^\n",
            "  File \"/usr/local/lib/python3.11/dist-packages/flask/app.py\", line 1511, in wsgi_app\n",
            "    response = self.full_dispatch_request()\n",
            "               ^^^^^^^^^^^^^^^^^^^^^^^^^^^^\n",
            "  File \"/usr/local/lib/python3.11/dist-packages/flask/app.py\", line 917, in full_dispatch_request\n",
            "    rv = self.dispatch_request()\n",
            "         ^^^^^^^^^^^^^^^^^^^^^^^\n",
            "  File \"/usr/local/lib/python3.11/dist-packages/flask/app.py\", line 902, in dispatch_request\n",
            "    return self.ensure_sync(self.view_functions[rule.endpoint])(**view_args)  # type: ignore[no-any-return]\n",
            "           ^^^^^^^^^^^^^^^^^^^^^^^^^^^^^^^^^^^^^^^^^^^^^^^^^^^^^^^^^^^^^^^^^\n",
            "  File \"/usr/local/lib/python3.11/dist-packages/mlflow/server/handlers.py\", line 573, in wrapper\n",
            "    return func(*args, **kwargs)\n",
            "           ^^^^^^^^^^^^^^^^^^^^^\n",
            "  File \"/usr/local/lib/python3.11/dist-packages/mlflow/server/handlers.py\", line 614, in wrapper\n",
            "    return func(*args, **kwargs)\n",
            "           ^^^^^^^^^^^^^^^^^^^^^\n",
            "  File \"/usr/local/lib/python3.11/dist-packages/mlflow/server/handlers.py\", line 1004, in _search_runs\n",
            "    response_message = search_runs_impl(request_message)\n",
            "                       ^^^^^^^^^^^^^^^^^^^^^^^^^^^^^^^^^\n",
            "  File \"/usr/local/lib/python3.11/dist-packages/mlflow/server/handlers.py\", line 1020, in search_runs_impl\n",
            "    run_entities = _get_tracking_store().search_runs(\n",
            "                   ^^^^^^^^^^^^^^^^^^^^^^^^^^^^^^^^^^\n",
            "  File \"/usr/local/lib/python3.11/dist-packages/mlflow/store/tracking/abstract_store.py\", line 552, in search_runs\n",
            "    runs, token = self._search_runs(\n",
            "                  ^^^^^^^^^^^^^^^^^^\n",
            "  File \"/usr/local/lib/python3.11/dist-packages/mlflow/store/tracking/file_store.py\", line 969, in _search_runs\n",
            "    runs.extend(self._get_run_from_info(r) for r in run_infos)\n",
            "  File \"/usr/local/lib/python3.11/dist-packages/mlflow/store/tracking/file_store.py\", line 969, in <genexpr>\n",
            "    runs.extend(self._get_run_from_info(r) for r in run_infos)\n",
            "                ^^^^^^^^^^^^^^^^^^^^^^^^^^\n",
            "  File \"/usr/local/lib/python3.11/dist-packages/mlflow/store/tracking/file_store.py\", line 703, in _get_run_from_info\n",
            "    metrics = self._get_all_metrics(run_info)\n",
            "              ^^^^^^^^^^^^^^^^^^^^^^^^^^^^^^^\n",
            "  File \"/usr/local/lib/python3.11/dist-packages/mlflow/store/tracking/file_store.py\", line 796, in _get_all_metrics\n",
            "    self._get_metric_from_file(parent_path, metric_file, run_info.experiment_id)\n",
            "  File \"/usr/local/lib/python3.11/dist-packages/mlflow/store/tracking/file_store.py\", line 776, in _get_metric_from_file\n",
            "    for line in read_file_lines(parent_path, metric_name)\n",
            "                ^^^^^^^^^^^^^^^^^^^^^^^^^^^^^^^^^^^^^^^^^\n",
            "  File \"/usr/local/lib/python3.11/dist-packages/mlflow/utils/file_utils.py\", line 444, in read_file_lines\n",
            "    return f.readlines()\n",
            "           ^^^^^^^^^^^^^\n",
            "  File \"<frozen codecs>\", line 715, in readlines\n",
            "  File \"<frozen codecs>\", line 621, in readlines\n",
            "  File \"<frozen codecs>\", line 499, in read\n",
            "  File \"/usr/local/lib/python3.11/dist-packages/gunicorn/workers/base.py\", line 204, in handle_abort\n",
            "    sys.exit(1)\n",
            "SystemExit: 1\n",
            "[2025-02-05 08:55:38 +0000] [10036] [INFO] Worker exiting (pid: 10036)\n",
            "[2025-02-05 08:55:39 +0000] [10376] [INFO] Booting worker with pid: 10376\n",
            "[2025-02-05 08:56:09 +0000] [10035] [CRITICAL] WORKER TIMEOUT (pid:10043)\n",
            "[2025-02-05 08:56:09 +0000] [10043] [ERROR] Error handling request /ajax-api/2.0/mlflow/runs/search\n",
            "Traceback (most recent call last):\n",
            "  File \"/usr/local/lib/python3.11/dist-packages/gunicorn/workers/sync.py\", line 134, in handle\n",
            "    self.handle_request(listener, req, client, addr)\n",
            "  File \"/usr/local/lib/python3.11/dist-packages/gunicorn/workers/sync.py\", line 177, in handle_request\n",
            "    respiter = self.wsgi(environ, resp.start_response)\n",
            "               ^^^^^^^^^^^^^^^^^^^^^^^^^^^^^^^^^^^^^^^\n",
            "  File \"/usr/local/lib/python3.11/dist-packages/flask/app.py\", line 1536, in __call__\n",
            "    return self.wsgi_app(environ, start_response)\n",
            "           ^^^^^^^^^^^^^^^^^^^^^^^^^^^^^^^^^^^^^^\n",
            "  File \"/usr/local/lib/python3.11/dist-packages/flask/app.py\", line 1511, in wsgi_app\n",
            "    response = self.full_dispatch_request()\n",
            "               ^^^^^^^^^^^^^^^^^^^^^^^^^^^^\n",
            "  File \"/usr/local/lib/python3.11/dist-packages/flask/app.py\", line 917, in full_dispatch_request\n",
            "    rv = self.dispatch_request()\n",
            "         ^^^^^^^^^^^^^^^^^^^^^^^\n",
            "  File \"/usr/local/lib/python3.11/dist-packages/flask/app.py\", line 902, in dispatch_request\n",
            "    return self.ensure_sync(self.view_functions[rule.endpoint])(**view_args)  # type: ignore[no-any-return]\n",
            "           ^^^^^^^^^^^^^^^^^^^^^^^^^^^^^^^^^^^^^^^^^^^^^^^^^^^^^^^^^^^^^^^^^\n",
            "  File \"/usr/local/lib/python3.11/dist-packages/mlflow/server/handlers.py\", line 573, in wrapper\n",
            "    return func(*args, **kwargs)\n",
            "           ^^^^^^^^^^^^^^^^^^^^^\n",
            "  File \"/usr/local/lib/python3.11/dist-packages/mlflow/server/handlers.py\", line 614, in wrapper\n",
            "    return func(*args, **kwargs)\n",
            "           ^^^^^^^^^^^^^^^^^^^^^\n",
            "  File \"/usr/local/lib/python3.11/dist-packages/mlflow/server/handlers.py\", line 1004, in _search_runs\n",
            "    response_message = search_runs_impl(request_message)\n",
            "                       ^^^^^^^^^^^^^^^^^^^^^^^^^^^^^^^^^\n",
            "  File \"/usr/local/lib/python3.11/dist-packages/mlflow/server/handlers.py\", line 1020, in search_runs_impl\n",
            "    run_entities = _get_tracking_store().search_runs(\n",
            "                   ^^^^^^^^^^^^^^^^^^^^^^^^^^^^^^^^^^\n",
            "  File \"/usr/local/lib/python3.11/dist-packages/mlflow/store/tracking/abstract_store.py\", line 552, in search_runs\n",
            "    runs, token = self._search_runs(\n",
            "                  ^^^^^^^^^^^^^^^^^^\n",
            "  File \"/usr/local/lib/python3.11/dist-packages/mlflow/store/tracking/file_store.py\", line 969, in _search_runs\n",
            "    runs.extend(self._get_run_from_info(r) for r in run_infos)\n",
            "  File \"/usr/local/lib/python3.11/dist-packages/mlflow/store/tracking/file_store.py\", line 969, in <genexpr>\n",
            "    runs.extend(self._get_run_from_info(r) for r in run_infos)\n",
            "                ^^^^^^^^^^^^^^^^^^^^^^^^^^\n",
            "  File \"/usr/local/lib/python3.11/dist-packages/mlflow/store/tracking/file_store.py\", line 705, in _get_run_from_info\n",
            "    tags = self._get_all_tags(run_info)\n",
            "           ^^^^^^^^^^^^^^^^^^^^^^^^^^^^\n",
            "  File \"/usr/local/lib/python3.11/dist-packages/mlflow/store/tracking/file_store.py\", line 904, in _get_all_tags\n",
            "    tags.append(self._get_tag_from_file(parent_path, tag_file))\n",
            "                ^^^^^^^^^^^^^^^^^^^^^^^^^^^^^^^^^^^^^^^^^^^^^^\n",
            "  File \"/usr/local/lib/python3.11/dist-packages/mlflow/store/tracking/file_store.py\", line 892, in _get_tag_from_file\n",
            "    tag_data = read_file(parent_path, tag_name)\n",
            "               ^^^^^^^^^^^^^^^^^^^^^^^^^^^^^^^^\n",
            "  File \"/usr/local/lib/python3.11/dist-packages/mlflow/utils/file_utils.py\", line 460, in read_file\n",
            "    return f.read()\n",
            "           ^^^^^^^^\n",
            "  File \"<frozen codecs>\", line 707, in read\n",
            "  File \"<frozen codecs>\", line 499, in read\n",
            "  File \"/usr/local/lib/python3.11/dist-packages/gunicorn/workers/base.py\", line 204, in handle_abort\n",
            "    sys.exit(1)\n",
            "SystemExit: 1\n",
            "[2025-02-05 08:56:09 +0000] [10043] [INFO] Worker exiting (pid: 10043)\n",
            "[2025-02-05 08:56:10 +0000] [10505] [INFO] Booting worker with pid: 10505\n"
          ]
        },
        {
          "output_type": "stream",
          "name": "stderr",
          "text": [
            "WARNING:pyngrok.process.ngrok:t=2025-02-05T09:08:49+0000 lvl=warn msg=\"Stopping forwarder\" name=http-5000-86c6143b-475a-4a12-85f6-260727069064 acceptErr=\"failed to accept connection: Listener closed\"\n",
            "WARNING:pyngrok.process.ngrok:t=2025-02-05T09:08:49+0000 lvl=warn msg=\"Error restarting forwarder\" name=http-5000-86c6143b-475a-4a12-85f6-260727069064 err=\"failed to start tunnel: session closed\"\n"
          ]
        },
        {
          "output_type": "stream",
          "name": "stdout",
          "text": [
            "[2025-02-05 09:08:49 +0000] [10035] [INFO] Handling signal: int\n",
            "[2025-02-05 09:08:50 +0000] [10376] [INFO] Worker exiting (pid: 10376)\n",
            "[2025-02-05 09:08:50 +0000] [10505] [INFO] Worker exiting (pid: 10505)\n",
            "[2025-02-05 09:08:50 +0000] [10310] [INFO] Worker exiting (pid: 10310)\n",
            "[2025-02-05 09:08:50 +0000] [10268] [INFO] Worker exiting (pid: 10268)\n",
            "[2025-02-05 09:08:51 +0000] [10035] [INFO] Shutting down: Master\n"
          ]
        }
      ],
      "source": [
        "!mlflow ui --backend-store-uri \"file:///content/drive/MyDrive/Colab Notebooks/DS_projet_7/mlflow\" --port 5000 &"
      ]
    },
    {
      "cell_type": "code",
      "execution_count": null,
      "metadata": {
        "id": "390d231cBKcd",
        "colab": {
          "base_uri": "https://localhost:8080/"
        },
        "outputId": "4a667b47-f76a-41a3-87c3-f59957a5d92e"
      },
      "outputs": [
        {
          "output_type": "stream",
          "name": "stdout",
          "text": [
            "Interface MLflow accessible à : NgrokTunnel: \"https://f634-34-81-168-95.ngrok-free.app\" -> \"http://localhost:5000\"\n"
          ]
        }
      ],
      "source": [
        "from pyngrok import conf, ngrok\n",
        "\n",
        "# Définir le token dans la configuration\n",
        "conf.get_default().auth_token = \"2qlJq50YUC2X62MFA1q7qxbILkY_5Dx45MFSwjmUQLvcqSHBU\"\n",
        "\n",
        "# Démarrer le tunnel\n",
        "public_url = ngrok.connect(5000)\n",
        "print(f\"Interface MLflow accessible à : {public_url}\")"
      ]
    },
    {
      "cell_type": "code",
      "source": [
        "from sklearn.metrics import precision_recall_curve\n",
        "\n",
        "precisions, recalls, thresholds = precision_recall_curve(y_test, y_prob)\n",
        "f1_scores = (2 * precisions * recalls) / (precisions + recalls + 1e-9)  # Évite division par 0\n",
        "optimal_threshold_f1 = thresholds[f1_scores.argmax()]\n",
        "\n",
        "print(f\"Seuil optimal basé sur F1-score : {optimal_threshold_f1}\")"
      ],
      "metadata": {
        "id": "EgkgB1UosRKC",
        "colab": {
          "base_uri": "https://localhost:8080/"
        },
        "outputId": "5ed8c170-80fd-4207-fc07-39f213419ec2"
      },
      "execution_count": null,
      "outputs": [
        {
          "output_type": "stream",
          "name": "stdout",
          "text": [
            "Seuil optimal basé sur F1-score : 0.66427882037548\n"
          ]
        }
      ]
    },
    {
      "cell_type": "code",
      "execution_count": null,
      "metadata": {
        "id": "lMpOqiTOHt2c"
      },
      "outputs": [],
      "source": [
        "# arrêter le tunnel ngrok\n",
        "#ngrok.disconnect(public_url)"
      ]
    },
    {
      "cell_type": "markdown",
      "source": [
        "#### Analyse des résultats du modèle\n",
        "Coût personnalisé :\n",
        "\n",
        "Un coût de 32900 est relativement élevé, ce qui pourrait indiquer que des erreurs spécifiques (faux positifs ou faux négatifs) pèsent beaucoup dans votre fonction de coût.\n",
        "Précision (accuracy, 0.6989) :\n",
        "\n",
        "Une précision proche de 70 % est correcte mais peut être trompeuse si les classes sont déséquilibrées. Cela explique probablement pourquoi l'AUC ROC est plus significatif ici.\n",
        "F1-score (0.2657) :\n",
        "\n",
        "Un score F1 modéré, mais faible, indique que l'équilibre entre précision et rappel est difficile à atteindre. La faible précision (16,5 %) tire le score F1 vers le bas.\n",
        "Rappel (0.6771) :\n",
        "\n",
        "Un bon rappel (68 % environ) montre que le modèle identifie bien les cas positifs, mais il sacrifie de la précision pour y parvenir.\n",
        "AUC ROC (0.7583) :\n",
        "\n",
        "Un AUC supérieur à 0,75 est un bon signe que le modèle discrimine correctement entre les classes, malgré un déséquilibre."
      ],
      "metadata": {
        "id": "0RjAV5ndZwUh"
      }
    },
    {
      "cell_type": "markdown",
      "source": [
        "chemin pipeline drive : file:///content/drive/MyDrive/Colab Notebooks/DS_projet_7/mlflow/706359919036996243/60d8b21cb8234d7fb49ce8a7d3ce505d/artifacts/LightGBM_pipeline.pkl\n",
        "\n",
        "Faire des prédictions\n",
        "Prédire sur un DataFrame Pandas :\n",
        "import mlflow\n",
        "logged_model = 'runs:/60d8b21cb8234d7fb49ce8a7d3ce505d/model_pipeline'\n",
        "\n",
        "\n",
        "coût_personnalisé\n",
        "32663\n",
        "précision\n",
        "0,6991041087426629\n",
        "f1_score\n",
        "0,2673212447541373\n",
        "précision\n",
        "0,1662317199271259\n",
        "rappel\n",
        "0,6821580117195393\n",
        "auc_roc\n",
        "0,7584402922755487\n",
        "durée_de_formation\n",
        "41.26594352722168"
      ],
      "metadata": {
        "id": "RcpKgKPB08Jg"
      }
    },
    {
      "cell_type": "code",
      "source": [],
      "metadata": {
        "id": "uQMOF2I82AJZ"
      },
      "execution_count": null,
      "outputs": []
    }
  ],
  "metadata": {
    "colab": {
      "gpuType": "T4",
      "provenance": [],
      "toc_visible": true,
      "include_colab_link": true
    },
    "kernelspec": {
      "display_name": "Python 3",
      "name": "python3"
    },
    "language_info": {
      "name": "python"
    }
  },
  "nbformat": 4,
  "nbformat_minor": 0
}