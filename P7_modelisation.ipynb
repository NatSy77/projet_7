{
  "cells": [
    {
      "cell_type": "markdown",
      "metadata": {
        "id": "view-in-github",
        "colab_type": "text"
      },
      "source": [
        "<a href=\"https://colab.research.google.com/github/NatSy77/projet_7/blob/main/P7_modelisation.ipynb\" target=\"_parent\"><img src=\"https://colab.research.google.com/assets/colab-badge.svg\" alt=\"Open In Colab\"/></a>"
      ]
    },
    {
      "cell_type": "markdown",
      "metadata": {
        "id": "3Tsu3xtzByZZ"
      },
      "source": [
        "# Implémentez un modèle de scoring #modelisation"
      ]
    },
    {
      "cell_type": "markdown",
      "metadata": {
        "id": "L0XxoAOMB8wn"
      },
      "source": [
        "## Importation"
      ]
    },
    {
      "cell_type": "code",
      "execution_count": 2,
      "metadata": {
        "id": "ZKOedZjNBH3f"
      },
      "outputs": [],
      "source": [
        "# numpy and pandas for data manipulation\n",
        "import numpy as np\n",
        "import pandas as pd\n",
        "\n",
        "# sklearn preprocessing for dealing with categorical variables\n",
        "from sklearn.preprocessing import LabelEncoder\n",
        "\n",
        "# File system manangement\n",
        "import os\n",
        "\n",
        "# Suppress warnings\n",
        "import warnings\n",
        "warnings.filterwarnings('ignore')\n",
        "\n",
        "# matplotlib and seaborn for plotting\n",
        "import matplotlib.pyplot as plt\n",
        "import seaborn as sns"
      ]
    },
    {
      "cell_type": "code",
      "execution_count": 3,
      "metadata": {
        "colab": {
          "base_uri": "https://localhost:8080/"
        },
        "id": "cfYXcbKAo3OH",
        "outputId": "a28e01cb-ecb2-4c56-e1c7-bbcf79b9ad4c"
      },
      "outputs": [
        {
          "output_type": "stream",
          "name": "stdout",
          "text": [
            "Collecting mlflow\n",
            "  Downloading mlflow-2.20.0-py3-none-any.whl.metadata (30 kB)\n",
            "Collecting mlflow-skinny==2.20.0 (from mlflow)\n",
            "  Downloading mlflow_skinny-2.20.0-py3-none-any.whl.metadata (31 kB)\n",
            "Requirement already satisfied: Flask<4 in /usr/local/lib/python3.11/dist-packages (from mlflow) (3.1.0)\n",
            "Requirement already satisfied: Jinja2<4,>=2.11 in /usr/local/lib/python3.11/dist-packages (from mlflow) (3.1.5)\n",
            "Collecting alembic!=1.10.0,<2 (from mlflow)\n",
            "  Downloading alembic-1.14.1-py3-none-any.whl.metadata (7.4 kB)\n",
            "Collecting docker<8,>=4.0.0 (from mlflow)\n",
            "  Downloading docker-7.1.0-py3-none-any.whl.metadata (3.8 kB)\n",
            "Collecting graphene<4 (from mlflow)\n",
            "  Downloading graphene-3.4.3-py2.py3-none-any.whl.metadata (6.9 kB)\n",
            "Collecting gunicorn<24 (from mlflow)\n",
            "  Downloading gunicorn-23.0.0-py3-none-any.whl.metadata (4.4 kB)\n",
            "Requirement already satisfied: markdown<4,>=3.3 in /usr/local/lib/python3.11/dist-packages (from mlflow) (3.7)\n",
            "Requirement already satisfied: matplotlib<4 in /usr/local/lib/python3.11/dist-packages (from mlflow) (3.10.0)\n",
            "Requirement already satisfied: numpy<3 in /usr/local/lib/python3.11/dist-packages (from mlflow) (1.26.4)\n",
            "Requirement already satisfied: pandas<3 in /usr/local/lib/python3.11/dist-packages (from mlflow) (2.2.2)\n",
            "Requirement already satisfied: pyarrow<19,>=4.0.0 in /usr/local/lib/python3.11/dist-packages (from mlflow) (17.0.0)\n",
            "Requirement already satisfied: scikit-learn<2 in /usr/local/lib/python3.11/dist-packages (from mlflow) (1.6.0)\n",
            "Requirement already satisfied: scipy<2 in /usr/local/lib/python3.11/dist-packages (from mlflow) (1.13.1)\n",
            "Requirement already satisfied: sqlalchemy<3,>=1.4.0 in /usr/local/lib/python3.11/dist-packages (from mlflow) (2.0.37)\n",
            "Requirement already satisfied: cachetools<6,>=5.0.0 in /usr/local/lib/python3.11/dist-packages (from mlflow-skinny==2.20.0->mlflow) (5.5.0)\n",
            "Requirement already satisfied: click<9,>=7.0 in /usr/local/lib/python3.11/dist-packages (from mlflow-skinny==2.20.0->mlflow) (8.1.8)\n",
            "Requirement already satisfied: cloudpickle<4 in /usr/local/lib/python3.11/dist-packages (from mlflow-skinny==2.20.0->mlflow) (3.1.0)\n",
            "Collecting databricks-sdk<1,>=0.20.0 (from mlflow-skinny==2.20.0->mlflow)\n",
            "  Downloading databricks_sdk-0.41.0-py3-none-any.whl.metadata (38 kB)\n",
            "Requirement already satisfied: gitpython<4,>=3.1.9 in /usr/local/lib/python3.11/dist-packages (from mlflow-skinny==2.20.0->mlflow) (3.1.44)\n",
            "Requirement already satisfied: importlib_metadata!=4.7.0,<9,>=3.7.0 in /usr/local/lib/python3.11/dist-packages (from mlflow-skinny==2.20.0->mlflow) (8.5.0)\n",
            "Requirement already satisfied: opentelemetry-api<3,>=1.9.0 in /usr/local/lib/python3.11/dist-packages (from mlflow-skinny==2.20.0->mlflow) (1.29.0)\n",
            "Requirement already satisfied: opentelemetry-sdk<3,>=1.9.0 in /usr/local/lib/python3.11/dist-packages (from mlflow-skinny==2.20.0->mlflow) (1.29.0)\n",
            "Requirement already satisfied: packaging<25 in /usr/local/lib/python3.11/dist-packages (from mlflow-skinny==2.20.0->mlflow) (24.2)\n",
            "Requirement already satisfied: protobuf<6,>=3.12.0 in /usr/local/lib/python3.11/dist-packages (from mlflow-skinny==2.20.0->mlflow) (4.25.5)\n",
            "Requirement already satisfied: pydantic<3,>=1.0 in /usr/local/lib/python3.11/dist-packages (from mlflow-skinny==2.20.0->mlflow) (2.10.5)\n",
            "Requirement already satisfied: pyyaml<7,>=5.1 in /usr/local/lib/python3.11/dist-packages (from mlflow-skinny==2.20.0->mlflow) (6.0.2)\n",
            "Requirement already satisfied: requests<3,>=2.17.3 in /usr/local/lib/python3.11/dist-packages (from mlflow-skinny==2.20.0->mlflow) (2.32.3)\n",
            "Requirement already satisfied: sqlparse<1,>=0.4.0 in /usr/local/lib/python3.11/dist-packages (from mlflow-skinny==2.20.0->mlflow) (0.5.3)\n",
            "Requirement already satisfied: typing-extensions<5,>=4.0.0 in /usr/local/lib/python3.11/dist-packages (from mlflow-skinny==2.20.0->mlflow) (4.12.2)\n",
            "Collecting Mako (from alembic!=1.10.0,<2->mlflow)\n",
            "  Downloading Mako-1.3.8-py3-none-any.whl.metadata (2.9 kB)\n",
            "Requirement already satisfied: urllib3>=1.26.0 in /usr/local/lib/python3.11/dist-packages (from docker<8,>=4.0.0->mlflow) (2.3.0)\n",
            "Requirement already satisfied: Werkzeug>=3.1 in /usr/local/lib/python3.11/dist-packages (from Flask<4->mlflow) (3.1.3)\n",
            "Requirement already satisfied: itsdangerous>=2.2 in /usr/local/lib/python3.11/dist-packages (from Flask<4->mlflow) (2.2.0)\n",
            "Requirement already satisfied: blinker>=1.9 in /usr/local/lib/python3.11/dist-packages (from Flask<4->mlflow) (1.9.0)\n",
            "Collecting graphql-core<3.3,>=3.1 (from graphene<4->mlflow)\n",
            "  Downloading graphql_core-3.2.5-py3-none-any.whl.metadata (10 kB)\n",
            "Collecting graphql-relay<3.3,>=3.1 (from graphene<4->mlflow)\n",
            "  Downloading graphql_relay-3.2.0-py3-none-any.whl.metadata (12 kB)\n",
            "Requirement already satisfied: python-dateutil<3,>=2.7.0 in /usr/local/lib/python3.11/dist-packages (from graphene<4->mlflow) (2.8.2)\n",
            "Requirement already satisfied: MarkupSafe>=2.0 in /usr/local/lib/python3.11/dist-packages (from Jinja2<4,>=2.11->mlflow) (3.0.2)\n",
            "Requirement already satisfied: contourpy>=1.0.1 in /usr/local/lib/python3.11/dist-packages (from matplotlib<4->mlflow) (1.3.1)\n",
            "Requirement already satisfied: cycler>=0.10 in /usr/local/lib/python3.11/dist-packages (from matplotlib<4->mlflow) (0.12.1)\n",
            "Requirement already satisfied: fonttools>=4.22.0 in /usr/local/lib/python3.11/dist-packages (from matplotlib<4->mlflow) (4.55.3)\n",
            "Requirement already satisfied: kiwisolver>=1.3.1 in /usr/local/lib/python3.11/dist-packages (from matplotlib<4->mlflow) (1.4.8)\n",
            "Requirement already satisfied: pillow>=8 in /usr/local/lib/python3.11/dist-packages (from matplotlib<4->mlflow) (11.1.0)\n",
            "Requirement already satisfied: pyparsing>=2.3.1 in /usr/local/lib/python3.11/dist-packages (from matplotlib<4->mlflow) (3.2.1)\n",
            "Requirement already satisfied: pytz>=2020.1 in /usr/local/lib/python3.11/dist-packages (from pandas<3->mlflow) (2024.2)\n",
            "Requirement already satisfied: tzdata>=2022.7 in /usr/local/lib/python3.11/dist-packages (from pandas<3->mlflow) (2024.2)\n",
            "Requirement already satisfied: joblib>=1.2.0 in /usr/local/lib/python3.11/dist-packages (from scikit-learn<2->mlflow) (1.4.2)\n",
            "Requirement already satisfied: threadpoolctl>=3.1.0 in /usr/local/lib/python3.11/dist-packages (from scikit-learn<2->mlflow) (3.5.0)\n",
            "Requirement already satisfied: greenlet!=0.4.17 in /usr/local/lib/python3.11/dist-packages (from sqlalchemy<3,>=1.4.0->mlflow) (3.1.1)\n",
            "Requirement already satisfied: google-auth~=2.0 in /usr/local/lib/python3.11/dist-packages (from databricks-sdk<1,>=0.20.0->mlflow-skinny==2.20.0->mlflow) (2.27.0)\n",
            "Requirement already satisfied: gitdb<5,>=4.0.1 in /usr/local/lib/python3.11/dist-packages (from gitpython<4,>=3.1.9->mlflow-skinny==2.20.0->mlflow) (4.0.12)\n",
            "Requirement already satisfied: zipp>=3.20 in /usr/local/lib/python3.11/dist-packages (from importlib_metadata!=4.7.0,<9,>=3.7.0->mlflow-skinny==2.20.0->mlflow) (3.21.0)\n",
            "Requirement already satisfied: deprecated>=1.2.6 in /usr/local/lib/python3.11/dist-packages (from opentelemetry-api<3,>=1.9.0->mlflow-skinny==2.20.0->mlflow) (1.2.15)\n",
            "Requirement already satisfied: opentelemetry-semantic-conventions==0.50b0 in /usr/local/lib/python3.11/dist-packages (from opentelemetry-sdk<3,>=1.9.0->mlflow-skinny==2.20.0->mlflow) (0.50b0)\n",
            "Requirement already satisfied: annotated-types>=0.6.0 in /usr/local/lib/python3.11/dist-packages (from pydantic<3,>=1.0->mlflow-skinny==2.20.0->mlflow) (0.7.0)\n",
            "Requirement already satisfied: pydantic-core==2.27.2 in /usr/local/lib/python3.11/dist-packages (from pydantic<3,>=1.0->mlflow-skinny==2.20.0->mlflow) (2.27.2)\n",
            "Requirement already satisfied: six>=1.5 in /usr/local/lib/python3.11/dist-packages (from python-dateutil<3,>=2.7.0->graphene<4->mlflow) (1.17.0)\n",
            "Requirement already satisfied: charset-normalizer<4,>=2 in /usr/local/lib/python3.11/dist-packages (from requests<3,>=2.17.3->mlflow-skinny==2.20.0->mlflow) (3.4.1)\n",
            "Requirement already satisfied: idna<4,>=2.5 in /usr/local/lib/python3.11/dist-packages (from requests<3,>=2.17.3->mlflow-skinny==2.20.0->mlflow) (3.10)\n",
            "Requirement already satisfied: certifi>=2017.4.17 in /usr/local/lib/python3.11/dist-packages (from requests<3,>=2.17.3->mlflow-skinny==2.20.0->mlflow) (2024.12.14)\n",
            "Requirement already satisfied: wrapt<2,>=1.10 in /usr/local/lib/python3.11/dist-packages (from deprecated>=1.2.6->opentelemetry-api<3,>=1.9.0->mlflow-skinny==2.20.0->mlflow) (1.17.0)\n",
            "Requirement already satisfied: smmap<6,>=3.0.1 in /usr/local/lib/python3.11/dist-packages (from gitdb<5,>=4.0.1->gitpython<4,>=3.1.9->mlflow-skinny==2.20.0->mlflow) (5.0.2)\n",
            "Requirement already satisfied: pyasn1-modules>=0.2.1 in /usr/local/lib/python3.11/dist-packages (from google-auth~=2.0->databricks-sdk<1,>=0.20.0->mlflow-skinny==2.20.0->mlflow) (0.4.1)\n",
            "Requirement already satisfied: rsa<5,>=3.1.4 in /usr/local/lib/python3.11/dist-packages (from google-auth~=2.0->databricks-sdk<1,>=0.20.0->mlflow-skinny==2.20.0->mlflow) (4.9)\n",
            "Requirement already satisfied: pyasn1<0.7.0,>=0.4.6 in /usr/local/lib/python3.11/dist-packages (from pyasn1-modules>=0.2.1->google-auth~=2.0->databricks-sdk<1,>=0.20.0->mlflow-skinny==2.20.0->mlflow) (0.6.1)\n",
            "Downloading mlflow-2.20.0-py3-none-any.whl (28.3 MB)\n",
            "\u001b[2K   \u001b[90m━━━━━━━━━━━━━━━━━━━━━━━━━━━━━━━━━━━━━━━━\u001b[0m \u001b[32m28.3/28.3 MB\u001b[0m \u001b[31m58.6 MB/s\u001b[0m eta \u001b[36m0:00:00\u001b[0m\n",
            "\u001b[?25hDownloading mlflow_skinny-2.20.0-py3-none-any.whl (6.0 MB)\n",
            "\u001b[2K   \u001b[90m━━━━━━━━━━━━━━━━━━━━━━━━━━━━━━━━━━━━━━━━\u001b[0m \u001b[32m6.0/6.0 MB\u001b[0m \u001b[31m89.3 MB/s\u001b[0m eta \u001b[36m0:00:00\u001b[0m\n",
            "\u001b[?25hDownloading alembic-1.14.1-py3-none-any.whl (233 kB)\n",
            "\u001b[2K   \u001b[90m━━━━━━━━━━━━━━━━━━━━━━━━━━━━━━━━━━━━━━━━\u001b[0m \u001b[32m233.6/233.6 kB\u001b[0m \u001b[31m16.5 MB/s\u001b[0m eta \u001b[36m0:00:00\u001b[0m\n",
            "\u001b[?25hDownloading docker-7.1.0-py3-none-any.whl (147 kB)\n",
            "\u001b[2K   \u001b[90m━━━━━━━━━━━━━━━━━━━━━━━━━━━━━━━━━━━━━━━━\u001b[0m \u001b[32m147.8/147.8 kB\u001b[0m \u001b[31m11.3 MB/s\u001b[0m eta \u001b[36m0:00:00\u001b[0m\n",
            "\u001b[?25hDownloading graphene-3.4.3-py2.py3-none-any.whl (114 kB)\n",
            "\u001b[2K   \u001b[90m━━━━━━━━━━━━━━━━━━━━━━━━━━━━━━━━━━━━━━━━\u001b[0m \u001b[32m114.9/114.9 kB\u001b[0m \u001b[31m9.0 MB/s\u001b[0m eta \u001b[36m0:00:00\u001b[0m\n",
            "\u001b[?25hDownloading gunicorn-23.0.0-py3-none-any.whl (85 kB)\n",
            "\u001b[2K   \u001b[90m━━━━━━━━━━━━━━━━━━━━━━━━━━━━━━━━━━━━━━━━\u001b[0m \u001b[32m85.0/85.0 kB\u001b[0m \u001b[31m6.9 MB/s\u001b[0m eta \u001b[36m0:00:00\u001b[0m\n",
            "\u001b[?25hDownloading databricks_sdk-0.41.0-py3-none-any.whl (637 kB)\n",
            "\u001b[2K   \u001b[90m━━━━━━━━━━━━━━━━━━━━━━━━━━━━━━━━━━━━━━━━\u001b[0m \u001b[32m637.5/637.5 kB\u001b[0m \u001b[31m34.0 MB/s\u001b[0m eta \u001b[36m0:00:00\u001b[0m\n",
            "\u001b[?25hDownloading graphql_core-3.2.5-py3-none-any.whl (203 kB)\n",
            "\u001b[2K   \u001b[90m━━━━━━━━━━━━━━━━━━━━━━━━━━━━━━━━━━━━━━━━\u001b[0m \u001b[32m203.2/203.2 kB\u001b[0m \u001b[31m15.6 MB/s\u001b[0m eta \u001b[36m0:00:00\u001b[0m\n",
            "\u001b[?25hDownloading graphql_relay-3.2.0-py3-none-any.whl (16 kB)\n",
            "Downloading Mako-1.3.8-py3-none-any.whl (78 kB)\n",
            "\u001b[2K   \u001b[90m━━━━━━━━━━━━━━━━━━━━━━━━━━━━━━━━━━━━━━━━\u001b[0m \u001b[32m78.6/78.6 kB\u001b[0m \u001b[31m6.8 MB/s\u001b[0m eta \u001b[36m0:00:00\u001b[0m\n",
            "\u001b[?25hInstalling collected packages: Mako, gunicorn, graphql-core, graphql-relay, docker, alembic, graphene, databricks-sdk, mlflow-skinny, mlflow\n",
            "Successfully installed Mako-1.3.8 alembic-1.14.1 databricks-sdk-0.41.0 docker-7.1.0 graphene-3.4.3 graphql-core-3.2.5 graphql-relay-3.2.0 gunicorn-23.0.0 mlflow-2.20.0 mlflow-skinny-2.20.0\n"
          ]
        }
      ],
      "source": [
        "!pip install mlflow"
      ]
    },
    {
      "cell_type": "code",
      "execution_count": 4,
      "metadata": {
        "colab": {
          "base_uri": "https://localhost:8080/"
        },
        "id": "T0uLOTbCifQS",
        "outputId": "bda51c0d-3ba7-4acf-f3fb-b56fdf4a636b"
      },
      "outputs": [
        {
          "output_type": "stream",
          "name": "stdout",
          "text": [
            "Requirement already satisfied: scikit-learn in /usr/local/lib/python3.11/dist-packages (1.6.0)\n",
            "Collecting scikit-learn\n",
            "  Downloading scikit_learn-1.6.1-cp311-cp311-manylinux_2_17_x86_64.manylinux2014_x86_64.whl.metadata (18 kB)\n",
            "Requirement already satisfied: xgboost in /usr/local/lib/python3.11/dist-packages (2.1.3)\n",
            "Requirement already satisfied: numpy>=1.19.5 in /usr/local/lib/python3.11/dist-packages (from scikit-learn) (1.26.4)\n",
            "Requirement already satisfied: scipy>=1.6.0 in /usr/local/lib/python3.11/dist-packages (from scikit-learn) (1.13.1)\n",
            "Requirement already satisfied: joblib>=1.2.0 in /usr/local/lib/python3.11/dist-packages (from scikit-learn) (1.4.2)\n",
            "Requirement already satisfied: threadpoolctl>=3.1.0 in /usr/local/lib/python3.11/dist-packages (from scikit-learn) (3.5.0)\n",
            "Requirement already satisfied: nvidia-nccl-cu12 in /usr/local/lib/python3.11/dist-packages (from xgboost) (2.21.5)\n",
            "Downloading scikit_learn-1.6.1-cp311-cp311-manylinux_2_17_x86_64.manylinux2014_x86_64.whl (13.5 MB)\n",
            "\u001b[2K   \u001b[90m━━━━━━━━━━━━━━━━━━━━━━━━━━━━━━━━━━━━━━━━\u001b[0m \u001b[32m13.5/13.5 MB\u001b[0m \u001b[31m47.0 MB/s\u001b[0m eta \u001b[36m0:00:00\u001b[0m\n",
            "\u001b[?25hInstalling collected packages: scikit-learn\n",
            "  Attempting uninstall: scikit-learn\n",
            "    Found existing installation: scikit-learn 1.6.0\n",
            "    Uninstalling scikit-learn-1.6.0:\n",
            "      Successfully uninstalled scikit-learn-1.6.0\n",
            "Successfully installed scikit-learn-1.6.1\n"
          ]
        }
      ],
      "source": [
        "!pip install --upgrade scikit-learn xgboost"
      ]
    },
    {
      "cell_type": "code",
      "execution_count": 5,
      "metadata": {
        "colab": {
          "base_uri": "https://localhost:8080/"
        },
        "id": "JKQkAxPVl1xz",
        "outputId": "8ad4549b-bbb6-4066-c4e3-6e6ecdec60d0"
      },
      "outputs": [
        {
          "output_type": "stream",
          "name": "stdout",
          "text": [
            "Requirement already satisfied: threadpoolctl in /usr/local/lib/python3.11/dist-packages (3.5.0)\n",
            "Requirement already satisfied: scikit-learn in /usr/local/lib/python3.11/dist-packages (1.6.1)\n",
            "Requirement already satisfied: imbalanced-learn in /usr/local/lib/python3.11/dist-packages (0.13.0)\n",
            "Requirement already satisfied: xgboost in /usr/local/lib/python3.11/dist-packages (2.1.3)\n",
            "Requirement already satisfied: numpy>=1.19.5 in /usr/local/lib/python3.11/dist-packages (from scikit-learn) (1.26.4)\n",
            "Requirement already satisfied: scipy>=1.6.0 in /usr/local/lib/python3.11/dist-packages (from scikit-learn) (1.13.1)\n",
            "Requirement already satisfied: joblib>=1.2.0 in /usr/local/lib/python3.11/dist-packages (from scikit-learn) (1.4.2)\n",
            "Requirement already satisfied: sklearn-compat<1,>=0.1 in /usr/local/lib/python3.11/dist-packages (from imbalanced-learn) (0.1.3)\n",
            "Requirement already satisfied: nvidia-nccl-cu12 in /usr/local/lib/python3.11/dist-packages (from xgboost) (2.21.5)\n"
          ]
        }
      ],
      "source": [
        "!pip install --upgrade threadpoolctl scikit-learn imbalanced-learn xgboost"
      ]
    },
    {
      "cell_type": "code",
      "execution_count": 6,
      "metadata": {
        "colab": {
          "base_uri": "https://localhost:8080/"
        },
        "id": "JX1Omf7QCywG",
        "outputId": "7d667f32-7e7c-4fdc-b3da-e220764c6035"
      },
      "outputs": [
        {
          "output_type": "stream",
          "name": "stderr",
          "text": [
            "Exception ignored on calling ctypes callback function: <function ThreadpoolController._find_libraries_with_dl_iterate_phdr.<locals>.match_library_callback at 0x7daf8deb7b00>\n",
            "Traceback (most recent call last):\n",
            "  File \"/usr/local/lib/python3.11/dist-packages/threadpoolctl.py\", line 1005, in match_library_callback\n",
            "    self._make_controller_from_path(filepath)\n",
            "  File \"/usr/local/lib/python3.11/dist-packages/threadpoolctl.py\", line 1175, in _make_controller_from_path\n",
            "    lib_controller = controller_class(\n",
            "                     ^^^^^^^^^^^^^^^^^\n",
            "  File \"/usr/local/lib/python3.11/dist-packages/threadpoolctl.py\", line 114, in __init__\n",
            "    self.dynlib = ctypes.CDLL(filepath, mode=_RTLD_NOLOAD)\n",
            "                  ^^^^^^^^^^^^^^^^^^^^^^^^^^^^^^^^^^^^^^^^\n",
            "  File \"/usr/lib/python3.11/ctypes/__init__.py\", line 376, in __init__\n",
            "    self._handle = _dlopen(self._name, mode)\n",
            "                   ^^^^^^^^^^^^^^^^^^^^^^^^^\n",
            "OSError: dlopen() error\n"
          ]
        },
        {
          "output_type": "stream",
          "name": "stdout",
          "text": [
            "scikit-learn version: 1.6.0\n",
            "imblearn version: 0.13.0\n",
            "xgboost version: 2.1.3\n"
          ]
        }
      ],
      "source": [
        "import sklearn\n",
        "import imblearn\n",
        "import xgboost\n",
        "\n",
        "print(\"scikit-learn version:\", sklearn.__version__)\n",
        "print(\"imblearn version:\", imblearn.__version__)\n",
        "print(\"xgboost version:\", xgboost.__version__)"
      ]
    },
    {
      "cell_type": "code",
      "execution_count": 7,
      "metadata": {
        "colab": {
          "base_uri": "https://localhost:8080/"
        },
        "id": "yioG8WxBDV9w",
        "outputId": "05fa1344-f31a-46b7-a51f-145f4b26a60f"
      },
      "outputs": [
        {
          "output_type": "stream",
          "name": "stdout",
          "text": [
            "Mounted at /content/drive\n"
          ]
        }
      ],
      "source": [
        "from google.colab import drive\n",
        "drive.mount('/content/drive')"
      ]
    },
    {
      "cell_type": "code",
      "execution_count": 8,
      "metadata": {
        "colab": {
          "base_uri": "https://localhost:8080/"
        },
        "id": "TaLKWfIfP9ve",
        "outputId": "13f532c0-b64a-4428-9e99-420abd8e985f"
      },
      "outputs": [
        {
          "output_type": "stream",
          "name": "stdout",
          "text": [
            "['app_train.csv', 'app_test.csv']\n"
          ]
        }
      ],
      "source": [
        "# List files available\n",
        "print(os.listdir(\"/content/drive/MyDrive/Colab Notebooks/DS_projet_7/data_modelisation/\"))"
      ]
    },
    {
      "cell_type": "code",
      "execution_count": 9,
      "metadata": {
        "colab": {
          "base_uri": "https://localhost:8080/",
          "height": 290
        },
        "id": "hr97EOBVFlFY",
        "outputId": "81d14bc6-a25e-47d7-a856-83c0de84a149"
      },
      "outputs": [
        {
          "output_type": "stream",
          "name": "stdout",
          "text": [
            "Training data shape:  (307511, 242)\n"
          ]
        },
        {
          "output_type": "execute_result",
          "data": {
            "text/plain": [
              "   Unnamed: 0  SK_ID_CURR  NAME_CONTRACT_TYPE  FLAG_OWN_CAR  FLAG_OWN_REALTY  \\\n",
              "0           0      100002                   0             0                1   \n",
              "1           1      100003                   0             0                0   \n",
              "2           2      100004                   1             1                1   \n",
              "3           3      100006                   0             0                1   \n",
              "4           4      100007                   0             0                1   \n",
              "\n",
              "   CNT_CHILDREN  AMT_INCOME_TOTAL  AMT_CREDIT  AMT_ANNUITY  AMT_GOODS_PRICE  \\\n",
              "0             0          202500.0    406597.5      24700.5         351000.0   \n",
              "1             0          270000.0   1293502.5      35698.5        1129500.0   \n",
              "2             0           67500.0    135000.0       6750.0         135000.0   \n",
              "3             0          135000.0    312682.5      29686.5         297000.0   \n",
              "4             0          121500.0    513000.0      21865.5         513000.0   \n",
              "\n",
              "   ...  WALLSMATERIAL_MODE_Mixed  WALLSMATERIAL_MODE_Monolithic  \\\n",
              "0  ...                     False                          False   \n",
              "1  ...                     False                          False   \n",
              "2  ...                     False                          False   \n",
              "3  ...                     False                          False   \n",
              "4  ...                     False                          False   \n",
              "\n",
              "   WALLSMATERIAL_MODE_Others  WALLSMATERIAL_MODE_Panel  \\\n",
              "0                      False                     False   \n",
              "1                      False                     False   \n",
              "2                      False                     False   \n",
              "3                      False                     False   \n",
              "4                      False                     False   \n",
              "\n",
              "   WALLSMATERIAL_MODE_Stone, brick  WALLSMATERIAL_MODE_Wooden  \\\n",
              "0                             True                      False   \n",
              "1                            False                      False   \n",
              "2                            False                      False   \n",
              "3                            False                      False   \n",
              "4                            False                      False   \n",
              "\n",
              "   EMERGENCYSTATE_MODE_No  EMERGENCYSTATE_MODE_Yes  TARGET  DAYS_EMPLOYED_ANOM  \n",
              "0                    True                    False       1               False  \n",
              "1                    True                    False       0               False  \n",
              "2                   False                    False       0               False  \n",
              "3                   False                    False       0               False  \n",
              "4                   False                    False       0               False  \n",
              "\n",
              "[5 rows x 242 columns]"
            ],
            "text/html": [
              "\n",
              "  <div id=\"df-8aa04362-e111-4f57-b2d5-a1c24bf04061\" class=\"colab-df-container\">\n",
              "    <div>\n",
              "<style scoped>\n",
              "    .dataframe tbody tr th:only-of-type {\n",
              "        vertical-align: middle;\n",
              "    }\n",
              "\n",
              "    .dataframe tbody tr th {\n",
              "        vertical-align: top;\n",
              "    }\n",
              "\n",
              "    .dataframe thead th {\n",
              "        text-align: right;\n",
              "    }\n",
              "</style>\n",
              "<table border=\"1\" class=\"dataframe\">\n",
              "  <thead>\n",
              "    <tr style=\"text-align: right;\">\n",
              "      <th></th>\n",
              "      <th>Unnamed: 0</th>\n",
              "      <th>SK_ID_CURR</th>\n",
              "      <th>NAME_CONTRACT_TYPE</th>\n",
              "      <th>FLAG_OWN_CAR</th>\n",
              "      <th>FLAG_OWN_REALTY</th>\n",
              "      <th>CNT_CHILDREN</th>\n",
              "      <th>AMT_INCOME_TOTAL</th>\n",
              "      <th>AMT_CREDIT</th>\n",
              "      <th>AMT_ANNUITY</th>\n",
              "      <th>AMT_GOODS_PRICE</th>\n",
              "      <th>...</th>\n",
              "      <th>WALLSMATERIAL_MODE_Mixed</th>\n",
              "      <th>WALLSMATERIAL_MODE_Monolithic</th>\n",
              "      <th>WALLSMATERIAL_MODE_Others</th>\n",
              "      <th>WALLSMATERIAL_MODE_Panel</th>\n",
              "      <th>WALLSMATERIAL_MODE_Stone, brick</th>\n",
              "      <th>WALLSMATERIAL_MODE_Wooden</th>\n",
              "      <th>EMERGENCYSTATE_MODE_No</th>\n",
              "      <th>EMERGENCYSTATE_MODE_Yes</th>\n",
              "      <th>TARGET</th>\n",
              "      <th>DAYS_EMPLOYED_ANOM</th>\n",
              "    </tr>\n",
              "  </thead>\n",
              "  <tbody>\n",
              "    <tr>\n",
              "      <th>0</th>\n",
              "      <td>0</td>\n",
              "      <td>100002</td>\n",
              "      <td>0</td>\n",
              "      <td>0</td>\n",
              "      <td>1</td>\n",
              "      <td>0</td>\n",
              "      <td>202500.0</td>\n",
              "      <td>406597.5</td>\n",
              "      <td>24700.5</td>\n",
              "      <td>351000.0</td>\n",
              "      <td>...</td>\n",
              "      <td>False</td>\n",
              "      <td>False</td>\n",
              "      <td>False</td>\n",
              "      <td>False</td>\n",
              "      <td>True</td>\n",
              "      <td>False</td>\n",
              "      <td>True</td>\n",
              "      <td>False</td>\n",
              "      <td>1</td>\n",
              "      <td>False</td>\n",
              "    </tr>\n",
              "    <tr>\n",
              "      <th>1</th>\n",
              "      <td>1</td>\n",
              "      <td>100003</td>\n",
              "      <td>0</td>\n",
              "      <td>0</td>\n",
              "      <td>0</td>\n",
              "      <td>0</td>\n",
              "      <td>270000.0</td>\n",
              "      <td>1293502.5</td>\n",
              "      <td>35698.5</td>\n",
              "      <td>1129500.0</td>\n",
              "      <td>...</td>\n",
              "      <td>False</td>\n",
              "      <td>False</td>\n",
              "      <td>False</td>\n",
              "      <td>False</td>\n",
              "      <td>False</td>\n",
              "      <td>False</td>\n",
              "      <td>True</td>\n",
              "      <td>False</td>\n",
              "      <td>0</td>\n",
              "      <td>False</td>\n",
              "    </tr>\n",
              "    <tr>\n",
              "      <th>2</th>\n",
              "      <td>2</td>\n",
              "      <td>100004</td>\n",
              "      <td>1</td>\n",
              "      <td>1</td>\n",
              "      <td>1</td>\n",
              "      <td>0</td>\n",
              "      <td>67500.0</td>\n",
              "      <td>135000.0</td>\n",
              "      <td>6750.0</td>\n",
              "      <td>135000.0</td>\n",
              "      <td>...</td>\n",
              "      <td>False</td>\n",
              "      <td>False</td>\n",
              "      <td>False</td>\n",
              "      <td>False</td>\n",
              "      <td>False</td>\n",
              "      <td>False</td>\n",
              "      <td>False</td>\n",
              "      <td>False</td>\n",
              "      <td>0</td>\n",
              "      <td>False</td>\n",
              "    </tr>\n",
              "    <tr>\n",
              "      <th>3</th>\n",
              "      <td>3</td>\n",
              "      <td>100006</td>\n",
              "      <td>0</td>\n",
              "      <td>0</td>\n",
              "      <td>1</td>\n",
              "      <td>0</td>\n",
              "      <td>135000.0</td>\n",
              "      <td>312682.5</td>\n",
              "      <td>29686.5</td>\n",
              "      <td>297000.0</td>\n",
              "      <td>...</td>\n",
              "      <td>False</td>\n",
              "      <td>False</td>\n",
              "      <td>False</td>\n",
              "      <td>False</td>\n",
              "      <td>False</td>\n",
              "      <td>False</td>\n",
              "      <td>False</td>\n",
              "      <td>False</td>\n",
              "      <td>0</td>\n",
              "      <td>False</td>\n",
              "    </tr>\n",
              "    <tr>\n",
              "      <th>4</th>\n",
              "      <td>4</td>\n",
              "      <td>100007</td>\n",
              "      <td>0</td>\n",
              "      <td>0</td>\n",
              "      <td>1</td>\n",
              "      <td>0</td>\n",
              "      <td>121500.0</td>\n",
              "      <td>513000.0</td>\n",
              "      <td>21865.5</td>\n",
              "      <td>513000.0</td>\n",
              "      <td>...</td>\n",
              "      <td>False</td>\n",
              "      <td>False</td>\n",
              "      <td>False</td>\n",
              "      <td>False</td>\n",
              "      <td>False</td>\n",
              "      <td>False</td>\n",
              "      <td>False</td>\n",
              "      <td>False</td>\n",
              "      <td>0</td>\n",
              "      <td>False</td>\n",
              "    </tr>\n",
              "  </tbody>\n",
              "</table>\n",
              "<p>5 rows × 242 columns</p>\n",
              "</div>\n",
              "    <div class=\"colab-df-buttons\">\n",
              "\n",
              "  <div class=\"colab-df-container\">\n",
              "    <button class=\"colab-df-convert\" onclick=\"convertToInteractive('df-8aa04362-e111-4f57-b2d5-a1c24bf04061')\"\n",
              "            title=\"Convert this dataframe to an interactive table.\"\n",
              "            style=\"display:none;\">\n",
              "\n",
              "  <svg xmlns=\"http://www.w3.org/2000/svg\" height=\"24px\" viewBox=\"0 -960 960 960\">\n",
              "    <path d=\"M120-120v-720h720v720H120Zm60-500h600v-160H180v160Zm220 220h160v-160H400v160Zm0 220h160v-160H400v160ZM180-400h160v-160H180v160Zm440 0h160v-160H620v160ZM180-180h160v-160H180v160Zm440 0h160v-160H620v160Z\"/>\n",
              "  </svg>\n",
              "    </button>\n",
              "\n",
              "  <style>\n",
              "    .colab-df-container {\n",
              "      display:flex;\n",
              "      gap: 12px;\n",
              "    }\n",
              "\n",
              "    .colab-df-convert {\n",
              "      background-color: #E8F0FE;\n",
              "      border: none;\n",
              "      border-radius: 50%;\n",
              "      cursor: pointer;\n",
              "      display: none;\n",
              "      fill: #1967D2;\n",
              "      height: 32px;\n",
              "      padding: 0 0 0 0;\n",
              "      width: 32px;\n",
              "    }\n",
              "\n",
              "    .colab-df-convert:hover {\n",
              "      background-color: #E2EBFA;\n",
              "      box-shadow: 0px 1px 2px rgba(60, 64, 67, 0.3), 0px 1px 3px 1px rgba(60, 64, 67, 0.15);\n",
              "      fill: #174EA6;\n",
              "    }\n",
              "\n",
              "    .colab-df-buttons div {\n",
              "      margin-bottom: 4px;\n",
              "    }\n",
              "\n",
              "    [theme=dark] .colab-df-convert {\n",
              "      background-color: #3B4455;\n",
              "      fill: #D2E3FC;\n",
              "    }\n",
              "\n",
              "    [theme=dark] .colab-df-convert:hover {\n",
              "      background-color: #434B5C;\n",
              "      box-shadow: 0px 1px 3px 1px rgba(0, 0, 0, 0.15);\n",
              "      filter: drop-shadow(0px 1px 2px rgba(0, 0, 0, 0.3));\n",
              "      fill: #FFFFFF;\n",
              "    }\n",
              "  </style>\n",
              "\n",
              "    <script>\n",
              "      const buttonEl =\n",
              "        document.querySelector('#df-8aa04362-e111-4f57-b2d5-a1c24bf04061 button.colab-df-convert');\n",
              "      buttonEl.style.display =\n",
              "        google.colab.kernel.accessAllowed ? 'block' : 'none';\n",
              "\n",
              "      async function convertToInteractive(key) {\n",
              "        const element = document.querySelector('#df-8aa04362-e111-4f57-b2d5-a1c24bf04061');\n",
              "        const dataTable =\n",
              "          await google.colab.kernel.invokeFunction('convertToInteractive',\n",
              "                                                    [key], {});\n",
              "        if (!dataTable) return;\n",
              "\n",
              "        const docLinkHtml = 'Like what you see? Visit the ' +\n",
              "          '<a target=\"_blank\" href=https://colab.research.google.com/notebooks/data_table.ipynb>data table notebook</a>'\n",
              "          + ' to learn more about interactive tables.';\n",
              "        element.innerHTML = '';\n",
              "        dataTable['output_type'] = 'display_data';\n",
              "        await google.colab.output.renderOutput(dataTable, element);\n",
              "        const docLink = document.createElement('div');\n",
              "        docLink.innerHTML = docLinkHtml;\n",
              "        element.appendChild(docLink);\n",
              "      }\n",
              "    </script>\n",
              "  </div>\n",
              "\n",
              "\n",
              "<div id=\"df-bd6240e8-faa3-4ee2-88ca-a7bec1195732\">\n",
              "  <button class=\"colab-df-quickchart\" onclick=\"quickchart('df-bd6240e8-faa3-4ee2-88ca-a7bec1195732')\"\n",
              "            title=\"Suggest charts\"\n",
              "            style=\"display:none;\">\n",
              "\n",
              "<svg xmlns=\"http://www.w3.org/2000/svg\" height=\"24px\"viewBox=\"0 0 24 24\"\n",
              "     width=\"24px\">\n",
              "    <g>\n",
              "        <path d=\"M19 3H5c-1.1 0-2 .9-2 2v14c0 1.1.9 2 2 2h14c1.1 0 2-.9 2-2V5c0-1.1-.9-2-2-2zM9 17H7v-7h2v7zm4 0h-2V7h2v10zm4 0h-2v-4h2v4z\"/>\n",
              "    </g>\n",
              "</svg>\n",
              "  </button>\n",
              "\n",
              "<style>\n",
              "  .colab-df-quickchart {\n",
              "      --bg-color: #E8F0FE;\n",
              "      --fill-color: #1967D2;\n",
              "      --hover-bg-color: #E2EBFA;\n",
              "      --hover-fill-color: #174EA6;\n",
              "      --disabled-fill-color: #AAA;\n",
              "      --disabled-bg-color: #DDD;\n",
              "  }\n",
              "\n",
              "  [theme=dark] .colab-df-quickchart {\n",
              "      --bg-color: #3B4455;\n",
              "      --fill-color: #D2E3FC;\n",
              "      --hover-bg-color: #434B5C;\n",
              "      --hover-fill-color: #FFFFFF;\n",
              "      --disabled-bg-color: #3B4455;\n",
              "      --disabled-fill-color: #666;\n",
              "  }\n",
              "\n",
              "  .colab-df-quickchart {\n",
              "    background-color: var(--bg-color);\n",
              "    border: none;\n",
              "    border-radius: 50%;\n",
              "    cursor: pointer;\n",
              "    display: none;\n",
              "    fill: var(--fill-color);\n",
              "    height: 32px;\n",
              "    padding: 0;\n",
              "    width: 32px;\n",
              "  }\n",
              "\n",
              "  .colab-df-quickchart:hover {\n",
              "    background-color: var(--hover-bg-color);\n",
              "    box-shadow: 0 1px 2px rgba(60, 64, 67, 0.3), 0 1px 3px 1px rgba(60, 64, 67, 0.15);\n",
              "    fill: var(--button-hover-fill-color);\n",
              "  }\n",
              "\n",
              "  .colab-df-quickchart-complete:disabled,\n",
              "  .colab-df-quickchart-complete:disabled:hover {\n",
              "    background-color: var(--disabled-bg-color);\n",
              "    fill: var(--disabled-fill-color);\n",
              "    box-shadow: none;\n",
              "  }\n",
              "\n",
              "  .colab-df-spinner {\n",
              "    border: 2px solid var(--fill-color);\n",
              "    border-color: transparent;\n",
              "    border-bottom-color: var(--fill-color);\n",
              "    animation:\n",
              "      spin 1s steps(1) infinite;\n",
              "  }\n",
              "\n",
              "  @keyframes spin {\n",
              "    0% {\n",
              "      border-color: transparent;\n",
              "      border-bottom-color: var(--fill-color);\n",
              "      border-left-color: var(--fill-color);\n",
              "    }\n",
              "    20% {\n",
              "      border-color: transparent;\n",
              "      border-left-color: var(--fill-color);\n",
              "      border-top-color: var(--fill-color);\n",
              "    }\n",
              "    30% {\n",
              "      border-color: transparent;\n",
              "      border-left-color: var(--fill-color);\n",
              "      border-top-color: var(--fill-color);\n",
              "      border-right-color: var(--fill-color);\n",
              "    }\n",
              "    40% {\n",
              "      border-color: transparent;\n",
              "      border-right-color: var(--fill-color);\n",
              "      border-top-color: var(--fill-color);\n",
              "    }\n",
              "    60% {\n",
              "      border-color: transparent;\n",
              "      border-right-color: var(--fill-color);\n",
              "    }\n",
              "    80% {\n",
              "      border-color: transparent;\n",
              "      border-right-color: var(--fill-color);\n",
              "      border-bottom-color: var(--fill-color);\n",
              "    }\n",
              "    90% {\n",
              "      border-color: transparent;\n",
              "      border-bottom-color: var(--fill-color);\n",
              "    }\n",
              "  }\n",
              "</style>\n",
              "\n",
              "  <script>\n",
              "    async function quickchart(key) {\n",
              "      const quickchartButtonEl =\n",
              "        document.querySelector('#' + key + ' button');\n",
              "      quickchartButtonEl.disabled = true;  // To prevent multiple clicks.\n",
              "      quickchartButtonEl.classList.add('colab-df-spinner');\n",
              "      try {\n",
              "        const charts = await google.colab.kernel.invokeFunction(\n",
              "            'suggestCharts', [key], {});\n",
              "      } catch (error) {\n",
              "        console.error('Error during call to suggestCharts:', error);\n",
              "      }\n",
              "      quickchartButtonEl.classList.remove('colab-df-spinner');\n",
              "      quickchartButtonEl.classList.add('colab-df-quickchart-complete');\n",
              "    }\n",
              "    (() => {\n",
              "      let quickchartButtonEl =\n",
              "        document.querySelector('#df-bd6240e8-faa3-4ee2-88ca-a7bec1195732 button');\n",
              "      quickchartButtonEl.style.display =\n",
              "        google.colab.kernel.accessAllowed ? 'block' : 'none';\n",
              "    })();\n",
              "  </script>\n",
              "</div>\n",
              "\n",
              "    </div>\n",
              "  </div>\n"
            ],
            "application/vnd.google.colaboratory.intrinsic+json": {
              "type": "dataframe",
              "variable_name": "app_train"
            }
          },
          "metadata": {},
          "execution_count": 9
        }
      ],
      "source": [
        "#importation fichier\n",
        "app_train = pd.read_csv('/content/drive/MyDrive/Colab Notebooks/DS_projet_7/data_modelisation/app_train.csv')\n",
        "print('Training data shape: ', app_train.shape)\n",
        "app_train.head()"
      ]
    },
    {
      "cell_type": "code",
      "execution_count": 10,
      "metadata": {
        "colab": {
          "base_uri": "https://localhost:8080/",
          "height": 290
        },
        "id": "hXzD-5RpN28s",
        "outputId": "5efb931e-15e2-4c12-9aa8-afd35f500744"
      },
      "outputs": [
        {
          "output_type": "stream",
          "name": "stdout",
          "text": [
            "Testing data shape:  (307511, 242)\n"
          ]
        },
        {
          "output_type": "execute_result",
          "data": {
            "text/plain": [
              "   Unnamed: 0  SK_ID_CURR  NAME_CONTRACT_TYPE  FLAG_OWN_CAR  FLAG_OWN_REALTY  \\\n",
              "0           0      100002                   0             0                1   \n",
              "1           1      100003                   0             0                0   \n",
              "2           2      100004                   1             1                1   \n",
              "3           3      100006                   0             0                1   \n",
              "4           4      100007                   0             0                1   \n",
              "\n",
              "   CNT_CHILDREN  AMT_INCOME_TOTAL  AMT_CREDIT  AMT_ANNUITY  AMT_GOODS_PRICE  \\\n",
              "0             0          202500.0    406597.5      24700.5         351000.0   \n",
              "1             0          270000.0   1293502.5      35698.5        1129500.0   \n",
              "2             0           67500.0    135000.0       6750.0         135000.0   \n",
              "3             0          135000.0    312682.5      29686.5         297000.0   \n",
              "4             0          121500.0    513000.0      21865.5         513000.0   \n",
              "\n",
              "   ...  WALLSMATERIAL_MODE_Mixed  WALLSMATERIAL_MODE_Monolithic  \\\n",
              "0  ...                     False                          False   \n",
              "1  ...                     False                          False   \n",
              "2  ...                     False                          False   \n",
              "3  ...                     False                          False   \n",
              "4  ...                     False                          False   \n",
              "\n",
              "   WALLSMATERIAL_MODE_Others  WALLSMATERIAL_MODE_Panel  \\\n",
              "0                      False                     False   \n",
              "1                      False                     False   \n",
              "2                      False                     False   \n",
              "3                      False                     False   \n",
              "4                      False                     False   \n",
              "\n",
              "   WALLSMATERIAL_MODE_Stone, brick  WALLSMATERIAL_MODE_Wooden  \\\n",
              "0                             True                      False   \n",
              "1                            False                      False   \n",
              "2                            False                      False   \n",
              "3                            False                      False   \n",
              "4                            False                      False   \n",
              "\n",
              "   EMERGENCYSTATE_MODE_No  EMERGENCYSTATE_MODE_Yes  TARGET  DAYS_EMPLOYED_ANOM  \n",
              "0                    True                    False       1               False  \n",
              "1                    True                    False       0               False  \n",
              "2                   False                    False       0               False  \n",
              "3                   False                    False       0               False  \n",
              "4                   False                    False       0               False  \n",
              "\n",
              "[5 rows x 242 columns]"
            ],
            "text/html": [
              "\n",
              "  <div id=\"df-f9e4d99c-bd2b-46ca-836f-917f358cbae3\" class=\"colab-df-container\">\n",
              "    <div>\n",
              "<style scoped>\n",
              "    .dataframe tbody tr th:only-of-type {\n",
              "        vertical-align: middle;\n",
              "    }\n",
              "\n",
              "    .dataframe tbody tr th {\n",
              "        vertical-align: top;\n",
              "    }\n",
              "\n",
              "    .dataframe thead th {\n",
              "        text-align: right;\n",
              "    }\n",
              "</style>\n",
              "<table border=\"1\" class=\"dataframe\">\n",
              "  <thead>\n",
              "    <tr style=\"text-align: right;\">\n",
              "      <th></th>\n",
              "      <th>Unnamed: 0</th>\n",
              "      <th>SK_ID_CURR</th>\n",
              "      <th>NAME_CONTRACT_TYPE</th>\n",
              "      <th>FLAG_OWN_CAR</th>\n",
              "      <th>FLAG_OWN_REALTY</th>\n",
              "      <th>CNT_CHILDREN</th>\n",
              "      <th>AMT_INCOME_TOTAL</th>\n",
              "      <th>AMT_CREDIT</th>\n",
              "      <th>AMT_ANNUITY</th>\n",
              "      <th>AMT_GOODS_PRICE</th>\n",
              "      <th>...</th>\n",
              "      <th>WALLSMATERIAL_MODE_Mixed</th>\n",
              "      <th>WALLSMATERIAL_MODE_Monolithic</th>\n",
              "      <th>WALLSMATERIAL_MODE_Others</th>\n",
              "      <th>WALLSMATERIAL_MODE_Panel</th>\n",
              "      <th>WALLSMATERIAL_MODE_Stone, brick</th>\n",
              "      <th>WALLSMATERIAL_MODE_Wooden</th>\n",
              "      <th>EMERGENCYSTATE_MODE_No</th>\n",
              "      <th>EMERGENCYSTATE_MODE_Yes</th>\n",
              "      <th>TARGET</th>\n",
              "      <th>DAYS_EMPLOYED_ANOM</th>\n",
              "    </tr>\n",
              "  </thead>\n",
              "  <tbody>\n",
              "    <tr>\n",
              "      <th>0</th>\n",
              "      <td>0</td>\n",
              "      <td>100002</td>\n",
              "      <td>0</td>\n",
              "      <td>0</td>\n",
              "      <td>1</td>\n",
              "      <td>0</td>\n",
              "      <td>202500.0</td>\n",
              "      <td>406597.5</td>\n",
              "      <td>24700.5</td>\n",
              "      <td>351000.0</td>\n",
              "      <td>...</td>\n",
              "      <td>False</td>\n",
              "      <td>False</td>\n",
              "      <td>False</td>\n",
              "      <td>False</td>\n",
              "      <td>True</td>\n",
              "      <td>False</td>\n",
              "      <td>True</td>\n",
              "      <td>False</td>\n",
              "      <td>1</td>\n",
              "      <td>False</td>\n",
              "    </tr>\n",
              "    <tr>\n",
              "      <th>1</th>\n",
              "      <td>1</td>\n",
              "      <td>100003</td>\n",
              "      <td>0</td>\n",
              "      <td>0</td>\n",
              "      <td>0</td>\n",
              "      <td>0</td>\n",
              "      <td>270000.0</td>\n",
              "      <td>1293502.5</td>\n",
              "      <td>35698.5</td>\n",
              "      <td>1129500.0</td>\n",
              "      <td>...</td>\n",
              "      <td>False</td>\n",
              "      <td>False</td>\n",
              "      <td>False</td>\n",
              "      <td>False</td>\n",
              "      <td>False</td>\n",
              "      <td>False</td>\n",
              "      <td>True</td>\n",
              "      <td>False</td>\n",
              "      <td>0</td>\n",
              "      <td>False</td>\n",
              "    </tr>\n",
              "    <tr>\n",
              "      <th>2</th>\n",
              "      <td>2</td>\n",
              "      <td>100004</td>\n",
              "      <td>1</td>\n",
              "      <td>1</td>\n",
              "      <td>1</td>\n",
              "      <td>0</td>\n",
              "      <td>67500.0</td>\n",
              "      <td>135000.0</td>\n",
              "      <td>6750.0</td>\n",
              "      <td>135000.0</td>\n",
              "      <td>...</td>\n",
              "      <td>False</td>\n",
              "      <td>False</td>\n",
              "      <td>False</td>\n",
              "      <td>False</td>\n",
              "      <td>False</td>\n",
              "      <td>False</td>\n",
              "      <td>False</td>\n",
              "      <td>False</td>\n",
              "      <td>0</td>\n",
              "      <td>False</td>\n",
              "    </tr>\n",
              "    <tr>\n",
              "      <th>3</th>\n",
              "      <td>3</td>\n",
              "      <td>100006</td>\n",
              "      <td>0</td>\n",
              "      <td>0</td>\n",
              "      <td>1</td>\n",
              "      <td>0</td>\n",
              "      <td>135000.0</td>\n",
              "      <td>312682.5</td>\n",
              "      <td>29686.5</td>\n",
              "      <td>297000.0</td>\n",
              "      <td>...</td>\n",
              "      <td>False</td>\n",
              "      <td>False</td>\n",
              "      <td>False</td>\n",
              "      <td>False</td>\n",
              "      <td>False</td>\n",
              "      <td>False</td>\n",
              "      <td>False</td>\n",
              "      <td>False</td>\n",
              "      <td>0</td>\n",
              "      <td>False</td>\n",
              "    </tr>\n",
              "    <tr>\n",
              "      <th>4</th>\n",
              "      <td>4</td>\n",
              "      <td>100007</td>\n",
              "      <td>0</td>\n",
              "      <td>0</td>\n",
              "      <td>1</td>\n",
              "      <td>0</td>\n",
              "      <td>121500.0</td>\n",
              "      <td>513000.0</td>\n",
              "      <td>21865.5</td>\n",
              "      <td>513000.0</td>\n",
              "      <td>...</td>\n",
              "      <td>False</td>\n",
              "      <td>False</td>\n",
              "      <td>False</td>\n",
              "      <td>False</td>\n",
              "      <td>False</td>\n",
              "      <td>False</td>\n",
              "      <td>False</td>\n",
              "      <td>False</td>\n",
              "      <td>0</td>\n",
              "      <td>False</td>\n",
              "    </tr>\n",
              "  </tbody>\n",
              "</table>\n",
              "<p>5 rows × 242 columns</p>\n",
              "</div>\n",
              "    <div class=\"colab-df-buttons\">\n",
              "\n",
              "  <div class=\"colab-df-container\">\n",
              "    <button class=\"colab-df-convert\" onclick=\"convertToInteractive('df-f9e4d99c-bd2b-46ca-836f-917f358cbae3')\"\n",
              "            title=\"Convert this dataframe to an interactive table.\"\n",
              "            style=\"display:none;\">\n",
              "\n",
              "  <svg xmlns=\"http://www.w3.org/2000/svg\" height=\"24px\" viewBox=\"0 -960 960 960\">\n",
              "    <path d=\"M120-120v-720h720v720H120Zm60-500h600v-160H180v160Zm220 220h160v-160H400v160Zm0 220h160v-160H400v160ZM180-400h160v-160H180v160Zm440 0h160v-160H620v160ZM180-180h160v-160H180v160Zm440 0h160v-160H620v160Z\"/>\n",
              "  </svg>\n",
              "    </button>\n",
              "\n",
              "  <style>\n",
              "    .colab-df-container {\n",
              "      display:flex;\n",
              "      gap: 12px;\n",
              "    }\n",
              "\n",
              "    .colab-df-convert {\n",
              "      background-color: #E8F0FE;\n",
              "      border: none;\n",
              "      border-radius: 50%;\n",
              "      cursor: pointer;\n",
              "      display: none;\n",
              "      fill: #1967D2;\n",
              "      height: 32px;\n",
              "      padding: 0 0 0 0;\n",
              "      width: 32px;\n",
              "    }\n",
              "\n",
              "    .colab-df-convert:hover {\n",
              "      background-color: #E2EBFA;\n",
              "      box-shadow: 0px 1px 2px rgba(60, 64, 67, 0.3), 0px 1px 3px 1px rgba(60, 64, 67, 0.15);\n",
              "      fill: #174EA6;\n",
              "    }\n",
              "\n",
              "    .colab-df-buttons div {\n",
              "      margin-bottom: 4px;\n",
              "    }\n",
              "\n",
              "    [theme=dark] .colab-df-convert {\n",
              "      background-color: #3B4455;\n",
              "      fill: #D2E3FC;\n",
              "    }\n",
              "\n",
              "    [theme=dark] .colab-df-convert:hover {\n",
              "      background-color: #434B5C;\n",
              "      box-shadow: 0px 1px 3px 1px rgba(0, 0, 0, 0.15);\n",
              "      filter: drop-shadow(0px 1px 2px rgba(0, 0, 0, 0.3));\n",
              "      fill: #FFFFFF;\n",
              "    }\n",
              "  </style>\n",
              "\n",
              "    <script>\n",
              "      const buttonEl =\n",
              "        document.querySelector('#df-f9e4d99c-bd2b-46ca-836f-917f358cbae3 button.colab-df-convert');\n",
              "      buttonEl.style.display =\n",
              "        google.colab.kernel.accessAllowed ? 'block' : 'none';\n",
              "\n",
              "      async function convertToInteractive(key) {\n",
              "        const element = document.querySelector('#df-f9e4d99c-bd2b-46ca-836f-917f358cbae3');\n",
              "        const dataTable =\n",
              "          await google.colab.kernel.invokeFunction('convertToInteractive',\n",
              "                                                    [key], {});\n",
              "        if (!dataTable) return;\n",
              "\n",
              "        const docLinkHtml = 'Like what you see? Visit the ' +\n",
              "          '<a target=\"_blank\" href=https://colab.research.google.com/notebooks/data_table.ipynb>data table notebook</a>'\n",
              "          + ' to learn more about interactive tables.';\n",
              "        element.innerHTML = '';\n",
              "        dataTable['output_type'] = 'display_data';\n",
              "        await google.colab.output.renderOutput(dataTable, element);\n",
              "        const docLink = document.createElement('div');\n",
              "        docLink.innerHTML = docLinkHtml;\n",
              "        element.appendChild(docLink);\n",
              "      }\n",
              "    </script>\n",
              "  </div>\n",
              "\n",
              "\n",
              "<div id=\"df-b977d7e7-d6e7-482e-9aad-851e3b6d9bab\">\n",
              "  <button class=\"colab-df-quickchart\" onclick=\"quickchart('df-b977d7e7-d6e7-482e-9aad-851e3b6d9bab')\"\n",
              "            title=\"Suggest charts\"\n",
              "            style=\"display:none;\">\n",
              "\n",
              "<svg xmlns=\"http://www.w3.org/2000/svg\" height=\"24px\"viewBox=\"0 0 24 24\"\n",
              "     width=\"24px\">\n",
              "    <g>\n",
              "        <path d=\"M19 3H5c-1.1 0-2 .9-2 2v14c0 1.1.9 2 2 2h14c1.1 0 2-.9 2-2V5c0-1.1-.9-2-2-2zM9 17H7v-7h2v7zm4 0h-2V7h2v10zm4 0h-2v-4h2v4z\"/>\n",
              "    </g>\n",
              "</svg>\n",
              "  </button>\n",
              "\n",
              "<style>\n",
              "  .colab-df-quickchart {\n",
              "      --bg-color: #E8F0FE;\n",
              "      --fill-color: #1967D2;\n",
              "      --hover-bg-color: #E2EBFA;\n",
              "      --hover-fill-color: #174EA6;\n",
              "      --disabled-fill-color: #AAA;\n",
              "      --disabled-bg-color: #DDD;\n",
              "  }\n",
              "\n",
              "  [theme=dark] .colab-df-quickchart {\n",
              "      --bg-color: #3B4455;\n",
              "      --fill-color: #D2E3FC;\n",
              "      --hover-bg-color: #434B5C;\n",
              "      --hover-fill-color: #FFFFFF;\n",
              "      --disabled-bg-color: #3B4455;\n",
              "      --disabled-fill-color: #666;\n",
              "  }\n",
              "\n",
              "  .colab-df-quickchart {\n",
              "    background-color: var(--bg-color);\n",
              "    border: none;\n",
              "    border-radius: 50%;\n",
              "    cursor: pointer;\n",
              "    display: none;\n",
              "    fill: var(--fill-color);\n",
              "    height: 32px;\n",
              "    padding: 0;\n",
              "    width: 32px;\n",
              "  }\n",
              "\n",
              "  .colab-df-quickchart:hover {\n",
              "    background-color: var(--hover-bg-color);\n",
              "    box-shadow: 0 1px 2px rgba(60, 64, 67, 0.3), 0 1px 3px 1px rgba(60, 64, 67, 0.15);\n",
              "    fill: var(--button-hover-fill-color);\n",
              "  }\n",
              "\n",
              "  .colab-df-quickchart-complete:disabled,\n",
              "  .colab-df-quickchart-complete:disabled:hover {\n",
              "    background-color: var(--disabled-bg-color);\n",
              "    fill: var(--disabled-fill-color);\n",
              "    box-shadow: none;\n",
              "  }\n",
              "\n",
              "  .colab-df-spinner {\n",
              "    border: 2px solid var(--fill-color);\n",
              "    border-color: transparent;\n",
              "    border-bottom-color: var(--fill-color);\n",
              "    animation:\n",
              "      spin 1s steps(1) infinite;\n",
              "  }\n",
              "\n",
              "  @keyframes spin {\n",
              "    0% {\n",
              "      border-color: transparent;\n",
              "      border-bottom-color: var(--fill-color);\n",
              "      border-left-color: var(--fill-color);\n",
              "    }\n",
              "    20% {\n",
              "      border-color: transparent;\n",
              "      border-left-color: var(--fill-color);\n",
              "      border-top-color: var(--fill-color);\n",
              "    }\n",
              "    30% {\n",
              "      border-color: transparent;\n",
              "      border-left-color: var(--fill-color);\n",
              "      border-top-color: var(--fill-color);\n",
              "      border-right-color: var(--fill-color);\n",
              "    }\n",
              "    40% {\n",
              "      border-color: transparent;\n",
              "      border-right-color: var(--fill-color);\n",
              "      border-top-color: var(--fill-color);\n",
              "    }\n",
              "    60% {\n",
              "      border-color: transparent;\n",
              "      border-right-color: var(--fill-color);\n",
              "    }\n",
              "    80% {\n",
              "      border-color: transparent;\n",
              "      border-right-color: var(--fill-color);\n",
              "      border-bottom-color: var(--fill-color);\n",
              "    }\n",
              "    90% {\n",
              "      border-color: transparent;\n",
              "      border-bottom-color: var(--fill-color);\n",
              "    }\n",
              "  }\n",
              "</style>\n",
              "\n",
              "  <script>\n",
              "    async function quickchart(key) {\n",
              "      const quickchartButtonEl =\n",
              "        document.querySelector('#' + key + ' button');\n",
              "      quickchartButtonEl.disabled = true;  // To prevent multiple clicks.\n",
              "      quickchartButtonEl.classList.add('colab-df-spinner');\n",
              "      try {\n",
              "        const charts = await google.colab.kernel.invokeFunction(\n",
              "            'suggestCharts', [key], {});\n",
              "      } catch (error) {\n",
              "        console.error('Error during call to suggestCharts:', error);\n",
              "      }\n",
              "      quickchartButtonEl.classList.remove('colab-df-spinner');\n",
              "      quickchartButtonEl.classList.add('colab-df-quickchart-complete');\n",
              "    }\n",
              "    (() => {\n",
              "      let quickchartButtonEl =\n",
              "        document.querySelector('#df-b977d7e7-d6e7-482e-9aad-851e3b6d9bab button');\n",
              "      quickchartButtonEl.style.display =\n",
              "        google.colab.kernel.accessAllowed ? 'block' : 'none';\n",
              "    })();\n",
              "  </script>\n",
              "</div>\n",
              "\n",
              "    </div>\n",
              "  </div>\n"
            ],
            "application/vnd.google.colaboratory.intrinsic+json": {
              "type": "dataframe",
              "variable_name": "app_test"
            }
          },
          "metadata": {},
          "execution_count": 10
        }
      ],
      "source": [
        "# importation fichier\n",
        "app_test = pd.read_csv('/content/drive/MyDrive/Colab Notebooks/DS_projet_7/data_modelisation/app_test.csv')\n",
        "print('Testing data shape: ', app_test.shape)\n",
        "app_test.head()"
      ]
    },
    {
      "cell_type": "markdown",
      "metadata": {
        "id": "6k4c0yXmF6Ws"
      },
      "source": [
        "## Exploration"
      ]
    },
    {
      "cell_type": "code",
      "execution_count": 11,
      "metadata": {
        "colab": {
          "base_uri": "https://localhost:8080/",
          "height": 178
        },
        "id": "F7vsUIDtG4z9",
        "outputId": "8b0db583-a624-423c-ce25-1a880f21f4f4"
      },
      "outputs": [
        {
          "output_type": "execute_result",
          "data": {
            "text/plain": [
              "TARGET\n",
              "0    282686\n",
              "1     24825\n",
              "Name: count, dtype: int64"
            ],
            "text/html": [
              "<div>\n",
              "<style scoped>\n",
              "    .dataframe tbody tr th:only-of-type {\n",
              "        vertical-align: middle;\n",
              "    }\n",
              "\n",
              "    .dataframe tbody tr th {\n",
              "        vertical-align: top;\n",
              "    }\n",
              "\n",
              "    .dataframe thead th {\n",
              "        text-align: right;\n",
              "    }\n",
              "</style>\n",
              "<table border=\"1\" class=\"dataframe\">\n",
              "  <thead>\n",
              "    <tr style=\"text-align: right;\">\n",
              "      <th></th>\n",
              "      <th>count</th>\n",
              "    </tr>\n",
              "    <tr>\n",
              "      <th>TARGET</th>\n",
              "      <th></th>\n",
              "    </tr>\n",
              "  </thead>\n",
              "  <tbody>\n",
              "    <tr>\n",
              "      <th>0</th>\n",
              "      <td>282686</td>\n",
              "    </tr>\n",
              "    <tr>\n",
              "      <th>1</th>\n",
              "      <td>24825</td>\n",
              "    </tr>\n",
              "  </tbody>\n",
              "</table>\n",
              "</div><br><label><b>dtype:</b> int64</label>"
            ]
          },
          "metadata": {},
          "execution_count": 11
        }
      ],
      "source": [
        "app_train['TARGET'].value_counts()"
      ]
    },
    {
      "cell_type": "code",
      "execution_count": 12,
      "metadata": {
        "colab": {
          "base_uri": "https://localhost:8080/",
          "height": 430
        },
        "id": "5y_wxueoHJJA",
        "outputId": "7d639378-69dd-4924-b810-4375fea3a1d1"
      },
      "outputs": [
        {
          "output_type": "display_data",
          "data": {
            "text/plain": [
              "<Figure size 640x480 with 1 Axes>"
            ],
            "image/png": "[encoded data removed]"
          },
          "metadata": {}
        }
      ],
      "source": [
        "app_train['TARGET'].astype(int).plot.hist();"
      ]
    },
    {
      "cell_type": "code",
      "execution_count": 13,
      "metadata": {
        "colab": {
          "base_uri": "https://localhost:8080/",
          "height": 178
        },
        "id": "xYuKhsF-Oygh",
        "outputId": "6e53c5e4-5bab-471b-8a58-6366ba81127a"
      },
      "outputs": [
        {
          "output_type": "execute_result",
          "data": {
            "text/plain": [
              "bool       132\n",
              "float64     66\n",
              "int64       44\n",
              "Name: count, dtype: int64"
            ],
            "text/html": [
              "<div>\n",
              "<style scoped>\n",
              "    .dataframe tbody tr th:only-of-type {\n",
              "        vertical-align: middle;\n",
              "    }\n",
              "\n",
              "    .dataframe tbody tr th {\n",
              "        vertical-align: top;\n",
              "    }\n",
              "\n",
              "    .dataframe thead th {\n",
              "        text-align: right;\n",
              "    }\n",
              "</style>\n",
              "<table border=\"1\" class=\"dataframe\">\n",
              "  <thead>\n",
              "    <tr style=\"text-align: right;\">\n",
              "      <th></th>\n",
              "      <th>count</th>\n",
              "    </tr>\n",
              "  </thead>\n",
              "  <tbody>\n",
              "    <tr>\n",
              "      <th>bool</th>\n",
              "      <td>132</td>\n",
              "    </tr>\n",
              "    <tr>\n",
              "      <th>float64</th>\n",
              "      <td>66</td>\n",
              "    </tr>\n",
              "    <tr>\n",
              "      <th>int64</th>\n",
              "      <td>44</td>\n",
              "    </tr>\n",
              "  </tbody>\n",
              "</table>\n",
              "</div><br><label><b>dtype:</b> int64</label>"
            ]
          },
          "metadata": {},
          "execution_count": 13
        }
      ],
      "source": [
        "# Number of each type of column\n",
        "app_train.dtypes.value_counts()"
      ]
    },
    {
      "cell_type": "code",
      "execution_count": 14,
      "metadata": {
        "colab": {
          "base_uri": "https://localhost:8080/"
        },
        "id": "Ej8sdqUvQwkv",
        "outputId": "9e2825c0-4df4-4d6f-8e40-dcd001d9f6a2"
      },
      "outputs": [
        {
          "output_type": "stream",
          "name": "stdout",
          "text": [
            "Training Features shape:  (307511, 242)\n",
            "Testing Features shape:  (307511, 242)\n"
          ]
        }
      ],
      "source": [
        "train_labels = app_train['TARGET']\n",
        "\n",
        "# Align the training and testing data, keep only columns present in both dataframes\n",
        "app_train, app_test = app_train.align(app_test, join = 'inner', axis = 1)\n",
        "\n",
        "# Add the target back in\n",
        "app_train['TARGET'] = train_labels\n",
        "\n",
        "print('Training Features shape: ', app_train.shape)\n",
        "print('Testing Features shape: ', app_test.shape)"
      ]
    },
    {
      "cell_type": "markdown",
      "metadata": {
        "id": "VnjL4VrALVia"
      },
      "source": [
        "# Modélisation"
      ]
    },
    {
      "cell_type": "markdown",
      "metadata": {
        "id": "vxKdNeecw9nv"
      },
      "source": [
        "### Préparation de l'environement"
      ]
    },
    {
      "cell_type": "code",
      "execution_count": 15,
      "metadata": {
        "id": "swP4k3qFwfrg",
        "colab": {
          "base_uri": "https://localhost:8080/"
        },
        "outputId": "bc7a8fdb-6706-4173-e1df-8faf1f71c911"
      },
      "outputs": [
        {
          "output_type": "stream",
          "name": "stdout",
          "text": [
            "Requirement already satisfied: mlflow in /usr/local/lib/python3.11/dist-packages (2.20.0)\n",
            "Collecting pyngrok\n",
            "  Downloading pyngrok-7.2.3-py3-none-any.whl.metadata (8.7 kB)\n",
            "Requirement already satisfied: mlflow-skinny==2.20.0 in /usr/local/lib/python3.11/dist-packages (from mlflow) (2.20.0)\n",
            "Requirement already satisfied: Flask<4 in /usr/local/lib/python3.11/dist-packages (from mlflow) (3.1.0)\n",
            "Requirement already satisfied: Jinja2<4,>=2.11 in /usr/local/lib/python3.11/dist-packages (from mlflow) (3.1.5)\n",
            "Requirement already satisfied: alembic!=1.10.0,<2 in /usr/local/lib/python3.11/dist-packages (from mlflow) (1.14.1)\n",
            "Requirement already satisfied: docker<8,>=4.0.0 in /usr/local/lib/python3.11/dist-packages (from mlflow) (7.1.0)\n",
            "Requirement already satisfied: graphene<4 in /usr/local/lib/python3.11/dist-packages (from mlflow) (3.4.3)\n",
            "Requirement already satisfied: gunicorn<24 in /usr/local/lib/python3.11/dist-packages (from mlflow) (23.0.0)\n",
            "Requirement already satisfied: markdown<4,>=3.3 in /usr/local/lib/python3.11/dist-packages (from mlflow) (3.7)\n",
            "Requirement already satisfied: matplotlib<4 in /usr/local/lib/python3.11/dist-packages (from mlflow) (3.10.0)\n",
            "Requirement already satisfied: numpy<3 in /usr/local/lib/python3.11/dist-packages (from mlflow) (1.26.4)\n",
            "Requirement already satisfied: pandas<3 in /usr/local/lib/python3.11/dist-packages (from mlflow) (2.2.2)\n",
            "Requirement already satisfied: pyarrow<19,>=4.0.0 in /usr/local/lib/python3.11/dist-packages (from mlflow) (17.0.0)\n",
            "Requirement already satisfied: scikit-learn<2 in /usr/local/lib/python3.11/dist-packages (from mlflow) (1.6.1)\n",
            "Requirement already satisfied: scipy<2 in /usr/local/lib/python3.11/dist-packages (from mlflow) (1.13.1)\n",
            "Requirement already satisfied: sqlalchemy<3,>=1.4.0 in /usr/local/lib/python3.11/dist-packages (from mlflow) (2.0.37)\n",
            "Requirement already satisfied: cachetools<6,>=5.0.0 in /usr/local/lib/python3.11/dist-packages (from mlflow-skinny==2.20.0->mlflow) (5.5.0)\n",
            "Requirement already satisfied: click<9,>=7.0 in /usr/local/lib/python3.11/dist-packages (from mlflow-skinny==2.20.0->mlflow) (8.1.8)\n",
            "Requirement already satisfied: cloudpickle<4 in /usr/local/lib/python3.11/dist-packages (from mlflow-skinny==2.20.0->mlflow) (3.1.0)\n",
            "Requirement already satisfied: databricks-sdk<1,>=0.20.0 in /usr/local/lib/python3.11/dist-packages (from mlflow-skinny==2.20.0->mlflow) (0.41.0)\n",
            "Requirement already satisfied: gitpython<4,>=3.1.9 in /usr/local/lib/python3.11/dist-packages (from mlflow-skinny==2.20.0->mlflow) (3.1.44)\n",
            "Requirement already satisfied: importlib_metadata!=4.7.0,<9,>=3.7.0 in /usr/local/lib/python3.11/dist-packages (from mlflow-skinny==2.20.0->mlflow) (8.5.0)\n",
            "Requirement already satisfied: opentelemetry-api<3,>=1.9.0 in /usr/local/lib/python3.11/dist-packages (from mlflow-skinny==2.20.0->mlflow) (1.29.0)\n",
            "Requirement already satisfied: opentelemetry-sdk<3,>=1.9.0 in /usr/local/lib/python3.11/dist-packages (from mlflow-skinny==2.20.0->mlflow) (1.29.0)\n",
            "Requirement already satisfied: packaging<25 in /usr/local/lib/python3.11/dist-packages (from mlflow-skinny==2.20.0->mlflow) (24.2)\n",
            "Requirement already satisfied: protobuf<6,>=3.12.0 in /usr/local/lib/python3.11/dist-packages (from mlflow-skinny==2.20.0->mlflow) (4.25.5)\n",
            "Requirement already satisfied: pydantic<3,>=1.0 in /usr/local/lib/python3.11/dist-packages (from mlflow-skinny==2.20.0->mlflow) (2.10.5)\n",
            "Requirement already satisfied: pyyaml<7,>=5.1 in /usr/local/lib/python3.11/dist-packages (from mlflow-skinny==2.20.0->mlflow) (6.0.2)\n",
            "Requirement already satisfied: requests<3,>=2.17.3 in /usr/local/lib/python3.11/dist-packages (from mlflow-skinny==2.20.0->mlflow) (2.32.3)\n",
            "Requirement already satisfied: sqlparse<1,>=0.4.0 in /usr/local/lib/python3.11/dist-packages (from mlflow-skinny==2.20.0->mlflow) (0.5.3)\n",
            "Requirement already satisfied: typing-extensions<5,>=4.0.0 in /usr/local/lib/python3.11/dist-packages (from mlflow-skinny==2.20.0->mlflow) (4.12.2)\n",
            "Requirement already satisfied: Mako in /usr/local/lib/python3.11/dist-packages (from alembic!=1.10.0,<2->mlflow) (1.3.8)\n",
            "Requirement already satisfied: urllib3>=1.26.0 in /usr/local/lib/python3.11/dist-packages (from docker<8,>=4.0.0->mlflow) (2.3.0)\n",
            "Requirement already satisfied: Werkzeug>=3.1 in /usr/local/lib/python3.11/dist-packages (from Flask<4->mlflow) (3.1.3)\n",
            "Requirement already satisfied: itsdangerous>=2.2 in /usr/local/lib/python3.11/dist-packages (from Flask<4->mlflow) (2.2.0)\n",
            "Requirement already satisfied: blinker>=1.9 in /usr/local/lib/python3.11/dist-packages (from Flask<4->mlflow) (1.9.0)\n",
            "Requirement already satisfied: graphql-core<3.3,>=3.1 in /usr/local/lib/python3.11/dist-packages (from graphene<4->mlflow) (3.2.5)\n",
            "Requirement already satisfied: graphql-relay<3.3,>=3.1 in /usr/local/lib/python3.11/dist-packages (from graphene<4->mlflow) (3.2.0)\n",
            "Requirement already satisfied: python-dateutil<3,>=2.7.0 in /usr/local/lib/python3.11/dist-packages (from graphene<4->mlflow) (2.8.2)\n",
            "Requirement already satisfied: MarkupSafe>=2.0 in /usr/local/lib/python3.11/dist-packages (from Jinja2<4,>=2.11->mlflow) (3.0.2)\n",
            "Requirement already satisfied: contourpy>=1.0.1 in /usr/local/lib/python3.11/dist-packages (from matplotlib<4->mlflow) (1.3.1)\n",
            "Requirement already satisfied: cycler>=0.10 in /usr/local/lib/python3.11/dist-packages (from matplotlib<4->mlflow) (0.12.1)\n",
            "Requirement already satisfied: fonttools>=4.22.0 in /usr/local/lib/python3.11/dist-packages (from matplotlib<4->mlflow) (4.55.3)\n",
            "Requirement already satisfied: kiwisolver>=1.3.1 in /usr/local/lib/python3.11/dist-packages (from matplotlib<4->mlflow) (1.4.8)\n",
            "Requirement already satisfied: pillow>=8 in /usr/local/lib/python3.11/dist-packages (from matplotlib<4->mlflow) (11.1.0)\n",
            "Requirement already satisfied: pyparsing>=2.3.1 in /usr/local/lib/python3.11/dist-packages (from matplotlib<4->mlflow) (3.2.1)\n",
            "Requirement already satisfied: pytz>=2020.1 in /usr/local/lib/python3.11/dist-packages (from pandas<3->mlflow) (2024.2)\n",
            "Requirement already satisfied: tzdata>=2022.7 in /usr/local/lib/python3.11/dist-packages (from pandas<3->mlflow) (2024.2)\n",
            "Requirement already satisfied: joblib>=1.2.0 in /usr/local/lib/python3.11/dist-packages (from scikit-learn<2->mlflow) (1.4.2)\n",
            "Requirement already satisfied: threadpoolctl>=3.1.0 in /usr/local/lib/python3.11/dist-packages (from scikit-learn<2->mlflow) (3.5.0)\n",
            "Requirement already satisfied: greenlet!=0.4.17 in /usr/local/lib/python3.11/dist-packages (from sqlalchemy<3,>=1.4.0->mlflow) (3.1.1)\n",
            "Requirement already satisfied: google-auth~=2.0 in /usr/local/lib/python3.11/dist-packages (from databricks-sdk<1,>=0.20.0->mlflow-skinny==2.20.0->mlflow) (2.27.0)\n",
            "Requirement already satisfied: gitdb<5,>=4.0.1 in /usr/local/lib/python3.11/dist-packages (from gitpython<4,>=3.1.9->mlflow-skinny==2.20.0->mlflow) (4.0.12)\n",
            "Requirement already satisfied: zipp>=3.20 in /usr/local/lib/python3.11/dist-packages (from importlib_metadata!=4.7.0,<9,>=3.7.0->mlflow-skinny==2.20.0->mlflow) (3.21.0)\n",
            "Requirement already satisfied: deprecated>=1.2.6 in /usr/local/lib/python3.11/dist-packages (from opentelemetry-api<3,>=1.9.0->mlflow-skinny==2.20.0->mlflow) (1.2.15)\n",
            "Requirement already satisfied: opentelemetry-semantic-conventions==0.50b0 in /usr/local/lib/python3.11/dist-packages (from opentelemetry-sdk<3,>=1.9.0->mlflow-skinny==2.20.0->mlflow) (0.50b0)\n",
            "Requirement already satisfied: annotated-types>=0.6.0 in /usr/local/lib/python3.11/dist-packages (from pydantic<3,>=1.0->mlflow-skinny==2.20.0->mlflow) (0.7.0)\n",
            "Requirement already satisfied: pydantic-core==2.27.2 in /usr/local/lib/python3.11/dist-packages (from pydantic<3,>=1.0->mlflow-skinny==2.20.0->mlflow) (2.27.2)\n",
            "Requirement already satisfied: six>=1.5 in /usr/local/lib/python3.11/dist-packages (from python-dateutil<3,>=2.7.0->graphene<4->mlflow) (1.17.0)\n",
            "Requirement already satisfied: charset-normalizer<4,>=2 in /usr/local/lib/python3.11/dist-packages (from requests<3,>=2.17.3->mlflow-skinny==2.20.0->mlflow) (3.4.1)\n",
            "Requirement already satisfied: idna<4,>=2.5 in /usr/local/lib/python3.11/dist-packages (from requests<3,>=2.17.3->mlflow-skinny==2.20.0->mlflow) (3.10)\n",
            "Requirement already satisfied: certifi>=2017.4.17 in /usr/local/lib/python3.11/dist-packages (from requests<3,>=2.17.3->mlflow-skinny==2.20.0->mlflow) (2024.12.14)\n",
            "Requirement already satisfied: wrapt<2,>=1.10 in /usr/local/lib/python3.11/dist-packages (from deprecated>=1.2.6->opentelemetry-api<3,>=1.9.0->mlflow-skinny==2.20.0->mlflow) (1.17.0)\n",
            "Requirement already satisfied: smmap<6,>=3.0.1 in /usr/local/lib/python3.11/dist-packages (from gitdb<5,>=4.0.1->gitpython<4,>=3.1.9->mlflow-skinny==2.20.0->mlflow) (5.0.2)\n",
            "Requirement already satisfied: pyasn1-modules>=0.2.1 in /usr/local/lib/python3.11/dist-packages (from google-auth~=2.0->databricks-sdk<1,>=0.20.0->mlflow-skinny==2.20.0->mlflow) (0.4.1)\n",
            "Requirement already satisfied: rsa<5,>=3.1.4 in /usr/local/lib/python3.11/dist-packages (from google-auth~=2.0->databricks-sdk<1,>=0.20.0->mlflow-skinny==2.20.0->mlflow) (4.9)\n",
            "Requirement already satisfied: pyasn1<0.7.0,>=0.4.6 in /usr/local/lib/python3.11/dist-packages (from pyasn1-modules>=0.2.1->google-auth~=2.0->databricks-sdk<1,>=0.20.0->mlflow-skinny==2.20.0->mlflow) (0.6.1)\n",
            "Downloading pyngrok-7.2.3-py3-none-any.whl (23 kB)\n",
            "Installing collected packages: pyngrok\n",
            "Successfully installed pyngrok-7.2.3\n"
          ]
        }
      ],
      "source": [
        "!pip install mlflow pyngrok"
      ]
    },
    {
      "cell_type": "code",
      "execution_count": 16,
      "metadata": {
        "id": "3qM0s29pwkjF"
      },
      "outputs": [],
      "source": [
        "import os\n",
        "from pyngrok import ngrok\n",
        "import mlflow\n",
        "import mlflow.sklearn  # Pour enregistrer les modèles scikit-learn"
      ]
    },
    {
      "cell_type": "code",
      "execution_count": 17,
      "metadata": {
        "id": "A5kq4OEAwv_Q"
      },
      "outputs": [],
      "source": [
        "mlflow_directory = \"/content/drive/MyDrive/Colab Notebooks/DS_projet_7/mlflow\"\n",
        "os.makedirs(mlflow_directory, exist_ok=True)\n",
        "mlflow.set_tracking_uri(f\"file://{mlflow_directory}\")"
      ]
    },
    {
      "cell_type": "markdown",
      "metadata": {
        "id": "xlWI17ACJIT9"
      },
      "source": [
        "### Chargement des données et préparation"
      ]
    },
    {
      "cell_type": "code",
      "execution_count": 18,
      "metadata": {
        "id": "I5oRNdPsRhMZ"
      },
      "outputs": [],
      "source": [
        "from sklearn.impute import SimpleImputer\n",
        "from sklearn.preprocessing import MinMaxScaler\n",
        "from sklearn.model_selection import train_test_split\n",
        "\n",
        "# Chargement des données\n",
        "if 'TARGET' in app_train.columns:\n",
        "    train = app_train.drop(columns=['TARGET'])\n",
        "    target = app_train['TARGET']\n",
        "else:\n",
        "    train = app_train.copy()\n",
        "    target = None\n",
        "\n",
        "# Vérification des valeurs manquantes\n",
        "if train.isnull().sum().sum() > 0:\n",
        "    imputer = SimpleImputer(strategy='median')\n",
        "    train = imputer.fit_transform(train)\n",
        "else:\n",
        "    train = train.values  # Conversion explicite si c'est un DataFrame\n",
        "\n",
        "# Mise à l'échelle des caractéristiques\n",
        "scaler = MinMaxScaler(feature_range=(0, 1))\n",
        "train = scaler.fit_transform(train)\n",
        "\n",
        "# Diviser les données en ensembles d'entraînement et de test (si `target` est défini)\n",
        "if target is not None:\n",
        "    X_train, X_test, y_train, y_test = train_test_split(\n",
        "        train, target, test_size=0.2, random_state=42\n",
        "    )\n",
        "else:\n",
        "    X_train, X_test, y_train, y_test = None, None, None, None\n",
        "    print(\"Attention : Aucune étiquette ('target') n'a été fournie.\")"
      ]
    },
    {
      "cell_type": "markdown",
      "metadata": {
        "id": "oFEC8O_BJZev"
      },
      "source": [
        "### Initialisation de MLflow"
      ]
    },
    {
      "cell_type": "code",
      "execution_count": 19,
      "metadata": {
        "id": "pXO01oLpNTYl",
        "colab": {
          "base_uri": "https://localhost:8080/"
        },
        "outputId": "7fbc948f-66a6-463f-d47d-5475ee01db98"
      },
      "outputs": [
        {
          "output_type": "stream",
          "name": "stderr",
          "text": [
            "2025/01/24 09:39:07 INFO mlflow.tracking.fluent: Experiment with name 'Multi-Model Experiment avec SMOTE' does not exist. Creating a new experiment.\n"
          ]
        },
        {
          "output_type": "execute_result",
          "data": {
            "text/plain": [
              "<Experiment: artifact_location=('file:///content/drive/MyDrive/Colab '\n",
              " 'Notebooks/DS_projet_7/mlflow/161128569744698711'), creation_time=1737711547169, experiment_id='161128569744698711', last_update_time=1737711547169, lifecycle_stage='active', name='Multi-Model Experiment avec SMOTE', tags={}>"
            ]
          },
          "metadata": {},
          "execution_count": 19
        }
      ],
      "source": [
        "import mlflow\n",
        "import os\n",
        "\n",
        "# Créer le répertoire mlflow s'il n'existe pas\n",
        "mlflow_directory = \"/content/drive/MyDrive/Colab Notebooks/DS_projet_7/mlflow\"\n",
        "os.makedirs(mlflow_directory, exist_ok=True)\n",
        "\n",
        "# Définir l'URI de suivi MLflow\n",
        "mlflow.set_tracking_uri(f\"file://{mlflow_directory}\")\n",
        "\n",
        "# Définir l'expérience\n",
        "mlflow.set_experiment(\"Multi-Model Experiment avec SMOTE\")"
      ]
    },
    {
      "cell_type": "code",
      "execution_count": 20,
      "metadata": {
        "id": "W7GiQT02JsNd"
      },
      "outputs": [],
      "source": [
        "input_example = np.array([X_train[1]])  # Exemple basé sur une ligne des données d'entraînement"
      ]
    },
    {
      "cell_type": "markdown",
      "metadata": {
        "id": "jOOkMOR0vISE"
      },
      "source": [
        "### Préparation des outils et des données\n",
        "Cette première étape configure les outils nécessaires, notamment pour gérer les classes déséquilibrées avec SMOTE et pour normaliser les données."
      ]
    },
    {
      "cell_type": "code",
      "execution_count": 21,
      "metadata": {
        "id": "a8pdL9GOvXTo"
      },
      "outputs": [],
      "source": [
        "from sklearn.model_selection import train_test_split\n",
        "from sklearn.preprocessing import MinMaxScaler\n",
        "from imblearn.over_sampling import SMOTE\n",
        "from sklearn.pipeline import Pipeline\n",
        "from imblearn.pipeline import Pipeline as ImbPipeline\n",
        "from sklearn.impute import SimpleImputer\n",
        "\n",
        "# Gérer les classes déséquilibrées avec SMOTE\n",
        "smote = SMOTE(random_state=42)\n",
        "X_train_resampled, y_train_resampled = smote.fit_resample(X_train, y_train)\n",
        "\n",
        "# Normalisation des données\n",
        "scaler = MinMaxScaler()\n",
        "X_train_resampled = scaler.fit_transform(X_train_resampled)\n",
        "X_test = scaler.transform(X_test)"
      ]
    },
    {
      "cell_type": "markdown",
      "metadata": {
        "id": "j6ktmKnjvmwZ"
      },
      "source": [
        "### Ajout d’une pipeline et Optimisation des hyperparamètres\n",
        "Créer une pipeline pour standardiser le traitement, incluant SMOTE, la normalisation, et le modèle.\n",
        "\n",
        "Intégration de RandomizedSearchCV pour trouver les meilleurs hyperparamètres d’un modèle dans une pipeline."
      ]
    },
    {
      "cell_type": "code",
      "execution_count": 22,
      "metadata": {
        "id": "1rKwB1molO2v"
      },
      "outputs": [],
      "source": [
        "import time\n",
        "import joblib\n",
        "from sklearn.model_selection import RandomizedSearchCV, GridSearchCV\n",
        "from sklearn.dummy import DummyClassifier\n",
        "from sklearn.linear_model import LogisticRegression\n",
        "from sklearn.ensemble import RandomForestClassifier\n",
        "from xgboost import XGBClassifier\n",
        "from imblearn.pipeline import Pipeline as ImbPipeline\n",
        "from sklearn.metrics import roc_curve, auc, roc_auc_score, accuracy_score, f1_score, precision_score, recall_score\n",
        "from sklearn.impute import SimpleImputer\n",
        "from sklearn.preprocessing import MinMaxScaler\n",
        "from imblearn.over_sampling import SMOTE\n",
        "from imblearn.pipeline import Pipeline as ImbPipeline\n",
        "from mlflow.sklearn import load_model, log_model\n",
        "from joblib import Parallel, delayed\n",
        "from sklearn.experimental import enable_hist_gradient_boosting\n",
        "from sklearn.ensemble import HistGradientBoostingClassifier"
      ]
    },
    {
      "cell_type": "markdown",
      "metadata": {
        "id": "ASyyF5-2_8LV"
      },
      "source": [
        "#### hyperparamètres"
      ]
    },
    {
      "cell_type": "code",
      "execution_count": 23,
      "metadata": {
        "id": "xcB-34VafiDs"
      },
      "outputs": [],
      "source": [
        "# Dictionnaire des modèles avec leurs hyperparamètres\n",
        "models_with_params = {\n",
        "    \"LogisticRegression\": {\n",
        "        \"model\": LogisticRegression(max_iter=1000, random_state=42),\n",
        "        \"params\": {\n",
        "            'model__C': [0.1, 1, 10],\n",
        "            'model__solver': ['liblinear']\n",
        "        }\n",
        "    },\n",
        "    \"RandomForest\": {\n",
        "        \"model\": RandomForestClassifier(random_state=42),\n",
        "        \"params\": {\n",
        "            'model__n_estimators': [50, 100],\n",
        "            'model__max_depth': [10, 20]\n",
        "        }\n",
        "    },\n",
        "    #\"XGBoost\": {\n",
        "        #\"model\": XGBClassifier(use_label_encoder=False, eval_metric=\"logloss\", n_jobs=-1, tree_method='hist'),\n",
        "        #\"params\": {\n",
        "            #'model__n_estimators': [50, 100, 150],\n",
        "            #'model__learning_rate': [0.05, 0.1, 0.2],\n",
        "            #'model__max_depth': [3, 5, 7],\n",
        "            #'model__subsample': [0.8, 1.0],\n",
        "            #'model__colsample_bytree': [0.8, 1.0],\n",
        "            #'model__gamma': [0, 1]\n",
        "        #}\n",
        "    #},\n",
        "    \"GradientBoosting\": {\n",
        "        \"model\": HistGradientBoostingClassifier(random_state=42),\n",
        "        \"params\": {\n",
        "            'model__learning_rate': [0.05, 0.1, 0.2],\n",
        "            'model__max_iter': [50, 100, 150],\n",
        "            'model__max_depth': [3, 5, 7],\n",
        "            'model__min_samples_leaf': [20, 50]\n",
        "        }\n",
        "    }\n",
        "}"
      ]
    },
    {
      "cell_type": "markdown",
      "metadata": {
        "id": "2B7K1juU_zKB"
      },
      "source": [
        "#### score métier"
      ]
    },
    {
      "cell_type": "code",
      "execution_count": 24,
      "metadata": {
        "id": "ix-DPFjl_nFu"
      },
      "outputs": [],
      "source": [
        "def custom_cost_function(y_true, y_pred, cost_fn=10, cost_fp=1):\n",
        "    \"\"\"\n",
        "    Calcul d'un score métier basé sur le coût des erreurs.\n",
        "\n",
        "    Args:\n",
        "    y_true (array-like): Valeurs réelles.\n",
        "    y_pred (array-like): Prédictions du modèle.\n",
        "    cost_fn (int): Coût d'un faux négatif.\n",
        "    cost_fp (int): Coût d'un faux positif.\n",
        "\n",
        "    Returns:\n",
        "    float: Coût total des erreurs.\n",
        "    \"\"\"\n",
        "    # Matrice de confusion\n",
        "    tn, fp, fn, tp = confusion_matrix(y_true, y_pred).ravel()\n",
        "\n",
        "    # Calcul du coût total\n",
        "    total_cost = (cost_fp * fp) + (cost_fn * fn)\n",
        "    return total_cost"
      ]
    },
    {
      "cell_type": "markdown",
      "metadata": {
        "id": "yHXI7IVjAIwM"
      },
      "source": [
        "#### RandomizedSearchCV"
      ]
    },
    {
      "cell_type": "code",
      "execution_count": 25,
      "metadata": {
        "id": "xlrJvLIsHGrw"
      },
      "outputs": [],
      "source": [
        "def train_pipeline(model_name, model, params, X_train, y_train):\n",
        "    print(f\"\\nEntraînement du pipeline pour {model_name}...\")\n",
        "    pipeline = ImbPipeline(steps=[\n",
        "        ('imputer', SimpleImputer(strategy='median')),\n",
        "        ('scaler', MinMaxScaler()),\n",
        "        ('smote', SMOTE(random_state=42)),\n",
        "        ('model', model)\n",
        "    ])\n",
        "    #grid_search = GridSearchCV(\n",
        "        #pipeline,\n",
        "        #param_grid=params,  # Utiliser 'params' ici\n",
        "        #scoring='f1',\n",
        "        #cv=5,\n",
        "        #n_jobs=-1\n",
        "    #)\n",
        "    random_search = RandomizedSearchCV(\n",
        "        estimator=pipeline, # Utiliser 'pipeline' ici\n",
        "        param_distributions=params,  # Utiliser 'params' ici\n",
        "        n_iter=20,\n",
        "        scoring='roc_auc',\n",
        "        cv=3,\n",
        "        n_jobs=-1,\n",
        "        random_state=42\n",
        "    )\n",
        "\n",
        "    random_search.fit(X_train, y_train)\n",
        "    #grid_search.fit(X_train, y_train)\n",
        "    joblib.dump(random_search.best_estimator_, f'pipeline_{model_name}.pkl')\n",
        "    print(f\"Pipeline pour {model_name} sauvegardé sous le nom pipeline_{model_name}.pkl\")\n",
        "    return random_search.best_params_"
      ]
    },
    {
      "cell_type": "markdown",
      "metadata": {
        "id": "kOANLI4fAQXh"
      },
      "source": [
        "#### training"
      ]
    },
    {
      "cell_type": "code",
      "execution_count": 26,
      "metadata": {
        "id": "wpTdry6SgRHF",
        "colab": {
          "base_uri": "https://localhost:8080/"
        },
        "outputId": "af809d8c-fa71-4f19-ec39-a1e25d4845ac"
      },
      "outputs": [
        {
          "output_type": "stream",
          "name": "stdout",
          "text": [
            "Entraînement du modèle : LogisticRegression\n",
            "\n",
            "Entraînement du pipeline pour LogisticRegression...\n",
            "Pipeline pour LogisticRegression sauvegardé sous le nom pipeline_LogisticRegression.pkl\n",
            "Entraînement du modèle : RandomForest\n",
            "\n",
            "Entraînement du pipeline pour RandomForest...\n",
            "Pipeline pour RandomForest sauvegardé sous le nom pipeline_RandomForest.pkl\n",
            "Entraînement du modèle : GradientBoosting\n",
            "\n",
            "Entraînement du pipeline pour GradientBoosting...\n",
            "Pipeline pour GradientBoosting sauvegardé sous le nom pipeline_GradientBoosting.pkl\n",
            "\n",
            "Résultats finaux :\n",
            "LogisticRegression: {'model__solver': 'liblinear', 'model__C': 10}\n",
            "RandomForest: {'model__n_estimators': 100, 'model__max_depth': 20}\n",
            "GradientBoosting: {'model__min_samples_leaf': 20, 'model__max_iter': 150, 'model__max_depth': 7, 'model__learning_rate': 0.1}\n"
          ]
        }
      ],
      "source": [
        "if __name__ == \"__main__\":\n",
        "    # Vérifier si les données sont disponibles\n",
        "    if X_train is not None and y_train is not None:\n",
        "        results = {}\n",
        "\n",
        "        # Parcourir les modèles du dictionnaire et les entraîner un par un\n",
        "        for model_name, model_data in models_with_params.items():\n",
        "            print(f\"Entraînement du modèle : {model_name}\")\n",
        "\n",
        "            best_params = train_pipeline(\n",
        "                model_name=model_name,\n",
        "                model=model_data[\"model\"],\n",
        "                params=model_data[\"params\"],\n",
        "                X_train=X_train,\n",
        "                y_train=y_train\n",
        "            )\n",
        "\n",
        "            results[model_name] = best_params\n",
        "\n",
        "        # Afficher les résultats finaux\n",
        "        print(\"\\nRésultats finaux :\")\n",
        "        for model, params in results.items():\n",
        "            print(f\"{model}: {params}\")\n",
        "    else:\n",
        "        print(\"Erreur : Les données d'entraînement ne sont pas disponibles.\")"
      ]
    },
    {
      "cell_type": "markdown",
      "metadata": {
        "id": "iQfV2EmlxlMG"
      },
      "source": [
        "### Boucle sur plusieurs modèles avec journalisation MLflow\n",
        "Cette étape inclut les modèles supplémentaires et enregistre chaque expérimentation dans MLflow."
      ]
    },
    {
      "cell_type": "code",
      "execution_count": 27,
      "metadata": {
        "id": "VbJfbzv6E40s"
      },
      "outputs": [],
      "source": [
        "from sklearn.dummy import DummyClassifier\n",
        "from sklearn.experimental import enable_hist_gradient_boosting\n",
        "from sklearn.ensemble import HistGradientBoostingClassifier\n",
        "import shap\n",
        "import gc"
      ]
    },
    {
      "cell_type": "code",
      "source": [
        "from sklearn.ensemble import GradientBoostingClassifier, RandomForestClassifier, HistGradientBoostingClassifier\n",
        "from sklearn.linear_model import LogisticRegression\n",
        "from sklearn.dummy import DummyClassifier"
      ],
      "metadata": {
        "id": "RnXA9JJc0LTz"
      },
      "execution_count": 28,
      "outputs": []
    },
    {
      "cell_type": "code",
      "execution_count": 29,
      "metadata": {
        "id": "90R060tbhCZ6",
        "colab": {
          "base_uri": "https://localhost:8080/"
        },
        "outputId": "e39657bc-8430-4163-f75f-02be61ce5904"
      },
      "outputs": [
        {
          "output_type": "stream",
          "name": "stdout",
          "text": [
            "scikit-learn version: 1.6.0\n",
            "xgboost version: 2.1.3\n"
          ]
        }
      ],
      "source": [
        "import sklearn\n",
        "import xgboost\n",
        "print(f\"scikit-learn version: {sklearn.__version__}\")\n",
        "print(f\"xgboost version: {xgboost.__version__}\")"
      ]
    },
    {
      "cell_type": "code",
      "execution_count": 30,
      "metadata": {
        "id": "LzjfhtG_khtK"
      },
      "outputs": [],
      "source": [
        "# Liste des modèles\n",
        "models = {\n",
        "    \"DummyClassifier\": DummyClassifier(strategy=\"most_frequent\"),\n",
        "    \"LogisticRegression\": LogisticRegression(max_iter=1000),\n",
        "    \"RandomForest\": RandomForestClassifier(n_estimators=100, random_state=42),\n",
        "    #\"XGBoost\": XGBClassifier(use_label_encoder=False, eval_metric=\"logloss\", random_state=42),\n",
        "    \"GradientBoosting\": HistGradientBoostingClassifier(random_state=42)\n",
        "}"
      ]
    },
    {
      "cell_type": "code",
      "execution_count": 31,
      "metadata": {
        "id": "3hs9Vw9Hl28G"
      },
      "outputs": [],
      "source": [
        "# Liste pour stocker les courbes ROC\n",
        "roc_curves = []"
      ]
    },
    {
      "cell_type": "code",
      "execution_count": 32,
      "metadata": {
        "id": "HNPsLEFctBiE"
      },
      "outputs": [],
      "source": [
        "from sklearn.metrics import confusion_matrix"
      ]
    },
    {
      "cell_type": "code",
      "execution_count": 33,
      "metadata": {
        "id": "A6w_0E0dOzlu",
        "colab": {
          "base_uri": "https://localhost:8080/"
        },
        "outputId": "af04f06b-4440-45a0-f65a-090dd9760980"
      },
      "outputs": [
        {
          "output_type": "stream",
          "name": "stdout",
          "text": [
            "Modèle DummyClassifier journalisé avec succès.\n",
            "Modèle LogisticRegression journalisé avec succès.\n",
            "Modèle RandomForest journalisé avec succès.\n",
            "Modèle GradientBoosting journalisé avec succès.\n"
          ]
        }
      ],
      "source": [
        "# Répertoire pour les sorties\n",
        "output_dir = \"mlflow_outputs\"\n",
        "os.makedirs(output_dir, exist_ok=True)\n",
        "\n",
        "# Boucle sur chaque modèle\n",
        "for model_name, model in models.items():\n",
        "    start_time = time.time()\n",
        "\n",
        "    # === Définir la pipeline ===\n",
        "    pipeline = ImbPipeline(steps=[\n",
        "        ('imputer', SimpleImputer(strategy='median')),\n",
        "        ('scaler', MinMaxScaler()),\n",
        "        ('smote', SMOTE(random_state=42)),\n",
        "        ('model', model)\n",
        "    ])\n",
        "\n",
        "    # === Entraîner la pipeline ===\n",
        "    pipeline.fit(X_train, y_train)\n",
        "\n",
        "    # Sauvegarder la pipeline localement\n",
        "    pipeline_path = os.path.join(output_dir, f'pipeline_{model_name}.pkl')\n",
        "    joblib.dump(pipeline, pipeline_path)\n",
        "\n",
        "    # === Prédictions ===\n",
        "    y_pred = pipeline.predict(X_test)\n",
        "    y_prob = pipeline.predict_proba(X_test)[:, 1] if hasattr(pipeline, \"predict_proba\") else None\n",
        "\n",
        "    # === Calcul des métriques ===\n",
        "    total_cost = custom_cost_function(y_test, y_pred, cost_fn=10, cost_fp=1)\n",
        "    accuracy = accuracy_score(y_test, y_pred)\n",
        "    f1 = f1_score(y_test, y_pred)\n",
        "    precision = precision_score(y_test, y_pred)\n",
        "    recall = recall_score(y_test, y_pred)\n",
        "    auc_roc = roc_auc_score(y_test, y_prob) if y_prob is not None else None\n",
        "\n",
        "    # === MLflow : Enregistrement ===\n",
        "    with mlflow.start_run(run_name=model_name):\n",
        "        # Paramètres et métriques\n",
        "        mlflow.log_param(\"model_name\", model_name)\n",
        "        if hasattr(model, \"n_estimators\"):\n",
        "            mlflow.log_param(\"n_estimators\", model.n_estimators)\n",
        "        if hasattr(model, \"max_depth\"):\n",
        "            mlflow.log_param(\"max_depth\", model.max_depth)\n",
        "        if hasattr(model, \"learning_rate\"):\n",
        "            mlflow.log_param(\"learning_rate\", model.learning_rate)\n",
        "\n",
        "        # Métriques de performance\n",
        "        mlflow.log_metric(\"custom_cost\", total_cost)\n",
        "        mlflow.log_metric(\"accuracy\", accuracy)\n",
        "        mlflow.log_metric(\"f1_score\", f1)\n",
        "        mlflow.log_metric(\"precision\", precision)\n",
        "        mlflow.log_metric(\"recall\", recall)\n",
        "        if auc_roc is not None:\n",
        "            mlflow.log_metric(\"auc_roc\", auc_roc)\n",
        "\n",
        "        # Ajout de l'ID du commit Git\n",
        "        try:\n",
        "            git_commit = !git rev-parse HEAD\n",
        "            mlflow.log_param(\"git_commit\", git_commit[0])\n",
        "        except Exception as e:\n",
        "            print(f\"Impossible de récupérer l'ID du commit : {e}\")\n",
        "\n",
        "        # Journaliser la pipeline dans MLflow\n",
        "        input_example = pd.DataFrame(X_train[:1])  # Exemple d'entrée pour le modèle\n",
        "        log_model(\n",
        "            sk_model=pipeline,\n",
        "            artifact_path=\"model_pipeline\",\n",
        "            input_example=input_example\n",
        "        )\n",
        "\n",
        "        # === Courbe ROC ===\n",
        "        if y_prob is not None:\n",
        "            plt.figure()\n",
        "            fpr, tpr, _ = roc_curve(y_test, y_prob)\n",
        "            roc_auc = auc(fpr, tpr)\n",
        "            plt.plot(fpr, tpr, label=f'ROC curve (AUC = {roc_auc:.2f})')\n",
        "            plt.plot([0, 1], [0, 1], 'k--')\n",
        "            plt.title(f'ROC Curve - {model_name}')\n",
        "            plt.xlabel('False Positive Rate')\n",
        "            plt.ylabel('True Positive Rate')\n",
        "            plt.legend(loc=\"lower right\")\n",
        "            roc_curve_path = os.path.join(output_dir, f\"roc_curve_{model_name}.png\")\n",
        "            plt.savefig(roc_curve_path)\n",
        "            plt.close()\n",
        "            mlflow.log_artifact(roc_curve_path)\n",
        "\n",
        "        # Enregistrer le temps d'exécution\n",
        "        elapsed_time = time.time() - start_time\n",
        "        mlflow.log_metric(\"training_time\", elapsed_time)\n",
        "\n",
        "    print(f\"Modèle {model_name} journalisé avec succès.\")"
      ]
    },
    {
      "cell_type": "code",
      "execution_count": null,
      "metadata": {
        "id": "0EfK03jolcJW",
        "colab": {
          "base_uri": "https://localhost:8080/",
          "height": 139
        },
        "outputId": "04aa2718-dfe8-4e22-8441-2757ff108f8f"
      },
      "outputs": [
        {
          "output_type": "execute_result",
          "data": {
            "text/plain": [
              "'# Boucle sur chaque modèle\\nfor model_name, model in models.items():\\n    start_time = time.time()\\n\\n    # Pipeline spécifique au modèle\\n    pipeline = ImbPipeline(steps=[\\n        (\\'imputer\\', SimpleImputer(strategy=\\'median\\')),\\n        (\\'scaler\\', MinMaxScaler()),\\n        (\\'smote\\', SMOTE(random_state=42)),\\n        (\\'model\\', model)  # Utilise le modèle courant\\n    ])\\n\\n    # Ajuster le modèle\\n    pipeline.fit(X_train, y_train)\\n\\n    # Sauvegarder la pipeline\\n    joblib.dump(pipeline, f\\'pipeline_{model_name}.pkl\\')\\n    print(f\"Pipeline sauvegardée sous le nom pipeline_{model_name}.pkl\")\\n\\n    # Prédictions\\n    y_pred = pipeline.predict(X_test)\\n    y_prob = pipeline.predict_proba(X_test)[:, 1] if hasattr(pipeline, \"predict_proba\") else None\\n\\n    # Calcul du score métier\\n    total_cost = custom_cost_function(y_test, y_pred, cost_fn=10, cost_fp=1)\\n    print(f\"Coût total pour le modèle {model_name} : {total_cost}\")\\n\\n    # Calcul des métriques\\n    accuracy = accuracy_score(y_test, y_pred)\\n    f1 = f1_score(y_test, y_pred)\\n    precision = precision_score(y_test, y_pred)\\n    recall = recall_score(y_test, y_pred)\\n    auc_roc = roc_auc_score(y_test, y_prob) if y_prob is not None else None\\n\\n    # Calcul de la courbe ROC pour ce modèle\\n    if y_prob is not None:\\n        fpr, tpr, _ = roc_curve(y_test, y_prob)\\n        roc_auc = auc(fpr, tpr)\\n        roc_curves.append((fpr, tpr, model_name, roc_auc))\\n\\n    # Journalisation dans MLflow\\n    mlflow.end_run()  # Terminer tout ancien run\\n    with mlflow.start_run(run_name=model_name):\\n        mlflow.log_param(\"model_name\", model_name)\\n        if hasattr(model, \"n_estimators\"):\\n            mlflow.log_param(\"n_estimators\", model.n_estimators)\\n        if hasattr(model, \"max_depth\"):\\n            mlflow.log_param(\"max_depth\", model.max_depth)\\n        if hasattr(model, \"learning_rate\"):\\n            mlflow.log_param(\"learning_rate\", model.learning_rate)\\n        if isinstance(model, HistGradientBoostingClassifier):\\n            mlflow.log_param(\"max_iter\", model.max_iter)\\n            mlflow.log_param(\"min_samples_leaf\", model.min_samples_leaf)\\n\\n        # Journaliser les métriques\\n        mlflow.log_metric(\"accuracy\", accuracy)\\n        mlflow.log_metric(\"f1_score\", f1)\\n        mlflow.log_metric(\"precision\", precision)\\n        mlflow.log_metric(\"recall\", recall)\\n        if auc_roc is not None:\\n            mlflow.log_metric(\"auc_roc\", auc_roc)\\n\\n        # Journaliser le modèle\\n        input_example = pd.DataFrame(X_train[:1])  # Exemple d\\'entrée\\n        log_model(\\n            sk_model=pipeline,\\n            artifact_path=\"model_pipeline\",\\n            input_example=input_example\\n        )\\n\\n        # Journaliser la courbe ROC dans MLflow\\n        if y_prob is not None:\\n            plt.figure()\\n            plt.plot(fpr, tpr, label=f\\'ROC curve (area = {roc_auc:.2f})\\')\\n            plt.plot([0, 1], [0, 1], \\'k--\\')\\n            plt.title(f\\'ROC Curve - {model_name}\\')\\n            plt.xlabel(\\'False Positive Rate\\')\\n            plt.ylabel(\\'True Positive Rate\\')\\n            plt.legend(loc=\"lower right\")\\n            plt.savefig(f\\'roc_curve_{model_name}.png\\')  # Sauvegarde locale\\n            plt.close()\\n\\n            mlflow.log_artifact(f\\'roc_curve_{model_name}.png\\')\\n\\n    # Temps d\\'exécution\\n    elapsed_time = time.time() - start_time\\n    print(f\"Temps d\\'exécution pour le modèle {model_name} : {elapsed_time:.2f} secondes\")\\n    mlflow.log_metric(\"training_time\", elapsed_time)\\n\\n    print(f\"Modèle {model_name} terminé et journalisé avec MLflow.\")\\n\\n\\n# Afficher les courbes ROC après la boucle\\nplt.figure(figsize=(10, 6))\\nfor fpr, tpr, model_name, roc_auc in roc_curves:\\n    plt.plot(fpr, tpr, label=f\\'{model_name} (AUC = {roc_auc:.2f})\\')\\n\\nplt.plot([0, 1], [0, 1], \\'k--\\')  # Courbe aléatoire\\nplt.title(\\'Courbes ROC\\')\\nplt.xlabel(\\'Taux de Faux Positifs (FPR)\\')\\nplt.ylabel(\\'Taux de Vrais Positifs (TPR)\\')\\nplt.legend()\\nplt.show()'"
            ],
            "application/vnd.google.colaboratory.intrinsic+json": {
              "type": "string"
            }
          },
          "metadata": {},
          "execution_count": 63
        }
      ],
      "source": [
        "\"\"\"# Boucle sur chaque modèle\n",
        "for model_name, model in models.items():\n",
        "    start_time = time.time()\n",
        "\n",
        "    # Pipeline spécifique au modèle\n",
        "    pipeline = ImbPipeline(steps=[\n",
        "        ('imputer', SimpleImputer(strategy='median')),\n",
        "        ('scaler', MinMaxScaler()),\n",
        "        ('smote', SMOTE(random_state=42)),\n",
        "        ('model', model)  # Utilise le modèle courant\n",
        "    ])\n",
        "\n",
        "    # Ajuster le modèle\n",
        "    pipeline.fit(X_train, y_train)\n",
        "\n",
        "    # Sauvegarder la pipeline\n",
        "    joblib.dump(pipeline, f'pipeline_{model_name}.pkl')\n",
        "    print(f\"Pipeline sauvegardée sous le nom pipeline_{model_name}.pkl\")\n",
        "\n",
        "    # Prédictions\n",
        "    y_pred = pipeline.predict(X_test)\n",
        "    y_prob = pipeline.predict_proba(X_test)[:, 1] if hasattr(pipeline, \"predict_proba\") else None\n",
        "\n",
        "    # Calcul du score métier\n",
        "    total_cost = custom_cost_function(y_test, y_pred, cost_fn=10, cost_fp=1)\n",
        "    print(f\"Coût total pour le modèle {model_name} : {total_cost}\")\n",
        "\n",
        "    # Calcul des métriques\n",
        "    accuracy = accuracy_score(y_test, y_pred)\n",
        "    f1 = f1_score(y_test, y_pred)\n",
        "    precision = precision_score(y_test, y_pred)\n",
        "    recall = recall_score(y_test, y_pred)\n",
        "    auc_roc = roc_auc_score(y_test, y_prob) if y_prob is not None else None\n",
        "\n",
        "    # Calcul de la courbe ROC pour ce modèle\n",
        "    if y_prob is not None:\n",
        "        fpr, tpr, _ = roc_curve(y_test, y_prob)\n",
        "        roc_auc = auc(fpr, tpr)\n",
        "        roc_curves.append((fpr, tpr, model_name, roc_auc))\n",
        "\n",
        "    # Journalisation dans MLflow\n",
        "    mlflow.end_run()  # Terminer tout ancien run\n",
        "    with mlflow.start_run(run_name=model_name):\n",
        "        mlflow.log_param(\"model_name\", model_name)\n",
        "        if hasattr(model, \"n_estimators\"):\n",
        "            mlflow.log_param(\"n_estimators\", model.n_estimators)\n",
        "        if hasattr(model, \"max_depth\"):\n",
        "            mlflow.log_param(\"max_depth\", model.max_depth)\n",
        "        if hasattr(model, \"learning_rate\"):\n",
        "            mlflow.log_param(\"learning_rate\", model.learning_rate)\n",
        "        if isinstance(model, HistGradientBoostingClassifier):\n",
        "            mlflow.log_param(\"max_iter\", model.max_iter)\n",
        "            mlflow.log_param(\"min_samples_leaf\", model.min_samples_leaf)\n",
        "\n",
        "        # Journaliser les métriques\n",
        "        mlflow.log_metric(\"accuracy\", accuracy)\n",
        "        mlflow.log_metric(\"f1_score\", f1)\n",
        "        mlflow.log_metric(\"precision\", precision)\n",
        "        mlflow.log_metric(\"recall\", recall)\n",
        "        if auc_roc is not None:\n",
        "            mlflow.log_metric(\"auc_roc\", auc_roc)\n",
        "\n",
        "        # Journaliser le modèle\n",
        "        input_example = pd.DataFrame(X_train[:1])  # Exemple d'entrée\n",
        "        log_model(\n",
        "            sk_model=pipeline,\n",
        "            artifact_path=\"model_pipeline\",\n",
        "            input_example=input_example\n",
        "        )\n",
        "\n",
        "        # Journaliser la courbe ROC dans MLflow\n",
        "        if y_prob is not None:\n",
        "            plt.figure()\n",
        "            plt.plot(fpr, tpr, label=f'ROC curve (area = {roc_auc:.2f})')\n",
        "            plt.plot([0, 1], [0, 1], 'k--')\n",
        "            plt.title(f'ROC Curve - {model_name}')\n",
        "            plt.xlabel('False Positive Rate')\n",
        "            plt.ylabel('True Positive Rate')\n",
        "            plt.legend(loc=\"lower right\")\n",
        "            plt.savefig(f'roc_curve_{model_name}.png')  # Sauvegarde locale\n",
        "            plt.close()\n",
        "\n",
        "            mlflow.log_artifact(f'roc_curve_{model_name}.png')\n",
        "\n",
        "    # Temps d'exécution\n",
        "    elapsed_time = time.time() - start_time\n",
        "    print(f\"Temps d'exécution pour le modèle {model_name} : {elapsed_time:.2f} secondes\")\n",
        "    mlflow.log_metric(\"training_time\", elapsed_time)\n",
        "\n",
        "    print(f\"Modèle {model_name} terminé et journalisé avec MLflow.\")\n",
        "\n",
        "\n",
        "# Afficher les courbes ROC après la boucle\n",
        "plt.figure(figsize=(10, 6))\n",
        "for fpr, tpr, model_name, roc_auc in roc_curves:\n",
        "    plt.plot(fpr, tpr, label=f'{model_name} (AUC = {roc_auc:.2f})')\n",
        "\n",
        "plt.plot([0, 1], [0, 1], 'k--')  # Courbe aléatoire\n",
        "plt.title('Courbes ROC')\n",
        "plt.xlabel('Taux de Faux Positifs (FPR)')\n",
        "plt.ylabel('Taux de Vrais Positifs (TPR)')\n",
        "plt.legend()\n",
        "plt.show()\"\"\""
      ]
    },
    {
      "cell_type": "markdown",
      "metadata": {
        "id": "PUcx13VSorj6"
      },
      "source": [
        "Metriques :\n",
        "- **F1-Score**\n",
        "Le F1-score est une métrique qui combine précision et rappel en un seul score harmonique. C'est utile lorsque vous avez un déséquilibre entre les classes, car il pénalise les modèles qui sacrifient l'une au profit de l'autre.\n",
        "\n",
        "Utilisé lorsque les faux positifs (FP) et faux négatifs (FN) sont également importants.\n",
        "\n",
        "- **AUC-ROC (Area Under the Curve - Receiver Operating Characteristic)**\n",
        "L'AUC-ROC mesure la capacité d'un modèle à discriminer entre les classes positives et négatives, en testant différents seuils de probabilité.\n",
        "Interprétation de l'AUC :\n",
        "AUC = 1 : Parfaite séparation des classes.\n",
        "AUC = 0.5 : Modèle aléatoire (aucune capacité de discrimination).\n",
        "AUC < 0.5 : Mauvais modèle (inversion des classes).\n",
        "\n",
        "Utile pour comparer des modèles indépendamment d'un seuil spécifique.\n",
        "\n",
        "- **Précision (Precision)**\n",
        "La précision mesure la proportion de vrais positifs parmi tous les échantillons prédits comme positifs.\n",
        "\n",
        "Utile lorsque les faux positifs sont coûteux.\n",
        "\n",
        "- **Rappel (Recall ou Sensibilité)**\n",
        "Le rappel mesure la proportion de vrais positifs parmi tous les échantillons qui sont effectivement positifs.\n",
        "\n",
        "- **Temps de calcul**\n",
        "mesurer le temps de calcul de chaque modèle\n",
        "\n",
        "Utile lorsque les faux négatifs sont coûteux.\n",
        "\n",
        "Précision vs Rappel : Il existe souvent un compromis entre précision et rappel. Une augmentation de l'un peut réduire l'autre.\n",
        "F1-Score : Trouve un équilibre entre précision et rappel.\n",
        "AUC-ROC : Évalue la performance globale sur tous les seuils.\n",
        "\n",
        "En utilisant ces prédictions :\n",
        "\n",
        "* Précision : Parmi les clients que le modèle dit éligibles, combien le sont vraiment ?\n",
        "* Rappel : Parmi les clients réellement éligibles, combien le modèle détecte-t-il ?\n",
        "* F1-Score : Moyenne harmonique de la précision et du rappel.\n",
        "* AUC-ROC : Mesure la capacité du modèle à distinguer entre les deux classes sur tous les seuils possibles.\n",
        "\n",
        "Ces métriques permettent de choisir le modèle qui répond le mieux à vos objectifs métier et aux coûts associés aux erreurs de classification."
      ]
    },
    {
      "cell_type": "markdown",
      "metadata": {
        "id": "LywVAlaUKEtd"
      },
      "source": [
        "### Lancer l'interface MLflow UI\n",
        "Utilisation d'une interface web distante via ngrok(exposée au public), créer un compte et récupérer le token"
      ]
    },
    {
      "cell_type": "code",
      "execution_count": 34,
      "metadata": {
        "id": "GfIrXKzgAi1J",
        "colab": {
          "base_uri": "https://localhost:8080/"
        },
        "outputId": "d527c859-eff8-41e5-9d1a-118b28735e96"
      },
      "outputs": [
        {
          "output_type": "stream",
          "name": "stdout",
          "text": [
            "Authtoken saved to configuration file: /root/.config/ngrok/ngrok.yml\n"
          ]
        }
      ],
      "source": [
        "!ngrok authtoken 2qlJq50YUC2X62MFA1q7qxbILkY_5Dx45MFSwjmUQLvcqSHBU"
      ]
    },
    {
      "cell_type": "code",
      "execution_count": 37,
      "metadata": {
        "id": "3FAVw2g7yNhK",
        "colab": {
          "base_uri": "https://localhost:8080/"
        },
        "outputId": "1f6d8c6b-adf7-45cf-da64-c7996a91ba81"
      },
      "outputs": [
        {
          "output_type": "stream",
          "name": "stdout",
          "text": [
            "[2025-01-24 11:51:02 +0000] [34576] [INFO] Starting gunicorn 23.0.0\n",
            "[2025-01-24 11:51:02 +0000] [34576] [INFO] Listening at: http://127.0.0.1:5000 (34576)\n",
            "[2025-01-24 11:51:02 +0000] [34576] [INFO] Using worker: sync\n",
            "[2025-01-24 11:51:02 +0000] [34577] [INFO] Booting worker with pid: 34577\n",
            "[2025-01-24 11:51:02 +0000] [34578] [INFO] Booting worker with pid: 34578\n",
            "[2025-01-24 11:51:03 +0000] [34579] [INFO] Booting worker with pid: 34579\n",
            "[2025-01-24 11:51:03 +0000] [34580] [INFO] Booting worker with pid: 34580\n",
            "[2025-01-24 11:52:19 +0000] [34576] [INFO] Handling signal: int\n",
            "[2025-01-24 11:52:19 +0000] [34579] [INFO] Worker exiting (pid: 34579)\n",
            "[2025-01-24 11:52:19 +0000] [34578] [INFO] Worker exiting (pid: 34578)\n",
            "[2025-01-24 11:52:19 +0000] [34580] [INFO] Worker exiting (pid: 34580)\n",
            "[2025-01-24 11:52:19 +0000] [34577] [INFO] Worker exiting (pid: 34577)\n",
            "[2025-01-24 11:52:20 +0000] [34576] [INFO] Shutting down: Master\n"
          ]
        }
      ],
      "source": [
        "!mlflow ui --backend-store-uri \"file:///content/drive/MyDrive/Colab Notebooks/DS_projet_7/mlflow\" --port 5000 &"
      ]
    },
    {
      "cell_type": "code",
      "execution_count": 36,
      "metadata": {
        "id": "390d231cBKcd",
        "colab": {
          "base_uri": "https://localhost:8080/"
        },
        "outputId": "4681b5ba-68b0-4601-bec4-6280563947a8"
      },
      "outputs": [
        {
          "output_type": "stream",
          "name": "stdout",
          "text": [
            "Interface MLflow accessible à : NgrokTunnel: \"https://6d7e-35-192-58-176.ngrok-free.app\" -> \"http://localhost:5000\"\n"
          ]
        }
      ],
      "source": [
        "from pyngrok import conf, ngrok\n",
        "\n",
        "# Définir le token dans la configuration\n",
        "conf.get_default().auth_token = \"2qlJq50YUC2X62MFA1q7qxbILkY_5Dx45MFSwjmUQLvcqSHBU\"\n",
        "\n",
        "# Démarrer le tunnel\n",
        "public_url = ngrok.connect(5000)\n",
        "print(f\"Interface MLflow accessible à : {public_url}\")"
      ]
    },
    {
      "cell_type": "code",
      "execution_count": null,
      "metadata": {
        "id": "lMpOqiTOHt2c"
      },
      "outputs": [],
      "source": [
        "# arrêter le tunnel ngrok\n",
        "#ngrok.disconnect(public_url)"
      ]
    },
    {
      "cell_type": "code",
      "source": [
        "        \"\"\"# Assurez-vous que X_train est un DataFrame, sinon utilisez les indices ou noms de colonnes pour l'affichage\n",
        "        if isinstance(X_train, np.ndarray):\n",
        "            X_train = pd.DataFrame(X_train, columns=[f\"Feature {i}\" for i in range(X_train.shape[1])])\n",
        "\n",
        "\n",
        "        # === Analyse des Feature Importance ===\n",
        "        if hasattr(model, \"feature_importances_\"):\n",
        "            # Graphique des importances globales\n",
        "            plt.figure(figsize=(10, 6))\n",
        "            plt.barh(X_train.columns, model.feature_importances_, color=\"skyblue\")\n",
        "            plt.xlabel(\"Importance\")\n",
        "            plt.ylabel(\"Feature\")\n",
        "            plt.title(f\"Feature Importance pour {model_name}\")\n",
        "            plt.gca().invert_yaxis()\n",
        "            feature_importance_path = os.path.join(output_dir, f\"{model_name}_feature_importance.png\")\n",
        "            plt.savefig(feature_importance_path)\n",
        "            plt.close('all')\n",
        "\n",
        "        elif hasattr(model, \"coef_\"):\n",
        "            # Pour les modèles comme LogisticRegression, utilisez les coefficients\n",
        "            plt.figure(figsize=(10, 6))\n",
        "            plt.barh(X_train.columns, model.coef_[0], color=\"skyblue\")\n",
        "            plt.xlabel(\"Coefficient\")\n",
        "            plt.ylabel(\"Feature\")\n",
        "            plt.title(f\"Feature Importance (coefficients) pour {model_name}\")\n",
        "            plt.gca().invert_yaxis()\n",
        "            feature_importance_path = os.path.join(output_dir, f\"{model_name}_feature_importance.png\")\n",
        "            plt.savefig(feature_importance_path)\n",
        "            plt.close()\n",
        "\n",
        "\n",
        "        # === SHAP ===\n",
        "        try:\n",
        "            # Échantillonnage pour l’analyse globale\n",
        "            X_train_sample = X_train[np.random.choice(X_train.shape[0], 1000, replace=False), :]\n",
        "            X_test_sample = X_test[np.random.choice(X_test.shape[0], 5, replace=False), :]\n",
        "\n",
        "            # Vérification de compatibilité du modèle\n",
        "            if isinstance(model, (GradientBoostingClassifier, HistGradientBoostingClassifier, RandomForestClassifier)):\n",
        "                explainer = shap.TreeExplainer(model)\n",
        "                shap_values = explainer.shap_values(X_test_sample)\n",
        "            elif hasattr(model, \"predict\"):\n",
        "                explainer = shap.Explainer(model, X_train_sample)\n",
        "                shap_values = explainer(X_test_sample)\n",
        "            else:\n",
        "                raise ValueError(f\"SHAP non supporté pour le modèle {model_name}\")\n",
        "\n",
        "            # SHAP Summary Plot (global)\n",
        "            shap.summary_plot(shap_values, X_test_sample, show=False)\n",
        "            shap_summary_path = os.path.join(output_dir, f\"{model_name}_shap_summary.png\")\n",
        "            plt.savefig(shap_summary_path)\n",
        "            plt.close()\n",
        "            mlflow.log_artifact(shap_summary_path)\n",
        "\n",
        "            # SHAP Waterfall Plot (local)\n",
        "            for i in range(len(X_test_sample)):\n",
        "                shap.waterfall_plot(shap_values[i], show=False)\n",
        "                shap_waterfall_path = os.path.join(output_dir, f\"{model_name}_shap_waterfall_{i}.png\")\n",
        "                plt.savefig(shap_waterfall_path)\n",
        "                plt.close()\n",
        "                mlflow.log_artifact(shap_waterfall_path)\n",
        "\n",
        "            # Libérer de la mémoire\n",
        "            del explainer, shap_values\n",
        "            gc.collect()\n",
        "\n",
        "        except Exception as e:\n",
        "            print(f\"Erreur avec SHAP pour {model_name}: {e}\")\"\"\""
      ],
      "metadata": {
        "id": "2VkYnUTU7xSA"
      },
      "execution_count": null,
      "outputs": []
    }
  ],
  "metadata": {
    "colab": {
      "provenance": [],
      "toc_visible": true,
      "gpuType": "T4",
      "authorship_tag": "ABX9TyNYcnCEbkyqq0gxvHBVrJ4t",
      "include_colab_link": true
    },
    "kernelspec": {
      "display_name": "Python 3",
      "name": "python3"
    },
    "language_info": {
      "name": "python"
    }
  },
  "nbformat": 4,
  "nbformat_minor": 0
}